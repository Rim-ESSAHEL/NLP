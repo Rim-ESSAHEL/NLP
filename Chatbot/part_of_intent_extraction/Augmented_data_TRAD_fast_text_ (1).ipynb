{
  "cells": [
    {
      "cell_type": "code",
      "execution_count": 1,
      "metadata": {
        "id": "b4f75dd6-e70f-4a56-82a8-377b93a08a25"
      },
      "outputs": [],
      "source": [
        "# For array, dataset, and visualizing\n",
        "import numpy as np\n",
        "import pandas as pd\n",
        "import seaborn as sns\n",
        "import matplotlib.pyplot as plt\n",
        "from sklearn.model_selection import train_test_split\n",
        "\n",
        "sns.set_style(\"whitegrid\")\n",
        "np.random.seed(0)"
      ],
      "id": "b4f75dd6-e70f-4a56-82a8-377b93a08a25"
    },
    {
      "cell_type": "code",
      "execution_count": 2,
      "metadata": {
        "colab": {
          "base_uri": "https://localhost:8080/",
          "height": 206
        },
        "id": "93fca529-297c-4a2f-b076-d66115b24a21",
        "outputId": "9c99f282-b62c-4c0b-e564-56b9c064b11a"
      },
      "outputs": [
        {
          "output_type": "execute_result",
          "data": {
            "text/plain": [
              "                                                   t   l\n",
              "0                    why have i not got my new card?  11\n",
              "1  Can you tell me if I can track the card you se...  11\n",
              "2       How long will it take for me to get my card?  11\n",
              "3  How long does it take for my new card to arriv...  11\n",
              "4                  Could I get tracking on the card?  11"
            ],
            "text/html": [
              "\n",
              "  <div id=\"df-2558a937-181c-4d96-9773-9c5fa7922c10\">\n",
              "    <div class=\"colab-df-container\">\n",
              "      <div>\n",
              "<style scoped>\n",
              "    .dataframe tbody tr th:only-of-type {\n",
              "        vertical-align: middle;\n",
              "    }\n",
              "\n",
              "    .dataframe tbody tr th {\n",
              "        vertical-align: top;\n",
              "    }\n",
              "\n",
              "    .dataframe thead th {\n",
              "        text-align: right;\n",
              "    }\n",
              "</style>\n",
              "<table border=\"1\" class=\"dataframe\">\n",
              "  <thead>\n",
              "    <tr style=\"text-align: right;\">\n",
              "      <th></th>\n",
              "      <th>t</th>\n",
              "      <th>l</th>\n",
              "    </tr>\n",
              "  </thead>\n",
              "  <tbody>\n",
              "    <tr>\n",
              "      <th>0</th>\n",
              "      <td>why have i not got my new card?</td>\n",
              "      <td>11</td>\n",
              "    </tr>\n",
              "    <tr>\n",
              "      <th>1</th>\n",
              "      <td>Can you tell me if I can track the card you se...</td>\n",
              "      <td>11</td>\n",
              "    </tr>\n",
              "    <tr>\n",
              "      <th>2</th>\n",
              "      <td>How long will it take for me to get my card?</td>\n",
              "      <td>11</td>\n",
              "    </tr>\n",
              "    <tr>\n",
              "      <th>3</th>\n",
              "      <td>How long does it take for my new card to arriv...</td>\n",
              "      <td>11</td>\n",
              "    </tr>\n",
              "    <tr>\n",
              "      <th>4</th>\n",
              "      <td>Could I get tracking on the card?</td>\n",
              "      <td>11</td>\n",
              "    </tr>\n",
              "  </tbody>\n",
              "</table>\n",
              "</div>\n",
              "      <button class=\"colab-df-convert\" onclick=\"convertToInteractive('df-2558a937-181c-4d96-9773-9c5fa7922c10')\"\n",
              "              title=\"Convert this dataframe to an interactive table.\"\n",
              "              style=\"display:none;\">\n",
              "        \n",
              "  <svg xmlns=\"http://www.w3.org/2000/svg\" height=\"24px\"viewBox=\"0 0 24 24\"\n",
              "       width=\"24px\">\n",
              "    <path d=\"M0 0h24v24H0V0z\" fill=\"none\"/>\n",
              "    <path d=\"M18.56 5.44l.94 2.06.94-2.06 2.06-.94-2.06-.94-.94-2.06-.94 2.06-2.06.94zm-11 1L8.5 8.5l.94-2.06 2.06-.94-2.06-.94L8.5 2.5l-.94 2.06-2.06.94zm10 10l.94 2.06.94-2.06 2.06-.94-2.06-.94-.94-2.06-.94 2.06-2.06.94z\"/><path d=\"M17.41 7.96l-1.37-1.37c-.4-.4-.92-.59-1.43-.59-.52 0-1.04.2-1.43.59L10.3 9.45l-7.72 7.72c-.78.78-.78 2.05 0 2.83L4 21.41c.39.39.9.59 1.41.59.51 0 1.02-.2 1.41-.59l7.78-7.78 2.81-2.81c.8-.78.8-2.07 0-2.86zM5.41 20L4 18.59l7.72-7.72 1.47 1.35L5.41 20z\"/>\n",
              "  </svg>\n",
              "      </button>\n",
              "      \n",
              "  <style>\n",
              "    .colab-df-container {\n",
              "      display:flex;\n",
              "      flex-wrap:wrap;\n",
              "      gap: 12px;\n",
              "    }\n",
              "\n",
              "    .colab-df-convert {\n",
              "      background-color: #E8F0FE;\n",
              "      border: none;\n",
              "      border-radius: 50%;\n",
              "      cursor: pointer;\n",
              "      display: none;\n",
              "      fill: #1967D2;\n",
              "      height: 32px;\n",
              "      padding: 0 0 0 0;\n",
              "      width: 32px;\n",
              "    }\n",
              "\n",
              "    .colab-df-convert:hover {\n",
              "      background-color: #E2EBFA;\n",
              "      box-shadow: 0px 1px 2px rgba(60, 64, 67, 0.3), 0px 1px 3px 1px rgba(60, 64, 67, 0.15);\n",
              "      fill: #174EA6;\n",
              "    }\n",
              "\n",
              "    [theme=dark] .colab-df-convert {\n",
              "      background-color: #3B4455;\n",
              "      fill: #D2E3FC;\n",
              "    }\n",
              "\n",
              "    [theme=dark] .colab-df-convert:hover {\n",
              "      background-color: #434B5C;\n",
              "      box-shadow: 0px 1px 3px 1px rgba(0, 0, 0, 0.15);\n",
              "      filter: drop-shadow(0px 1px 2px rgba(0, 0, 0, 0.3));\n",
              "      fill: #FFFFFF;\n",
              "    }\n",
              "  </style>\n",
              "\n",
              "      <script>\n",
              "        const buttonEl =\n",
              "          document.querySelector('#df-2558a937-181c-4d96-9773-9c5fa7922c10 button.colab-df-convert');\n",
              "        buttonEl.style.display =\n",
              "          google.colab.kernel.accessAllowed ? 'block' : 'none';\n",
              "\n",
              "        async function convertToInteractive(key) {\n",
              "          const element = document.querySelector('#df-2558a937-181c-4d96-9773-9c5fa7922c10');\n",
              "          const dataTable =\n",
              "            await google.colab.kernel.invokeFunction('convertToInteractive',\n",
              "                                                     [key], {});\n",
              "          if (!dataTable) return;\n",
              "\n",
              "          const docLinkHtml = 'Like what you see? Visit the ' +\n",
              "            '<a target=\"_blank\" href=https://colab.research.google.com/notebooks/data_table.ipynb>data table notebook</a>'\n",
              "            + ' to learn more about interactive tables.';\n",
              "          element.innerHTML = '';\n",
              "          dataTable['output_type'] = 'display_data';\n",
              "          await google.colab.output.renderOutput(dataTable, element);\n",
              "          const docLink = document.createElement('div');\n",
              "          docLink.innerHTML = docLinkHtml;\n",
              "          element.appendChild(docLink);\n",
              "        }\n",
              "      </script>\n",
              "    </div>\n",
              "  </div>\n",
              "  "
            ]
          },
          "metadata": {},
          "execution_count": 2
        }
      ],
      "source": [
        "df = pd.read_csv('balanced_trad.csv')\n",
        "df.head()"
      ],
      "id": "93fca529-297c-4a2f-b076-d66115b24a21"
    },
    {
      "cell_type": "code",
      "source": [
        "train_df, test_df = train_test_split(df, test_size=0.2, random_state=42, shuffle=True)"
      ],
      "metadata": {
        "id": "4CMZn4_b045c"
      },
      "id": "4CMZn4_b045c",
      "execution_count": 3,
      "outputs": []
    },
    {
      "cell_type": "code",
      "source": [
        "#For Pre-Processing\n",
        "from tqdm import tqdm\n",
        "import nltk\n",
        "from nltk.corpus import stopwords\n",
        "nltk.download('stopwords')\n",
        "nltk.download('punkt')\n",
        "from nltk.tokenize import RegexpTokenizer \n",
        "from nltk.tokenize import word_tokenize\n",
        "import codecs\n"
      ],
      "metadata": {
        "colab": {
          "base_uri": "https://localhost:8080/"
        },
        "id": "5aX1GsKqCRmx",
        "outputId": "3cc92a40-04e0-43bd-a17a-eb21db2ed157"
      },
      "id": "5aX1GsKqCRmx",
      "execution_count": 4,
      "outputs": [
        {
          "output_type": "stream",
          "name": "stdout",
          "text": [
            "[nltk_data] Downloading package stopwords to /root/nltk_data...\n",
            "[nltk_data]   Package stopwords is already up-to-date!\n",
            "[nltk_data] Downloading package punkt to /root/nltk_data...\n",
            "[nltk_data]   Package punkt is already up-to-date!\n"
          ]
        }
      ]
    },
    {
      "cell_type": "code",
      "source": [
        "MAX_NB_WORDS = 100000\n",
        "tokenizer = RegexpTokenizer(r'\\w+')\n",
        "stop_words = set(stopwords.words('english'))\n",
        "stop_words.update(['.', ',', '\"', \"'\", ':', ';', '(', ')', '[', ']', '{', '}'])"
      ],
      "metadata": {
        "id": "2eC_VZbY0Stg"
      },
      "id": "2eC_VZbY0Stg",
      "execution_count": 5,
      "outputs": []
    },
    {
      "cell_type": "code",
      "source": [
        "label_names = [\"l\"]\n",
        "y_train = train_df[label_names].values\n",
        "train_df['doc_len'] = train_df['t'].apply(lambda words: len(words.split(\" \")))\n",
        "max_seq_len = np.round(train_df['doc_len'].mean() + train_df['doc_len'].std()).astype(int)\n"
      ],
      "metadata": {
        "id": "gFtF8ITB_Ure"
      },
      "id": "gFtF8ITB_Ure",
      "execution_count": 6,
      "outputs": []
    },
    {
      "cell_type": "code",
      "source": [
        "from sklearn.utils import shuffle \n",
        "from keras.preprocessing.text import Tokenizer\n",
        "from keras.preprocessing import sequence\n",
        "\n",
        "raw_docs_train = train_df['t'].tolist()\n",
        "raw_docs_test = test_df['t'].tolist() \n",
        "num_classes = len(label_names)\n",
        "\n",
        "print(\"pre-processing train data...\")\n",
        "\n",
        "processed_docs_train = []\n",
        "for doc in tqdm(raw_docs_train):\n",
        "    tokens = word_tokenize(doc)\n",
        "    filtered = [word for word in tokens if word not in stop_words]\n",
        "    processed_docs_train.append(\" \".join(filtered))\n",
        "#end for\n",
        "\n",
        "processed_docs_test = []\n",
        "for doc in tqdm(raw_docs_test):\n",
        "    tokens = word_tokenize(doc)\n",
        "    filtered = [word for word in tokens if word not in stop_words]\n",
        "    processed_docs_test.append(\" \".join(filtered))\n",
        "#end for\n",
        "\n",
        "print(\"tokenizing input data...\")\n",
        "tokenizer = Tokenizer(num_words=MAX_NB_WORDS, lower=True, char_level=False)\n",
        "tokenizer.fit_on_texts(processed_docs_train + processed_docs_test)  #leaky\n",
        "word_seq_train = tokenizer.texts_to_sequences(processed_docs_train)\n",
        "word_seq_test = tokenizer.texts_to_sequences(processed_docs_test)\n",
        "word_index = tokenizer.word_index\n",
        "print(\"dictionary size: \", len(word_index))\n",
        "\n",
        "#pad sequences\n",
        "word_seq_train = sequence.pad_sequences(word_seq_train, maxlen=max_seq_len)\n",
        "word_seq_test = sequence.pad_sequences(word_seq_test, maxlen=max_seq_len)"
      ],
      "metadata": {
        "colab": {
          "base_uri": "https://localhost:8080/"
        },
        "id": "r82QiMhB0yUG",
        "outputId": "e75b6bdd-f35c-4760-b35f-8c22f7f849ad"
      },
      "id": "r82QiMhB0yUG",
      "execution_count": 7,
      "outputs": [
        {
          "output_type": "stream",
          "name": "stdout",
          "text": [
            "pre-processing train data...\n"
          ]
        },
        {
          "output_type": "stream",
          "name": "stderr",
          "text": [
            "100%|██████████| 10647/10647 [00:02<00:00, 4472.44it/s]\n",
            "100%|██████████| 2662/2662 [00:00<00:00, 3197.94it/s]\n"
          ]
        },
        {
          "output_type": "stream",
          "name": "stdout",
          "text": [
            "tokenizing input data...\n",
            "dictionary size:  2521\n"
          ]
        }
      ]
    },
    {
      "cell_type": "markdown",
      "metadata": {
        "id": "1e47c7ca-3646-418f-ac17-a0c416799473"
      },
      "source": [
        "## Fastext\n"
      ],
      "id": "1e47c7ca-3646-418f-ac17-a0c416799473"
    },
    {
      "cell_type": "code",
      "execution_count": 8,
      "metadata": {
        "id": "30579846-fcf5-4976-a39f-3a44253c0735"
      },
      "outputs": [],
      "source": [
        "import requests, zipfile, io\n",
        "zip_file_url = \"https://dl.fbaipublicfiles.com/fasttext/vectors-english/crawl-300d-2M.vec.zip\"\n",
        "r = requests.get(zip_file_url)\n",
        "z = zipfile.ZipFile(io.BytesIO(r.content))\n",
        "z.extractall()"
      ],
      "id": "30579846-fcf5-4976-a39f-3a44253c0735"
    },
    {
      "cell_type": "code",
      "execution_count": 9,
      "metadata": {
        "id": "1dd85cdc-e7e9-4f7c-84a1-55f253e0b72a",
        "colab": {
          "base_uri": "https://localhost:8080/"
        },
        "outputId": "36af2d31-fa44-49e2-d698-37532875109f"
      },
      "outputs": [
        {
          "output_type": "stream",
          "name": "stderr",
          "text": [
            "1999996it [02:41, 12359.02it/s]"
          ]
        },
        {
          "output_type": "stream",
          "name": "stdout",
          "text": [
            "found 1999996 word vectors\n"
          ]
        },
        {
          "output_type": "stream",
          "name": "stderr",
          "text": [
            "\n"
          ]
        }
      ],
      "source": [
        "embeddings_index = {}\n",
        "f = codecs.open('crawl-300d-2M.vec', encoding='utf-8')\n",
        "\n",
        "for line in tqdm(f):\n",
        "    values = line.rstrip().rsplit(' ')\n",
        "    word = values[0]\n",
        "    coefs = np.asarray(values[1:], dtype='float32')\n",
        "    embeddings_index[word] = coefs\n",
        "f.close()\n",
        "\n",
        "print('found %s word vectors' % len(embeddings_index))"
      ],
      "id": "1dd85cdc-e7e9-4f7c-84a1-55f253e0b72a"
    },
    {
      "cell_type": "markdown",
      "source": [
        "### LSTM"
      ],
      "metadata": {
        "id": "ChUrnQDkKHW6"
      },
      "id": "ChUrnQDkKHW6"
    },
    {
      "cell_type": "code",
      "execution_count": 10,
      "metadata": {
        "id": "73b717dc-41cd-4bb0-b1cd-07006e7f392b"
      },
      "outputs": [],
      "source": [
        "# For Training\n",
        "import keras\n",
        "from keras import optimizers\n",
        "from keras import backend as K\n",
        "from keras import regularizers\n",
        "from keras.models import Sequential\n",
        "from keras.layers import Dense, Activation, Dropout, Flatten\n",
        "from keras.layers import Embedding, Conv1D, MaxPooling1D, GlobalMaxPooling1D\n",
        "from tensorflow.keras.layers import Embedding, LSTM, Dense, Dropout, Bidirectional\n",
        "# from keras.utils import plot_model\n",
        "from keras.preprocessing import sequence\n",
        "from keras.callbacks import EarlyStopping\n",
        "\n",
        "#training params\n",
        "batch_size = 256 \n",
        "num_epochs = 40\n",
        "\n",
        "#model parameters\n",
        "num_filters = 64 \n",
        "embed_dim = 300 \n",
        "weight_decay = 1e-4"
      ],
      "id": "73b717dc-41cd-4bb0-b1cd-07006e7f392b"
    },
    {
      "cell_type": "code",
      "source": [
        "#embedding matrix\n",
        "\n",
        "words_not_found = []\n",
        "nb_words = min(MAX_NB_WORDS, len(word_index)+1)\n",
        "embedding_matrix = np.zeros((nb_words, embed_dim))\n",
        "\n",
        "for word, i in word_index.items():\n",
        "    if i >= nb_words:\n",
        "        continue\n",
        "    embedding_vector = embeddings_index.get(word)\n",
        "    if (embedding_vector is not None) and len(embedding_vector) > 0:\n",
        "        # words not found in embedding index will be all-zeros.\n",
        "        embedding_matrix[i] = embedding_vector\n",
        "    else:\n",
        "        words_not_found.append(word)\n",
        "print('number of null word embeddings: %d' % np.sum(np.sum(embedding_matrix, axis=1) == 0))"
      ],
      "metadata": {
        "colab": {
          "base_uri": "https://localhost:8080/"
        },
        "id": "yIM2xquvKNop",
        "outputId": "5e2388a0-4e9e-4e6b-b479-87bfe6fa0bd6"
      },
      "id": "yIM2xquvKNop",
      "execution_count": 11,
      "outputs": [
        {
          "output_type": "stream",
          "name": "stdout",
          "text": [
            "number of null word embeddings: 49\n"
          ]
        }
      ]
    },
    {
      "cell_type": "code",
      "source": [
        "print(\"sample words not found: \", np.random.choice(words_not_found, 10))"
      ],
      "metadata": {
        "colab": {
          "base_uri": "https://localhost:8080/"
        },
        "id": "CP8dEIa2Lze7",
        "outputId": "275ee95e-f88c-4e56-b8a1-3c2be776ae9c"
      },
      "id": "CP8dEIa2Lze7",
      "execution_count": 12,
      "outputs": [
        {
          "output_type": "stream",
          "name": "stdout",
          "text": [
            "sample words not found:  ['moeney' 'refurn' \"n't\" '£1' '£1' \"c'mon\" 'interbanks' 'revieve'\n",
            " 'courtries' 'cryto']\n"
          ]
        }
      ]
    },
    {
      "cell_type": "code",
      "source": [
        "from keras.layers import BatchNormalization\n",
        "import tensorflow as tf\n",
        "\n",
        "def create_lstm_model():\n",
        "  model_lstm = tf.keras.Sequential()\n",
        "  model_lstm.add(Embedding(nb_words,embed_dim,input_length=max_seq_len, weights=[embedding_matrix],trainable=False))\n",
        "  # model.add(SpatialDropout1D(0.7))\n",
        "  model_lstm.add(Bidirectional(LSTM(128, dropout=0.7, recurrent_dropout=0.7)))\n",
        "  model_lstm.add(Dense(128,activation='relu'))\n",
        "  model_lstm.add(Dense(77, activation='softmax'))\n",
        "  model_lstm.compile(optimizer='adam', loss='categorical_crossentropy', metrics=['acc'])\n",
        "  return model_lstm\n"
      ],
      "metadata": {
        "id": "ZtolbY13L4OL"
      },
      "id": "ZtolbY13L4OL",
      "execution_count": 13,
      "outputs": []
    },
    {
      "cell_type": "code",
      "source": [
        "model_lstm_ft = create_lstm_model()\n",
        "model_lstm_ft.summary()"
      ],
      "metadata": {
        "colab": {
          "base_uri": "https://localhost:8080/"
        },
        "id": "qFADxS1lF3oZ",
        "outputId": "b3882813-9af2-4746-d742-cea5f3dcbf70"
      },
      "id": "qFADxS1lF3oZ",
      "execution_count": 14,
      "outputs": [
        {
          "output_type": "stream",
          "name": "stdout",
          "text": [
            "WARNING:tensorflow:Layer lstm will not use cuDNN kernels since it doesn't meet the criteria. It will use a generic GPU kernel as fallback when running on GPU.\n",
            "WARNING:tensorflow:Layer lstm will not use cuDNN kernels since it doesn't meet the criteria. It will use a generic GPU kernel as fallback when running on GPU.\n",
            "WARNING:tensorflow:Layer lstm will not use cuDNN kernels since it doesn't meet the criteria. It will use a generic GPU kernel as fallback when running on GPU.\n",
            "Model: \"sequential\"\n",
            "_________________________________________________________________\n",
            " Layer (type)                Output Shape              Param #   \n",
            "=================================================================\n",
            " embedding (Embedding)       (None, 19, 300)           756600    \n",
            "                                                                 \n",
            " bidirectional (Bidirectiona  (None, 256)              439296    \n",
            " l)                                                              \n",
            "                                                                 \n",
            " dense (Dense)               (None, 128)               32896     \n",
            "                                                                 \n",
            " dense_1 (Dense)             (None, 77)                9933      \n",
            "                                                                 \n",
            "=================================================================\n",
            "Total params: 1,238,725\n",
            "Trainable params: 482,125\n",
            "Non-trainable params: 756,600\n",
            "_________________________________________________________________\n"
          ]
        }
      ]
    },
    {
      "cell_type": "code",
      "source": [
        "# from keras.optimizers import RMSprop\n",
        "from keras.callbacks import ModelCheckpoint\n",
        "from tensorflow.keras.callbacks import EarlyStopping\n",
        "\n",
        "# model.compile(loss='binary_crossentropy', optimizer='adam', metrics=['accuracy'])\n",
        "model_lstm_ft.compile(optimizer='adam',loss = tf.keras.losses.SparseCategoricalCrossentropy(from_logits=True), metrics=['accuracy'])"
      ],
      "metadata": {
        "id": "V0RifwP7L64m"
      },
      "id": "V0RifwP7L64m",
      "execution_count": 15,
      "outputs": []
    },
    {
      "cell_type": "code",
      "source": [
        "es_callback = EarlyStopping(monitor='val_loss', patience=3)\n",
        "\n",
        "history = model_lstm_ft.fit(word_seq_train, y_train, batch_size=256, epochs=num_epochs, validation_split=0.3, callbacks=[es_callback], shuffle=False)\n",
        "\n"
      ],
      "metadata": {
        "colab": {
          "base_uri": "https://localhost:8080/"
        },
        "id": "mQNEAdSJMdTk",
        "outputId": "3995ac9a-9f73-4431-8e25-dde7f300e0bf"
      },
      "id": "mQNEAdSJMdTk",
      "execution_count": 16,
      "outputs": [
        {
          "output_type": "stream",
          "name": "stdout",
          "text": [
            "Epoch 1/40\n"
          ]
        },
        {
          "output_type": "stream",
          "name": "stderr",
          "text": [
            "/usr/local/lib/python3.7/dist-packages/tensorflow/python/util/dispatch.py:1082: UserWarning: \"`sparse_categorical_crossentropy` received `from_logits=True`, but the `output` argument was produced by a sigmoid or softmax activation and thus does not represent logits. Was this intended?\"\n",
            "  return dispatch_target(*args, **kwargs)\n"
          ]
        },
        {
          "output_type": "stream",
          "name": "stdout",
          "text": [
            "30/30 [==============================] - 12s 179ms/step - loss: 4.2458 - accuracy: 0.0616 - val_loss: 3.9338 - val_accuracy: 0.1800\n",
            "Epoch 2/40\n",
            "30/30 [==============================] - 5s 163ms/step - loss: 3.4275 - accuracy: 0.2108 - val_loss: 2.4741 - val_accuracy: 0.3787\n",
            "Epoch 3/40\n",
            "30/30 [==============================] - 5s 166ms/step - loss: 2.3721 - accuracy: 0.3948 - val_loss: 1.5908 - val_accuracy: 0.5793\n",
            "Epoch 4/40\n",
            "30/30 [==============================] - 5s 168ms/step - loss: 1.8673 - accuracy: 0.4883 - val_loss: 1.2556 - val_accuracy: 0.6557\n",
            "Epoch 5/40\n",
            "30/30 [==============================] - 5s 172ms/step - loss: 1.5629 - accuracy: 0.5722 - val_loss: 1.0675 - val_accuracy: 0.7070\n",
            "Epoch 6/40\n",
            "30/30 [==============================] - 5s 167ms/step - loss: 1.3818 - accuracy: 0.6095 - val_loss: 0.9491 - val_accuracy: 0.7393\n",
            "Epoch 7/40\n",
            "30/30 [==============================] - 5s 162ms/step - loss: 1.2529 - accuracy: 0.6445 - val_loss: 0.8745 - val_accuracy: 0.7571\n",
            "Epoch 8/40\n",
            "30/30 [==============================] - 5s 167ms/step - loss: 1.1555 - accuracy: 0.6659 - val_loss: 0.8035 - val_accuracy: 0.7715\n",
            "Epoch 9/40\n",
            "30/30 [==============================] - 5s 162ms/step - loss: 1.0692 - accuracy: 0.6936 - val_loss: 0.7405 - val_accuracy: 0.7894\n",
            "Epoch 10/40\n",
            "30/30 [==============================] - 5s 168ms/step - loss: 0.9892 - accuracy: 0.7126 - val_loss: 0.7119 - val_accuracy: 0.7956\n",
            "Epoch 11/40\n",
            "30/30 [==============================] - 5s 167ms/step - loss: 0.9386 - accuracy: 0.7186 - val_loss: 0.6783 - val_accuracy: 0.8025\n",
            "Epoch 12/40\n",
            "30/30 [==============================] - 5s 165ms/step - loss: 0.8930 - accuracy: 0.7379 - val_loss: 0.6508 - val_accuracy: 0.8116\n",
            "Epoch 13/40\n",
            "30/30 [==============================] - 5s 162ms/step - loss: 0.8403 - accuracy: 0.7548 - val_loss: 0.6233 - val_accuracy: 0.8128\n",
            "Epoch 14/40\n",
            "30/30 [==============================] - 5s 169ms/step - loss: 0.8144 - accuracy: 0.7570 - val_loss: 0.6021 - val_accuracy: 0.8213\n",
            "Epoch 15/40\n",
            "30/30 [==============================] - 5s 162ms/step - loss: 0.7707 - accuracy: 0.7733 - val_loss: 0.5927 - val_accuracy: 0.8238\n",
            "Epoch 16/40\n",
            "30/30 [==============================] - 5s 163ms/step - loss: 0.7535 - accuracy: 0.7755 - val_loss: 0.5674 - val_accuracy: 0.8294\n",
            "Epoch 17/40\n",
            "30/30 [==============================] - 5s 172ms/step - loss: 0.7290 - accuracy: 0.7876 - val_loss: 0.5617 - val_accuracy: 0.8316\n",
            "Epoch 18/40\n",
            "30/30 [==============================] - 5s 174ms/step - loss: 0.7256 - accuracy: 0.7813 - val_loss: 0.5412 - val_accuracy: 0.8372\n",
            "Epoch 19/40\n",
            "30/30 [==============================] - 5s 163ms/step - loss: 0.6667 - accuracy: 0.7986 - val_loss: 0.5359 - val_accuracy: 0.8419\n",
            "Epoch 20/40\n",
            "30/30 [==============================] - 5s 164ms/step - loss: 0.6537 - accuracy: 0.8046 - val_loss: 0.5213 - val_accuracy: 0.8451\n",
            "Epoch 21/40\n",
            "30/30 [==============================] - 5s 168ms/step - loss: 0.6370 - accuracy: 0.8074 - val_loss: 0.5100 - val_accuracy: 0.8495\n",
            "Epoch 22/40\n",
            "30/30 [==============================] - 5s 168ms/step - loss: 0.6194 - accuracy: 0.8136 - val_loss: 0.5073 - val_accuracy: 0.8495\n",
            "Epoch 23/40\n",
            "30/30 [==============================] - 5s 174ms/step - loss: 0.6109 - accuracy: 0.8149 - val_loss: 0.4991 - val_accuracy: 0.8532\n",
            "Epoch 24/40\n",
            "30/30 [==============================] - 5s 174ms/step - loss: 0.5782 - accuracy: 0.8239 - val_loss: 0.5001 - val_accuracy: 0.8523\n",
            "Epoch 25/40\n",
            "30/30 [==============================] - 5s 162ms/step - loss: 0.5682 - accuracy: 0.8260 - val_loss: 0.4877 - val_accuracy: 0.8551\n",
            "Epoch 26/40\n",
            "30/30 [==============================] - 5s 163ms/step - loss: 0.5464 - accuracy: 0.8351 - val_loss: 0.4852 - val_accuracy: 0.8588\n",
            "Epoch 27/40\n",
            "30/30 [==============================] - 5s 171ms/step - loss: 0.5324 - accuracy: 0.8387 - val_loss: 0.4772 - val_accuracy: 0.8607\n",
            "Epoch 28/40\n",
            "30/30 [==============================] - 5s 167ms/step - loss: 0.5261 - accuracy: 0.8375 - val_loss: 0.4645 - val_accuracy: 0.8645\n",
            "Epoch 29/40\n",
            "30/30 [==============================] - 5s 164ms/step - loss: 0.5056 - accuracy: 0.8459 - val_loss: 0.4648 - val_accuracy: 0.8670\n",
            "Epoch 30/40\n",
            "30/30 [==============================] - 5s 164ms/step - loss: 0.4921 - accuracy: 0.8551 - val_loss: 0.4753 - val_accuracy: 0.8576\n",
            "Epoch 31/40\n",
            "30/30 [==============================] - 5s 164ms/step - loss: 0.4817 - accuracy: 0.8521 - val_loss: 0.4586 - val_accuracy: 0.8635\n",
            "Epoch 32/40\n",
            "30/30 [==============================] - 5s 167ms/step - loss: 0.4780 - accuracy: 0.8517 - val_loss: 0.4474 - val_accuracy: 0.8710\n",
            "Epoch 33/40\n",
            "30/30 [==============================] - 5s 170ms/step - loss: 0.4687 - accuracy: 0.8541 - val_loss: 0.4590 - val_accuracy: 0.8704\n",
            "Epoch 34/40\n",
            "30/30 [==============================] - 5s 167ms/step - loss: 0.4661 - accuracy: 0.8590 - val_loss: 0.4499 - val_accuracy: 0.8667\n",
            "Epoch 35/40\n",
            "30/30 [==============================] - 5s 166ms/step - loss: 0.4423 - accuracy: 0.8685 - val_loss: 0.4463 - val_accuracy: 0.8695\n",
            "Epoch 36/40\n",
            "30/30 [==============================] - 5s 163ms/step - loss: 0.4301 - accuracy: 0.8665 - val_loss: 0.4367 - val_accuracy: 0.8714\n",
            "Epoch 37/40\n",
            "30/30 [==============================] - 5s 164ms/step - loss: 0.4221 - accuracy: 0.8696 - val_loss: 0.4356 - val_accuracy: 0.8723\n",
            "Epoch 38/40\n",
            "30/30 [==============================] - 5s 160ms/step - loss: 0.4155 - accuracy: 0.8698 - val_loss: 0.4382 - val_accuracy: 0.8745\n",
            "Epoch 39/40\n",
            "30/30 [==============================] - 5s 166ms/step - loss: 0.3980 - accuracy: 0.8772 - val_loss: 0.4279 - val_accuracy: 0.8764\n",
            "Epoch 40/40\n",
            "30/30 [==============================] - 5s 173ms/step - loss: 0.3907 - accuracy: 0.8755 - val_loss: 0.4288 - val_accuracy: 0.8726\n"
          ]
        }
      ]
    },
    {
      "cell_type": "code",
      "source": [
        "#generate plots\n",
        "plt.figure()\n",
        "plt.plot(history.history['loss'], lw=2.0, color='b', label='train')\n",
        "plt.plot(history.history['val_loss'], lw=2.0, color='r', label='val')\n",
        "plt.title('LSTM fastext')\n",
        "plt.xlabel('Epochs')\n",
        "plt.ylabel('Cross-Entropy Loss')\n",
        "plt.legend(loc='upper right')\n",
        "plt.show()"
      ],
      "metadata": {
        "id": "DdQSuruk0zi1",
        "colab": {
          "base_uri": "https://localhost:8080/",
          "height": 295
        },
        "outputId": "ed264115-ef95-4d95-c2c5-e751d9717f15"
      },
      "id": "DdQSuruk0zi1",
      "execution_count": 17,
      "outputs": [
        {
          "output_type": "display_data",
          "data": {
            "text/plain": [
              "<Figure size 432x288 with 1 Axes>"
            ],
            "image/png": "[encoded data removed]"
          },
          "metadata": {
            "needs_background": "light"
          }
        }
      ]
    },
    {
      "cell_type": "code",
      "source": [
        "plt.figure()\n",
        "plt.plot(history.history['accuracy'], lw=2.0, color='b', label='train')\n",
        "plt.plot(history.history['val_accuracy'], lw=2.0, color='r', label='val')\n",
        "plt.title('LSTM fastext')\n",
        "plt.xlabel('Epochs')\n",
        "plt.ylabel('Accuracy')\n",
        "plt.legend(loc='upper left')\n",
        "plt.show()"
      ],
      "metadata": {
        "id": "waKgrUf702au",
        "colab": {
          "base_uri": "https://localhost:8080/",
          "height": 295
        },
        "outputId": "95f89809-dd49-4904-c61c-3b64112e30e8"
      },
      "id": "waKgrUf702au",
      "execution_count": 18,
      "outputs": [
        {
          "output_type": "display_data",
          "data": {
            "text/plain": [
              "<Figure size 432x288 with 1 Axes>"
            ],
            "image/png": "[encoded data removed]"
          },
          "metadata": {
            "needs_background": "light"
          }
        }
      ]
    },
    {
      "cell_type": "code",
      "source": [
        ""
      ],
      "metadata": {
        "id": "2cCHXeePOlBv"
      },
      "id": "2cCHXeePOlBv",
      "execution_count": 18,
      "outputs": []
    },
    {
      "cell_type": "code",
      "source": [
        "predictions = model_lstm_ft.predict(word_seq_test)\n",
        "list_ = []\n",
        "for i in range(len(predictions)):\n",
        "  a = predictions[i]\n",
        "  list_.append(np.where(a == a.max())[0][0] )\n",
        "\n",
        "\n",
        "sample= test_df\n",
        "sample['pred']= list_ \n",
        "sample[['pred', \"l\"]]"
      ],
      "metadata": {
        "id": "TU7FFMVx02Xy",
        "colab": {
          "base_uri": "https://localhost:8080/",
          "height": 424
        },
        "outputId": "bd9616e1-b378-41d5-f012-a80a492911bc"
      },
      "id": "TU7FFMVx02Xy",
      "execution_count": 19,
      "outputs": [
        {
          "output_type": "execute_result",
          "data": {
            "text/plain": [
              "       pred   l\n",
              "6113     22  22\n",
              "2453     23  23\n",
              "2442     49  49\n",
              "2859     52  47\n",
              "12994    69  69\n",
              "...     ...  ..\n",
              "7532     27  27\n",
              "3434     57  15\n",
              "694      17  17\n",
              "5168     68  68\n",
              "11308    37  37\n",
              "\n",
              "[2662 rows x 2 columns]"
            ],
            "text/html": [
              "\n",
              "  <div id=\"df-50a329bb-9830-4643-b308-654102327f6f\">\n",
              "    <div class=\"colab-df-container\">\n",
              "      <div>\n",
              "<style scoped>\n",
              "    .dataframe tbody tr th:only-of-type {\n",
              "        vertical-align: middle;\n",
              "    }\n",
              "\n",
              "    .dataframe tbody tr th {\n",
              "        vertical-align: top;\n",
              "    }\n",
              "\n",
              "    .dataframe thead th {\n",
              "        text-align: right;\n",
              "    }\n",
              "</style>\n",
              "<table border=\"1\" class=\"dataframe\">\n",
              "  <thead>\n",
              "    <tr style=\"text-align: right;\">\n",
              "      <th></th>\n",
              "      <th>pred</th>\n",
              "      <th>l</th>\n",
              "    </tr>\n",
              "  </thead>\n",
              "  <tbody>\n",
              "    <tr>\n",
              "      <th>6113</th>\n",
              "      <td>22</td>\n",
              "      <td>22</td>\n",
              "    </tr>\n",
              "    <tr>\n",
              "      <th>2453</th>\n",
              "      <td>23</td>\n",
              "      <td>23</td>\n",
              "    </tr>\n",
              "    <tr>\n",
              "      <th>2442</th>\n",
              "      <td>49</td>\n",
              "      <td>49</td>\n",
              "    </tr>\n",
              "    <tr>\n",
              "      <th>2859</th>\n",
              "      <td>52</td>\n",
              "      <td>47</td>\n",
              "    </tr>\n",
              "    <tr>\n",
              "      <th>12994</th>\n",
              "      <td>69</td>\n",
              "      <td>69</td>\n",
              "    </tr>\n",
              "    <tr>\n",
              "      <th>...</th>\n",
              "      <td>...</td>\n",
              "      <td>...</td>\n",
              "    </tr>\n",
              "    <tr>\n",
              "      <th>7532</th>\n",
              "      <td>27</td>\n",
              "      <td>27</td>\n",
              "    </tr>\n",
              "    <tr>\n",
              "      <th>3434</th>\n",
              "      <td>57</td>\n",
              "      <td>15</td>\n",
              "    </tr>\n",
              "    <tr>\n",
              "      <th>694</th>\n",
              "      <td>17</td>\n",
              "      <td>17</td>\n",
              "    </tr>\n",
              "    <tr>\n",
              "      <th>5168</th>\n",
              "      <td>68</td>\n",
              "      <td>68</td>\n",
              "    </tr>\n",
              "    <tr>\n",
              "      <th>11308</th>\n",
              "      <td>37</td>\n",
              "      <td>37</td>\n",
              "    </tr>\n",
              "  </tbody>\n",
              "</table>\n",
              "<p>2662 rows × 2 columns</p>\n",
              "</div>\n",
              "      <button class=\"colab-df-convert\" onclick=\"convertToInteractive('df-50a329bb-9830-4643-b308-654102327f6f')\"\n",
              "              title=\"Convert this dataframe to an interactive table.\"\n",
              "              style=\"display:none;\">\n",
              "        \n",
              "  <svg xmlns=\"http://www.w3.org/2000/svg\" height=\"24px\"viewBox=\"0 0 24 24\"\n",
              "       width=\"24px\">\n",
              "    <path d=\"M0 0h24v24H0V0z\" fill=\"none\"/>\n",
              "    <path d=\"M18.56 5.44l.94 2.06.94-2.06 2.06-.94-2.06-.94-.94-2.06-.94 2.06-2.06.94zm-11 1L8.5 8.5l.94-2.06 2.06-.94-2.06-.94L8.5 2.5l-.94 2.06-2.06.94zm10 10l.94 2.06.94-2.06 2.06-.94-2.06-.94-.94-2.06-.94 2.06-2.06.94z\"/><path d=\"M17.41 7.96l-1.37-1.37c-.4-.4-.92-.59-1.43-.59-.52 0-1.04.2-1.43.59L10.3 9.45l-7.72 7.72c-.78.78-.78 2.05 0 2.83L4 21.41c.39.39.9.59 1.41.59.51 0 1.02-.2 1.41-.59l7.78-7.78 2.81-2.81c.8-.78.8-2.07 0-2.86zM5.41 20L4 18.59l7.72-7.72 1.47 1.35L5.41 20z\"/>\n",
              "  </svg>\n",
              "      </button>\n",
              "      \n",
              "  <style>\n",
              "    .colab-df-container {\n",
              "      display:flex;\n",
              "      flex-wrap:wrap;\n",
              "      gap: 12px;\n",
              "    }\n",
              "\n",
              "    .colab-df-convert {\n",
              "      background-color: #E8F0FE;\n",
              "      border: none;\n",
              "      border-radius: 50%;\n",
              "      cursor: pointer;\n",
              "      display: none;\n",
              "      fill: #1967D2;\n",
              "      height: 32px;\n",
              "      padding: 0 0 0 0;\n",
              "      width: 32px;\n",
              "    }\n",
              "\n",
              "    .colab-df-convert:hover {\n",
              "      background-color: #E2EBFA;\n",
              "      box-shadow: 0px 1px 2px rgba(60, 64, 67, 0.3), 0px 1px 3px 1px rgba(60, 64, 67, 0.15);\n",
              "      fill: #174EA6;\n",
              "    }\n",
              "\n",
              "    [theme=dark] .colab-df-convert {\n",
              "      background-color: #3B4455;\n",
              "      fill: #D2E3FC;\n",
              "    }\n",
              "\n",
              "    [theme=dark] .colab-df-convert:hover {\n",
              "      background-color: #434B5C;\n",
              "      box-shadow: 0px 1px 3px 1px rgba(0, 0, 0, 0.15);\n",
              "      filter: drop-shadow(0px 1px 2px rgba(0, 0, 0, 0.3));\n",
              "      fill: #FFFFFF;\n",
              "    }\n",
              "  </style>\n",
              "\n",
              "      <script>\n",
              "        const buttonEl =\n",
              "          document.querySelector('#df-50a329bb-9830-4643-b308-654102327f6f button.colab-df-convert');\n",
              "        buttonEl.style.display =\n",
              "          google.colab.kernel.accessAllowed ? 'block' : 'none';\n",
              "\n",
              "        async function convertToInteractive(key) {\n",
              "          const element = document.querySelector('#df-50a329bb-9830-4643-b308-654102327f6f');\n",
              "          const dataTable =\n",
              "            await google.colab.kernel.invokeFunction('convertToInteractive',\n",
              "                                                     [key], {});\n",
              "          if (!dataTable) return;\n",
              "\n",
              "          const docLinkHtml = 'Like what you see? Visit the ' +\n",
              "            '<a target=\"_blank\" href=https://colab.research.google.com/notebooks/data_table.ipynb>data table notebook</a>'\n",
              "            + ' to learn more about interactive tables.';\n",
              "          element.innerHTML = '';\n",
              "          dataTable['output_type'] = 'display_data';\n",
              "          await google.colab.output.renderOutput(dataTable, element);\n",
              "          const docLink = document.createElement('div');\n",
              "          docLink.innerHTML = docLinkHtml;\n",
              "          element.appendChild(docLink);\n",
              "        }\n",
              "      </script>\n",
              "    </div>\n",
              "  </div>\n",
              "  "
            ]
          },
          "metadata": {},
          "execution_count": 19
        }
      ]
    },
    {
      "cell_type": "code",
      "source": [
        "import sklearn\n",
        "\n",
        "print(\"Accuracy With fastText LSTM:\")\n",
        "print(sklearn.metrics.accuracy_score(sample.l, sample.pred))"
      ],
      "metadata": {
        "id": "gfvgTlrH02Vf",
        "colab": {
          "base_uri": "https://localhost:8080/"
        },
        "outputId": "f66e053d-ebc7-4dc7-f3d1-f7fe49f915cc"
      },
      "id": "gfvgTlrH02Vf",
      "execution_count": 20,
      "outputs": [
        {
          "output_type": "stream",
          "name": "stdout",
          "text": [
            "Accuracy With fastText LSTM:\n",
            "0.864763335837716\n"
          ]
        }
      ]
    },
    {
      "cell_type": "markdown",
      "source": [
        "### CNN"
      ],
      "metadata": {
        "id": "Jq1y7GvZCTf6"
      },
      "id": "Jq1y7GvZCTf6"
    },
    {
      "cell_type": "code",
      "source": [
        "num_filters = 64 "
      ],
      "metadata": {
        "id": "h6Ps_FTVDCcJ"
      },
      "id": "h6Ps_FTVDCcJ",
      "execution_count": 21,
      "outputs": []
    },
    {
      "cell_type": "code",
      "source": [
        "#CNN architecture\n",
        "def create_cnn_model():\n",
        "  model_cnn = Sequential()\n",
        "  model_cnn.add(Embedding(nb_words, embed_dim, weights=[embedding_matrix], input_length=max_seq_len, trainable=False))\n",
        "  model_cnn.add(Conv1D(num_filters, 7, activation='relu', padding='same'))\n",
        "  model_cnn.add(MaxPooling1D(2))\n",
        "  model_cnn.add(Conv1D(num_filters, 7, activation='relu', padding='same'))\n",
        "  model_cnn.add(GlobalMaxPooling1D())\n",
        "  model_cnn.add(Dropout(0.5))\n",
        "  model_cnn.add(Dense(32, activation='relu', kernel_regularizer=regularizers.l2(weight_decay)))\n",
        "  model_cnn.add(Dense(77, activation='softmax'))\n",
        "\n",
        "  adam = tf.keras.optimizers.Adam(lr=0.001, beta_1=0.9, beta_2=0.999, epsilon=1e-08, decay=0.0)\n",
        "  model_cnn.compile(loss='binary_crossentropy', optimizer=adam, metrics=['accuracy'])\n",
        "  return model_cnn\n"
      ],
      "metadata": {
        "id": "7Uzncr8g02Sv"
      },
      "id": "7Uzncr8g02Sv",
      "execution_count": 22,
      "outputs": []
    },
    {
      "cell_type": "code",
      "source": [
        "model_cnn_ft = create_cnn_model()  \n",
        "model_cnn_ft.summary()"
      ],
      "metadata": {
        "id": "mr5KJygjGKyP",
        "colab": {
          "base_uri": "https://localhost:8080/"
        },
        "outputId": "6e86586d-7df1-4dcb-8179-fc59ea3592c1"
      },
      "id": "mr5KJygjGKyP",
      "execution_count": 23,
      "outputs": [
        {
          "output_type": "stream",
          "name": "stdout",
          "text": [
            "Model: \"sequential_1\"\n",
            "_________________________________________________________________\n",
            " Layer (type)                Output Shape              Param #   \n",
            "=================================================================\n",
            " embedding_1 (Embedding)     (None, 19, 300)           756600    \n",
            "                                                                 \n",
            " conv1d (Conv1D)             (None, 19, 64)            134464    \n",
            "                                                                 \n",
            " max_pooling1d (MaxPooling1D  (None, 9, 64)            0         \n",
            " )                                                               \n",
            "                                                                 \n",
            " conv1d_1 (Conv1D)           (None, 9, 64)             28736     \n",
            "                                                                 \n",
            " global_max_pooling1d (Globa  (None, 64)               0         \n",
            " lMaxPooling1D)                                                  \n",
            "                                                                 \n",
            " dropout (Dropout)           (None, 64)                0         \n",
            "                                                                 \n",
            " dense_2 (Dense)             (None, 32)                2080      \n",
            "                                                                 \n",
            " dense_3 (Dense)             (None, 77)                2541      \n",
            "                                                                 \n",
            "=================================================================\n",
            "Total params: 924,421\n",
            "Trainable params: 167,821\n",
            "Non-trainable params: 756,600\n",
            "_________________________________________________________________\n"
          ]
        },
        {
          "output_type": "stream",
          "name": "stderr",
          "text": [
            "/usr/local/lib/python3.7/dist-packages/keras/optimizer_v2/adam.py:105: UserWarning: The `lr` argument is deprecated, use `learning_rate` instead.\n",
            "  super(Adam, self).__init__(name, **kwargs)\n"
          ]
        }
      ]
    },
    {
      "cell_type": "code",
      "source": [
        "from keras.callbacks import ModelCheckpoint\n",
        "from tensorflow.keras.callbacks import EarlyStopping\n",
        "\n",
        "model_cnn_ft.compile(optimizer='adam',loss = tf.keras.losses.SparseCategoricalCrossentropy(from_logits=True), metrics=['accuracy'])"
      ],
      "metadata": {
        "id": "LcLImAJL02P_"
      },
      "id": "LcLImAJL02P_",
      "execution_count": 24,
      "outputs": []
    },
    {
      "cell_type": "code",
      "source": [
        "es_callback = EarlyStopping(monitor='val_loss', patience=3)\n",
        "\n",
        "history = model_cnn_ft.fit(word_seq_train, y_train, batch_size=256, epochs=num_epochs, validation_split=0.3, callbacks=[es_callback], shuffle=False)"
      ],
      "metadata": {
        "id": "ZO4Hu87ODH1Q",
        "colab": {
          "base_uri": "https://localhost:8080/"
        },
        "outputId": "09a97bf3-9e94-4b8c-a8d3-420cd82bc9d8"
      },
      "id": "ZO4Hu87ODH1Q",
      "execution_count": 25,
      "outputs": [
        {
          "output_type": "stream",
          "name": "stdout",
          "text": [
            "Epoch 1/40\n"
          ]
        },
        {
          "output_type": "stream",
          "name": "stderr",
          "text": [
            "/usr/local/lib/python3.7/dist-packages/tensorflow/python/util/dispatch.py:1082: UserWarning: \"`sparse_categorical_crossentropy` received `from_logits=True`, but the `output` argument was produced by a sigmoid or softmax activation and thus does not represent logits. Was this intended?\"\n",
            "  return dispatch_target(*args, **kwargs)\n"
          ]
        },
        {
          "output_type": "stream",
          "name": "stdout",
          "text": [
            "30/30 [==============================] - 10s 18ms/step - loss: 4.3232 - accuracy: 0.0205 - val_loss: 4.2450 - val_accuracy: 0.0369\n",
            "Epoch 2/40\n",
            "30/30 [==============================] - 0s 8ms/step - loss: 4.1163 - accuracy: 0.0448 - val_loss: 3.8170 - val_accuracy: 0.1058\n",
            "Epoch 3/40\n",
            "30/30 [==============================] - 0s 8ms/step - loss: 3.5988 - accuracy: 0.1299 - val_loss: 3.1011 - val_accuracy: 0.2513\n",
            "Epoch 4/40\n",
            "30/30 [==============================] - 0s 8ms/step - loss: 2.9246 - accuracy: 0.2472 - val_loss: 2.3105 - val_accuracy: 0.4444\n",
            "Epoch 5/40\n",
            "30/30 [==============================] - 0s 7ms/step - loss: 2.3863 - accuracy: 0.3563 - val_loss: 1.8035 - val_accuracy: 0.5637\n",
            "Epoch 6/40\n",
            "30/30 [==============================] - 0s 7ms/step - loss: 2.0120 - accuracy: 0.4345 - val_loss: 1.5025 - val_accuracy: 0.6254\n",
            "Epoch 7/40\n",
            "30/30 [==============================] - 0s 8ms/step - loss: 1.7516 - accuracy: 0.5008 - val_loss: 1.3130 - val_accuracy: 0.6761\n",
            "Epoch 8/40\n",
            "30/30 [==============================] - 0s 7ms/step - loss: 1.5853 - accuracy: 0.5373 - val_loss: 1.1927 - val_accuracy: 0.7002\n",
            "Epoch 9/40\n",
            "30/30 [==============================] - 0s 7ms/step - loss: 1.4185 - accuracy: 0.5841 - val_loss: 1.0726 - val_accuracy: 0.7352\n",
            "Epoch 10/40\n",
            "30/30 [==============================] - 0s 7ms/step - loss: 1.3058 - accuracy: 0.6201 - val_loss: 1.0097 - val_accuracy: 0.7465\n",
            "Epoch 11/40\n",
            "30/30 [==============================] - 0s 8ms/step - loss: 1.1964 - accuracy: 0.6486 - val_loss: 0.9430 - val_accuracy: 0.7646\n",
            "Epoch 12/40\n",
            "30/30 [==============================] - 0s 6ms/step - loss: 1.1068 - accuracy: 0.6702 - val_loss: 0.8780 - val_accuracy: 0.7725\n",
            "Epoch 13/40\n",
            "30/30 [==============================] - 0s 7ms/step - loss: 1.0750 - accuracy: 0.6770 - val_loss: 0.8574 - val_accuracy: 0.7768\n",
            "Epoch 14/40\n",
            "30/30 [==============================] - 0s 8ms/step - loss: 0.9865 - accuracy: 0.7063 - val_loss: 0.8179 - val_accuracy: 0.7878\n",
            "Epoch 15/40\n",
            "30/30 [==============================] - 0s 7ms/step - loss: 0.9404 - accuracy: 0.7195 - val_loss: 0.8027 - val_accuracy: 0.7878\n",
            "Epoch 16/40\n",
            "30/30 [==============================] - 0s 6ms/step - loss: 0.8818 - accuracy: 0.7399 - val_loss: 0.7690 - val_accuracy: 0.7900\n",
            "Epoch 17/40\n",
            "30/30 [==============================] - 0s 6ms/step - loss: 0.8319 - accuracy: 0.7515 - val_loss: 0.7336 - val_accuracy: 0.8078\n",
            "Epoch 18/40\n",
            "30/30 [==============================] - 0s 7ms/step - loss: 0.7871 - accuracy: 0.7645 - val_loss: 0.7291 - val_accuracy: 0.7991\n",
            "Epoch 19/40\n",
            "30/30 [==============================] - 0s 7ms/step - loss: 0.7489 - accuracy: 0.7740 - val_loss: 0.7259 - val_accuracy: 0.8016\n",
            "Epoch 20/40\n",
            "30/30 [==============================] - 0s 6ms/step - loss: 0.7189 - accuracy: 0.7856 - val_loss: 0.6944 - val_accuracy: 0.8106\n",
            "Epoch 21/40\n",
            "30/30 [==============================] - 0s 8ms/step - loss: 0.6941 - accuracy: 0.7924 - val_loss: 0.7016 - val_accuracy: 0.8113\n",
            "Epoch 22/40\n",
            "30/30 [==============================] - 0s 7ms/step - loss: 0.6576 - accuracy: 0.8017 - val_loss: 0.6794 - val_accuracy: 0.8125\n",
            "Epoch 23/40\n",
            "30/30 [==============================] - 0s 6ms/step - loss: 0.6409 - accuracy: 0.8093 - val_loss: 0.6793 - val_accuracy: 0.8150\n",
            "Epoch 24/40\n",
            "30/30 [==============================] - 0s 8ms/step - loss: 0.6125 - accuracy: 0.8163 - val_loss: 0.6623 - val_accuracy: 0.8232\n",
            "Epoch 25/40\n",
            "30/30 [==============================] - 0s 8ms/step - loss: 0.5756 - accuracy: 0.8269 - val_loss: 0.6506 - val_accuracy: 0.8263\n",
            "Epoch 26/40\n",
            "30/30 [==============================] - 0s 7ms/step - loss: 0.5483 - accuracy: 0.8340 - val_loss: 0.6345 - val_accuracy: 0.8282\n",
            "Epoch 27/40\n",
            "30/30 [==============================] - 0s 7ms/step - loss: 0.5239 - accuracy: 0.8390 - val_loss: 0.6486 - val_accuracy: 0.8197\n",
            "Epoch 28/40\n",
            "30/30 [==============================] - 0s 6ms/step - loss: 0.5229 - accuracy: 0.8450 - val_loss: 0.6414 - val_accuracy: 0.8228\n",
            "Epoch 29/40\n",
            "30/30 [==============================] - 0s 6ms/step - loss: 0.5022 - accuracy: 0.8489 - val_loss: 0.6359 - val_accuracy: 0.8235\n"
          ]
        }
      ]
    },
    {
      "cell_type": "code",
      "source": [
        "#generate plots\n",
        "plt.figure()\n",
        "plt.plot(history.history['loss'], lw=2.0, color='b', label='train')\n",
        "plt.plot(history.history['val_loss'], lw=2.0, color='r', label='val')\n",
        "plt.title('CNN fastext')\n",
        "plt.xlabel('Epochs')\n",
        "plt.ylabel('Cross-Entropy Loss')\n",
        "plt.legend(loc='upper right')\n",
        "plt.show()"
      ],
      "metadata": {
        "id": "g67AaYXDEErH",
        "colab": {
          "base_uri": "https://localhost:8080/",
          "height": 295
        },
        "outputId": "0e8efd80-1ac2-4a5e-d311-036fbd634984"
      },
      "id": "g67AaYXDEErH",
      "execution_count": 26,
      "outputs": [
        {
          "output_type": "display_data",
          "data": {
            "text/plain": [
              "<Figure size 432x288 with 1 Axes>"
            ],
            "image/png": "[encoded data removed]"
          },
          "metadata": {
            "needs_background": "light"
          }
        }
      ]
    },
    {
      "cell_type": "code",
      "source": [
        "plt.figure()\n",
        "plt.plot(history.history['accuracy'], lw=2.0, color='b', label='train')\n",
        "plt.plot(history.history['val_accuracy'], lw=2.0, color='r', label='val')\n",
        "plt.title('CNN fastext')\n",
        "plt.xlabel('Epochs')\n",
        "plt.ylabel('Accuracy')\n",
        "plt.legend(loc='upper left')\n",
        "plt.show()"
      ],
      "metadata": {
        "id": "4D7rrg5CES1V",
        "colab": {
          "base_uri": "https://localhost:8080/",
          "height": 295
        },
        "outputId": "07d89a22-4737-4f55-e574-9f9d956e0dda"
      },
      "id": "4D7rrg5CES1V",
      "execution_count": 27,
      "outputs": [
        {
          "output_type": "display_data",
          "data": {
            "text/plain": [
              "<Figure size 432x288 with 1 Axes>"
            ],
            "image/png": "[encoded data removed]"
          },
          "metadata": {
            "needs_background": "light"
          }
        }
      ]
    },
    {
      "cell_type": "code",
      "source": [
        "predictions = model_cnn_ft.predict(word_seq_test)\n",
        "list_ = []\n",
        "for i in range(len(predictions)):\n",
        "  a = predictions[i]\n",
        "  list_.append(np.where(a == a.max())[0][0] )\n",
        "\n",
        "\n",
        "sample= test_df\n",
        "sample['pred']= list_ \n",
        "sample[['pred', \"l\"]]"
      ],
      "metadata": {
        "id": "66CB_o1lEYTk",
        "colab": {
          "base_uri": "https://localhost:8080/",
          "height": 424
        },
        "outputId": "461a9048-b2fa-4311-f507-7d8361886a7f"
      },
      "id": "66CB_o1lEYTk",
      "execution_count": 28,
      "outputs": [
        {
          "output_type": "execute_result",
          "data": {
            "text/plain": [
              "       pred   l\n",
              "6113     22  22\n",
              "2453     23  23\n",
              "2442     49  49\n",
              "2859     66  47\n",
              "12994    69  69\n",
              "...     ...  ..\n",
              "7532     27  27\n",
              "3434     57  15\n",
              "694      17  17\n",
              "5168     68  68\n",
              "11308    37  37\n",
              "\n",
              "[2662 rows x 2 columns]"
            ],
            "text/html": [
              "\n",
              "  <div id=\"df-8c87b6a7-35aa-47ee-91f2-79bd78cdc9f1\">\n",
              "    <div class=\"colab-df-container\">\n",
              "      <div>\n",
              "<style scoped>\n",
              "    .dataframe tbody tr th:only-of-type {\n",
              "        vertical-align: middle;\n",
              "    }\n",
              "\n",
              "    .dataframe tbody tr th {\n",
              "        vertical-align: top;\n",
              "    }\n",
              "\n",
              "    .dataframe thead th {\n",
              "        text-align: right;\n",
              "    }\n",
              "</style>\n",
              "<table border=\"1\" class=\"dataframe\">\n",
              "  <thead>\n",
              "    <tr style=\"text-align: right;\">\n",
              "      <th></th>\n",
              "      <th>pred</th>\n",
              "      <th>l</th>\n",
              "    </tr>\n",
              "  </thead>\n",
              "  <tbody>\n",
              "    <tr>\n",
              "      <th>6113</th>\n",
              "      <td>22</td>\n",
              "      <td>22</td>\n",
              "    </tr>\n",
              "    <tr>\n",
              "      <th>2453</th>\n",
              "      <td>23</td>\n",
              "      <td>23</td>\n",
              "    </tr>\n",
              "    <tr>\n",
              "      <th>2442</th>\n",
              "      <td>49</td>\n",
              "      <td>49</td>\n",
              "    </tr>\n",
              "    <tr>\n",
              "      <th>2859</th>\n",
              "      <td>66</td>\n",
              "      <td>47</td>\n",
              "    </tr>\n",
              "    <tr>\n",
              "      <th>12994</th>\n",
              "      <td>69</td>\n",
              "      <td>69</td>\n",
              "    </tr>\n",
              "    <tr>\n",
              "      <th>...</th>\n",
              "      <td>...</td>\n",
              "      <td>...</td>\n",
              "    </tr>\n",
              "    <tr>\n",
              "      <th>7532</th>\n",
              "      <td>27</td>\n",
              "      <td>27</td>\n",
              "    </tr>\n",
              "    <tr>\n",
              "      <th>3434</th>\n",
              "      <td>57</td>\n",
              "      <td>15</td>\n",
              "    </tr>\n",
              "    <tr>\n",
              "      <th>694</th>\n",
              "      <td>17</td>\n",
              "      <td>17</td>\n",
              "    </tr>\n",
              "    <tr>\n",
              "      <th>5168</th>\n",
              "      <td>68</td>\n",
              "      <td>68</td>\n",
              "    </tr>\n",
              "    <tr>\n",
              "      <th>11308</th>\n",
              "      <td>37</td>\n",
              "      <td>37</td>\n",
              "    </tr>\n",
              "  </tbody>\n",
              "</table>\n",
              "<p>2662 rows × 2 columns</p>\n",
              "</div>\n",
              "      <button class=\"colab-df-convert\" onclick=\"convertToInteractive('df-8c87b6a7-35aa-47ee-91f2-79bd78cdc9f1')\"\n",
              "              title=\"Convert this dataframe to an interactive table.\"\n",
              "              style=\"display:none;\">\n",
              "        \n",
              "  <svg xmlns=\"http://www.w3.org/2000/svg\" height=\"24px\"viewBox=\"0 0 24 24\"\n",
              "       width=\"24px\">\n",
              "    <path d=\"M0 0h24v24H0V0z\" fill=\"none\"/>\n",
              "    <path d=\"M18.56 5.44l.94 2.06.94-2.06 2.06-.94-2.06-.94-.94-2.06-.94 2.06-2.06.94zm-11 1L8.5 8.5l.94-2.06 2.06-.94-2.06-.94L8.5 2.5l-.94 2.06-2.06.94zm10 10l.94 2.06.94-2.06 2.06-.94-2.06-.94-.94-2.06-.94 2.06-2.06.94z\"/><path d=\"M17.41 7.96l-1.37-1.37c-.4-.4-.92-.59-1.43-.59-.52 0-1.04.2-1.43.59L10.3 9.45l-7.72 7.72c-.78.78-.78 2.05 0 2.83L4 21.41c.39.39.9.59 1.41.59.51 0 1.02-.2 1.41-.59l7.78-7.78 2.81-2.81c.8-.78.8-2.07 0-2.86zM5.41 20L4 18.59l7.72-7.72 1.47 1.35L5.41 20z\"/>\n",
              "  </svg>\n",
              "      </button>\n",
              "      \n",
              "  <style>\n",
              "    .colab-df-container {\n",
              "      display:flex;\n",
              "      flex-wrap:wrap;\n",
              "      gap: 12px;\n",
              "    }\n",
              "\n",
              "    .colab-df-convert {\n",
              "      background-color: #E8F0FE;\n",
              "      border: none;\n",
              "      border-radius: 50%;\n",
              "      cursor: pointer;\n",
              "      display: none;\n",
              "      fill: #1967D2;\n",
              "      height: 32px;\n",
              "      padding: 0 0 0 0;\n",
              "      width: 32px;\n",
              "    }\n",
              "\n",
              "    .colab-df-convert:hover {\n",
              "      background-color: #E2EBFA;\n",
              "      box-shadow: 0px 1px 2px rgba(60, 64, 67, 0.3), 0px 1px 3px 1px rgba(60, 64, 67, 0.15);\n",
              "      fill: #174EA6;\n",
              "    }\n",
              "\n",
              "    [theme=dark] .colab-df-convert {\n",
              "      background-color: #3B4455;\n",
              "      fill: #D2E3FC;\n",
              "    }\n",
              "\n",
              "    [theme=dark] .colab-df-convert:hover {\n",
              "      background-color: #434B5C;\n",
              "      box-shadow: 0px 1px 3px 1px rgba(0, 0, 0, 0.15);\n",
              "      filter: drop-shadow(0px 1px 2px rgba(0, 0, 0, 0.3));\n",
              "      fill: #FFFFFF;\n",
              "    }\n",
              "  </style>\n",
              "\n",
              "      <script>\n",
              "        const buttonEl =\n",
              "          document.querySelector('#df-8c87b6a7-35aa-47ee-91f2-79bd78cdc9f1 button.colab-df-convert');\n",
              "        buttonEl.style.display =\n",
              "          google.colab.kernel.accessAllowed ? 'block' : 'none';\n",
              "\n",
              "        async function convertToInteractive(key) {\n",
              "          const element = document.querySelector('#df-8c87b6a7-35aa-47ee-91f2-79bd78cdc9f1');\n",
              "          const dataTable =\n",
              "            await google.colab.kernel.invokeFunction('convertToInteractive',\n",
              "                                                     [key], {});\n",
              "          if (!dataTable) return;\n",
              "\n",
              "          const docLinkHtml = 'Like what you see? Visit the ' +\n",
              "            '<a target=\"_blank\" href=https://colab.research.google.com/notebooks/data_table.ipynb>data table notebook</a>'\n",
              "            + ' to learn more about interactive tables.';\n",
              "          element.innerHTML = '';\n",
              "          dataTable['output_type'] = 'display_data';\n",
              "          await google.colab.output.renderOutput(dataTable, element);\n",
              "          const docLink = document.createElement('div');\n",
              "          docLink.innerHTML = docLinkHtml;\n",
              "          element.appendChild(docLink);\n",
              "        }\n",
              "      </script>\n",
              "    </div>\n",
              "  </div>\n",
              "  "
            ]
          },
          "metadata": {},
          "execution_count": 28
        }
      ]
    },
    {
      "cell_type": "code",
      "source": [
        "import sklearn\n",
        "\n",
        "print(\"Accuracy With fastText CNN :\")\n",
        "print(sklearn.metrics.accuracy_score(sample.l, sample.pred))"
      ],
      "metadata": {
        "id": "_WlLgbisEc1r",
        "colab": {
          "base_uri": "https://localhost:8080/"
        },
        "outputId": "06f750c5-ab82-4e30-9fba-dcecb12632b2"
      },
      "id": "_WlLgbisEc1r",
      "execution_count": 29,
      "outputs": [
        {
          "output_type": "stream",
          "name": "stdout",
          "text": [
            "Accuracy With fastText CNN :\n",
            "0.816679188580015\n"
          ]
        }
      ]
    },
    {
      "cell_type": "markdown",
      "source": [
        "### CNN + LSTM"
      ],
      "metadata": {
        "id": "3ElWyxBRaH-W"
      },
      "id": "3ElWyxBRaH-W"
    },
    {
      "cell_type": "code",
      "source": [
        "def create_cnn_lstm_model():\n",
        "  model_mix = Sequential()\n",
        "  model_mix.add(Embedding(nb_words, embed_dim, weights=[embedding_matrix], input_length=max_seq_len, trainable=False))\n",
        "  model_mix.add(Dropout(0.2))\n",
        "  model_mix.add(Conv1D(num_filters, 7, activation='relu', padding='same'))\n",
        "  model_mix.add(MaxPooling1D(pool_size=4))\n",
        "  model_mix.add(Bidirectional(LSTM(128, dropout=0.7, recurrent_dropout=0.7)))\n",
        "  model_mix.add(Dense(128,activation='relu'))\n",
        "  model_mix.add(Dense(77, activation='softmax'))\n",
        "  model_mix.compile(optimizer='adam',loss = tf.keras.losses.SparseCategoricalCrossentropy(from_logits=True), metrics=['accuracy'])\n",
        "  return model_mix\n"
      ],
      "metadata": {
        "id": "nKnzkd04aMGn"
      },
      "id": "nKnzkd04aMGn",
      "execution_count": 30,
      "outputs": []
    },
    {
      "cell_type": "code",
      "source": [
        "model_mix_ft = create_cnn_lstm_model()"
      ],
      "metadata": {
        "id": "CU7nVdUgGZ1s",
        "colab": {
          "base_uri": "https://localhost:8080/"
        },
        "outputId": "80f18d74-a859-41e9-9204-f297ad7643d3"
      },
      "id": "CU7nVdUgGZ1s",
      "execution_count": 31,
      "outputs": [
        {
          "output_type": "stream",
          "name": "stdout",
          "text": [
            "WARNING:tensorflow:Layer lstm_1 will not use cuDNN kernels since it doesn't meet the criteria. It will use a generic GPU kernel as fallback when running on GPU.\n",
            "WARNING:tensorflow:Layer lstm_1 will not use cuDNN kernels since it doesn't meet the criteria. It will use a generic GPU kernel as fallback when running on GPU.\n",
            "WARNING:tensorflow:Layer lstm_1 will not use cuDNN kernels since it doesn't meet the criteria. It will use a generic GPU kernel as fallback when running on GPU.\n"
          ]
        }
      ]
    },
    {
      "cell_type": "code",
      "source": [
        "es_callback = EarlyStopping(monitor='val_loss', patience=3)\n",
        "\n",
        "history = model_mix_ft.fit(word_seq_train, y_train, batch_size=256, epochs=num_epochs, validation_split=0.3, callbacks=[es_callback], shuffle=False)"
      ],
      "metadata": {
        "id": "uTdMVHQiaMDl",
        "colab": {
          "base_uri": "https://localhost:8080/"
        },
        "outputId": "e9119e6d-cdb0-4e4b-ee5d-9fe1fb94dc34"
      },
      "id": "uTdMVHQiaMDl",
      "execution_count": 32,
      "outputs": [
        {
          "output_type": "stream",
          "name": "stdout",
          "text": [
            "Epoch 1/40\n"
          ]
        },
        {
          "output_type": "stream",
          "name": "stderr",
          "text": [
            "/usr/local/lib/python3.7/dist-packages/tensorflow/python/util/dispatch.py:1082: UserWarning: \"`sparse_categorical_crossentropy` received `from_logits=True`, but the `output` argument was produced by a sigmoid or softmax activation and thus does not represent logits. Was this intended?\"\n",
            "  return dispatch_target(*args, **kwargs)\n"
          ]
        },
        {
          "output_type": "stream",
          "name": "stdout",
          "text": [
            "30/30 [==============================] - 6s 65ms/step - loss: 4.3228 - accuracy: 0.0174 - val_loss: 4.2667 - val_accuracy: 0.0203\n",
            "Epoch 2/40\n",
            "30/30 [==============================] - 1s 50ms/step - loss: 4.1333 - accuracy: 0.0627 - val_loss: 3.7372 - val_accuracy: 0.1408\n",
            "Epoch 3/40\n",
            "30/30 [==============================] - 1s 49ms/step - loss: 3.4157 - accuracy: 0.1524 - val_loss: 2.6024 - val_accuracy: 0.3105\n",
            "Epoch 4/40\n",
            "30/30 [==============================] - 1s 48ms/step - loss: 2.6558 - accuracy: 0.2680 - val_loss: 1.9626 - val_accuracy: 0.4623\n",
            "Epoch 5/40\n",
            "30/30 [==============================] - 1s 50ms/step - loss: 2.1771 - accuracy: 0.3697 - val_loss: 1.6139 - val_accuracy: 0.5380\n",
            "Epoch 6/40\n",
            "30/30 [==============================] - 2s 50ms/step - loss: 1.8932 - accuracy: 0.4352 - val_loss: 1.3709 - val_accuracy: 0.6100\n",
            "Epoch 7/40\n",
            "30/30 [==============================] - 2s 54ms/step - loss: 1.6907 - accuracy: 0.4875 - val_loss: 1.2154 - val_accuracy: 0.6535\n",
            "Epoch 8/40\n",
            "30/30 [==============================] - 1s 50ms/step - loss: 1.5426 - accuracy: 0.5283 - val_loss: 1.1272 - val_accuracy: 0.6773\n",
            "Epoch 9/40\n",
            "30/30 [==============================] - 2s 50ms/step - loss: 1.4216 - accuracy: 0.5667 - val_loss: 1.0514 - val_accuracy: 0.6961\n",
            "Epoch 10/40\n",
            "30/30 [==============================] - 1s 48ms/step - loss: 1.3083 - accuracy: 0.5982 - val_loss: 0.9663 - val_accuracy: 0.7258\n",
            "Epoch 11/40\n",
            "30/30 [==============================] - 1s 47ms/step - loss: 1.1934 - accuracy: 0.6335 - val_loss: 0.9223 - val_accuracy: 0.7330\n",
            "Epoch 12/40\n",
            "30/30 [==============================] - 2s 52ms/step - loss: 1.1353 - accuracy: 0.6510 - val_loss: 0.8581 - val_accuracy: 0.7534\n",
            "Epoch 13/40\n",
            "30/30 [==============================] - 2s 50ms/step - loss: 1.0587 - accuracy: 0.6773 - val_loss: 0.8433 - val_accuracy: 0.7499\n",
            "Epoch 14/40\n",
            "30/30 [==============================] - 2s 51ms/step - loss: 0.9928 - accuracy: 0.6919 - val_loss: 0.8094 - val_accuracy: 0.7606\n",
            "Epoch 15/40\n",
            "30/30 [==============================] - 2s 51ms/step - loss: 0.9411 - accuracy: 0.6997 - val_loss: 0.7676 - val_accuracy: 0.7674\n",
            "Epoch 16/40\n",
            "30/30 [==============================] - 1s 50ms/step - loss: 0.8780 - accuracy: 0.7245 - val_loss: 0.7493 - val_accuracy: 0.7715\n",
            "Epoch 17/40\n",
            "30/30 [==============================] - 2s 50ms/step - loss: 0.8402 - accuracy: 0.7373 - val_loss: 0.7320 - val_accuracy: 0.7859\n",
            "Epoch 18/40\n",
            "30/30 [==============================] - 1s 47ms/step - loss: 0.7933 - accuracy: 0.7572 - val_loss: 0.7164 - val_accuracy: 0.7881\n",
            "Epoch 19/40\n",
            "30/30 [==============================] - 1s 48ms/step - loss: 0.7632 - accuracy: 0.7599 - val_loss: 0.7087 - val_accuracy: 0.7875\n",
            "Epoch 20/40\n",
            "30/30 [==============================] - 1s 50ms/step - loss: 0.7065 - accuracy: 0.7861 - val_loss: 0.6947 - val_accuracy: 0.7915\n",
            "Epoch 21/40\n",
            "30/30 [==============================] - 1s 48ms/step - loss: 0.6964 - accuracy: 0.7869 - val_loss: 0.6820 - val_accuracy: 0.7959\n",
            "Epoch 22/40\n",
            "30/30 [==============================] - 1s 48ms/step - loss: 0.6649 - accuracy: 0.7966 - val_loss: 0.6683 - val_accuracy: 0.8063\n",
            "Epoch 23/40\n",
            "30/30 [==============================] - 1s 48ms/step - loss: 0.6296 - accuracy: 0.8061 - val_loss: 0.6668 - val_accuracy: 0.8085\n",
            "Epoch 24/40\n",
            "30/30 [==============================] - 2s 50ms/step - loss: 0.6207 - accuracy: 0.8061 - val_loss: 0.6494 - val_accuracy: 0.8078\n",
            "Epoch 25/40\n",
            "30/30 [==============================] - 1s 49ms/step - loss: 0.5707 - accuracy: 0.8250 - val_loss: 0.6451 - val_accuracy: 0.8088\n",
            "Epoch 26/40\n",
            "30/30 [==============================] - 2s 50ms/step - loss: 0.5593 - accuracy: 0.8241 - val_loss: 0.6486 - val_accuracy: 0.8169\n",
            "Epoch 27/40\n",
            "30/30 [==============================] - 1s 48ms/step - loss: 0.5363 - accuracy: 0.8379 - val_loss: 0.6347 - val_accuracy: 0.8185\n",
            "Epoch 28/40\n",
            "30/30 [==============================] - 2s 51ms/step - loss: 0.5176 - accuracy: 0.8398 - val_loss: 0.6126 - val_accuracy: 0.8279\n",
            "Epoch 29/40\n",
            "30/30 [==============================] - 1s 49ms/step - loss: 0.4998 - accuracy: 0.8445 - val_loss: 0.6185 - val_accuracy: 0.8241\n",
            "Epoch 30/40\n",
            "30/30 [==============================] - 1s 48ms/step - loss: 0.4833 - accuracy: 0.8521 - val_loss: 0.6144 - val_accuracy: 0.8247\n",
            "Epoch 31/40\n",
            "30/30 [==============================] - 1s 48ms/step - loss: 0.4696 - accuracy: 0.8508 - val_loss: 0.6145 - val_accuracy: 0.8304\n"
          ]
        }
      ]
    },
    {
      "cell_type": "code",
      "source": [
        ""
      ],
      "metadata": {
        "id": "05BrKTvQaMAo"
      },
      "id": "05BrKTvQaMAo",
      "execution_count": 32,
      "outputs": []
    },
    {
      "cell_type": "code",
      "source": [
        "#generate plots\n",
        "plt.figure()\n",
        "plt.plot(history.history['loss'], lw=2.0, color='b', label='train')\n",
        "plt.plot(history.history['val_loss'], lw=2.0, color='r', label='val')\n",
        "plt.title('CNN-LSTM fastext')\n",
        "plt.xlabel('Epochs')\n",
        "plt.ylabel('Cross-Entropy Loss')\n",
        "plt.legend(loc='upper right')\n",
        "plt.show()"
      ],
      "metadata": {
        "id": "vFyQE7qsFBfC",
        "colab": {
          "base_uri": "https://localhost:8080/",
          "height": 295
        },
        "outputId": "a9c31cea-560e-45a1-ef62-88e3ca6d73cb"
      },
      "execution_count": 33,
      "outputs": [
        {
          "output_type": "display_data",
          "data": {
            "text/plain": [
              "<Figure size 432x288 with 1 Axes>"
            ],
            "image/png": "[encoded data removed]"
          },
          "metadata": {
            "needs_background": "light"
          }
        }
      ],
      "id": "vFyQE7qsFBfC"
    },
    {
      "cell_type": "code",
      "source": [
        "plt.figure()\n",
        "plt.plot(history.history['accuracy'], lw=2.0, color='b', label='train')\n",
        "plt.plot(history.history['val_accuracy'], lw=2.0, color='r', label='val')\n",
        "plt.title('CNN-LSTM fastext')\n",
        "plt.xlabel('Epochs')\n",
        "plt.ylabel('Accuracy')\n",
        "plt.legend(loc='upper left')\n",
        "plt.show()"
      ],
      "metadata": {
        "id": "ui8lO5oPFBfJ",
        "colab": {
          "base_uri": "https://localhost:8080/",
          "height": 295
        },
        "outputId": "021af416-3c8a-4a1f-c788-a9443fec1761"
      },
      "execution_count": 34,
      "outputs": [
        {
          "output_type": "display_data",
          "data": {
            "text/plain": [
              "<Figure size 432x288 with 1 Axes>"
            ],
            "image/png": "[encoded data removed]"
          },
          "metadata": {
            "needs_background": "light"
          }
        }
      ],
      "id": "ui8lO5oPFBfJ"
    },
    {
      "cell_type": "code",
      "source": [
        "predictions = model_cnn_ft.predict(word_seq_test)\n",
        "list_ = []\n",
        "for i in range(len(predictions)):\n",
        "  a = predictions[i]\n",
        "  list_.append(np.where(a == a.max())[0][0] )\n",
        "\n",
        "\n",
        "sample= test_df\n",
        "sample['pred']= list_ \n",
        "sample[['pred', \"l\"]]"
      ],
      "metadata": {
        "id": "3kI512RUFBfJ",
        "colab": {
          "base_uri": "https://localhost:8080/",
          "height": 424
        },
        "outputId": "fbe17818-1993-44fc-de8e-afcd3bcf7341"
      },
      "execution_count": 35,
      "outputs": [
        {
          "output_type": "execute_result",
          "data": {
            "text/plain": [
              "       pred   l\n",
              "6113     22  22\n",
              "2453     23  23\n",
              "2442     49  49\n",
              "2859     66  47\n",
              "12994    69  69\n",
              "...     ...  ..\n",
              "7532     27  27\n",
              "3434     57  15\n",
              "694      17  17\n",
              "5168     68  68\n",
              "11308    37  37\n",
              "\n",
              "[2662 rows x 2 columns]"
            ],
            "text/html": [
              "\n",
              "  <div id=\"df-245b4bfc-5735-4a21-ae99-700c72942e9e\">\n",
              "    <div class=\"colab-df-container\">\n",
              "      <div>\n",
              "<style scoped>\n",
              "    .dataframe tbody tr th:only-of-type {\n",
              "        vertical-align: middle;\n",
              "    }\n",
              "\n",
              "    .dataframe tbody tr th {\n",
              "        vertical-align: top;\n",
              "    }\n",
              "\n",
              "    .dataframe thead th {\n",
              "        text-align: right;\n",
              "    }\n",
              "</style>\n",
              "<table border=\"1\" class=\"dataframe\">\n",
              "  <thead>\n",
              "    <tr style=\"text-align: right;\">\n",
              "      <th></th>\n",
              "      <th>pred</th>\n",
              "      <th>l</th>\n",
              "    </tr>\n",
              "  </thead>\n",
              "  <tbody>\n",
              "    <tr>\n",
              "      <th>6113</th>\n",
              "      <td>22</td>\n",
              "      <td>22</td>\n",
              "    </tr>\n",
              "    <tr>\n",
              "      <th>2453</th>\n",
              "      <td>23</td>\n",
              "      <td>23</td>\n",
              "    </tr>\n",
              "    <tr>\n",
              "      <th>2442</th>\n",
              "      <td>49</td>\n",
              "      <td>49</td>\n",
              "    </tr>\n",
              "    <tr>\n",
              "      <th>2859</th>\n",
              "      <td>66</td>\n",
              "      <td>47</td>\n",
              "    </tr>\n",
              "    <tr>\n",
              "      <th>12994</th>\n",
              "      <td>69</td>\n",
              "      <td>69</td>\n",
              "    </tr>\n",
              "    <tr>\n",
              "      <th>...</th>\n",
              "      <td>...</td>\n",
              "      <td>...</td>\n",
              "    </tr>\n",
              "    <tr>\n",
              "      <th>7532</th>\n",
              "      <td>27</td>\n",
              "      <td>27</td>\n",
              "    </tr>\n",
              "    <tr>\n",
              "      <th>3434</th>\n",
              "      <td>57</td>\n",
              "      <td>15</td>\n",
              "    </tr>\n",
              "    <tr>\n",
              "      <th>694</th>\n",
              "      <td>17</td>\n",
              "      <td>17</td>\n",
              "    </tr>\n",
              "    <tr>\n",
              "      <th>5168</th>\n",
              "      <td>68</td>\n",
              "      <td>68</td>\n",
              "    </tr>\n",
              "    <tr>\n",
              "      <th>11308</th>\n",
              "      <td>37</td>\n",
              "      <td>37</td>\n",
              "    </tr>\n",
              "  </tbody>\n",
              "</table>\n",
              "<p>2662 rows × 2 columns</p>\n",
              "</div>\n",
              "      <button class=\"colab-df-convert\" onclick=\"convertToInteractive('df-245b4bfc-5735-4a21-ae99-700c72942e9e')\"\n",
              "              title=\"Convert this dataframe to an interactive table.\"\n",
              "              style=\"display:none;\">\n",
              "        \n",
              "  <svg xmlns=\"http://www.w3.org/2000/svg\" height=\"24px\"viewBox=\"0 0 24 24\"\n",
              "       width=\"24px\">\n",
              "    <path d=\"M0 0h24v24H0V0z\" fill=\"none\"/>\n",
              "    <path d=\"M18.56 5.44l.94 2.06.94-2.06 2.06-.94-2.06-.94-.94-2.06-.94 2.06-2.06.94zm-11 1L8.5 8.5l.94-2.06 2.06-.94-2.06-.94L8.5 2.5l-.94 2.06-2.06.94zm10 10l.94 2.06.94-2.06 2.06-.94-2.06-.94-.94-2.06-.94 2.06-2.06.94z\"/><path d=\"M17.41 7.96l-1.37-1.37c-.4-.4-.92-.59-1.43-.59-.52 0-1.04.2-1.43.59L10.3 9.45l-7.72 7.72c-.78.78-.78 2.05 0 2.83L4 21.41c.39.39.9.59 1.41.59.51 0 1.02-.2 1.41-.59l7.78-7.78 2.81-2.81c.8-.78.8-2.07 0-2.86zM5.41 20L4 18.59l7.72-7.72 1.47 1.35L5.41 20z\"/>\n",
              "  </svg>\n",
              "      </button>\n",
              "      \n",
              "  <style>\n",
              "    .colab-df-container {\n",
              "      display:flex;\n",
              "      flex-wrap:wrap;\n",
              "      gap: 12px;\n",
              "    }\n",
              "\n",
              "    .colab-df-convert {\n",
              "      background-color: #E8F0FE;\n",
              "      border: none;\n",
              "      border-radius: 50%;\n",
              "      cursor: pointer;\n",
              "      display: none;\n",
              "      fill: #1967D2;\n",
              "      height: 32px;\n",
              "      padding: 0 0 0 0;\n",
              "      width: 32px;\n",
              "    }\n",
              "\n",
              "    .colab-df-convert:hover {\n",
              "      background-color: #E2EBFA;\n",
              "      box-shadow: 0px 1px 2px rgba(60, 64, 67, 0.3), 0px 1px 3px 1px rgba(60, 64, 67, 0.15);\n",
              "      fill: #174EA6;\n",
              "    }\n",
              "\n",
              "    [theme=dark] .colab-df-convert {\n",
              "      background-color: #3B4455;\n",
              "      fill: #D2E3FC;\n",
              "    }\n",
              "\n",
              "    [theme=dark] .colab-df-convert:hover {\n",
              "      background-color: #434B5C;\n",
              "      box-shadow: 0px 1px 3px 1px rgba(0, 0, 0, 0.15);\n",
              "      filter: drop-shadow(0px 1px 2px rgba(0, 0, 0, 0.3));\n",
              "      fill: #FFFFFF;\n",
              "    }\n",
              "  </style>\n",
              "\n",
              "      <script>\n",
              "        const buttonEl =\n",
              "          document.querySelector('#df-245b4bfc-5735-4a21-ae99-700c72942e9e button.colab-df-convert');\n",
              "        buttonEl.style.display =\n",
              "          google.colab.kernel.accessAllowed ? 'block' : 'none';\n",
              "\n",
              "        async function convertToInteractive(key) {\n",
              "          const element = document.querySelector('#df-245b4bfc-5735-4a21-ae99-700c72942e9e');\n",
              "          const dataTable =\n",
              "            await google.colab.kernel.invokeFunction('convertToInteractive',\n",
              "                                                     [key], {});\n",
              "          if (!dataTable) return;\n",
              "\n",
              "          const docLinkHtml = 'Like what you see? Visit the ' +\n",
              "            '<a target=\"_blank\" href=https://colab.research.google.com/notebooks/data_table.ipynb>data table notebook</a>'\n",
              "            + ' to learn more about interactive tables.';\n",
              "          element.innerHTML = '';\n",
              "          dataTable['output_type'] = 'display_data';\n",
              "          await google.colab.output.renderOutput(dataTable, element);\n",
              "          const docLink = document.createElement('div');\n",
              "          docLink.innerHTML = docLinkHtml;\n",
              "          element.appendChild(docLink);\n",
              "        }\n",
              "      </script>\n",
              "    </div>\n",
              "  </div>\n",
              "  "
            ]
          },
          "metadata": {},
          "execution_count": 35
        }
      ],
      "id": "3kI512RUFBfJ"
    },
    {
      "cell_type": "code",
      "source": [
        "import sklearn\n",
        "\n",
        "print(\"Accuracy With fastText CNN-LSTM :\")\n",
        "print(sklearn.metrics.accuracy_score(sample.l, sample.pred))"
      ],
      "metadata": {
        "id": "NELdwog4FBfK",
        "colab": {
          "base_uri": "https://localhost:8080/"
        },
        "outputId": "13537859-4f5b-41c3-88b9-f6aed09e10e9"
      },
      "execution_count": 36,
      "outputs": [
        {
          "output_type": "stream",
          "name": "stdout",
          "text": [
            "Accuracy With fastText CNN-LSTM :\n",
            "0.816679188580015\n"
          ]
        }
      ],
      "id": "NELdwog4FBfK"
    },
    {
      "cell_type": "code",
      "source": [
        ""
      ],
      "metadata": {
        "id": "gPchjcqpaL9z"
      },
      "id": "gPchjcqpaL9z",
      "execution_count": 36,
      "outputs": []
    },
    {
      "cell_type": "code",
      "source": [
        ""
      ],
      "metadata": {
        "id": "bMSoKmfPaL7D"
      },
      "id": "bMSoKmfPaL7D",
      "execution_count": 36,
      "outputs": []
    },
    {
      "cell_type": "code",
      "source": [
        ""
      ],
      "metadata": {
        "id": "yvE2X462aL4C"
      },
      "id": "yvE2X462aL4C",
      "execution_count": 36,
      "outputs": []
    }
  ],
  "metadata": {
    "accelerator": "GPU",
    "colab": {
      "name": "Augmented_data_TRAD_fast_text  .ipynb",
      "provenance": [],
      "collapsed_sections": []
    },
    "kernelspec": {
      "display_name": "Python 3 (ipykernel)",
      "language": "python",
      "name": "python3"
    },
    "language_info": {
      "codemirror_mode": {
        "name": "ipython",
        "version": 3
      },
      "file_extension": ".py",
      "mimetype": "text/x-python",
      "name": "python",
      "nbconvert_exporter": "python",
      "pygments_lexer": "ipython3",
      "version": "3.8.10"
    }
  },
  "nbformat": 4,
  "nbformat_minor": 5
}