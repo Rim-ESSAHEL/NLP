{
  "cells": [
    {
      "cell_type": "code",
      "execution_count": 1,
      "metadata": {
        "id": "b4f75dd6-e70f-4a56-82a8-377b93a08a25"
      },
      "outputs": [],
      "source": [
        "# For array, dataset, and visualizing\n",
        "import numpy as np\n",
        "import pandas as pd\n",
        "import seaborn as sns\n",
        "import matplotlib.pyplot as plt\n",
        "from sklearn.model_selection import train_test_split\n",
        "\n",
        "sns.set_style(\"whitegrid\")\n",
        "np.random.seed(0)"
      ],
      "id": "b4f75dd6-e70f-4a56-82a8-377b93a08a25"
    },
    {
      "cell_type": "code",
      "execution_count": 2,
      "metadata": {
        "colab": {
          "base_uri": "https://localhost:8080/",
          "height": 206
        },
        "id": "93fca529-297c-4a2f-b076-d66115b24a21",
        "outputId": "a192dcf1-0bff-48da-96a2-de37e761bfdc"
      },
      "outputs": [
        {
          "output_type": "execute_result",
          "data": {
            "text/plain": [
              "                                                   t   l\n",
              "0                     I am still waiting on my card?  11\n",
              "1  What can I do if my card still hasn't arrived ...  11\n",
              "2  I have been waiting over a week. Is the card s...  11\n",
              "3  Can I track my card while it is in the process...  11\n",
              "4  How do I know if I will get my card, or if it ...  11"
            ],
            "text/html": [
              "\n",
              "  <div id=\"df-e23462fa-3c6b-4c21-9321-4a5fea2fae49\">\n",
              "    <div class=\"colab-df-container\">\n",
              "      <div>\n",
              "<style scoped>\n",
              "    .dataframe tbody tr th:only-of-type {\n",
              "        vertical-align: middle;\n",
              "    }\n",
              "\n",
              "    .dataframe tbody tr th {\n",
              "        vertical-align: top;\n",
              "    }\n",
              "\n",
              "    .dataframe thead th {\n",
              "        text-align: right;\n",
              "    }\n",
              "</style>\n",
              "<table border=\"1\" class=\"dataframe\">\n",
              "  <thead>\n",
              "    <tr style=\"text-align: right;\">\n",
              "      <th></th>\n",
              "      <th>t</th>\n",
              "      <th>l</th>\n",
              "    </tr>\n",
              "  </thead>\n",
              "  <tbody>\n",
              "    <tr>\n",
              "      <th>0</th>\n",
              "      <td>I am still waiting on my card?</td>\n",
              "      <td>11</td>\n",
              "    </tr>\n",
              "    <tr>\n",
              "      <th>1</th>\n",
              "      <td>What can I do if my card still hasn't arrived ...</td>\n",
              "      <td>11</td>\n",
              "    </tr>\n",
              "    <tr>\n",
              "      <th>2</th>\n",
              "      <td>I have been waiting over a week. Is the card s...</td>\n",
              "      <td>11</td>\n",
              "    </tr>\n",
              "    <tr>\n",
              "      <th>3</th>\n",
              "      <td>Can I track my card while it is in the process...</td>\n",
              "      <td>11</td>\n",
              "    </tr>\n",
              "    <tr>\n",
              "      <th>4</th>\n",
              "      <td>How do I know if I will get my card, or if it ...</td>\n",
              "      <td>11</td>\n",
              "    </tr>\n",
              "  </tbody>\n",
              "</table>\n",
              "</div>\n",
              "      <button class=\"colab-df-convert\" onclick=\"convertToInteractive('df-e23462fa-3c6b-4c21-9321-4a5fea2fae49')\"\n",
              "              title=\"Convert this dataframe to an interactive table.\"\n",
              "              style=\"display:none;\">\n",
              "        \n",
              "  <svg xmlns=\"http://www.w3.org/2000/svg\" height=\"24px\"viewBox=\"0 0 24 24\"\n",
              "       width=\"24px\">\n",
              "    <path d=\"M0 0h24v24H0V0z\" fill=\"none\"/>\n",
              "    <path d=\"M18.56 5.44l.94 2.06.94-2.06 2.06-.94-2.06-.94-.94-2.06-.94 2.06-2.06.94zm-11 1L8.5 8.5l.94-2.06 2.06-.94-2.06-.94L8.5 2.5l-.94 2.06-2.06.94zm10 10l.94 2.06.94-2.06 2.06-.94-2.06-.94-.94-2.06-.94 2.06-2.06.94z\"/><path d=\"M17.41 7.96l-1.37-1.37c-.4-.4-.92-.59-1.43-.59-.52 0-1.04.2-1.43.59L10.3 9.45l-7.72 7.72c-.78.78-.78 2.05 0 2.83L4 21.41c.39.39.9.59 1.41.59.51 0 1.02-.2 1.41-.59l7.78-7.78 2.81-2.81c.8-.78.8-2.07 0-2.86zM5.41 20L4 18.59l7.72-7.72 1.47 1.35L5.41 20z\"/>\n",
              "  </svg>\n",
              "      </button>\n",
              "      \n",
              "  <style>\n",
              "    .colab-df-container {\n",
              "      display:flex;\n",
              "      flex-wrap:wrap;\n",
              "      gap: 12px;\n",
              "    }\n",
              "\n",
              "    .colab-df-convert {\n",
              "      background-color: #E8F0FE;\n",
              "      border: none;\n",
              "      border-radius: 50%;\n",
              "      cursor: pointer;\n",
              "      display: none;\n",
              "      fill: #1967D2;\n",
              "      height: 32px;\n",
              "      padding: 0 0 0 0;\n",
              "      width: 32px;\n",
              "    }\n",
              "\n",
              "    .colab-df-convert:hover {\n",
              "      background-color: #E2EBFA;\n",
              "      box-shadow: 0px 1px 2px rgba(60, 64, 67, 0.3), 0px 1px 3px 1px rgba(60, 64, 67, 0.15);\n",
              "      fill: #174EA6;\n",
              "    }\n",
              "\n",
              "    [theme=dark] .colab-df-convert {\n",
              "      background-color: #3B4455;\n",
              "      fill: #D2E3FC;\n",
              "    }\n",
              "\n",
              "    [theme=dark] .colab-df-convert:hover {\n",
              "      background-color: #434B5C;\n",
              "      box-shadow: 0px 1px 3px 1px rgba(0, 0, 0, 0.15);\n",
              "      filter: drop-shadow(0px 1px 2px rgba(0, 0, 0, 0.3));\n",
              "      fill: #FFFFFF;\n",
              "    }\n",
              "  </style>\n",
              "\n",
              "      <script>\n",
              "        const buttonEl =\n",
              "          document.querySelector('#df-e23462fa-3c6b-4c21-9321-4a5fea2fae49 button.colab-df-convert');\n",
              "        buttonEl.style.display =\n",
              "          google.colab.kernel.accessAllowed ? 'block' : 'none';\n",
              "\n",
              "        async function convertToInteractive(key) {\n",
              "          const element = document.querySelector('#df-e23462fa-3c6b-4c21-9321-4a5fea2fae49');\n",
              "          const dataTable =\n",
              "            await google.colab.kernel.invokeFunction('convertToInteractive',\n",
              "                                                     [key], {});\n",
              "          if (!dataTable) return;\n",
              "\n",
              "          const docLinkHtml = 'Like what you see? Visit the ' +\n",
              "            '<a target=\"_blank\" href=https://colab.research.google.com/notebooks/data_table.ipynb>data table notebook</a>'\n",
              "            + ' to learn more about interactive tables.';\n",
              "          element.innerHTML = '';\n",
              "          dataTable['output_type'] = 'display_data';\n",
              "          await google.colab.output.renderOutput(dataTable, element);\n",
              "          const docLink = document.createElement('div');\n",
              "          docLink.innerHTML = docLinkHtml;\n",
              "          element.appendChild(docLink);\n",
              "        }\n",
              "      </script>\n",
              "    </div>\n",
              "  </div>\n",
              "  "
            ]
          },
          "metadata": {},
          "execution_count": 2
        }
      ],
      "source": [
        "df = pd.read_csv('test_data.csv')\n",
        "df.head()"
      ],
      "id": "93fca529-297c-4a2f-b076-d66115b24a21"
    },
    {
      "cell_type": "code",
      "source": [
        "train_df, test_df = train_test_split(df, test_size=0.2, random_state=42, shuffle=True)"
      ],
      "metadata": {
        "id": "4CMZn4_b045c"
      },
      "id": "4CMZn4_b045c",
      "execution_count": 3,
      "outputs": []
    },
    {
      "cell_type": "code",
      "source": [
        "#For Pre-Processing\n",
        "from tqdm import tqdm\n",
        "import nltk\n",
        "from nltk.corpus import stopwords\n",
        "nltk.download('stopwords')\n",
        "nltk.download('punkt')\n",
        "from nltk.tokenize import RegexpTokenizer \n",
        "from nltk.tokenize import word_tokenize\n",
        "import codecs\n"
      ],
      "metadata": {
        "colab": {
          "base_uri": "https://localhost:8080/"
        },
        "id": "5aX1GsKqCRmx",
        "outputId": "f59696a9-6d22-438f-da1b-60a05cd8a17f"
      },
      "id": "5aX1GsKqCRmx",
      "execution_count": 4,
      "outputs": [
        {
          "output_type": "stream",
          "name": "stdout",
          "text": [
            "[nltk_data] Downloading package stopwords to /root/nltk_data...\n",
            "[nltk_data]   Package stopwords is already up-to-date!\n",
            "[nltk_data] Downloading package punkt to /root/nltk_data...\n",
            "[nltk_data]   Package punkt is already up-to-date!\n"
          ]
        }
      ]
    },
    {
      "cell_type": "code",
      "source": [
        "MAX_NB_WORDS = 100000\n",
        "tokenizer = RegexpTokenizer(r'\\w+')\n",
        "stop_words = set(stopwords.words('english'))\n",
        "stop_words.update(['.', ',', '\"', \"'\", ':', ';', '(', ')', '[', ']', '{', '}'])"
      ],
      "metadata": {
        "id": "2eC_VZbY0Stg"
      },
      "id": "2eC_VZbY0Stg",
      "execution_count": 5,
      "outputs": []
    },
    {
      "cell_type": "code",
      "source": [
        "label_names = [\"l\"]\n",
        "y_train = train_df[label_names].values\n",
        "train_df['doc_len'] = train_df['t'].apply(lambda words: len(words.split(\" \")))\n",
        "max_seq_len = np.round(train_df['doc_len'].mean() + train_df['doc_len'].std()).astype(int)\n"
      ],
      "metadata": {
        "id": "gFtF8ITB_Ure"
      },
      "id": "gFtF8ITB_Ure",
      "execution_count": 6,
      "outputs": []
    },
    {
      "cell_type": "code",
      "source": [
        "from sklearn.utils import shuffle \n",
        "from keras.preprocessing.text import Tokenizer\n",
        "from keras.preprocessing import sequence\n",
        "\n",
        "raw_docs_train = train_df['t'].tolist()\n",
        "raw_docs_test = test_df['t'].tolist() \n",
        "num_classes = len(label_names)\n",
        "\n",
        "print(\"pre-processing train data...\")\n",
        "\n",
        "processed_docs_train = []\n",
        "for doc in tqdm(raw_docs_train):\n",
        "    tokens = word_tokenize(doc)\n",
        "    filtered = [word for word in tokens if word not in stop_words]\n",
        "    processed_docs_train.append(\" \".join(filtered))\n",
        "#end for\n",
        "\n",
        "processed_docs_test = []\n",
        "for doc in tqdm(raw_docs_test):\n",
        "    tokens = word_tokenize(doc)\n",
        "    filtered = [word for word in tokens if word not in stop_words]\n",
        "    processed_docs_test.append(\" \".join(filtered))\n",
        "#end for\n",
        "\n",
        "print(\"tokenizing input data...\")\n",
        "tokenizer = Tokenizer(num_words=MAX_NB_WORDS, lower=True, char_level=False)\n",
        "tokenizer.fit_on_texts(processed_docs_train + processed_docs_test)  #leaky\n",
        "word_seq_train = tokenizer.texts_to_sequences(processed_docs_train)\n",
        "word_seq_test = tokenizer.texts_to_sequences(processed_docs_test)\n",
        "word_index = tokenizer.word_index\n",
        "print(\"dictionary size: \", len(word_index))\n",
        "\n",
        "#pad sequences\n",
        "word_seq_train = sequence.pad_sequences(word_seq_train, maxlen=max_seq_len)\n",
        "word_seq_test = sequence.pad_sequences(word_seq_test, maxlen=max_seq_len)"
      ],
      "metadata": {
        "colab": {
          "base_uri": "https://localhost:8080/"
        },
        "id": "r82QiMhB0yUG",
        "outputId": "d031fadc-64e4-4870-8e29-c8db9e7f37e3"
      },
      "id": "r82QiMhB0yUG",
      "execution_count": 7,
      "outputs": [
        {
          "output_type": "stream",
          "name": "stdout",
          "text": [
            "pre-processing train data...\n"
          ]
        },
        {
          "output_type": "stream",
          "name": "stderr",
          "text": [
            "100%|██████████| 8002/8002 [00:01<00:00, 7996.35it/s]\n",
            "100%|██████████| 2001/2001 [00:00<00:00, 8057.41it/s]\n"
          ]
        },
        {
          "output_type": "stream",
          "name": "stdout",
          "text": [
            "tokenizing input data...\n",
            "dictionary size:  2306\n"
          ]
        }
      ]
    },
    {
      "cell_type": "markdown",
      "metadata": {
        "id": "1e47c7ca-3646-418f-ac17-a0c416799473"
      },
      "source": [
        "## Fastext\n"
      ],
      "id": "1e47c7ca-3646-418f-ac17-a0c416799473"
    },
    {
      "cell_type": "code",
      "execution_count": null,
      "metadata": {
        "id": "30579846-fcf5-4976-a39f-3a44253c0735"
      },
      "outputs": [],
      "source": [
        "import requests, zipfile, io\n",
        "zip_file_url = \"https://dl.fbaipublicfiles.com/fasttext/vectors-english/crawl-300d-2M.vec.zip\"\n",
        "r = requests.get(zip_file_url)\n",
        "z = zipfile.ZipFile(io.BytesIO(r.content))\n",
        "z.extractall()"
      ],
      "id": "30579846-fcf5-4976-a39f-3a44253c0735"
    },
    {
      "cell_type": "code",
      "execution_count": 20,
      "metadata": {
        "id": "1dd85cdc-e7e9-4f7c-84a1-55f253e0b72a",
        "colab": {
          "base_uri": "https://localhost:8080/"
        },
        "outputId": "8a22f45f-b80b-46a8-9c3c-1c0af261a891"
      },
      "outputs": [
        {
          "output_type": "stream",
          "name": "stderr",
          "text": [
            "1999996it [02:27, 13581.75it/s]"
          ]
        },
        {
          "output_type": "stream",
          "name": "stdout",
          "text": [
            "found 1999996 word vectors\n"
          ]
        },
        {
          "output_type": "stream",
          "name": "stderr",
          "text": [
            "\n"
          ]
        }
      ],
      "source": [
        "embeddings_index = {}\n",
        "f = codecs.open('crawl-300d-2M.vec', encoding='utf-8')\n",
        "\n",
        "for line in tqdm(f):\n",
        "    values = line.rstrip().rsplit(' ')\n",
        "    word = values[0]\n",
        "    coefs = np.asarray(values[1:], dtype='float32')\n",
        "    embeddings_index[word] = coefs\n",
        "f.close()\n",
        "\n",
        "print('found %s word vectors' % len(embeddings_index))"
      ],
      "id": "1dd85cdc-e7e9-4f7c-84a1-55f253e0b72a"
    },
    {
      "cell_type": "markdown",
      "source": [
        "### LSTM"
      ],
      "metadata": {
        "id": "ChUrnQDkKHW6"
      },
      "id": "ChUrnQDkKHW6"
    },
    {
      "cell_type": "code",
      "execution_count": 21,
      "metadata": {
        "id": "73b717dc-41cd-4bb0-b1cd-07006e7f392b"
      },
      "outputs": [],
      "source": [
        "# For Training\n",
        "import keras\n",
        "from keras import optimizers\n",
        "from keras import backend as K\n",
        "from keras import regularizers\n",
        "from keras.models import Sequential\n",
        "from keras.layers import Dense, Activation, Dropout, Flatten\n",
        "from keras.layers import Embedding, Conv1D, MaxPooling1D, GlobalMaxPooling1D\n",
        "from tensorflow.keras.layers import Embedding, LSTM, Dense, Dropout, Bidirectional\n",
        "# from keras.utils import plot_model\n",
        "from keras.preprocessing import sequence\n",
        "from keras.callbacks import EarlyStopping\n",
        "\n",
        "#training params\n",
        "batch_size = 256 \n",
        "num_epochs = 40\n",
        "\n",
        "#model parameters\n",
        "num_filters = 64 \n",
        "embed_dim = 300 \n",
        "weight_decay = 1e-4"
      ],
      "id": "73b717dc-41cd-4bb0-b1cd-07006e7f392b"
    },
    {
      "cell_type": "code",
      "source": [
        "#embedding matrix\n",
        "\n",
        "words_not_found = []\n",
        "nb_words = min(MAX_NB_WORDS, len(word_index)+1)\n",
        "embedding_matrix = np.zeros((nb_words, embed_dim))\n",
        "\n",
        "for word, i in word_index.items():\n",
        "    if i >= nb_words:\n",
        "        continue\n",
        "    embedding_vector = embeddings_index.get(word)\n",
        "    if (embedding_vector is not None) and len(embedding_vector) > 0:\n",
        "        # words not found in embedding index will be all-zeros.\n",
        "        embedding_matrix[i] = embedding_vector\n",
        "    else:\n",
        "        words_not_found.append(word)\n",
        "print('number of null word embeddings: %d' % np.sum(np.sum(embedding_matrix, axis=1) == 0))"
      ],
      "metadata": {
        "colab": {
          "base_uri": "https://localhost:8080/"
        },
        "id": "yIM2xquvKNop",
        "outputId": "6f03b4be-1533-4adf-b2dc-c85b1b0c06df"
      },
      "id": "yIM2xquvKNop",
      "execution_count": 22,
      "outputs": [
        {
          "output_type": "stream",
          "name": "stdout",
          "text": [
            "number of null word embeddings: 47\n"
          ]
        }
      ]
    },
    {
      "cell_type": "code",
      "source": [
        "print(\"sample words not found: \", np.random.choice(words_not_found, 10))"
      ],
      "metadata": {
        "colab": {
          "base_uri": "https://localhost:8080/"
        },
        "id": "CP8dEIa2Lze7",
        "outputId": "08686494-3df2-4e00-ac5b-dc52cf8fb08d"
      },
      "id": "CP8dEIa2Lze7",
      "execution_count": 23,
      "outputs": [
        {
          "output_type": "stream",
          "name": "stdout",
          "text": [
            "sample words not found:  ['currecy' \"n't\" '1£' '1£' 'stillpending' 'redeposied' \"'pending\"\n",
            " 'tranasaction' 'moeney' '€10']\n"
          ]
        }
      ]
    },
    {
      "cell_type": "code",
      "source": [
        "from keras.layers import BatchNormalization\n",
        "import tensorflow as tf\n",
        "\n",
        "def create_lstm_model():\n",
        "  model_lstm = tf.keras.Sequential()\n",
        "  model_lstm.add(Embedding(nb_words,embed_dim,input_length=max_seq_len, weights=[embedding_matrix],trainable=False))\n",
        "  # model.add(SpatialDropout1D(0.7))\n",
        "  model_lstm.add(Bidirectional(LSTM(128, dropout=0.7, recurrent_dropout=0.7)))\n",
        "  model_lstm.add(Dense(128,activation='relu'))\n",
        "  model_lstm.add(Dense(77, activation='softmax'))\n",
        "  model_lstm.compile(optimizer='adam', loss='categorical_crossentropy', metrics=['acc'])\n",
        "  return model_lstm\n"
      ],
      "metadata": {
        "id": "ZtolbY13L4OL"
      },
      "id": "ZtolbY13L4OL",
      "execution_count": 24,
      "outputs": []
    },
    {
      "cell_type": "code",
      "source": [
        "model_lstm_ft = create_lstm_model()\n",
        "model_lstm_ft.summary()"
      ],
      "metadata": {
        "colab": {
          "base_uri": "https://localhost:8080/"
        },
        "id": "qFADxS1lF3oZ",
        "outputId": "8327e02b-f44d-4e8a-e0c6-e864abc86f13"
      },
      "id": "qFADxS1lF3oZ",
      "execution_count": 25,
      "outputs": [
        {
          "output_type": "stream",
          "name": "stdout",
          "text": [
            "WARNING:tensorflow:Layer lstm will not use cuDNN kernels since it doesn't meet the criteria. It will use a generic GPU kernel as fallback when running on GPU.\n",
            "WARNING:tensorflow:Layer lstm will not use cuDNN kernels since it doesn't meet the criteria. It will use a generic GPU kernel as fallback when running on GPU.\n",
            "WARNING:tensorflow:Layer lstm will not use cuDNN kernels since it doesn't meet the criteria. It will use a generic GPU kernel as fallback when running on GPU.\n",
            "Model: \"sequential_1\"\n",
            "_________________________________________________________________\n",
            " Layer (type)                Output Shape              Param #   \n",
            "=================================================================\n",
            " embedding_1 (Embedding)     (None, 20, 300)           692100    \n",
            "                                                                 \n",
            " bidirectional (Bidirectiona  (None, 256)              439296    \n",
            " l)                                                              \n",
            "                                                                 \n",
            " dense_2 (Dense)             (None, 128)               32896     \n",
            "                                                                 \n",
            " dense_3 (Dense)             (None, 77)                9933      \n",
            "                                                                 \n",
            "=================================================================\n",
            "Total params: 1,174,225\n",
            "Trainable params: 482,125\n",
            "Non-trainable params: 692,100\n",
            "_________________________________________________________________\n"
          ]
        }
      ]
    },
    {
      "cell_type": "code",
      "source": [
        "# from keras.optimizers import RMSprop\n",
        "from keras.callbacks import ModelCheckpoint\n",
        "from tensorflow.keras.callbacks import EarlyStopping\n",
        "\n",
        "# model.compile(loss='binary_crossentropy', optimizer='adam', metrics=['accuracy'])\n",
        "model_lstm_ft.compile(optimizer='adam',loss = tf.keras.losses.SparseCategoricalCrossentropy(from_logits=True), metrics=['accuracy'])"
      ],
      "metadata": {
        "id": "V0RifwP7L64m"
      },
      "id": "V0RifwP7L64m",
      "execution_count": 26,
      "outputs": []
    },
    {
      "cell_type": "code",
      "source": [
        "es_callback = EarlyStopping(monitor='val_loss', patience=3)\n",
        "\n",
        "history = model_lstm_ft.fit(word_seq_train, y_train, batch_size=256, epochs=num_epochs, validation_split=0.3, callbacks=[es_callback], shuffle=False)\n",
        "\n"
      ],
      "metadata": {
        "colab": {
          "base_uri": "https://localhost:8080/"
        },
        "id": "mQNEAdSJMdTk",
        "outputId": "376cf175-c33f-4864-cd5a-698c26656062"
      },
      "id": "mQNEAdSJMdTk",
      "execution_count": 27,
      "outputs": [
        {
          "output_type": "stream",
          "name": "stdout",
          "text": [
            "Epoch 1/40\n"
          ]
        },
        {
          "output_type": "stream",
          "name": "stderr",
          "text": [
            "/usr/local/lib/python3.7/dist-packages/tensorflow/python/util/dispatch.py:1082: UserWarning: \"`sparse_categorical_crossentropy` received `from_logits=True`, but the `output` argument was produced by a sigmoid or softmax activation and thus does not represent logits. Was this intended?\"\n",
            "  return dispatch_target(*args, **kwargs)\n"
          ]
        },
        {
          "output_type": "stream",
          "name": "stdout",
          "text": [
            "22/22 [==============================] - 10s 193ms/step - loss: 4.2743 - accuracy: 0.0461 - val_loss: 4.1318 - val_accuracy: 0.0604\n",
            "Epoch 2/40\n",
            "22/22 [==============================] - 4s 180ms/step - loss: 3.8528 - accuracy: 0.1162 - val_loss: 3.2998 - val_accuracy: 0.2066\n",
            "Epoch 3/40\n",
            "22/22 [==============================] - 4s 179ms/step - loss: 2.9980 - accuracy: 0.2669 - val_loss: 2.2429 - val_accuracy: 0.4048\n",
            "Epoch 4/40\n",
            "22/22 [==============================] - 4s 172ms/step - loss: 2.2600 - accuracy: 0.4081 - val_loss: 1.6620 - val_accuracy: 0.5344\n",
            "Epoch 5/40\n",
            "22/22 [==============================] - 4s 180ms/step - loss: 1.8314 - accuracy: 0.4967 - val_loss: 1.3618 - val_accuracy: 0.6152\n",
            "Epoch 6/40\n",
            "22/22 [==============================] - 4s 176ms/step - loss: 1.5734 - accuracy: 0.5685 - val_loss: 1.1301 - val_accuracy: 0.6697\n",
            "Epoch 7/40\n",
            "22/22 [==============================] - 4s 185ms/step - loss: 1.3873 - accuracy: 0.6090 - val_loss: 0.9961 - val_accuracy: 0.7089\n",
            "Epoch 8/40\n",
            "22/22 [==============================] - 4s 172ms/step - loss: 1.2497 - accuracy: 0.6415 - val_loss: 0.9108 - val_accuracy: 0.7314\n",
            "Epoch 9/40\n",
            "22/22 [==============================] - 4s 176ms/step - loss: 1.1449 - accuracy: 0.6699 - val_loss: 0.8373 - val_accuracy: 0.7489\n",
            "Epoch 10/40\n",
            "22/22 [==============================] - 4s 175ms/step - loss: 1.0662 - accuracy: 0.6906 - val_loss: 0.8095 - val_accuracy: 0.7613\n",
            "Epoch 11/40\n",
            "22/22 [==============================] - 4s 177ms/step - loss: 0.9968 - accuracy: 0.7163 - val_loss: 0.7656 - val_accuracy: 0.7759\n",
            "Epoch 12/40\n",
            "22/22 [==============================] - 4s 172ms/step - loss: 0.9475 - accuracy: 0.7236 - val_loss: 0.7220 - val_accuracy: 0.7905\n",
            "Epoch 13/40\n",
            "22/22 [==============================] - 4s 174ms/step - loss: 0.8959 - accuracy: 0.7317 - val_loss: 0.7068 - val_accuracy: 0.7943\n",
            "Epoch 14/40\n",
            "22/22 [==============================] - 4s 173ms/step - loss: 0.8481 - accuracy: 0.7534 - val_loss: 0.6772 - val_accuracy: 0.8047\n",
            "Epoch 15/40\n",
            "22/22 [==============================] - 4s 180ms/step - loss: 0.8045 - accuracy: 0.7602 - val_loss: 0.6612 - val_accuracy: 0.8042\n",
            "Epoch 16/40\n",
            "22/22 [==============================] - 4s 171ms/step - loss: 0.7873 - accuracy: 0.7668 - val_loss: 0.6274 - val_accuracy: 0.8163\n",
            "Epoch 17/40\n",
            "22/22 [==============================] - 4s 175ms/step - loss: 0.7433 - accuracy: 0.7833 - val_loss: 0.6108 - val_accuracy: 0.8155\n",
            "Epoch 18/40\n",
            "22/22 [==============================] - 4s 176ms/step - loss: 0.7062 - accuracy: 0.7906 - val_loss: 0.5951 - val_accuracy: 0.8242\n",
            "Epoch 19/40\n",
            "22/22 [==============================] - 4s 186ms/step - loss: 0.6849 - accuracy: 0.7943 - val_loss: 0.5853 - val_accuracy: 0.8334\n",
            "Epoch 20/40\n",
            "22/22 [==============================] - 4s 182ms/step - loss: 0.6684 - accuracy: 0.8009 - val_loss: 0.5724 - val_accuracy: 0.8355\n",
            "Epoch 21/40\n",
            "22/22 [==============================] - 4s 173ms/step - loss: 0.6497 - accuracy: 0.8041 - val_loss: 0.5743 - val_accuracy: 0.8342\n",
            "Epoch 22/40\n",
            "22/22 [==============================] - 4s 182ms/step - loss: 0.6231 - accuracy: 0.8084 - val_loss: 0.5631 - val_accuracy: 0.8322\n",
            "Epoch 23/40\n",
            "22/22 [==============================] - 4s 174ms/step - loss: 0.5905 - accuracy: 0.8257 - val_loss: 0.5481 - val_accuracy: 0.8372\n",
            "Epoch 24/40\n",
            "22/22 [==============================] - 4s 173ms/step - loss: 0.5729 - accuracy: 0.8263 - val_loss: 0.5642 - val_accuracy: 0.8363\n",
            "Epoch 25/40\n",
            "22/22 [==============================] - 4s 171ms/step - loss: 0.5543 - accuracy: 0.8313 - val_loss: 0.5552 - val_accuracy: 0.8359\n",
            "Epoch 26/40\n",
            "22/22 [==============================] - 4s 173ms/step - loss: 0.5547 - accuracy: 0.8300 - val_loss: 0.5351 - val_accuracy: 0.8492\n",
            "Epoch 27/40\n",
            "22/22 [==============================] - 4s 186ms/step - loss: 0.5306 - accuracy: 0.8450 - val_loss: 0.5337 - val_accuracy: 0.8446\n",
            "Epoch 28/40\n",
            "22/22 [==============================] - 5s 218ms/step - loss: 0.5265 - accuracy: 0.8420 - val_loss: 0.5235 - val_accuracy: 0.8513\n",
            "Epoch 29/40\n",
            "22/22 [==============================] - 4s 170ms/step - loss: 0.5072 - accuracy: 0.8502 - val_loss: 0.5125 - val_accuracy: 0.8492\n",
            "Epoch 30/40\n",
            "22/22 [==============================] - 4s 177ms/step - loss: 0.4991 - accuracy: 0.8513 - val_loss: 0.5071 - val_accuracy: 0.8563\n",
            "Epoch 31/40\n",
            "22/22 [==============================] - 4s 181ms/step - loss: 0.4794 - accuracy: 0.8522 - val_loss: 0.5085 - val_accuracy: 0.8576\n",
            "Epoch 32/40\n",
            "22/22 [==============================] - 4s 180ms/step - loss: 0.4779 - accuracy: 0.8516 - val_loss: 0.5102 - val_accuracy: 0.8559\n",
            "Epoch 33/40\n",
            "22/22 [==============================] - 4s 175ms/step - loss: 0.4532 - accuracy: 0.8643 - val_loss: 0.4981 - val_accuracy: 0.8592\n",
            "Epoch 34/40\n",
            "22/22 [==============================] - 4s 185ms/step - loss: 0.4409 - accuracy: 0.8663 - val_loss: 0.5069 - val_accuracy: 0.8588\n",
            "Epoch 35/40\n",
            "22/22 [==============================] - 4s 178ms/step - loss: 0.4397 - accuracy: 0.8638 - val_loss: 0.4910 - val_accuracy: 0.8609\n",
            "Epoch 36/40\n",
            "22/22 [==============================] - 4s 176ms/step - loss: 0.4287 - accuracy: 0.8677 - val_loss: 0.4915 - val_accuracy: 0.8563\n",
            "Epoch 37/40\n",
            "22/22 [==============================] - 4s 175ms/step - loss: 0.4148 - accuracy: 0.8718 - val_loss: 0.4887 - val_accuracy: 0.8571\n",
            "Epoch 38/40\n",
            "22/22 [==============================] - 4s 169ms/step - loss: 0.4101 - accuracy: 0.8768 - val_loss: 0.4865 - val_accuracy: 0.8576\n",
            "Epoch 39/40\n",
            "22/22 [==============================] - 4s 175ms/step - loss: 0.3948 - accuracy: 0.8775 - val_loss: 0.4845 - val_accuracy: 0.8580\n",
            "Epoch 40/40\n",
            "22/22 [==============================] - 4s 182ms/step - loss: 0.4028 - accuracy: 0.8732 - val_loss: 0.4695 - val_accuracy: 0.8655\n"
          ]
        }
      ]
    },
    {
      "cell_type": "code",
      "source": [
        "#generate plots\n",
        "plt.figure()\n",
        "plt.plot(history.history['loss'], lw=2.0, color='b', label='train')\n",
        "plt.plot(history.history['val_loss'], lw=2.0, color='r', label='val')\n",
        "plt.title('LSTM fastext')\n",
        "plt.xlabel('Epochs')\n",
        "plt.ylabel('Cross-Entropy Loss')\n",
        "plt.legend(loc='upper right')\n",
        "plt.show()"
      ],
      "metadata": {
        "id": "DdQSuruk0zi1",
        "colab": {
          "base_uri": "https://localhost:8080/",
          "height": 295
        },
        "outputId": "42e35c91-8eee-4766-8053-b44239131a45"
      },
      "id": "DdQSuruk0zi1",
      "execution_count": 28,
      "outputs": [
        {
          "output_type": "display_data",
          "data": {
            "text/plain": [
              "<Figure size 432x288 with 1 Axes>"
            ],
            "image/png": "[encoded data removed]"
          },
          "metadata": {
            "needs_background": "light"
          }
        }
      ]
    },
    {
      "cell_type": "code",
      "source": [
        "plt.figure()\n",
        "plt.plot(history.history['accuracy'], lw=2.0, color='b', label='train')\n",
        "plt.plot(history.history['val_accuracy'], lw=2.0, color='r', label='val')\n",
        "plt.title('LSTM fastext')\n",
        "plt.xlabel('Epochs')\n",
        "plt.ylabel('Accuracy')\n",
        "plt.legend(loc='upper left')\n",
        "plt.show()"
      ],
      "metadata": {
        "id": "waKgrUf702au",
        "colab": {
          "base_uri": "https://localhost:8080/",
          "height": 295
        },
        "outputId": "474ef3e7-131a-47ef-981c-28a310dae9e9"
      },
      "id": "waKgrUf702au",
      "execution_count": 29,
      "outputs": [
        {
          "output_type": "display_data",
          "data": {
            "text/plain": [
              "<Figure size 432x288 with 1 Axes>"
            ],
            "image/png": "[encoded data removed]"
          },
          "metadata": {
            "needs_background": "light"
          }
        }
      ]
    },
    {
      "cell_type": "code",
      "source": [
        ""
      ],
      "metadata": {
        "id": "2cCHXeePOlBv"
      },
      "id": "2cCHXeePOlBv",
      "execution_count": 29,
      "outputs": []
    },
    {
      "cell_type": "code",
      "source": [
        "predictions = model_lstm_ft.predict(word_seq_test)\n",
        "list_ = []\n",
        "for i in range(len(predictions)):\n",
        "  a = predictions[i]\n",
        "  list_.append(np.where(a == a.max())[0][0] )\n",
        "\n",
        "\n",
        "sample= test_df\n",
        "sample['pred']= list_ \n",
        "sample[['pred', \"l\"]]"
      ],
      "metadata": {
        "id": "TU7FFMVx02Xy",
        "colab": {
          "base_uri": "https://localhost:8080/",
          "height": 424
        },
        "outputId": "1a01b5b2-6788-4a9e-9a82-884062a497ec"
      },
      "id": "TU7FFMVx02Xy",
      "execution_count": 30,
      "outputs": [
        {
          "output_type": "execute_result",
          "data": {
            "text/plain": [
              "      pred   l\n",
              "6883    21  21\n",
              "5836    14  25\n",
              "8601    59  59\n",
              "2545    15  15\n",
              "8697     5   5\n",
              "...    ...  ..\n",
              "2769    66  66\n",
              "5065    26  26\n",
              "8287    17  76\n",
              "7986    58  58\n",
              "1095    12  12\n",
              "\n",
              "[2001 rows x 2 columns]"
            ],
            "text/html": [
              "\n",
              "  <div id=\"df-c1555e99-7365-42b9-8d83-06b0d988f440\">\n",
              "    <div class=\"colab-df-container\">\n",
              "      <div>\n",
              "<style scoped>\n",
              "    .dataframe tbody tr th:only-of-type {\n",
              "        vertical-align: middle;\n",
              "    }\n",
              "\n",
              "    .dataframe tbody tr th {\n",
              "        vertical-align: top;\n",
              "    }\n",
              "\n",
              "    .dataframe thead th {\n",
              "        text-align: right;\n",
              "    }\n",
              "</style>\n",
              "<table border=\"1\" class=\"dataframe\">\n",
              "  <thead>\n",
              "    <tr style=\"text-align: right;\">\n",
              "      <th></th>\n",
              "      <th>pred</th>\n",
              "      <th>l</th>\n",
              "    </tr>\n",
              "  </thead>\n",
              "  <tbody>\n",
              "    <tr>\n",
              "      <th>6883</th>\n",
              "      <td>21</td>\n",
              "      <td>21</td>\n",
              "    </tr>\n",
              "    <tr>\n",
              "      <th>5836</th>\n",
              "      <td>14</td>\n",
              "      <td>25</td>\n",
              "    </tr>\n",
              "    <tr>\n",
              "      <th>8601</th>\n",
              "      <td>59</td>\n",
              "      <td>59</td>\n",
              "    </tr>\n",
              "    <tr>\n",
              "      <th>2545</th>\n",
              "      <td>15</td>\n",
              "      <td>15</td>\n",
              "    </tr>\n",
              "    <tr>\n",
              "      <th>8697</th>\n",
              "      <td>5</td>\n",
              "      <td>5</td>\n",
              "    </tr>\n",
              "    <tr>\n",
              "      <th>...</th>\n",
              "      <td>...</td>\n",
              "      <td>...</td>\n",
              "    </tr>\n",
              "    <tr>\n",
              "      <th>2769</th>\n",
              "      <td>66</td>\n",
              "      <td>66</td>\n",
              "    </tr>\n",
              "    <tr>\n",
              "      <th>5065</th>\n",
              "      <td>26</td>\n",
              "      <td>26</td>\n",
              "    </tr>\n",
              "    <tr>\n",
              "      <th>8287</th>\n",
              "      <td>17</td>\n",
              "      <td>76</td>\n",
              "    </tr>\n",
              "    <tr>\n",
              "      <th>7986</th>\n",
              "      <td>58</td>\n",
              "      <td>58</td>\n",
              "    </tr>\n",
              "    <tr>\n",
              "      <th>1095</th>\n",
              "      <td>12</td>\n",
              "      <td>12</td>\n",
              "    </tr>\n",
              "  </tbody>\n",
              "</table>\n",
              "<p>2001 rows × 2 columns</p>\n",
              "</div>\n",
              "      <button class=\"colab-df-convert\" onclick=\"convertToInteractive('df-c1555e99-7365-42b9-8d83-06b0d988f440')\"\n",
              "              title=\"Convert this dataframe to an interactive table.\"\n",
              "              style=\"display:none;\">\n",
              "        \n",
              "  <svg xmlns=\"http://www.w3.org/2000/svg\" height=\"24px\"viewBox=\"0 0 24 24\"\n",
              "       width=\"24px\">\n",
              "    <path d=\"M0 0h24v24H0V0z\" fill=\"none\"/>\n",
              "    <path d=\"M18.56 5.44l.94 2.06.94-2.06 2.06-.94-2.06-.94-.94-2.06-.94 2.06-2.06.94zm-11 1L8.5 8.5l.94-2.06 2.06-.94-2.06-.94L8.5 2.5l-.94 2.06-2.06.94zm10 10l.94 2.06.94-2.06 2.06-.94-2.06-.94-.94-2.06-.94 2.06-2.06.94z\"/><path d=\"M17.41 7.96l-1.37-1.37c-.4-.4-.92-.59-1.43-.59-.52 0-1.04.2-1.43.59L10.3 9.45l-7.72 7.72c-.78.78-.78 2.05 0 2.83L4 21.41c.39.39.9.59 1.41.59.51 0 1.02-.2 1.41-.59l7.78-7.78 2.81-2.81c.8-.78.8-2.07 0-2.86zM5.41 20L4 18.59l7.72-7.72 1.47 1.35L5.41 20z\"/>\n",
              "  </svg>\n",
              "      </button>\n",
              "      \n",
              "  <style>\n",
              "    .colab-df-container {\n",
              "      display:flex;\n",
              "      flex-wrap:wrap;\n",
              "      gap: 12px;\n",
              "    }\n",
              "\n",
              "    .colab-df-convert {\n",
              "      background-color: #E8F0FE;\n",
              "      border: none;\n",
              "      border-radius: 50%;\n",
              "      cursor: pointer;\n",
              "      display: none;\n",
              "      fill: #1967D2;\n",
              "      height: 32px;\n",
              "      padding: 0 0 0 0;\n",
              "      width: 32px;\n",
              "    }\n",
              "\n",
              "    .colab-df-convert:hover {\n",
              "      background-color: #E2EBFA;\n",
              "      box-shadow: 0px 1px 2px rgba(60, 64, 67, 0.3), 0px 1px 3px 1px rgba(60, 64, 67, 0.15);\n",
              "      fill: #174EA6;\n",
              "    }\n",
              "\n",
              "    [theme=dark] .colab-df-convert {\n",
              "      background-color: #3B4455;\n",
              "      fill: #D2E3FC;\n",
              "    }\n",
              "\n",
              "    [theme=dark] .colab-df-convert:hover {\n",
              "      background-color: #434B5C;\n",
              "      box-shadow: 0px 1px 3px 1px rgba(0, 0, 0, 0.15);\n",
              "      filter: drop-shadow(0px 1px 2px rgba(0, 0, 0, 0.3));\n",
              "      fill: #FFFFFF;\n",
              "    }\n",
              "  </style>\n",
              "\n",
              "      <script>\n",
              "        const buttonEl =\n",
              "          document.querySelector('#df-c1555e99-7365-42b9-8d83-06b0d988f440 button.colab-df-convert');\n",
              "        buttonEl.style.display =\n",
              "          google.colab.kernel.accessAllowed ? 'block' : 'none';\n",
              "\n",
              "        async function convertToInteractive(key) {\n",
              "          const element = document.querySelector('#df-c1555e99-7365-42b9-8d83-06b0d988f440');\n",
              "          const dataTable =\n",
              "            await google.colab.kernel.invokeFunction('convertToInteractive',\n",
              "                                                     [key], {});\n",
              "          if (!dataTable) return;\n",
              "\n",
              "          const docLinkHtml = 'Like what you see? Visit the ' +\n",
              "            '<a target=\"_blank\" href=https://colab.research.google.com/notebooks/data_table.ipynb>data table notebook</a>'\n",
              "            + ' to learn more about interactive tables.';\n",
              "          element.innerHTML = '';\n",
              "          dataTable['output_type'] = 'display_data';\n",
              "          await google.colab.output.renderOutput(dataTable, element);\n",
              "          const docLink = document.createElement('div');\n",
              "          docLink.innerHTML = docLinkHtml;\n",
              "          element.appendChild(docLink);\n",
              "        }\n",
              "      </script>\n",
              "    </div>\n",
              "  </div>\n",
              "  "
            ]
          },
          "metadata": {},
          "execution_count": 30
        }
      ]
    },
    {
      "cell_type": "code",
      "source": [
        "import sklearn\n",
        "\n",
        "print(\"Accuracy With fastText LSTM:\")\n",
        "print(sklearn.metrics.accuracy_score(sample.l, sample.pred))"
      ],
      "metadata": {
        "id": "gfvgTlrH02Vf",
        "colab": {
          "base_uri": "https://localhost:8080/"
        },
        "outputId": "6af64b59-2a21-42eb-c84b-2dc47f604b2b"
      },
      "id": "gfvgTlrH02Vf",
      "execution_count": 31,
      "outputs": [
        {
          "output_type": "stream",
          "name": "stdout",
          "text": [
            "Accuracy With fastText LSTM:\n",
            "0.8860569715142429\n"
          ]
        }
      ]
    },
    {
      "cell_type": "markdown",
      "source": [
        "### CNN"
      ],
      "metadata": {
        "id": "Jq1y7GvZCTf6"
      },
      "id": "Jq1y7GvZCTf6"
    },
    {
      "cell_type": "code",
      "source": [
        "num_filters = 64 "
      ],
      "metadata": {
        "id": "h6Ps_FTVDCcJ"
      },
      "id": "h6Ps_FTVDCcJ",
      "execution_count": 32,
      "outputs": []
    },
    {
      "cell_type": "code",
      "source": [
        "#CNN architecture\n",
        "def create_cnn_model():\n",
        "  model_cnn = Sequential()\n",
        "  model_cnn.add(Embedding(nb_words, embed_dim, weights=[embedding_matrix], input_length=max_seq_len, trainable=False))\n",
        "  model_cnn.add(Conv1D(num_filters, 7, activation='relu', padding='same'))\n",
        "  model_cnn.add(MaxPooling1D(2))\n",
        "  model_cnn.add(Conv1D(num_filters, 7, activation='relu', padding='same'))\n",
        "  model_cnn.add(GlobalMaxPooling1D())\n",
        "  model_cnn.add(Dropout(0.5))\n",
        "  model_cnn.add(Dense(32, activation='relu', kernel_regularizer=regularizers.l2(weight_decay)))\n",
        "  model_cnn.add(Dense(77, activation='softmax'))\n",
        "\n",
        "  adam = tf.keras.optimizers.Adam(lr=0.001, beta_1=0.9, beta_2=0.999, epsilon=1e-08, decay=0.0)\n",
        "  model_cnn.compile(loss='binary_crossentropy', optimizer=adam, metrics=['accuracy'])\n",
        "  return model_cnn\n"
      ],
      "metadata": {
        "id": "7Uzncr8g02Sv"
      },
      "id": "7Uzncr8g02Sv",
      "execution_count": 33,
      "outputs": []
    },
    {
      "cell_type": "code",
      "source": [
        "model_cnn_ft = create_cnn_model()  \n",
        "model_cnn_ft.summary()"
      ],
      "metadata": {
        "id": "mr5KJygjGKyP",
        "colab": {
          "base_uri": "https://localhost:8080/"
        },
        "outputId": "f4cdc288-0ea3-4094-cab0-8a59ae851bd3"
      },
      "id": "mr5KJygjGKyP",
      "execution_count": 34,
      "outputs": [
        {
          "output_type": "stream",
          "name": "stdout",
          "text": [
            "Model: \"sequential_2\"\n",
            "_________________________________________________________________\n",
            " Layer (type)                Output Shape              Param #   \n",
            "=================================================================\n",
            " embedding_2 (Embedding)     (None, 20, 300)           692100    \n",
            "                                                                 \n",
            " conv1d_2 (Conv1D)           (None, 20, 64)            134464    \n",
            "                                                                 \n",
            " max_pooling1d_1 (MaxPooling  (None, 10, 64)           0         \n",
            " 1D)                                                             \n",
            "                                                                 \n",
            " conv1d_3 (Conv1D)           (None, 10, 64)            28736     \n",
            "                                                                 \n",
            " global_max_pooling1d_1 (Glo  (None, 64)               0         \n",
            " balMaxPooling1D)                                                \n",
            "                                                                 \n",
            " dropout_1 (Dropout)         (None, 64)                0         \n",
            "                                                                 \n",
            " dense_4 (Dense)             (None, 32)                2080      \n",
            "                                                                 \n",
            " dense_5 (Dense)             (None, 77)                2541      \n",
            "                                                                 \n",
            "=================================================================\n",
            "Total params: 859,921\n",
            "Trainable params: 167,821\n",
            "Non-trainable params: 692,100\n",
            "_________________________________________________________________\n"
          ]
        },
        {
          "output_type": "stream",
          "name": "stderr",
          "text": [
            "/usr/local/lib/python3.7/dist-packages/keras/optimizer_v2/adam.py:105: UserWarning: The `lr` argument is deprecated, use `learning_rate` instead.\n",
            "  super(Adam, self).__init__(name, **kwargs)\n"
          ]
        }
      ]
    },
    {
      "cell_type": "code",
      "source": [
        "from keras.callbacks import ModelCheckpoint\n",
        "from tensorflow.keras.callbacks import EarlyStopping\n",
        "\n",
        "model_cnn_ft.compile(optimizer='adam',loss = tf.keras.losses.SparseCategoricalCrossentropy(from_logits=True), metrics=['accuracy'])"
      ],
      "metadata": {
        "id": "LcLImAJL02P_"
      },
      "id": "LcLImAJL02P_",
      "execution_count": 35,
      "outputs": []
    },
    {
      "cell_type": "code",
      "source": [
        "es_callback = EarlyStopping(monitor='val_loss', patience=3)\n",
        "\n",
        "history = model_cnn_ft.fit(word_seq_train, y_train, batch_size=256, epochs=num_epochs, validation_split=0.3, callbacks=[es_callback], shuffle=False)"
      ],
      "metadata": {
        "id": "ZO4Hu87ODH1Q",
        "colab": {
          "base_uri": "https://localhost:8080/"
        },
        "outputId": "801233b4-8bd6-4365-d4e6-adfc632cd8ef"
      },
      "id": "ZO4Hu87ODH1Q",
      "execution_count": 36,
      "outputs": [
        {
          "output_type": "stream",
          "name": "stdout",
          "text": [
            "Epoch 1/40\n"
          ]
        },
        {
          "output_type": "stream",
          "name": "stderr",
          "text": [
            "/usr/local/lib/python3.7/dist-packages/tensorflow/python/util/dispatch.py:1082: UserWarning: \"`sparse_categorical_crossentropy` received `from_logits=True`, but the `output` argument was produced by a sigmoid or softmax activation and thus does not represent logits. Was this intended?\"\n",
            "  return dispatch_target(*args, **kwargs)\n"
          ]
        },
        {
          "output_type": "stream",
          "name": "stdout",
          "text": [
            "22/22 [==============================] - 9s 24ms/step - loss: 4.3188 - accuracy: 0.0211 - val_loss: 4.2488 - val_accuracy: 0.0450\n",
            "Epoch 2/40\n",
            "22/22 [==============================] - 0s 8ms/step - loss: 4.1456 - accuracy: 0.0543 - val_loss: 3.9420 - val_accuracy: 0.1175\n",
            "Epoch 3/40\n",
            "22/22 [==============================] - 0s 8ms/step - loss: 3.7767 - accuracy: 0.1107 - val_loss: 3.4316 - val_accuracy: 0.2178\n",
            "Epoch 4/40\n",
            "22/22 [==============================] - 0s 7ms/step - loss: 3.2747 - accuracy: 0.2062 - val_loss: 2.8241 - val_accuracy: 0.3682\n",
            "Epoch 5/40\n",
            "22/22 [==============================] - 0s 9ms/step - loss: 2.7463 - accuracy: 0.3078 - val_loss: 2.2379 - val_accuracy: 0.4748\n",
            "Epoch 6/40\n",
            "22/22 [==============================] - 0s 7ms/step - loss: 2.3235 - accuracy: 0.3830 - val_loss: 1.7883 - val_accuracy: 0.5835\n",
            "Epoch 7/40\n",
            "22/22 [==============================] - 0s 9ms/step - loss: 1.9736 - accuracy: 0.4663 - val_loss: 1.5139 - val_accuracy: 0.6418\n",
            "Epoch 8/40\n",
            "22/22 [==============================] - 0s 9ms/step - loss: 1.7221 - accuracy: 0.5154 - val_loss: 1.3300 - val_accuracy: 0.6756\n",
            "Epoch 9/40\n",
            "22/22 [==============================] - 0s 7ms/step - loss: 1.5460 - accuracy: 0.5553 - val_loss: 1.1986 - val_accuracy: 0.6976\n",
            "Epoch 10/40\n",
            "22/22 [==============================] - 0s 9ms/step - loss: 1.3791 - accuracy: 0.6019 - val_loss: 1.0643 - val_accuracy: 0.7247\n",
            "Epoch 11/40\n",
            "22/22 [==============================] - 0s 7ms/step - loss: 1.2631 - accuracy: 0.6374 - val_loss: 1.0028 - val_accuracy: 0.7372\n",
            "Epoch 12/40\n",
            "22/22 [==============================] - 0s 7ms/step - loss: 1.1864 - accuracy: 0.6563 - val_loss: 0.9407 - val_accuracy: 0.7530\n",
            "Epoch 13/40\n",
            "22/22 [==============================] - 0s 7ms/step - loss: 1.1028 - accuracy: 0.6859 - val_loss: 0.9010 - val_accuracy: 0.7655\n",
            "Epoch 14/40\n",
            "22/22 [==============================] - 0s 7ms/step - loss: 1.0096 - accuracy: 0.7077 - val_loss: 0.8602 - val_accuracy: 0.7734\n",
            "Epoch 15/40\n",
            "22/22 [==============================] - 0s 7ms/step - loss: 0.9694 - accuracy: 0.7120 - val_loss: 0.8352 - val_accuracy: 0.7726\n",
            "Epoch 16/40\n",
            "22/22 [==============================] - 0s 7ms/step - loss: 0.8980 - accuracy: 0.7299 - val_loss: 0.8153 - val_accuracy: 0.7772\n",
            "Epoch 17/40\n",
            "22/22 [==============================] - 0s 7ms/step - loss: 0.8567 - accuracy: 0.7447 - val_loss: 0.7818 - val_accuracy: 0.7818\n",
            "Epoch 18/40\n",
            "22/22 [==============================] - 0s 7ms/step - loss: 0.8134 - accuracy: 0.7586 - val_loss: 0.7626 - val_accuracy: 0.7868\n",
            "Epoch 19/40\n",
            "22/22 [==============================] - 0s 9ms/step - loss: 0.7638 - accuracy: 0.7702 - val_loss: 0.7467 - val_accuracy: 0.7913\n",
            "Epoch 20/40\n",
            "22/22 [==============================] - 0s 8ms/step - loss: 0.7159 - accuracy: 0.7818 - val_loss: 0.7247 - val_accuracy: 0.8017\n",
            "Epoch 21/40\n",
            "22/22 [==============================] - 0s 9ms/step - loss: 0.6944 - accuracy: 0.7888 - val_loss: 0.7265 - val_accuracy: 0.8059\n",
            "Epoch 22/40\n",
            "22/22 [==============================] - 0s 7ms/step - loss: 0.6437 - accuracy: 0.8132 - val_loss: 0.7104 - val_accuracy: 0.8005\n",
            "Epoch 23/40\n",
            "22/22 [==============================] - 0s 7ms/step - loss: 0.6271 - accuracy: 0.8095 - val_loss: 0.7015 - val_accuracy: 0.8072\n",
            "Epoch 24/40\n",
            "22/22 [==============================] - 0s 7ms/step - loss: 0.5912 - accuracy: 0.8229 - val_loss: 0.6949 - val_accuracy: 0.8122\n",
            "Epoch 25/40\n",
            "22/22 [==============================] - 0s 9ms/step - loss: 0.5517 - accuracy: 0.8365 - val_loss: 0.6926 - val_accuracy: 0.8051\n",
            "Epoch 26/40\n",
            "22/22 [==============================] - 0s 7ms/step - loss: 0.5338 - accuracy: 0.8422 - val_loss: 0.6904 - val_accuracy: 0.8130\n",
            "Epoch 27/40\n",
            "22/22 [==============================] - 0s 7ms/step - loss: 0.5441 - accuracy: 0.8372 - val_loss: 0.7023 - val_accuracy: 0.8101\n",
            "Epoch 28/40\n",
            "22/22 [==============================] - 0s 7ms/step - loss: 0.4969 - accuracy: 0.8548 - val_loss: 0.6742 - val_accuracy: 0.8197\n",
            "Epoch 29/40\n",
            "22/22 [==============================] - 0s 9ms/step - loss: 0.4872 - accuracy: 0.8502 - val_loss: 0.6823 - val_accuracy: 0.8167\n",
            "Epoch 30/40\n",
            "22/22 [==============================] - 0s 7ms/step - loss: 0.4810 - accuracy: 0.8570 - val_loss: 0.6776 - val_accuracy: 0.8167\n",
            "Epoch 31/40\n",
            "22/22 [==============================] - 0s 8ms/step - loss: 0.4377 - accuracy: 0.8704 - val_loss: 0.6844 - val_accuracy: 0.8155\n"
          ]
        }
      ]
    },
    {
      "cell_type": "code",
      "source": [
        "#generate plots\n",
        "plt.figure()\n",
        "plt.plot(history.history['loss'], lw=2.0, color='b', label='train')\n",
        "plt.plot(history.history['val_loss'], lw=2.0, color='r', label='val')\n",
        "plt.title('CNN fastext')\n",
        "plt.xlabel('Epochs')\n",
        "plt.ylabel('Cross-Entropy Loss')\n",
        "plt.legend(loc='upper right')\n",
        "plt.show()"
      ],
      "metadata": {
        "id": "g67AaYXDEErH",
        "colab": {
          "base_uri": "https://localhost:8080/",
          "height": 295
        },
        "outputId": "bfb3298a-cf0b-40f3-ee90-434643c80cc2"
      },
      "id": "g67AaYXDEErH",
      "execution_count": 37,
      "outputs": [
        {
          "output_type": "display_data",
          "data": {
            "text/plain": [
              "<Figure size 432x288 with 1 Axes>"
            ],
            "image/png": "[encoded data removed]"
          },
          "metadata": {
            "needs_background": "light"
          }
        }
      ]
    },
    {
      "cell_type": "code",
      "source": [
        "plt.figure()\n",
        "plt.plot(history.history['accuracy'], lw=2.0, color='b', label='train')\n",
        "plt.plot(history.history['val_accuracy'], lw=2.0, color='r', label='val')\n",
        "plt.title('CNN fastext')\n",
        "plt.xlabel('Epochs')\n",
        "plt.ylabel('Accuracy')\n",
        "plt.legend(loc='upper left')\n",
        "plt.show()"
      ],
      "metadata": {
        "id": "4D7rrg5CES1V",
        "colab": {
          "base_uri": "https://localhost:8080/",
          "height": 295
        },
        "outputId": "6b0758fb-447f-43ae-9063-74d2f74af82d"
      },
      "id": "4D7rrg5CES1V",
      "execution_count": 38,
      "outputs": [
        {
          "output_type": "display_data",
          "data": {
            "text/plain": [
              "<Figure size 432x288 with 1 Axes>"
            ],
            "image/png": "[encoded data removed]"
          },
          "metadata": {
            "needs_background": "light"
          }
        }
      ]
    },
    {
      "cell_type": "code",
      "source": [
        "predictions = model_cnn_ft.predict(word_seq_test)\n",
        "list_ = []\n",
        "for i in range(len(predictions)):\n",
        "  a = predictions[i]\n",
        "  list_.append(np.where(a == a.max())[0][0] )\n",
        "\n",
        "\n",
        "sample= test_df\n",
        "sample['pred']= list_ \n",
        "sample[['pred', \"l\"]]"
      ],
      "metadata": {
        "id": "66CB_o1lEYTk",
        "colab": {
          "base_uri": "https://localhost:8080/",
          "height": 424
        },
        "outputId": "9a7fd95e-e434-4300-c7bd-d60b14bbd240"
      },
      "id": "66CB_o1lEYTk",
      "execution_count": 39,
      "outputs": [
        {
          "output_type": "execute_result",
          "data": {
            "text/plain": [
              "      pred   l\n",
              "6883    21  21\n",
              "5836    14  25\n",
              "8601    59  59\n",
              "2545    15  15\n",
              "8697     5   5\n",
              "...    ...  ..\n",
              "2769    66  66\n",
              "5065    26  26\n",
              "8287    32  76\n",
              "7986    58  58\n",
              "1095    12  12\n",
              "\n",
              "[2001 rows x 2 columns]"
            ],
            "text/html": [
              "\n",
              "  <div id=\"df-f7f77c81-a44b-4563-be37-1072d0a6ec04\">\n",
              "    <div class=\"colab-df-container\">\n",
              "      <div>\n",
              "<style scoped>\n",
              "    .dataframe tbody tr th:only-of-type {\n",
              "        vertical-align: middle;\n",
              "    }\n",
              "\n",
              "    .dataframe tbody tr th {\n",
              "        vertical-align: top;\n",
              "    }\n",
              "\n",
              "    .dataframe thead th {\n",
              "        text-align: right;\n",
              "    }\n",
              "</style>\n",
              "<table border=\"1\" class=\"dataframe\">\n",
              "  <thead>\n",
              "    <tr style=\"text-align: right;\">\n",
              "      <th></th>\n",
              "      <th>pred</th>\n",
              "      <th>l</th>\n",
              "    </tr>\n",
              "  </thead>\n",
              "  <tbody>\n",
              "    <tr>\n",
              "      <th>6883</th>\n",
              "      <td>21</td>\n",
              "      <td>21</td>\n",
              "    </tr>\n",
              "    <tr>\n",
              "      <th>5836</th>\n",
              "      <td>14</td>\n",
              "      <td>25</td>\n",
              "    </tr>\n",
              "    <tr>\n",
              "      <th>8601</th>\n",
              "      <td>59</td>\n",
              "      <td>59</td>\n",
              "    </tr>\n",
              "    <tr>\n",
              "      <th>2545</th>\n",
              "      <td>15</td>\n",
              "      <td>15</td>\n",
              "    </tr>\n",
              "    <tr>\n",
              "      <th>8697</th>\n",
              "      <td>5</td>\n",
              "      <td>5</td>\n",
              "    </tr>\n",
              "    <tr>\n",
              "      <th>...</th>\n",
              "      <td>...</td>\n",
              "      <td>...</td>\n",
              "    </tr>\n",
              "    <tr>\n",
              "      <th>2769</th>\n",
              "      <td>66</td>\n",
              "      <td>66</td>\n",
              "    </tr>\n",
              "    <tr>\n",
              "      <th>5065</th>\n",
              "      <td>26</td>\n",
              "      <td>26</td>\n",
              "    </tr>\n",
              "    <tr>\n",
              "      <th>8287</th>\n",
              "      <td>32</td>\n",
              "      <td>76</td>\n",
              "    </tr>\n",
              "    <tr>\n",
              "      <th>7986</th>\n",
              "      <td>58</td>\n",
              "      <td>58</td>\n",
              "    </tr>\n",
              "    <tr>\n",
              "      <th>1095</th>\n",
              "      <td>12</td>\n",
              "      <td>12</td>\n",
              "    </tr>\n",
              "  </tbody>\n",
              "</table>\n",
              "<p>2001 rows × 2 columns</p>\n",
              "</div>\n",
              "      <button class=\"colab-df-convert\" onclick=\"convertToInteractive('df-f7f77c81-a44b-4563-be37-1072d0a6ec04')\"\n",
              "              title=\"Convert this dataframe to an interactive table.\"\n",
              "              style=\"display:none;\">\n",
              "        \n",
              "  <svg xmlns=\"http://www.w3.org/2000/svg\" height=\"24px\"viewBox=\"0 0 24 24\"\n",
              "       width=\"24px\">\n",
              "    <path d=\"M0 0h24v24H0V0z\" fill=\"none\"/>\n",
              "    <path d=\"M18.56 5.44l.94 2.06.94-2.06 2.06-.94-2.06-.94-.94-2.06-.94 2.06-2.06.94zm-11 1L8.5 8.5l.94-2.06 2.06-.94-2.06-.94L8.5 2.5l-.94 2.06-2.06.94zm10 10l.94 2.06.94-2.06 2.06-.94-2.06-.94-.94-2.06-.94 2.06-2.06.94z\"/><path d=\"M17.41 7.96l-1.37-1.37c-.4-.4-.92-.59-1.43-.59-.52 0-1.04.2-1.43.59L10.3 9.45l-7.72 7.72c-.78.78-.78 2.05 0 2.83L4 21.41c.39.39.9.59 1.41.59.51 0 1.02-.2 1.41-.59l7.78-7.78 2.81-2.81c.8-.78.8-2.07 0-2.86zM5.41 20L4 18.59l7.72-7.72 1.47 1.35L5.41 20z\"/>\n",
              "  </svg>\n",
              "      </button>\n",
              "      \n",
              "  <style>\n",
              "    .colab-df-container {\n",
              "      display:flex;\n",
              "      flex-wrap:wrap;\n",
              "      gap: 12px;\n",
              "    }\n",
              "\n",
              "    .colab-df-convert {\n",
              "      background-color: #E8F0FE;\n",
              "      border: none;\n",
              "      border-radius: 50%;\n",
              "      cursor: pointer;\n",
              "      display: none;\n",
              "      fill: #1967D2;\n",
              "      height: 32px;\n",
              "      padding: 0 0 0 0;\n",
              "      width: 32px;\n",
              "    }\n",
              "\n",
              "    .colab-df-convert:hover {\n",
              "      background-color: #E2EBFA;\n",
              "      box-shadow: 0px 1px 2px rgba(60, 64, 67, 0.3), 0px 1px 3px 1px rgba(60, 64, 67, 0.15);\n",
              "      fill: #174EA6;\n",
              "    }\n",
              "\n",
              "    [theme=dark] .colab-df-convert {\n",
              "      background-color: #3B4455;\n",
              "      fill: #D2E3FC;\n",
              "    }\n",
              "\n",
              "    [theme=dark] .colab-df-convert:hover {\n",
              "      background-color: #434B5C;\n",
              "      box-shadow: 0px 1px 3px 1px rgba(0, 0, 0, 0.15);\n",
              "      filter: drop-shadow(0px 1px 2px rgba(0, 0, 0, 0.3));\n",
              "      fill: #FFFFFF;\n",
              "    }\n",
              "  </style>\n",
              "\n",
              "      <script>\n",
              "        const buttonEl =\n",
              "          document.querySelector('#df-f7f77c81-a44b-4563-be37-1072d0a6ec04 button.colab-df-convert');\n",
              "        buttonEl.style.display =\n",
              "          google.colab.kernel.accessAllowed ? 'block' : 'none';\n",
              "\n",
              "        async function convertToInteractive(key) {\n",
              "          const element = document.querySelector('#df-f7f77c81-a44b-4563-be37-1072d0a6ec04');\n",
              "          const dataTable =\n",
              "            await google.colab.kernel.invokeFunction('convertToInteractive',\n",
              "                                                     [key], {});\n",
              "          if (!dataTable) return;\n",
              "\n",
              "          const docLinkHtml = 'Like what you see? Visit the ' +\n",
              "            '<a target=\"_blank\" href=https://colab.research.google.com/notebooks/data_table.ipynb>data table notebook</a>'\n",
              "            + ' to learn more about interactive tables.';\n",
              "          element.innerHTML = '';\n",
              "          dataTable['output_type'] = 'display_data';\n",
              "          await google.colab.output.renderOutput(dataTable, element);\n",
              "          const docLink = document.createElement('div');\n",
              "          docLink.innerHTML = docLinkHtml;\n",
              "          element.appendChild(docLink);\n",
              "        }\n",
              "      </script>\n",
              "    </div>\n",
              "  </div>\n",
              "  "
            ]
          },
          "metadata": {},
          "execution_count": 39
        }
      ]
    },
    {
      "cell_type": "code",
      "source": [
        "import sklearn\n",
        "\n",
        "print(\"Accuracy With fastText CNN :\")\n",
        "print(sklearn.metrics.accuracy_score(sample.l, sample.pred))"
      ],
      "metadata": {
        "id": "_WlLgbisEc1r",
        "colab": {
          "base_uri": "https://localhost:8080/"
        },
        "outputId": "c5015f85-62b6-40e2-ad74-03bc0ac3d3d4"
      },
      "id": "_WlLgbisEc1r",
      "execution_count": 40,
      "outputs": [
        {
          "output_type": "stream",
          "name": "stdout",
          "text": [
            "Accuracy With fastText CNN :\n",
            "0.8175912043978011\n"
          ]
        }
      ]
    },
    {
      "cell_type": "markdown",
      "source": [
        "### CNN + LSTM"
      ],
      "metadata": {
        "id": "3ElWyxBRaH-W"
      },
      "id": "3ElWyxBRaH-W"
    },
    {
      "cell_type": "code",
      "source": [
        "def create_cnn_lstm_model():\n",
        "  model_mix = Sequential()\n",
        "  model_mix.add(Embedding(nb_words, embed_dim, weights=[embedding_matrix], input_length=max_seq_len, trainable=False))\n",
        "  model_mix.add(Dropout(0.2))\n",
        "  model_mix.add(Conv1D(num_filters, 7, activation='relu', padding='same'))\n",
        "  model_mix.add(MaxPooling1D(pool_size=4))\n",
        "  model_mix.add(Bidirectional(LSTM(128, dropout=0.7, recurrent_dropout=0.7)))\n",
        "  model_mix.add(Dense(128,activation='relu'))\n",
        "  model_mix.add(Dense(77, activation='softmax'))\n",
        "  model_mix.compile(optimizer='adam',loss = tf.keras.losses.SparseCategoricalCrossentropy(from_logits=True), metrics=['accuracy'])\n",
        "  return model_mix\n"
      ],
      "metadata": {
        "id": "nKnzkd04aMGn"
      },
      "id": "nKnzkd04aMGn",
      "execution_count": 41,
      "outputs": []
    },
    {
      "cell_type": "code",
      "source": [
        "model_mix_ft = create_cnn_lstm_model()"
      ],
      "metadata": {
        "id": "CU7nVdUgGZ1s",
        "colab": {
          "base_uri": "https://localhost:8080/"
        },
        "outputId": "ba20d181-8075-4874-83c7-0a61bd03cc5b"
      },
      "id": "CU7nVdUgGZ1s",
      "execution_count": 42,
      "outputs": [
        {
          "output_type": "stream",
          "name": "stdout",
          "text": [
            "WARNING:tensorflow:Layer lstm_1 will not use cuDNN kernels since it doesn't meet the criteria. It will use a generic GPU kernel as fallback when running on GPU.\n",
            "WARNING:tensorflow:Layer lstm_1 will not use cuDNN kernels since it doesn't meet the criteria. It will use a generic GPU kernel as fallback when running on GPU.\n",
            "WARNING:tensorflow:Layer lstm_1 will not use cuDNN kernels since it doesn't meet the criteria. It will use a generic GPU kernel as fallback when running on GPU.\n"
          ]
        }
      ]
    },
    {
      "cell_type": "code",
      "source": [
        "es_callback = EarlyStopping(monitor='val_loss', patience=3)\n",
        "\n",
        "history = model_mix_ft.fit(word_seq_train, y_train, batch_size=256, epochs=num_epochs, validation_split=0.3, callbacks=[es_callback], shuffle=False)"
      ],
      "metadata": {
        "id": "uTdMVHQiaMDl",
        "colab": {
          "base_uri": "https://localhost:8080/"
        },
        "outputId": "f6428eef-a786-40c5-c330-e8059254692a"
      },
      "id": "uTdMVHQiaMDl",
      "execution_count": 43,
      "outputs": [
        {
          "output_type": "stream",
          "name": "stdout",
          "text": [
            "Epoch 1/40\n"
          ]
        },
        {
          "output_type": "stream",
          "name": "stderr",
          "text": [
            "/usr/local/lib/python3.7/dist-packages/tensorflow/python/util/dispatch.py:1082: UserWarning: \"`sparse_categorical_crossentropy` received `from_logits=True`, but the `output` argument was produced by a sigmoid or softmax activation and thus does not represent logits. Was this intended?\"\n",
            "  return dispatch_target(*args, **kwargs)\n"
          ]
        },
        {
          "output_type": "stream",
          "name": "stdout",
          "text": [
            "22/22 [==============================] - 6s 89ms/step - loss: 4.3114 - accuracy: 0.0241 - val_loss: 4.2337 - val_accuracy: 0.0404\n",
            "Epoch 2/40\n",
            "22/22 [==============================] - 1s 62ms/step - loss: 4.1157 - accuracy: 0.0586 - val_loss: 3.7992 - val_accuracy: 0.1387\n",
            "Epoch 3/40\n",
            "22/22 [==============================] - 1s 60ms/step - loss: 3.5190 - accuracy: 0.1566 - val_loss: 2.8367 - val_accuracy: 0.2903\n",
            "Epoch 4/40\n",
            "22/22 [==============================] - 1s 61ms/step - loss: 2.7147 - accuracy: 0.2810 - val_loss: 2.0910 - val_accuracy: 0.4073\n",
            "Epoch 5/40\n",
            "22/22 [==============================] - 1s 62ms/step - loss: 2.1692 - accuracy: 0.3931 - val_loss: 1.6526 - val_accuracy: 0.5102\n",
            "Epoch 6/40\n",
            "22/22 [==============================] - 1s 59ms/step - loss: 1.8064 - accuracy: 0.4701 - val_loss: 1.3428 - val_accuracy: 0.6018\n",
            "Epoch 7/40\n",
            "22/22 [==============================] - 1s 61ms/step - loss: 1.5739 - accuracy: 0.5292 - val_loss: 1.1334 - val_accuracy: 0.6697\n",
            "Epoch 8/40\n",
            "22/22 [==============================] - 1s 62ms/step - loss: 1.3748 - accuracy: 0.5890 - val_loss: 1.0211 - val_accuracy: 0.6968\n",
            "Epoch 9/40\n",
            "22/22 [==============================] - 1s 61ms/step - loss: 1.2550 - accuracy: 0.6110 - val_loss: 0.9222 - val_accuracy: 0.7209\n",
            "Epoch 10/40\n",
            "22/22 [==============================] - 1s 62ms/step - loss: 1.1378 - accuracy: 0.6470 - val_loss: 0.8538 - val_accuracy: 0.7464\n",
            "Epoch 11/40\n",
            "22/22 [==============================] - 1s 63ms/step - loss: 1.0538 - accuracy: 0.6738 - val_loss: 0.8119 - val_accuracy: 0.7676\n",
            "Epoch 12/40\n",
            "22/22 [==============================] - 1s 63ms/step - loss: 1.0021 - accuracy: 0.6909 - val_loss: 0.7834 - val_accuracy: 0.7688\n",
            "Epoch 13/40\n",
            "22/22 [==============================] - 1s 60ms/step - loss: 0.9078 - accuracy: 0.7149 - val_loss: 0.7453 - val_accuracy: 0.7851\n",
            "Epoch 14/40\n",
            "22/22 [==============================] - 1s 63ms/step - loss: 0.8682 - accuracy: 0.7361 - val_loss: 0.7415 - val_accuracy: 0.7772\n",
            "Epoch 15/40\n",
            "22/22 [==============================] - 1s 63ms/step - loss: 0.8102 - accuracy: 0.7454 - val_loss: 0.7114 - val_accuracy: 0.7951\n",
            "Epoch 16/40\n",
            "22/22 [==============================] - 1s 64ms/step - loss: 0.7858 - accuracy: 0.7509 - val_loss: 0.7020 - val_accuracy: 0.7934\n",
            "Epoch 17/40\n",
            "22/22 [==============================] - 1s 64ms/step - loss: 0.7426 - accuracy: 0.7609 - val_loss: 0.6999 - val_accuracy: 0.7980\n",
            "Epoch 18/40\n",
            "22/22 [==============================] - 1s 62ms/step - loss: 0.6873 - accuracy: 0.7818 - val_loss: 0.6754 - val_accuracy: 0.8059\n",
            "Epoch 19/40\n",
            "22/22 [==============================] - 1s 60ms/step - loss: 0.6740 - accuracy: 0.7820 - val_loss: 0.6648 - val_accuracy: 0.8159\n",
            "Epoch 20/40\n",
            "22/22 [==============================] - 1s 61ms/step - loss: 0.6600 - accuracy: 0.7874 - val_loss: 0.6777 - val_accuracy: 0.8047\n",
            "Epoch 21/40\n",
            "22/22 [==============================] - 1s 61ms/step - loss: 0.6044 - accuracy: 0.8081 - val_loss: 0.6401 - val_accuracy: 0.8222\n",
            "Epoch 22/40\n",
            "22/22 [==============================] - 1s 60ms/step - loss: 0.5652 - accuracy: 0.8204 - val_loss: 0.6367 - val_accuracy: 0.8197\n",
            "Epoch 23/40\n",
            "22/22 [==============================] - 1s 60ms/step - loss: 0.5717 - accuracy: 0.8209 - val_loss: 0.6616 - val_accuracy: 0.8142\n",
            "Epoch 24/40\n",
            "22/22 [==============================] - 1s 62ms/step - loss: 0.5294 - accuracy: 0.8307 - val_loss: 0.6460 - val_accuracy: 0.8217\n",
            "Epoch 25/40\n",
            "22/22 [==============================] - 1s 61ms/step - loss: 0.5295 - accuracy: 0.8322 - val_loss: 0.6336 - val_accuracy: 0.8238\n",
            "Epoch 26/40\n",
            "22/22 [==============================] - 1s 60ms/step - loss: 0.5028 - accuracy: 0.8400 - val_loss: 0.6308 - val_accuracy: 0.8234\n",
            "Epoch 27/40\n",
            "22/22 [==============================] - 1s 62ms/step - loss: 0.4853 - accuracy: 0.8448 - val_loss: 0.6418 - val_accuracy: 0.8205\n",
            "Epoch 28/40\n",
            "22/22 [==============================] - 1s 58ms/step - loss: 0.4698 - accuracy: 0.8523 - val_loss: 0.6266 - val_accuracy: 0.8301\n",
            "Epoch 29/40\n",
            "22/22 [==============================] - 1s 62ms/step - loss: 0.4468 - accuracy: 0.8602 - val_loss: 0.6231 - val_accuracy: 0.8317\n",
            "Epoch 30/40\n",
            "22/22 [==============================] - 1s 58ms/step - loss: 0.4289 - accuracy: 0.8622 - val_loss: 0.6284 - val_accuracy: 0.8292\n",
            "Epoch 31/40\n",
            "22/22 [==============================] - 1s 62ms/step - loss: 0.4041 - accuracy: 0.8763 - val_loss: 0.6324 - val_accuracy: 0.8334\n",
            "Epoch 32/40\n",
            "22/22 [==============================] - 1s 60ms/step - loss: 0.3903 - accuracy: 0.8766 - val_loss: 0.6243 - val_accuracy: 0.8363\n"
          ]
        }
      ]
    },
    {
      "cell_type": "code",
      "source": [
        ""
      ],
      "metadata": {
        "id": "05BrKTvQaMAo"
      },
      "id": "05BrKTvQaMAo",
      "execution_count": 43,
      "outputs": []
    },
    {
      "cell_type": "code",
      "source": [
        "#generate plots\n",
        "plt.figure()\n",
        "plt.plot(history.history['loss'], lw=2.0, color='b', label='train')\n",
        "plt.plot(history.history['val_loss'], lw=2.0, color='r', label='val')\n",
        "plt.title('CNN-LSTM fastext')\n",
        "plt.xlabel('Epochs')\n",
        "plt.ylabel('Cross-Entropy Loss')\n",
        "plt.legend(loc='upper right')\n",
        "plt.show()"
      ],
      "metadata": {
        "id": "vFyQE7qsFBfC",
        "colab": {
          "base_uri": "https://localhost:8080/",
          "height": 295
        },
        "outputId": "7cbeb816-6430-4618-c555-52c6d43a8b56"
      },
      "execution_count": 44,
      "outputs": [
        {
          "output_type": "display_data",
          "data": {
            "text/plain": [
              "<Figure size 432x288 with 1 Axes>"
            ],
            "image/png": "[encoded data removed]"
          },
          "metadata": {
            "needs_background": "light"
          }
        }
      ],
      "id": "vFyQE7qsFBfC"
    },
    {
      "cell_type": "code",
      "source": [
        "plt.figure()\n",
        "plt.plot(history.history['accuracy'], lw=2.0, color='b', label='train')\n",
        "plt.plot(history.history['val_accuracy'], lw=2.0, color='r', label='val')\n",
        "plt.title('CNN-LSTM fastext')\n",
        "plt.xlabel('Epochs')\n",
        "plt.ylabel('Accuracy')\n",
        "plt.legend(loc='upper left')\n",
        "plt.show()"
      ],
      "metadata": {
        "id": "ui8lO5oPFBfJ",
        "colab": {
          "base_uri": "https://localhost:8080/",
          "height": 295
        },
        "outputId": "75095bf9-966e-4879-faf9-5eb5d666eeb5"
      },
      "execution_count": 45,
      "outputs": [
        {
          "output_type": "display_data",
          "data": {
            "text/plain": [
              "<Figure size 432x288 with 1 Axes>"
            ],
            "image/png": "[encoded data removed]"
          },
          "metadata": {
            "needs_background": "light"
          }
        }
      ],
      "id": "ui8lO5oPFBfJ"
    },
    {
      "cell_type": "code",
      "source": [
        "predictions = model_cnn_ft.predict(word_seq_test)\n",
        "list_ = []\n",
        "for i in range(len(predictions)):\n",
        "  a = predictions[i]\n",
        "  list_.append(np.where(a == a.max())[0][0] )\n",
        "\n",
        "\n",
        "sample= test_df\n",
        "sample['pred']= list_ \n",
        "sample[['pred', \"l\"]]"
      ],
      "metadata": {
        "id": "3kI512RUFBfJ",
        "colab": {
          "base_uri": "https://localhost:8080/",
          "height": 424
        },
        "outputId": "190aba92-ec50-4b03-99aa-194723db3679"
      },
      "execution_count": 46,
      "outputs": [
        {
          "output_type": "execute_result",
          "data": {
            "text/plain": [
              "      pred   l\n",
              "6883    21  21\n",
              "5836    14  25\n",
              "8601    59  59\n",
              "2545    15  15\n",
              "8697     5   5\n",
              "...    ...  ..\n",
              "2769    66  66\n",
              "5065    26  26\n",
              "8287    32  76\n",
              "7986    58  58\n",
              "1095    12  12\n",
              "\n",
              "[2001 rows x 2 columns]"
            ],
            "text/html": [
              "\n",
              "  <div id=\"df-73cb0f9a-e7b5-4bd0-a043-77d963d98446\">\n",
              "    <div class=\"colab-df-container\">\n",
              "      <div>\n",
              "<style scoped>\n",
              "    .dataframe tbody tr th:only-of-type {\n",
              "        vertical-align: middle;\n",
              "    }\n",
              "\n",
              "    .dataframe tbody tr th {\n",
              "        vertical-align: top;\n",
              "    }\n",
              "\n",
              "    .dataframe thead th {\n",
              "        text-align: right;\n",
              "    }\n",
              "</style>\n",
              "<table border=\"1\" class=\"dataframe\">\n",
              "  <thead>\n",
              "    <tr style=\"text-align: right;\">\n",
              "      <th></th>\n",
              "      <th>pred</th>\n",
              "      <th>l</th>\n",
              "    </tr>\n",
              "  </thead>\n",
              "  <tbody>\n",
              "    <tr>\n",
              "      <th>6883</th>\n",
              "      <td>21</td>\n",
              "      <td>21</td>\n",
              "    </tr>\n",
              "    <tr>\n",
              "      <th>5836</th>\n",
              "      <td>14</td>\n",
              "      <td>25</td>\n",
              "    </tr>\n",
              "    <tr>\n",
              "      <th>8601</th>\n",
              "      <td>59</td>\n",
              "      <td>59</td>\n",
              "    </tr>\n",
              "    <tr>\n",
              "      <th>2545</th>\n",
              "      <td>15</td>\n",
              "      <td>15</td>\n",
              "    </tr>\n",
              "    <tr>\n",
              "      <th>8697</th>\n",
              "      <td>5</td>\n",
              "      <td>5</td>\n",
              "    </tr>\n",
              "    <tr>\n",
              "      <th>...</th>\n",
              "      <td>...</td>\n",
              "      <td>...</td>\n",
              "    </tr>\n",
              "    <tr>\n",
              "      <th>2769</th>\n",
              "      <td>66</td>\n",
              "      <td>66</td>\n",
              "    </tr>\n",
              "    <tr>\n",
              "      <th>5065</th>\n",
              "      <td>26</td>\n",
              "      <td>26</td>\n",
              "    </tr>\n",
              "    <tr>\n",
              "      <th>8287</th>\n",
              "      <td>32</td>\n",
              "      <td>76</td>\n",
              "    </tr>\n",
              "    <tr>\n",
              "      <th>7986</th>\n",
              "      <td>58</td>\n",
              "      <td>58</td>\n",
              "    </tr>\n",
              "    <tr>\n",
              "      <th>1095</th>\n",
              "      <td>12</td>\n",
              "      <td>12</td>\n",
              "    </tr>\n",
              "  </tbody>\n",
              "</table>\n",
              "<p>2001 rows × 2 columns</p>\n",
              "</div>\n",
              "      <button class=\"colab-df-convert\" onclick=\"convertToInteractive('df-73cb0f9a-e7b5-4bd0-a043-77d963d98446')\"\n",
              "              title=\"Convert this dataframe to an interactive table.\"\n",
              "              style=\"display:none;\">\n",
              "        \n",
              "  <svg xmlns=\"http://www.w3.org/2000/svg\" height=\"24px\"viewBox=\"0 0 24 24\"\n",
              "       width=\"24px\">\n",
              "    <path d=\"M0 0h24v24H0V0z\" fill=\"none\"/>\n",
              "    <path d=\"M18.56 5.44l.94 2.06.94-2.06 2.06-.94-2.06-.94-.94-2.06-.94 2.06-2.06.94zm-11 1L8.5 8.5l.94-2.06 2.06-.94-2.06-.94L8.5 2.5l-.94 2.06-2.06.94zm10 10l.94 2.06.94-2.06 2.06-.94-2.06-.94-.94-2.06-.94 2.06-2.06.94z\"/><path d=\"M17.41 7.96l-1.37-1.37c-.4-.4-.92-.59-1.43-.59-.52 0-1.04.2-1.43.59L10.3 9.45l-7.72 7.72c-.78.78-.78 2.05 0 2.83L4 21.41c.39.39.9.59 1.41.59.51 0 1.02-.2 1.41-.59l7.78-7.78 2.81-2.81c.8-.78.8-2.07 0-2.86zM5.41 20L4 18.59l7.72-7.72 1.47 1.35L5.41 20z\"/>\n",
              "  </svg>\n",
              "      </button>\n",
              "      \n",
              "  <style>\n",
              "    .colab-df-container {\n",
              "      display:flex;\n",
              "      flex-wrap:wrap;\n",
              "      gap: 12px;\n",
              "    }\n",
              "\n",
              "    .colab-df-convert {\n",
              "      background-color: #E8F0FE;\n",
              "      border: none;\n",
              "      border-radius: 50%;\n",
              "      cursor: pointer;\n",
              "      display: none;\n",
              "      fill: #1967D2;\n",
              "      height: 32px;\n",
              "      padding: 0 0 0 0;\n",
              "      width: 32px;\n",
              "    }\n",
              "\n",
              "    .colab-df-convert:hover {\n",
              "      background-color: #E2EBFA;\n",
              "      box-shadow: 0px 1px 2px rgba(60, 64, 67, 0.3), 0px 1px 3px 1px rgba(60, 64, 67, 0.15);\n",
              "      fill: #174EA6;\n",
              "    }\n",
              "\n",
              "    [theme=dark] .colab-df-convert {\n",
              "      background-color: #3B4455;\n",
              "      fill: #D2E3FC;\n",
              "    }\n",
              "\n",
              "    [theme=dark] .colab-df-convert:hover {\n",
              "      background-color: #434B5C;\n",
              "      box-shadow: 0px 1px 3px 1px rgba(0, 0, 0, 0.15);\n",
              "      filter: drop-shadow(0px 1px 2px rgba(0, 0, 0, 0.3));\n",
              "      fill: #FFFFFF;\n",
              "    }\n",
              "  </style>\n",
              "\n",
              "      <script>\n",
              "        const buttonEl =\n",
              "          document.querySelector('#df-73cb0f9a-e7b5-4bd0-a043-77d963d98446 button.colab-df-convert');\n",
              "        buttonEl.style.display =\n",
              "          google.colab.kernel.accessAllowed ? 'block' : 'none';\n",
              "\n",
              "        async function convertToInteractive(key) {\n",
              "          const element = document.querySelector('#df-73cb0f9a-e7b5-4bd0-a043-77d963d98446');\n",
              "          const dataTable =\n",
              "            await google.colab.kernel.invokeFunction('convertToInteractive',\n",
              "                                                     [key], {});\n",
              "          if (!dataTable) return;\n",
              "\n",
              "          const docLinkHtml = 'Like what you see? Visit the ' +\n",
              "            '<a target=\"_blank\" href=https://colab.research.google.com/notebooks/data_table.ipynb>data table notebook</a>'\n",
              "            + ' to learn more about interactive tables.';\n",
              "          element.innerHTML = '';\n",
              "          dataTable['output_type'] = 'display_data';\n",
              "          await google.colab.output.renderOutput(dataTable, element);\n",
              "          const docLink = document.createElement('div');\n",
              "          docLink.innerHTML = docLinkHtml;\n",
              "          element.appendChild(docLink);\n",
              "        }\n",
              "      </script>\n",
              "    </div>\n",
              "  </div>\n",
              "  "
            ]
          },
          "metadata": {},
          "execution_count": 46
        }
      ],
      "id": "3kI512RUFBfJ"
    },
    {
      "cell_type": "code",
      "source": [
        "import sklearn\n",
        "\n",
        "print(\"Accuracy With fastText CNN-LSTM :\")\n",
        "print(sklearn.metrics.accuracy_score(sample.l, sample.pred))"
      ],
      "metadata": {
        "id": "NELdwog4FBfK",
        "colab": {
          "base_uri": "https://localhost:8080/"
        },
        "outputId": "05cc00a9-0c45-4559-98ec-ab6fa54833ef"
      },
      "execution_count": 47,
      "outputs": [
        {
          "output_type": "stream",
          "name": "stdout",
          "text": [
            "Accuracy With fastText CNN-LSTM :\n",
            "0.8175912043978011\n"
          ]
        }
      ],
      "id": "NELdwog4FBfK"
    },
    {
      "cell_type": "code",
      "source": [
        ""
      ],
      "metadata": {
        "id": "gPchjcqpaL9z"
      },
      "id": "gPchjcqpaL9z",
      "execution_count": 47,
      "outputs": []
    },
    {
      "cell_type": "code",
      "source": [
        ""
      ],
      "metadata": {
        "id": "bMSoKmfPaL7D"
      },
      "id": "bMSoKmfPaL7D",
      "execution_count": 47,
      "outputs": []
    },
    {
      "cell_type": "code",
      "source": [
        ""
      ],
      "metadata": {
        "id": "yvE2X462aL4C"
      },
      "id": "yvE2X462aL4C",
      "execution_count": null,
      "outputs": []
    }
  ],
  "metadata": {
    "accelerator": "GPU",
    "colab": {
      "name": "Imbalanced_data_fast_text .ipynb",
      "provenance": [],
      "collapsed_sections": []
    },
    "kernelspec": {
      "display_name": "Python 3 (ipykernel)",
      "language": "python",
      "name": "python3"
    },
    "language_info": {
      "codemirror_mode": {
        "name": "ipython",
        "version": 3
      },
      "file_extension": ".py",
      "mimetype": "text/x-python",
      "name": "python",
      "nbconvert_exporter": "python",
      "pygments_lexer": "ipython3",
      "version": "3.8.10"
    }
  },
  "nbformat": 4,
  "nbformat_minor": 5
}