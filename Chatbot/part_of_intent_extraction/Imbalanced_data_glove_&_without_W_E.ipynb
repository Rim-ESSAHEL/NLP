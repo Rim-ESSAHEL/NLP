{
 "cells": [
  {
   "cell_type": "code",
   "execution_count": 4,
   "metadata": {
    "id": "BV-tX3Obm-JB"
   },
   "outputs": [],
   "source": []
  },
  {
   "cell_type": "code",
   "execution_count": 64,
   "metadata": {
    "id": "b4f75dd6-e70f-4a56-82a8-377b93a08a25"
   },
   "outputs": [],
   "source": [
    "# For array, dataset, and visualizing\n",
    "import numpy as np\n",
    "import pandas as pd\n",
    "import seaborn as sns\n",
    "import matplotlib.pyplot as plt\n",
    "from sklearn.model_selection import train_test_split\n",
    "\n",
    "sns.set_style(\"whitegrid\")\n",
    "np.random.seed(0)"
   ]
  },
  {
   "cell_type": "code",
   "execution_count": 65,
   "metadata": {
    "colab": {
     "base_uri": "https://localhost:8080/",
     "height": 206
    },
    "id": "93fca529-297c-4a2f-b076-d66115b24a21",
    "outputId": "490f8fc2-abd4-48f6-e338-5b59b0441ec4"
   },
   "outputs": [
    {
     "data": {
      "text/html": [
       "\n",
       "  <div id=\"df-476ad63a-6ae0-4e82-abb7-dc3a06c92c17\">\n",
       "    <div class=\"colab-df-container\">\n",
       "      <div>\n",
       "<style scoped>\n",
       "    .dataframe tbody tr th:only-of-type {\n",
       "        vertical-align: middle;\n",
       "    }\n",
       "\n",
       "    .dataframe tbody tr th {\n",
       "        vertical-align: top;\n",
       "    }\n",
       "\n",
       "    .dataframe thead th {\n",
       "        text-align: right;\n",
       "    }\n",
       "</style>\n",
       "<table border=\"1\" class=\"dataframe\">\n",
       "  <thead>\n",
       "    <tr style=\"text-align: right;\">\n",
       "      <th></th>\n",
       "      <th>t</th>\n",
       "      <th>l</th>\n",
       "    </tr>\n",
       "  </thead>\n",
       "  <tbody>\n",
       "    <tr>\n",
       "      <th>0</th>\n",
       "      <td>I am still waiting on my card?</td>\n",
       "      <td>11</td>\n",
       "    </tr>\n",
       "    <tr>\n",
       "      <th>1</th>\n",
       "      <td>What can I do if my card still hasn't arrived ...</td>\n",
       "      <td>11</td>\n",
       "    </tr>\n",
       "    <tr>\n",
       "      <th>2</th>\n",
       "      <td>I have been waiting over a week. Is the card s...</td>\n",
       "      <td>11</td>\n",
       "    </tr>\n",
       "    <tr>\n",
       "      <th>3</th>\n",
       "      <td>Can I track my card while it is in the process...</td>\n",
       "      <td>11</td>\n",
       "    </tr>\n",
       "    <tr>\n",
       "      <th>4</th>\n",
       "      <td>How do I know if I will get my card, or if it ...</td>\n",
       "      <td>11</td>\n",
       "    </tr>\n",
       "  </tbody>\n",
       "</table>\n",
       "</div>\n",
       "      <button class=\"colab-df-convert\" onclick=\"convertToInteractive('df-476ad63a-6ae0-4e82-abb7-dc3a06c92c17')\"\n",
       "              title=\"Convert this dataframe to an interactive table.\"\n",
       "              style=\"display:none;\">\n",
       "        \n",
       "  <svg xmlns=\"http://www.w3.org/2000/svg\" height=\"24px\"viewBox=\"0 0 24 24\"\n",
       "       width=\"24px\">\n",
       "    <path d=\"M0 0h24v24H0V0z\" fill=\"none\"/>\n",
       "    <path d=\"M18.56 5.44l.94 2.06.94-2.06 2.06-.94-2.06-.94-.94-2.06-.94 2.06-2.06.94zm-11 1L8.5 8.5l.94-2.06 2.06-.94-2.06-.94L8.5 2.5l-.94 2.06-2.06.94zm10 10l.94 2.06.94-2.06 2.06-.94-2.06-.94-.94-2.06-.94 2.06-2.06.94z\"/><path d=\"M17.41 7.96l-1.37-1.37c-.4-.4-.92-.59-1.43-.59-.52 0-1.04.2-1.43.59L10.3 9.45l-7.72 7.72c-.78.78-.78 2.05 0 2.83L4 21.41c.39.39.9.59 1.41.59.51 0 1.02-.2 1.41-.59l7.78-7.78 2.81-2.81c.8-.78.8-2.07 0-2.86zM5.41 20L4 18.59l7.72-7.72 1.47 1.35L5.41 20z\"/>\n",
       "  </svg>\n",
       "      </button>\n",
       "      \n",
       "  <style>\n",
       "    .colab-df-container {\n",
       "      display:flex;\n",
       "      flex-wrap:wrap;\n",
       "      gap: 12px;\n",
       "    }\n",
       "\n",
       "    .colab-df-convert {\n",
       "      background-color: #E8F0FE;\n",
       "      border: none;\n",
       "      border-radius: 50%;\n",
       "      cursor: pointer;\n",
       "      display: none;\n",
       "      fill: #1967D2;\n",
       "      height: 32px;\n",
       "      padding: 0 0 0 0;\n",
       "      width: 32px;\n",
       "    }\n",
       "\n",
       "    .colab-df-convert:hover {\n",
       "      background-color: #E2EBFA;\n",
       "      box-shadow: 0px 1px 2px rgba(60, 64, 67, 0.3), 0px 1px 3px 1px rgba(60, 64, 67, 0.15);\n",
       "      fill: #174EA6;\n",
       "    }\n",
       "\n",
       "    [theme=dark] .colab-df-convert {\n",
       "      background-color: #3B4455;\n",
       "      fill: #D2E3FC;\n",
       "    }\n",
       "\n",
       "    [theme=dark] .colab-df-convert:hover {\n",
       "      background-color: #434B5C;\n",
       "      box-shadow: 0px 1px 3px 1px rgba(0, 0, 0, 0.15);\n",
       "      filter: drop-shadow(0px 1px 2px rgba(0, 0, 0, 0.3));\n",
       "      fill: #FFFFFF;\n",
       "    }\n",
       "  </style>\n",
       "\n",
       "      <script>\n",
       "        const buttonEl =\n",
       "          document.querySelector('#df-476ad63a-6ae0-4e82-abb7-dc3a06c92c17 button.colab-df-convert');\n",
       "        buttonEl.style.display =\n",
       "          google.colab.kernel.accessAllowed ? 'block' : 'none';\n",
       "\n",
       "        async function convertToInteractive(key) {\n",
       "          const element = document.querySelector('#df-476ad63a-6ae0-4e82-abb7-dc3a06c92c17');\n",
       "          const dataTable =\n",
       "            await google.colab.kernel.invokeFunction('convertToInteractive',\n",
       "                                                     [key], {});\n",
       "          if (!dataTable) return;\n",
       "\n",
       "          const docLinkHtml = 'Like what you see? Visit the ' +\n",
       "            '<a target=\"_blank\" href=https://colab.research.google.com/notebooks/data_table.ipynb>data table notebook</a>'\n",
       "            + ' to learn more about interactive tables.';\n",
       "          element.innerHTML = '';\n",
       "          dataTable['output_type'] = 'display_data';\n",
       "          await google.colab.output.renderOutput(dataTable, element);\n",
       "          const docLink = document.createElement('div');\n",
       "          docLink.innerHTML = docLinkHtml;\n",
       "          element.appendChild(docLink);\n",
       "        }\n",
       "      </script>\n",
       "    </div>\n",
       "  </div>\n",
       "  "
      ],
      "text/plain": [
       "                                                   t   l\n",
       "0                     I am still waiting on my card?  11\n",
       "1  What can I do if my card still hasn't arrived ...  11\n",
       "2  I have been waiting over a week. Is the card s...  11\n",
       "3  Can I track my card while it is in the process...  11\n",
       "4  How do I know if I will get my card, or if it ...  11"
      ]
     },
     "execution_count": 65,
     "metadata": {},
     "output_type": "execute_result"
    }
   ],
   "source": [
    "df = pd.read_csv('test_data.csv')\n",
    "df.head()"
   ]
  },
  {
   "cell_type": "code",
   "execution_count": 66,
   "metadata": {
    "id": "4CMZn4_b045c"
   },
   "outputs": [],
   "source": [
    "train_df, test_df = train_test_split(df, test_size=0.2, random_state=42, shuffle=True)"
   ]
  },
  {
   "cell_type": "code",
   "execution_count": 67,
   "metadata": {
    "colab": {
     "base_uri": "https://localhost:8080/"
    },
    "id": "5aX1GsKqCRmx",
    "outputId": "ed82187d-489e-47ea-859a-92f0319fbe6e"
   },
   "outputs": [
    {
     "name": "stdout",
     "output_type": "stream",
     "text": [
      "[nltk_data] Downloading package stopwords to /root/nltk_data...\n",
      "[nltk_data]   Package stopwords is already up-to-date!\n",
      "[nltk_data] Downloading package punkt to /root/nltk_data...\n",
      "[nltk_data]   Package punkt is already up-to-date!\n"
     ]
    }
   ],
   "source": [
    "#For Pre-Processing\n",
    "from tqdm import tqdm\n",
    "import nltk\n",
    "from nltk.corpus import stopwords\n",
    "nltk.download('stopwords')\n",
    "nltk.download('punkt')\n",
    "from nltk.tokenize import RegexpTokenizer \n",
    "from nltk.tokenize import word_tokenize\n",
    "import codecs\n"
   ]
  },
  {
   "cell_type": "code",
   "execution_count": 68,
   "metadata": {
    "id": "2eC_VZbY0Stg"
   },
   "outputs": [],
   "source": [
    "MAX_NB_WORDS = 100000\n",
    "tokenizer = RegexpTokenizer(r'\\w+')\n",
    "stop_words = set(stopwords.words('english'))\n",
    "stop_words.update(['.', ',', '\"', \"'\", ':', ';', '(', ')', '[', ']', '{', '}'])"
   ]
  },
  {
   "cell_type": "code",
   "execution_count": 69,
   "metadata": {
    "id": "gFtF8ITB_Ure"
   },
   "outputs": [],
   "source": [
    "label_names = [\"l\"]\n",
    "y_train = train_df[label_names].values\n",
    "train_df['doc_len'] = train_df['t'].apply(lambda words: len(words.split(\" \")))\n",
    "max_seq_len = np.round(train_df['doc_len'].mean() + train_df['doc_len'].std()).astype(int)\n"
   ]
  },
  {
   "cell_type": "code",
   "execution_count": 70,
   "metadata": {
    "colab": {
     "base_uri": "https://localhost:8080/"
    },
    "id": "r82QiMhB0yUG",
    "outputId": "b9587bde-7ef9-47d6-e5db-78ce19f2fa95"
   },
   "outputs": [
    {
     "name": "stdout",
     "output_type": "stream",
     "text": [
      "pre-processing train data...\n"
     ]
    },
    {
     "name": "stderr",
     "output_type": "stream",
     "text": [
      "100%|██████████| 8002/8002 [00:01<00:00, 5790.05it/s]\n",
      "100%|██████████| 2001/2001 [00:00<00:00, 5955.09it/s]\n"
     ]
    },
    {
     "name": "stdout",
     "output_type": "stream",
     "text": [
      "tokenizing input data...\n",
      "dictionary size:  2306\n"
     ]
    }
   ],
   "source": [
    "from sklearn.utils import shuffle \n",
    "from keras.preprocessing.text import Tokenizer\n",
    "from keras.preprocessing import sequence\n",
    "\n",
    "raw_docs_train = train_df['t'].tolist()\n",
    "raw_docs_test = test_df['t'].tolist() \n",
    "num_classes = len(label_names)\n",
    "\n",
    "print(\"pre-processing train data...\")\n",
    "\n",
    "processed_docs_train = []\n",
    "for doc in tqdm(raw_docs_train):\n",
    "    tokens = word_tokenize(doc)\n",
    "    filtered = [word for word in tokens if word not in stop_words]\n",
    "    processed_docs_train.append(\" \".join(filtered))\n",
    "#end for\n",
    "\n",
    "processed_docs_test = []\n",
    "for doc in tqdm(raw_docs_test):\n",
    "    tokens = word_tokenize(doc)\n",
    "    filtered = [word for word in tokens if word not in stop_words]\n",
    "    processed_docs_test.append(\" \".join(filtered))\n",
    "#end for\n",
    "\n",
    "print(\"tokenizing input data...\")\n",
    "tokenizer = Tokenizer(num_words=MAX_NB_WORDS, lower=True, char_level=False)\n",
    "tokenizer.fit_on_texts(processed_docs_train + processed_docs_test)  #leaky\n",
    "word_seq_train = tokenizer.texts_to_sequences(processed_docs_train)\n",
    "word_seq_test = tokenizer.texts_to_sequences(processed_docs_test)\n",
    "word_index = tokenizer.word_index\n",
    "print(\"dictionary size: \", len(word_index))\n",
    "\n",
    "#pad sequences\n",
    "word_seq_train = sequence.pad_sequences(word_seq_train, maxlen=max_seq_len)\n",
    "word_seq_test = sequence.pad_sequences(word_seq_test, maxlen=max_seq_len)"
   ]
  },
  {
   "cell_type": "code",
   "execution_count": 71,
   "metadata": {
    "id": "HMn0p8F4nKqA"
   },
   "outputs": [],
   "source": [
    "# For Training\n",
    "import keras\n",
    "from keras import optimizers\n",
    "from keras import backend as K\n",
    "from keras import regularizers\n",
    "from keras.models import Sequential\n",
    "from keras.layers import Dense, Activation, Dropout, Flatten\n",
    "from keras.layers import Embedding, Conv1D, MaxPooling1D, GlobalMaxPooling1D\n",
    "from tensorflow.keras.layers import Embedding, LSTM, Dense, Dropout, Bidirectional\n",
    "# from keras.utils import plot_model\n",
    "from keras.preprocessing import sequence\n",
    "from keras.callbacks import EarlyStopping\n",
    "\n",
    "#training params\n",
    "batch_size = 256 \n",
    "num_epochs = 40\n",
    "\n",
    "#model parameters\n",
    "num_filters = 64 \n",
    "embed_dim = 300 \n",
    "weight_decay = 1e-4"
   ]
  },
  {
   "cell_type": "markdown",
   "metadata": {
    "id": "qHWDQlSOz5ef"
   },
   "source": [
    "## Glove"
   ]
  },
  {
   "cell_type": "code",
   "execution_count": 13,
   "metadata": {
    "id": "e4bfa05c-7f0c-4194-b9cf-f536ca238823"
   },
   "outputs": [],
   "source": [
    "import requests, zipfile, io\n",
    "zip_file_url = \"http://nlp.stanford.edu/data/glove.840B.300d.zip\"\n",
    "r = requests.get(zip_file_url)\n",
    "z = zipfile.ZipFile(io.BytesIO(r.content))\n",
    "z.extractall()"
   ]
  },
  {
   "cell_type": "code",
   "execution_count": 14,
   "metadata": {
    "colab": {
     "base_uri": "https://localhost:8080/"
    },
    "id": "GBcVEYpo1GdC",
    "outputId": "f31fe8d1-bb5c-496c-f48c-98b718bdd2ae"
   },
   "outputs": [
    {
     "name": "stdout",
     "output_type": "stream",
     "text": [
      "loading word embeddings...\n"
     ]
    },
    {
     "name": "stderr",
     "output_type": "stream",
     "text": [
      "2196018it [03:59, 9184.49it/s]"
     ]
    },
    {
     "name": "stdout",
     "output_type": "stream",
     "text": [
      "found 2196016 word vectors\n"
     ]
    },
    {
     "name": "stderr",
     "output_type": "stream",
     "text": [
      "\n"
     ]
    }
   ],
   "source": [
    "print('loading word embeddings...')\n",
    "\n",
    "embeddings_index = {}\n",
    "f = codecs.open('/content/glove.840B.300d.txt', encoding='utf-8')\n",
    "\n",
    "for line in tqdm(f):\n",
    "    values = line.rstrip().rsplit(' ')\n",
    "    word = values[0]\n",
    "    coefs = np.asarray(values[1:], dtype='float32')\n",
    "    embeddings_index[word] = coefs\n",
    "f.close()\n",
    "\n",
    "print('found %s word vectors' % len(embeddings_index))"
   ]
  },
  {
   "cell_type": "code",
   "execution_count": 15,
   "metadata": {
    "colab": {
     "base_uri": "https://localhost:8080/"
    },
    "id": "kQt_f5sKFZKY",
    "outputId": "8dfc5c3d-3bbc-425d-e28e-9bcb10afb999"
   },
   "outputs": [
    {
     "name": "stdout",
     "output_type": "stream",
     "text": [
      "number of null word embeddings: 42\n"
     ]
    }
   ],
   "source": [
    "#embedding matrix\n",
    "\n",
    "words_not_found = []\n",
    "nb_words = min(MAX_NB_WORDS, len(word_index)+1)\n",
    "embedding_matrix = np.zeros((nb_words, embed_dim))\n",
    "\n",
    "for word, i in word_index.items():\n",
    "    if i >= nb_words:\n",
    "        continue\n",
    "    embedding_vector = embeddings_index.get(word)\n",
    "    if (embedding_vector is not None) and len(embedding_vector) > 0:\n",
    "        # words not found in embedding index will be all-zeros.\n",
    "        embedding_matrix[i] = embedding_vector\n",
    "    else:\n",
    "        words_not_found.append(word)\n",
    "print('number of null word embeddings: %d' % np.sum(np.sum(embedding_matrix, axis=1) == 0))"
   ]
  },
  {
   "cell_type": "markdown",
   "metadata": {
    "id": "M7GeH5k6FZ3Q"
   },
   "source": [
    "### LSTM"
   ]
  },
  {
   "cell_type": "code",
   "execution_count": 72,
   "metadata": {
    "id": "S4QbLzxY1O0u"
   },
   "outputs": [],
   "source": [
    "from keras.layers import BatchNormalization\n",
    "import tensorflow as tf\n",
    "\n",
    "def create_lstm_model():\n",
    "  model_lstm = tf.keras.Sequential()\n",
    "  model_lstm.add(Embedding(nb_words,embed_dim,input_length=max_seq_len, weights=[embedding_matrix],trainable=False))\n",
    "  # model.add(SpatialDropout1D(0.7))\n",
    "  model_lstm.add(Bidirectional(LSTM(128, dropout=0.7, recurrent_dropout=0.7)))\n",
    "  model_lstm.add(Dense(128,activation='relu'))\n",
    "  model_lstm.add(Dense(77, activation='softmax'))\n",
    "  model_lstm.compile(optimizer='adam', loss='categorical_crossentropy', metrics=['acc'])\n",
    "  return model_lstm\n"
   ]
  },
  {
   "cell_type": "code",
   "execution_count": 73,
   "metadata": {
    "colab": {
     "base_uri": "https://localhost:8080/"
    },
    "id": "2gpwTmEa1SOP",
    "outputId": "a73b4d72-a9a2-48d5-c417-d0148b17f3f6"
   },
   "outputs": [
    {
     "name": "stdout",
     "output_type": "stream",
     "text": [
      "Model: \"sequential_6\"\n",
      "_________________________________________________________________\n",
      " Layer (type)                Output Shape              Param #   \n",
      "=================================================================\n",
      " embedding_6 (Embedding)     (None, 20, 300)           756600    \n",
      "                                                                 \n",
      " bidirectional_4 (Bidirectio  (None, 256)              439296    \n",
      " nal)                                                            \n",
      "                                                                 \n",
      " dense_12 (Dense)            (None, 128)               32896     \n",
      "                                                                 \n",
      " dense_13 (Dense)            (None, 77)                9933      \n",
      "                                                                 \n",
      "=================================================================\n",
      "Total params: 1,238,725\n",
      "Trainable params: 482,125\n",
      "Non-trainable params: 756,600\n",
      "_________________________________________________________________\n"
     ]
    }
   ],
   "source": [
    "from keras.layers import BatchNormalization\n",
    "import tensorflow as tf\n",
    "\n",
    "model_lstm_glove = create_lstm_model()\n",
    "\n",
    "model_lstm_glove.summary()"
   ]
  },
  {
   "cell_type": "code",
   "execution_count": 74,
   "metadata": {
    "id": "sjO_2DEZ1Uos"
   },
   "outputs": [],
   "source": [
    "# from keras.optimizers import RMSprop\n",
    "from keras.callbacks import ModelCheckpoint\n",
    "from tensorflow.keras.callbacks import EarlyStopping\n",
    "\n",
    "model_lstm_glove.compile(optimizer='adam',loss = tf.keras.losses.SparseCategoricalCrossentropy(from_logits=True), metrics=['accuracy'])\n"
   ]
  },
  {
   "cell_type": "code",
   "execution_count": 75,
   "metadata": {
    "colab": {
     "base_uri": "https://localhost:8080/"
    },
    "id": "ky-3dLu04ETx",
    "outputId": "e944e537-d8b7-429e-9dda-bdd9322aaee9"
   },
   "outputs": [
    {
     "name": "stdout",
     "output_type": "stream",
     "text": [
      "Epoch 1/40\n"
     ]
    },
    {
     "name": "stderr",
     "output_type": "stream",
     "text": [
      "/usr/local/lib/python3.7/dist-packages/tensorflow/python/util/dispatch.py:1082: UserWarning: \"`sparse_categorical_crossentropy` received `from_logits=True`, but the `output` argument was produced by a sigmoid or softmax activation and thus does not represent logits. Was this intended?\"\n",
      "  return dispatch_target(*args, **kwargs)\n"
     ]
    },
    {
     "name": "stdout",
     "output_type": "stream",
     "text": [
      "22/22 [==============================] - 20s 618ms/step - loss: 4.3068 - accuracy: 0.0230 - val_loss: 4.2103 - val_accuracy: 0.0362\n",
      "Epoch 2/40\n",
      "22/22 [==============================] - 13s 580ms/step - loss: 4.1109 - accuracy: 0.0666 - val_loss: 3.8688 - val_accuracy: 0.1125\n",
      "Epoch 3/40\n",
      "22/22 [==============================] - 13s 584ms/step - loss: 3.7270 - accuracy: 0.1248 - val_loss: 3.3326 - val_accuracy: 0.2041\n",
      "Epoch 4/40\n",
      "22/22 [==============================] - 13s 576ms/step - loss: 3.2574 - accuracy: 0.2085 - val_loss: 2.7878 - val_accuracy: 0.3099\n",
      "Epoch 5/40\n",
      "22/22 [==============================] - 13s 586ms/step - loss: 2.8470 - accuracy: 0.2817 - val_loss: 2.3588 - val_accuracy: 0.3986\n",
      "Epoch 6/40\n",
      "22/22 [==============================] - 13s 589ms/step - loss: 2.5555 - accuracy: 0.3464 - val_loss: 2.1264 - val_accuracy: 0.4436\n",
      "Epoch 7/40\n",
      "22/22 [==============================] - 13s 592ms/step - loss: 2.3242 - accuracy: 0.3917 - val_loss: 1.9160 - val_accuracy: 0.4952\n",
      "Epoch 8/40\n",
      "22/22 [==============================] - 13s 584ms/step - loss: 2.1531 - accuracy: 0.4289 - val_loss: 1.7970 - val_accuracy: 0.5248\n",
      "Epoch 9/40\n",
      "22/22 [==============================] - 13s 588ms/step - loss: 1.9991 - accuracy: 0.4699 - val_loss: 1.6831 - val_accuracy: 0.5427\n",
      "Epoch 10/40\n",
      "22/22 [==============================] - 13s 585ms/step - loss: 1.8903 - accuracy: 0.4913 - val_loss: 1.5922 - val_accuracy: 0.5610\n",
      "Epoch 11/40\n",
      "22/22 [==============================] - 13s 590ms/step - loss: 1.7837 - accuracy: 0.5215 - val_loss: 1.5214 - val_accuracy: 0.5856\n",
      "Epoch 12/40\n",
      "22/22 [==============================] - 13s 589ms/step - loss: 1.7019 - accuracy: 0.5333 - val_loss: 1.4579 - val_accuracy: 0.5948\n",
      "Epoch 13/40\n",
      "22/22 [==============================] - 13s 588ms/step - loss: 1.5970 - accuracy: 0.5656 - val_loss: 1.4155 - val_accuracy: 0.6172\n",
      "Epoch 14/40\n",
      "22/22 [==============================] - 13s 588ms/step - loss: 1.5341 - accuracy: 0.5801 - val_loss: 1.3534 - val_accuracy: 0.6231\n",
      "Epoch 15/40\n",
      "22/22 [==============================] - 13s 593ms/step - loss: 1.4694 - accuracy: 0.5988 - val_loss: 1.3174 - val_accuracy: 0.6327\n",
      "Epoch 16/40\n",
      "22/22 [==============================] - 13s 589ms/step - loss: 1.3972 - accuracy: 0.6079 - val_loss: 1.2827 - val_accuracy: 0.6476\n",
      "Epoch 17/40\n",
      "22/22 [==============================] - 14s 648ms/step - loss: 1.3666 - accuracy: 0.6185 - val_loss: 1.2239 - val_accuracy: 0.6543\n",
      "Epoch 18/40\n",
      "22/22 [==============================] - 13s 578ms/step - loss: 1.2916 - accuracy: 0.6390 - val_loss: 1.1908 - val_accuracy: 0.6651\n",
      "Epoch 19/40\n",
      "22/22 [==============================] - 13s 579ms/step - loss: 1.2374 - accuracy: 0.6535 - val_loss: 1.1636 - val_accuracy: 0.6693\n",
      "Epoch 20/40\n",
      "22/22 [==============================] - 13s 577ms/step - loss: 1.1989 - accuracy: 0.6631 - val_loss: 1.1265 - val_accuracy: 0.6818\n",
      "Epoch 21/40\n",
      "22/22 [==============================] - 13s 579ms/step - loss: 1.1664 - accuracy: 0.6647 - val_loss: 1.1163 - val_accuracy: 0.6847\n",
      "Epoch 22/40\n",
      "22/22 [==============================] - 13s 581ms/step - loss: 1.1137 - accuracy: 0.6877 - val_loss: 1.0775 - val_accuracy: 0.6972\n",
      "Epoch 23/40\n",
      "22/22 [==============================] - 13s 583ms/step - loss: 1.0683 - accuracy: 0.6911 - val_loss: 1.0621 - val_accuracy: 0.7005\n",
      "Epoch 24/40\n",
      "22/22 [==============================] - 13s 592ms/step - loss: 1.0425 - accuracy: 0.7074 - val_loss: 1.0365 - val_accuracy: 0.7093\n",
      "Epoch 25/40\n",
      "22/22 [==============================] - 13s 585ms/step - loss: 0.9877 - accuracy: 0.7183 - val_loss: 1.0235 - val_accuracy: 0.7189\n",
      "Epoch 26/40\n",
      "22/22 [==============================] - 13s 589ms/step - loss: 0.9707 - accuracy: 0.7193 - val_loss: 1.0007 - val_accuracy: 0.7226\n",
      "Epoch 27/40\n",
      "22/22 [==============================] - 13s 587ms/step - loss: 0.9494 - accuracy: 0.7211 - val_loss: 0.9876 - val_accuracy: 0.7214\n",
      "Epoch 28/40\n",
      "22/22 [==============================] - 13s 589ms/step - loss: 0.9403 - accuracy: 0.7313 - val_loss: 0.9696 - val_accuracy: 0.7322\n",
      "Epoch 29/40\n",
      "22/22 [==============================] - 13s 583ms/step - loss: 0.8902 - accuracy: 0.7431 - val_loss: 0.9647 - val_accuracy: 0.7380\n",
      "Epoch 30/40\n",
      "22/22 [==============================] - 13s 587ms/step - loss: 0.8639 - accuracy: 0.7418 - val_loss: 0.9360 - val_accuracy: 0.7376\n",
      "Epoch 31/40\n",
      "22/22 [==============================] - 13s 594ms/step - loss: 0.8412 - accuracy: 0.7549 - val_loss: 0.9267 - val_accuracy: 0.7459\n",
      "Epoch 32/40\n",
      "22/22 [==============================] - 13s 595ms/step - loss: 0.8216 - accuracy: 0.7583 - val_loss: 0.9205 - val_accuracy: 0.7455\n",
      "Epoch 33/40\n",
      "22/22 [==============================] - 13s 588ms/step - loss: 0.7808 - accuracy: 0.7797 - val_loss: 0.9107 - val_accuracy: 0.7472\n",
      "Epoch 34/40\n",
      "22/22 [==============================] - 14s 654ms/step - loss: 0.7797 - accuracy: 0.7731 - val_loss: 0.9074 - val_accuracy: 0.7514\n",
      "Epoch 35/40\n",
      "22/22 [==============================] - 13s 588ms/step - loss: 0.7583 - accuracy: 0.7740 - val_loss: 0.8859 - val_accuracy: 0.7584\n",
      "Epoch 36/40\n",
      "22/22 [==============================] - 13s 584ms/step - loss: 0.7282 - accuracy: 0.7875 - val_loss: 0.8876 - val_accuracy: 0.7568\n",
      "Epoch 37/40\n",
      "22/22 [==============================] - 13s 589ms/step - loss: 0.7163 - accuracy: 0.7890 - val_loss: 0.8771 - val_accuracy: 0.7601\n",
      "Epoch 38/40\n",
      "22/22 [==============================] - 13s 593ms/step - loss: 0.6915 - accuracy: 0.8022 - val_loss: 0.8874 - val_accuracy: 0.7609\n",
      "Epoch 39/40\n",
      "22/22 [==============================] - 13s 591ms/step - loss: 0.6798 - accuracy: 0.7999 - val_loss: 0.8629 - val_accuracy: 0.7634\n",
      "Epoch 40/40\n",
      "22/22 [==============================] - 13s 592ms/step - loss: 0.6663 - accuracy: 0.8079 - val_loss: 0.8632 - val_accuracy: 0.7726\n"
     ]
    }
   ],
   "source": [
    "es_callback = EarlyStopping(monitor='val_loss', patience=3)\n",
    "\n",
    "history_glove = model_lstm_glove.fit(word_seq_train, y_train, batch_size=256, epochs=num_epochs, validation_split=0.3, callbacks=[es_callback], shuffle=False)"
   ]
  },
  {
   "cell_type": "code",
   "execution_count": 76,
   "metadata": {
    "colab": {
     "base_uri": "https://localhost:8080/",
     "height": 295
    },
    "id": "0TgeUMY54m97",
    "outputId": "1eef028c-8f7b-4ce7-fad9-e2d49408a260"
   },
   "outputs": [
    {
     "data": {
      "image/png": "[encoded data removed]",
      "text/plain": [
       "<Figure size 432x288 with 1 Axes>"
      ]
     },
     "metadata": {},
     "output_type": "display_data"
    }
   ],
   "source": [
    "#generate plots\n",
    "plt.figure()\n",
    "plt.plot(history_glove.history['loss'], lw=2.0, color='b', label='train')\n",
    "plt.plot(history_glove.history['val_loss'], lw=2.0, color='r', label='val')\n",
    "plt.title('LSTM glove')\n",
    "plt.xlabel('Epochs')\n",
    "plt.ylabel('Cross-Entropy Loss')\n",
    "plt.legend(loc='upper right')\n",
    "plt.show()"
   ]
  },
  {
   "cell_type": "code",
   "execution_count": 77,
   "metadata": {
    "colab": {
     "base_uri": "https://localhost:8080/",
     "height": 295
    },
    "id": "wd7sQL2N4pxE",
    "outputId": "aceb3cb9-5cc8-4490-f3b7-300e64a79c53"
   },
   "outputs": [
    {
     "data": {
      "image/png": "[encoded data removed]",
      "text/plain": [
       "<Figure size 432x288 with 1 Axes>"
      ]
     },
     "metadata": {},
     "output_type": "display_data"
    }
   ],
   "source": [
    "plt.figure()\n",
    "plt.plot(history_glove.history['accuracy'], lw=2.0, color='b', label='train')\n",
    "plt.plot(history_glove.history['val_accuracy'], lw=2.0, color='r', label='val')\n",
    "plt.title('LSTM glove')\n",
    "plt.xlabel('Epochs')\n",
    "plt.ylabel('Accuracy')\n",
    "plt.legend(loc='upper left')\n",
    "plt.show()"
   ]
  },
  {
   "cell_type": "code",
   "execution_count": 78,
   "metadata": {
    "colab": {
     "base_uri": "https://localhost:8080/",
     "height": 424
    },
    "id": "VFntRuVfWnCF",
    "outputId": "588beb8d-3879-4912-ae69-929b484fdd44"
   },
   "outputs": [
    {
     "data": {
      "text/html": [
       "\n",
       "  <div id=\"df-00e3c778-2554-4f99-a2ae-21ee1697d464\">\n",
       "    <div class=\"colab-df-container\">\n",
       "      <div>\n",
       "<style scoped>\n",
       "    .dataframe tbody tr th:only-of-type {\n",
       "        vertical-align: middle;\n",
       "    }\n",
       "\n",
       "    .dataframe tbody tr th {\n",
       "        vertical-align: top;\n",
       "    }\n",
       "\n",
       "    .dataframe thead th {\n",
       "        text-align: right;\n",
       "    }\n",
       "</style>\n",
       "<table border=\"1\" class=\"dataframe\">\n",
       "  <thead>\n",
       "    <tr style=\"text-align: right;\">\n",
       "      <th></th>\n",
       "      <th>pred</th>\n",
       "      <th>l</th>\n",
       "    </tr>\n",
       "  </thead>\n",
       "  <tbody>\n",
       "    <tr>\n",
       "      <th>6883</th>\n",
       "      <td>21</td>\n",
       "      <td>21</td>\n",
       "    </tr>\n",
       "    <tr>\n",
       "      <th>5836</th>\n",
       "      <td>14</td>\n",
       "      <td>25</td>\n",
       "    </tr>\n",
       "    <tr>\n",
       "      <th>8601</th>\n",
       "      <td>59</td>\n",
       "      <td>59</td>\n",
       "    </tr>\n",
       "    <tr>\n",
       "      <th>2545</th>\n",
       "      <td>15</td>\n",
       "      <td>15</td>\n",
       "    </tr>\n",
       "    <tr>\n",
       "      <th>8697</th>\n",
       "      <td>5</td>\n",
       "      <td>5</td>\n",
       "    </tr>\n",
       "    <tr>\n",
       "      <th>...</th>\n",
       "      <td>...</td>\n",
       "      <td>...</td>\n",
       "    </tr>\n",
       "    <tr>\n",
       "      <th>2769</th>\n",
       "      <td>66</td>\n",
       "      <td>66</td>\n",
       "    </tr>\n",
       "    <tr>\n",
       "      <th>5065</th>\n",
       "      <td>26</td>\n",
       "      <td>26</td>\n",
       "    </tr>\n",
       "    <tr>\n",
       "      <th>8287</th>\n",
       "      <td>17</td>\n",
       "      <td>76</td>\n",
       "    </tr>\n",
       "    <tr>\n",
       "      <th>7986</th>\n",
       "      <td>58</td>\n",
       "      <td>58</td>\n",
       "    </tr>\n",
       "    <tr>\n",
       "      <th>1095</th>\n",
       "      <td>38</td>\n",
       "      <td>12</td>\n",
       "    </tr>\n",
       "  </tbody>\n",
       "</table>\n",
       "<p>2001 rows × 2 columns</p>\n",
       "</div>\n",
       "      <button class=\"colab-df-convert\" onclick=\"convertToInteractive('df-00e3c778-2554-4f99-a2ae-21ee1697d464')\"\n",
       "              title=\"Convert this dataframe to an interactive table.\"\n",
       "              style=\"display:none;\">\n",
       "        \n",
       "  <svg xmlns=\"http://www.w3.org/2000/svg\" height=\"24px\"viewBox=\"0 0 24 24\"\n",
       "       width=\"24px\">\n",
       "    <path d=\"M0 0h24v24H0V0z\" fill=\"none\"/>\n",
       "    <path d=\"M18.56 5.44l.94 2.06.94-2.06 2.06-.94-2.06-.94-.94-2.06-.94 2.06-2.06.94zm-11 1L8.5 8.5l.94-2.06 2.06-.94-2.06-.94L8.5 2.5l-.94 2.06-2.06.94zm10 10l.94 2.06.94-2.06 2.06-.94-2.06-.94-.94-2.06-.94 2.06-2.06.94z\"/><path d=\"M17.41 7.96l-1.37-1.37c-.4-.4-.92-.59-1.43-.59-.52 0-1.04.2-1.43.59L10.3 9.45l-7.72 7.72c-.78.78-.78 2.05 0 2.83L4 21.41c.39.39.9.59 1.41.59.51 0 1.02-.2 1.41-.59l7.78-7.78 2.81-2.81c.8-.78.8-2.07 0-2.86zM5.41 20L4 18.59l7.72-7.72 1.47 1.35L5.41 20z\"/>\n",
       "  </svg>\n",
       "      </button>\n",
       "      \n",
       "  <style>\n",
       "    .colab-df-container {\n",
       "      display:flex;\n",
       "      flex-wrap:wrap;\n",
       "      gap: 12px;\n",
       "    }\n",
       "\n",
       "    .colab-df-convert {\n",
       "      background-color: #E8F0FE;\n",
       "      border: none;\n",
       "      border-radius: 50%;\n",
       "      cursor: pointer;\n",
       "      display: none;\n",
       "      fill: #1967D2;\n",
       "      height: 32px;\n",
       "      padding: 0 0 0 0;\n",
       "      width: 32px;\n",
       "    }\n",
       "\n",
       "    .colab-df-convert:hover {\n",
       "      background-color: #E2EBFA;\n",
       "      box-shadow: 0px 1px 2px rgba(60, 64, 67, 0.3), 0px 1px 3px 1px rgba(60, 64, 67, 0.15);\n",
       "      fill: #174EA6;\n",
       "    }\n",
       "\n",
       "    [theme=dark] .colab-df-convert {\n",
       "      background-color: #3B4455;\n",
       "      fill: #D2E3FC;\n",
       "    }\n",
       "\n",
       "    [theme=dark] .colab-df-convert:hover {\n",
       "      background-color: #434B5C;\n",
       "      box-shadow: 0px 1px 3px 1px rgba(0, 0, 0, 0.15);\n",
       "      filter: drop-shadow(0px 1px 2px rgba(0, 0, 0, 0.3));\n",
       "      fill: #FFFFFF;\n",
       "    }\n",
       "  </style>\n",
       "\n",
       "      <script>\n",
       "        const buttonEl =\n",
       "          document.querySelector('#df-00e3c778-2554-4f99-a2ae-21ee1697d464 button.colab-df-convert');\n",
       "        buttonEl.style.display =\n",
       "          google.colab.kernel.accessAllowed ? 'block' : 'none';\n",
       "\n",
       "        async function convertToInteractive(key) {\n",
       "          const element = document.querySelector('#df-00e3c778-2554-4f99-a2ae-21ee1697d464');\n",
       "          const dataTable =\n",
       "            await google.colab.kernel.invokeFunction('convertToInteractive',\n",
       "                                                     [key], {});\n",
       "          if (!dataTable) return;\n",
       "\n",
       "          const docLinkHtml = 'Like what you see? Visit the ' +\n",
       "            '<a target=\"_blank\" href=https://colab.research.google.com/notebooks/data_table.ipynb>data table notebook</a>'\n",
       "            + ' to learn more about interactive tables.';\n",
       "          element.innerHTML = '';\n",
       "          dataTable['output_type'] = 'display_data';\n",
       "          await google.colab.output.renderOutput(dataTable, element);\n",
       "          const docLink = document.createElement('div');\n",
       "          docLink.innerHTML = docLinkHtml;\n",
       "          element.appendChild(docLink);\n",
       "        }\n",
       "      </script>\n",
       "    </div>\n",
       "  </div>\n",
       "  "
      ],
      "text/plain": [
       "      pred   l\n",
       "6883    21  21\n",
       "5836    14  25\n",
       "8601    59  59\n",
       "2545    15  15\n",
       "8697     5   5\n",
       "...    ...  ..\n",
       "2769    66  66\n",
       "5065    26  26\n",
       "8287    17  76\n",
       "7986    58  58\n",
       "1095    38  12\n",
       "\n",
       "[2001 rows x 2 columns]"
      ]
     },
     "execution_count": 78,
     "metadata": {},
     "output_type": "execute_result"
    }
   ],
   "source": [
    "predictions = model_lstm_glove.predict(word_seq_test)\n",
    "list_ = []\n",
    "for i in range(len(predictions)):\n",
    "  a = predictions[i]\n",
    "  list_.append(np.where(a == a.max())[0][0] )\n",
    "\n",
    "\n",
    "sample= test_df\n",
    "sample['pred']= list_ \n",
    "sample[['pred', \"l\"]]"
   ]
  },
  {
   "cell_type": "code",
   "execution_count": 79,
   "metadata": {
    "colab": {
     "base_uri": "https://localhost:8080/"
    },
    "id": "-5cWtIdgW56a",
    "outputId": "346e8125-1a53-415d-a1fa-a6566116dda1"
   },
   "outputs": [
    {
     "name": "stdout",
     "output_type": "stream",
     "text": [
      "Accuracy With glove LSTM:\n",
      "0.776111944027986\n"
     ]
    }
   ],
   "source": [
    "import sklearn\n",
    "\n",
    "print(\"Accuracy With glove LSTM:\")\n",
    "print(sklearn.metrics.accuracy_score(sample.l, sample.pred))"
   ]
  },
  {
   "cell_type": "code",
   "execution_count": 79,
   "metadata": {
    "id": "am5CKWr29mef"
   },
   "outputs": [],
   "source": []
  },
  {
   "cell_type": "markdown",
   "metadata": {
    "id": "Ng7PfoFOF_B-"
   },
   "source": [
    "### CNN"
   ]
  },
  {
   "cell_type": "code",
   "execution_count": 80,
   "metadata": {
    "id": "EmCvP1GvF_B-"
   },
   "outputs": [],
   "source": [
    "#CNN architecture\n",
    "\n",
    "num_filters = 64 \n",
    "\n",
    "def create_cnn_model():\n",
    "  model_cnn = Sequential()\n",
    "  model_cnn.add(Embedding(nb_words, embed_dim, weights=[embedding_matrix], input_length=max_seq_len, trainable=False))\n",
    "  model_cnn.add(Conv1D(num_filters, 7, activation='relu', padding='same'))\n",
    "  model_cnn.add(MaxPooling1D(2))\n",
    "  model_cnn.add(Conv1D(num_filters, 7, activation='relu', padding='same'))\n",
    "  model_cnn.add(GlobalMaxPooling1D())\n",
    "  model_cnn.add(Dropout(0.5))\n",
    "  model_cnn.add(Dense(32, activation='relu', kernel_regularizer=regularizers.l2(weight_decay)))\n",
    "  model_cnn.add(Dense(77, activation='softmax'))\n",
    "\n",
    "  adam = tf.keras.optimizers.Adam(lr=0.001, beta_1=0.9, beta_2=0.999, epsilon=1e-08, decay=0.0)\n",
    "  model_cnn.compile(loss='binary_crossentropy', optimizer=adam, metrics=['accuracy'])\n",
    "  return model_cnn\n"
   ]
  },
  {
   "cell_type": "code",
   "execution_count": 81,
   "metadata": {
    "colab": {
     "base_uri": "https://localhost:8080/"
    },
    "id": "mPuNDf8NF_B_",
    "outputId": "176aea98-4f94-4755-c2a1-facbe240b9fc"
   },
   "outputs": [
    {
     "name": "stdout",
     "output_type": "stream",
     "text": [
      "Model: \"sequential_7\"\n",
      "_________________________________________________________________\n",
      " Layer (type)                Output Shape              Param #   \n",
      "=================================================================\n",
      " embedding_7 (Embedding)     (None, 20, 300)           756600    \n",
      "                                                                 \n",
      " conv1d_6 (Conv1D)           (None, 20, 64)            134464    \n",
      "                                                                 \n",
      " max_pooling1d_4 (MaxPooling  (None, 10, 64)           0         \n",
      " 1D)                                                             \n",
      "                                                                 \n",
      " conv1d_7 (Conv1D)           (None, 10, 64)            28736     \n",
      "                                                                 \n",
      " global_max_pooling1d_2 (Glo  (None, 64)               0         \n",
      " balMaxPooling1D)                                                \n",
      "                                                                 \n",
      " dropout_4 (Dropout)         (None, 64)                0         \n",
      "                                                                 \n",
      " dense_14 (Dense)            (None, 32)                2080      \n",
      "                                                                 \n",
      " dense_15 (Dense)            (None, 77)                2541      \n",
      "                                                                 \n",
      "=================================================================\n",
      "Total params: 924,421\n",
      "Trainable params: 167,821\n",
      "Non-trainable params: 756,600\n",
      "_________________________________________________________________\n"
     ]
    },
    {
     "name": "stderr",
     "output_type": "stream",
     "text": [
      "/usr/local/lib/python3.7/dist-packages/keras/optimizer_v2/adam.py:105: UserWarning: The `lr` argument is deprecated, use `learning_rate` instead.\n",
      "  super(Adam, self).__init__(name, **kwargs)\n"
     ]
    }
   ],
   "source": [
    "#CNN architecture\n",
    "model_cnn_glove = create_cnn_model()\n",
    "model_cnn_glove.summary()"
   ]
  },
  {
   "cell_type": "code",
   "execution_count": 82,
   "metadata": {
    "id": "Gg9aqcuOF_B_"
   },
   "outputs": [],
   "source": [
    "from keras.callbacks import ModelCheckpoint\n",
    "from tensorflow.keras.callbacks import EarlyStopping\n",
    "\n",
    "model_cnn_glove.compile(optimizer='adam',loss = tf.keras.losses.SparseCategoricalCrossentropy(from_logits=True), metrics=['accuracy'])"
   ]
  },
  {
   "cell_type": "code",
   "execution_count": 83,
   "metadata": {
    "colab": {
     "base_uri": "https://localhost:8080/"
    },
    "id": "JueVXnQUF_B_",
    "outputId": "27162c96-51b1-432d-d2a6-a1425341dd58"
   },
   "outputs": [
    {
     "name": "stdout",
     "output_type": "stream",
     "text": [
      "Epoch 1/40\n"
     ]
    },
    {
     "name": "stderr",
     "output_type": "stream",
     "text": [
      "/usr/local/lib/python3.7/dist-packages/tensorflow/python/util/dispatch.py:1082: UserWarning: \"`sparse_categorical_crossentropy` received `from_logits=True`, but the `output` argument was produced by a sigmoid or softmax activation and thus does not represent logits. Was this intended?\"\n",
      "  return dispatch_target(*args, **kwargs)\n"
     ]
    },
    {
     "name": "stdout",
     "output_type": "stream",
     "text": [
      "22/22 [==============================] - 3s 126ms/step - loss: 4.3480 - accuracy: 0.0168 - val_loss: 4.3295 - val_accuracy: 0.0296\n",
      "Epoch 2/40\n",
      "22/22 [==============================] - 2s 113ms/step - loss: 4.2907 - accuracy: 0.0248 - val_loss: 4.2423 - val_accuracy: 0.0479\n",
      "Epoch 3/40\n",
      "22/22 [==============================] - 3s 118ms/step - loss: 4.1584 - accuracy: 0.0550 - val_loss: 4.0499 - val_accuracy: 0.0866\n",
      "Epoch 4/40\n",
      "22/22 [==============================] - 3s 116ms/step - loss: 3.9186 - accuracy: 0.0930 - val_loss: 3.7515 - val_accuracy: 0.1154\n",
      "Epoch 5/40\n",
      "22/22 [==============================] - 2s 112ms/step - loss: 3.5904 - accuracy: 0.1357 - val_loss: 3.3581 - val_accuracy: 0.1928\n",
      "Epoch 6/40\n",
      "22/22 [==============================] - 2s 111ms/step - loss: 3.2432 - accuracy: 0.1951 - val_loss: 3.0047 - val_accuracy: 0.2524\n",
      "Epoch 7/40\n",
      "22/22 [==============================] - 2s 112ms/step - loss: 2.9377 - accuracy: 0.2442 - val_loss: 2.7291 - val_accuracy: 0.3232\n",
      "Epoch 8/40\n",
      "22/22 [==============================] - 2s 113ms/step - loss: 2.7036 - accuracy: 0.2823 - val_loss: 2.5202 - val_accuracy: 0.3653\n",
      "Epoch 9/40\n",
      "22/22 [==============================] - 2s 112ms/step - loss: 2.4601 - accuracy: 0.3424 - val_loss: 2.3186 - val_accuracy: 0.4173\n",
      "Epoch 10/40\n",
      "22/22 [==============================] - 3s 114ms/step - loss: 2.2461 - accuracy: 0.3803 - val_loss: 2.1542 - val_accuracy: 0.4511\n",
      "Epoch 11/40\n",
      "22/22 [==============================] - 2s 113ms/step - loss: 2.0761 - accuracy: 0.4258 - val_loss: 1.9916 - val_accuracy: 0.4948\n",
      "Epoch 12/40\n",
      "22/22 [==============================] - 2s 112ms/step - loss: 1.9577 - accuracy: 0.4483 - val_loss: 1.9000 - val_accuracy: 0.5181\n",
      "Epoch 13/40\n",
      "22/22 [==============================] - 2s 112ms/step - loss: 1.8086 - accuracy: 0.4894 - val_loss: 1.7925 - val_accuracy: 0.5406\n",
      "Epoch 14/40\n",
      "22/22 [==============================] - 2s 112ms/step - loss: 1.7116 - accuracy: 0.5022 - val_loss: 1.7473 - val_accuracy: 0.5544\n",
      "Epoch 15/40\n",
      "22/22 [==============================] - 2s 113ms/step - loss: 1.6046 - accuracy: 0.5363 - val_loss: 1.6927 - val_accuracy: 0.5739\n",
      "Epoch 16/40\n",
      "22/22 [==============================] - 3s 114ms/step - loss: 1.5372 - accuracy: 0.5638 - val_loss: 1.6308 - val_accuracy: 0.5777\n",
      "Epoch 17/40\n",
      "22/22 [==============================] - 3s 115ms/step - loss: 1.4510 - accuracy: 0.5769 - val_loss: 1.6299 - val_accuracy: 0.5714\n",
      "Epoch 18/40\n",
      "22/22 [==============================] - 2s 114ms/step - loss: 1.3662 - accuracy: 0.5960 - val_loss: 1.5613 - val_accuracy: 0.5881\n",
      "Epoch 19/40\n",
      "22/22 [==============================] - 2s 113ms/step - loss: 1.3193 - accuracy: 0.6144 - val_loss: 1.5320 - val_accuracy: 0.6018\n",
      "Epoch 20/40\n",
      "22/22 [==============================] - 3s 114ms/step - loss: 1.2229 - accuracy: 0.6426 - val_loss: 1.4629 - val_accuracy: 0.6147\n",
      "Epoch 21/40\n",
      "22/22 [==============================] - 3s 115ms/step - loss: 1.1400 - accuracy: 0.6561 - val_loss: 1.4458 - val_accuracy: 0.6139\n",
      "Epoch 22/40\n",
      "22/22 [==============================] - 3s 118ms/step - loss: 1.1344 - accuracy: 0.6638 - val_loss: 1.4380 - val_accuracy: 0.6235\n",
      "Epoch 23/40\n",
      "22/22 [==============================] - 3s 117ms/step - loss: 1.0782 - accuracy: 0.6826 - val_loss: 1.4179 - val_accuracy: 0.6227\n",
      "Epoch 24/40\n",
      "22/22 [==============================] - 3s 114ms/step - loss: 1.0467 - accuracy: 0.6926 - val_loss: 1.3890 - val_accuracy: 0.6306\n",
      "Epoch 25/40\n",
      "22/22 [==============================] - 2s 112ms/step - loss: 0.9702 - accuracy: 0.7145 - val_loss: 1.3813 - val_accuracy: 0.6368\n",
      "Epoch 26/40\n",
      "22/22 [==============================] - 3s 115ms/step - loss: 0.9329 - accuracy: 0.7172 - val_loss: 1.4109 - val_accuracy: 0.6322\n",
      "Epoch 27/40\n",
      "22/22 [==============================] - 2s 114ms/step - loss: 0.9138 - accuracy: 0.7242 - val_loss: 1.3782 - val_accuracy: 0.6352\n",
      "Epoch 28/40\n",
      "22/22 [==============================] - 2s 114ms/step - loss: 0.8605 - accuracy: 0.7499 - val_loss: 1.3536 - val_accuracy: 0.6389\n",
      "Epoch 29/40\n",
      "22/22 [==============================] - 3s 114ms/step - loss: 0.8506 - accuracy: 0.7415 - val_loss: 1.3408 - val_accuracy: 0.6439\n",
      "Epoch 30/40\n",
      "22/22 [==============================] - 3s 118ms/step - loss: 0.8275 - accuracy: 0.7475 - val_loss: 1.3634 - val_accuracy: 0.6497\n",
      "Epoch 31/40\n",
      "22/22 [==============================] - 2s 113ms/step - loss: 0.8014 - accuracy: 0.7579 - val_loss: 1.4191 - val_accuracy: 0.6410\n",
      "Epoch 32/40\n",
      "22/22 [==============================] - 3s 153ms/step - loss: 0.7548 - accuracy: 0.7750 - val_loss: 1.4482 - val_accuracy: 0.6331\n"
     ]
    }
   ],
   "source": [
    "es_callback = EarlyStopping(monitor='val_loss', patience=3)\n",
    "\n",
    "history = model_cnn_glove.fit(word_seq_train, y_train, batch_size=256, epochs=num_epochs, validation_split=0.3, callbacks=[es_callback], shuffle=False)"
   ]
  },
  {
   "cell_type": "code",
   "execution_count": 84,
   "metadata": {
    "colab": {
     "base_uri": "https://localhost:8080/",
     "height": 295
    },
    "id": "5Xp7v6zYF_B_",
    "outputId": "1b69d50c-f68f-4fed-a1b7-f3d146fbf90a"
   },
   "outputs": [
    {
     "data": {
      "image/png": "[encoded data removed]",
      "text/plain": [
       "<Figure size 432x288 with 1 Axes>"
      ]
     },
     "metadata": {},
     "output_type": "display_data"
    }
   ],
   "source": [
    "#generate plots\n",
    "plt.figure()\n",
    "plt.plot(history.history['loss'], lw=2.0, color='b', label='train')\n",
    "plt.plot(history.history['val_loss'], lw=2.0, color='r', label='val')\n",
    "plt.title('CNN Glove')\n",
    "plt.xlabel('Epochs')\n",
    "plt.ylabel('Cross-Entropy Loss')\n",
    "plt.legend(loc='upper right')\n",
    "plt.show()"
   ]
  },
  {
   "cell_type": "code",
   "execution_count": 85,
   "metadata": {
    "colab": {
     "base_uri": "https://localhost:8080/",
     "height": 295
    },
    "id": "QyYfKpfpF_B_",
    "outputId": "bc2b69f3-9b21-4e67-8eb1-04a2651c0d26"
   },
   "outputs": [
    {
     "data": {
      "image/png": "[encoded data removed]",
      "text/plain": [
       "<Figure size 432x288 with 1 Axes>"
      ]
     },
     "metadata": {},
     "output_type": "display_data"
    }
   ],
   "source": [
    "plt.figure()\n",
    "plt.plot(history.history['accuracy'], lw=2.0, color='b', label='train')\n",
    "plt.plot(history.history['val_accuracy'], lw=2.0, color='r', label='val')\n",
    "plt.title('CNN Glove')\n",
    "plt.xlabel('Epochs')\n",
    "plt.ylabel('Accuracy')\n",
    "plt.legend(loc='upper left')\n",
    "plt.show()"
   ]
  },
  {
   "cell_type": "code",
   "execution_count": 86,
   "metadata": {
    "colab": {
     "base_uri": "https://localhost:8080/",
     "height": 424
    },
    "id": "jr7e8a7qF_CA",
    "outputId": "ed923e05-20e8-49b3-8ae7-71fd92309a1d"
   },
   "outputs": [
    {
     "data": {
      "text/html": [
       "\n",
       "  <div id=\"df-9d3bd425-bdd2-4ae2-841a-0d8a31795393\">\n",
       "    <div class=\"colab-df-container\">\n",
       "      <div>\n",
       "<style scoped>\n",
       "    .dataframe tbody tr th:only-of-type {\n",
       "        vertical-align: middle;\n",
       "    }\n",
       "\n",
       "    .dataframe tbody tr th {\n",
       "        vertical-align: top;\n",
       "    }\n",
       "\n",
       "    .dataframe thead th {\n",
       "        text-align: right;\n",
       "    }\n",
       "</style>\n",
       "<table border=\"1\" class=\"dataframe\">\n",
       "  <thead>\n",
       "    <tr style=\"text-align: right;\">\n",
       "      <th></th>\n",
       "      <th>pred</th>\n",
       "      <th>l</th>\n",
       "    </tr>\n",
       "  </thead>\n",
       "  <tbody>\n",
       "    <tr>\n",
       "      <th>6883</th>\n",
       "      <td>21</td>\n",
       "      <td>21</td>\n",
       "    </tr>\n",
       "    <tr>\n",
       "      <th>5836</th>\n",
       "      <td>11</td>\n",
       "      <td>25</td>\n",
       "    </tr>\n",
       "    <tr>\n",
       "      <th>8601</th>\n",
       "      <td>71</td>\n",
       "      <td>59</td>\n",
       "    </tr>\n",
       "    <tr>\n",
       "      <th>2545</th>\n",
       "      <td>63</td>\n",
       "      <td>15</td>\n",
       "    </tr>\n",
       "    <tr>\n",
       "      <th>8697</th>\n",
       "      <td>5</td>\n",
       "      <td>5</td>\n",
       "    </tr>\n",
       "    <tr>\n",
       "      <th>...</th>\n",
       "      <td>...</td>\n",
       "      <td>...</td>\n",
       "    </tr>\n",
       "    <tr>\n",
       "      <th>2769</th>\n",
       "      <td>66</td>\n",
       "      <td>66</td>\n",
       "    </tr>\n",
       "    <tr>\n",
       "      <th>5065</th>\n",
       "      <td>26</td>\n",
       "      <td>26</td>\n",
       "    </tr>\n",
       "    <tr>\n",
       "      <th>8287</th>\n",
       "      <td>76</td>\n",
       "      <td>76</td>\n",
       "    </tr>\n",
       "    <tr>\n",
       "      <th>7986</th>\n",
       "      <td>58</td>\n",
       "      <td>58</td>\n",
       "    </tr>\n",
       "    <tr>\n",
       "      <th>1095</th>\n",
       "      <td>24</td>\n",
       "      <td>12</td>\n",
       "    </tr>\n",
       "  </tbody>\n",
       "</table>\n",
       "<p>2001 rows × 2 columns</p>\n",
       "</div>\n",
       "      <button class=\"colab-df-convert\" onclick=\"convertToInteractive('df-9d3bd425-bdd2-4ae2-841a-0d8a31795393')\"\n",
       "              title=\"Convert this dataframe to an interactive table.\"\n",
       "              style=\"display:none;\">\n",
       "        \n",
       "  <svg xmlns=\"http://www.w3.org/2000/svg\" height=\"24px\"viewBox=\"0 0 24 24\"\n",
       "       width=\"24px\">\n",
       "    <path d=\"M0 0h24v24H0V0z\" fill=\"none\"/>\n",
       "    <path d=\"M18.56 5.44l.94 2.06.94-2.06 2.06-.94-2.06-.94-.94-2.06-.94 2.06-2.06.94zm-11 1L8.5 8.5l.94-2.06 2.06-.94-2.06-.94L8.5 2.5l-.94 2.06-2.06.94zm10 10l.94 2.06.94-2.06 2.06-.94-2.06-.94-.94-2.06-.94 2.06-2.06.94z\"/><path d=\"M17.41 7.96l-1.37-1.37c-.4-.4-.92-.59-1.43-.59-.52 0-1.04.2-1.43.59L10.3 9.45l-7.72 7.72c-.78.78-.78 2.05 0 2.83L4 21.41c.39.39.9.59 1.41.59.51 0 1.02-.2 1.41-.59l7.78-7.78 2.81-2.81c.8-.78.8-2.07 0-2.86zM5.41 20L4 18.59l7.72-7.72 1.47 1.35L5.41 20z\"/>\n",
       "  </svg>\n",
       "      </button>\n",
       "      \n",
       "  <style>\n",
       "    .colab-df-container {\n",
       "      display:flex;\n",
       "      flex-wrap:wrap;\n",
       "      gap: 12px;\n",
       "    }\n",
       "\n",
       "    .colab-df-convert {\n",
       "      background-color: #E8F0FE;\n",
       "      border: none;\n",
       "      border-radius: 50%;\n",
       "      cursor: pointer;\n",
       "      display: none;\n",
       "      fill: #1967D2;\n",
       "      height: 32px;\n",
       "      padding: 0 0 0 0;\n",
       "      width: 32px;\n",
       "    }\n",
       "\n",
       "    .colab-df-convert:hover {\n",
       "      background-color: #E2EBFA;\n",
       "      box-shadow: 0px 1px 2px rgba(60, 64, 67, 0.3), 0px 1px 3px 1px rgba(60, 64, 67, 0.15);\n",
       "      fill: #174EA6;\n",
       "    }\n",
       "\n",
       "    [theme=dark] .colab-df-convert {\n",
       "      background-color: #3B4455;\n",
       "      fill: #D2E3FC;\n",
       "    }\n",
       "\n",
       "    [theme=dark] .colab-df-convert:hover {\n",
       "      background-color: #434B5C;\n",
       "      box-shadow: 0px 1px 3px 1px rgba(0, 0, 0, 0.15);\n",
       "      filter: drop-shadow(0px 1px 2px rgba(0, 0, 0, 0.3));\n",
       "      fill: #FFFFFF;\n",
       "    }\n",
       "  </style>\n",
       "\n",
       "      <script>\n",
       "        const buttonEl =\n",
       "          document.querySelector('#df-9d3bd425-bdd2-4ae2-841a-0d8a31795393 button.colab-df-convert');\n",
       "        buttonEl.style.display =\n",
       "          google.colab.kernel.accessAllowed ? 'block' : 'none';\n",
       "\n",
       "        async function convertToInteractive(key) {\n",
       "          const element = document.querySelector('#df-9d3bd425-bdd2-4ae2-841a-0d8a31795393');\n",
       "          const dataTable =\n",
       "            await google.colab.kernel.invokeFunction('convertToInteractive',\n",
       "                                                     [key], {});\n",
       "          if (!dataTable) return;\n",
       "\n",
       "          const docLinkHtml = 'Like what you see? Visit the ' +\n",
       "            '<a target=\"_blank\" href=https://colab.research.google.com/notebooks/data_table.ipynb>data table notebook</a>'\n",
       "            + ' to learn more about interactive tables.';\n",
       "          element.innerHTML = '';\n",
       "          dataTable['output_type'] = 'display_data';\n",
       "          await google.colab.output.renderOutput(dataTable, element);\n",
       "          const docLink = document.createElement('div');\n",
       "          docLink.innerHTML = docLinkHtml;\n",
       "          element.appendChild(docLink);\n",
       "        }\n",
       "      </script>\n",
       "    </div>\n",
       "  </div>\n",
       "  "
      ],
      "text/plain": [
       "      pred   l\n",
       "6883    21  21\n",
       "5836    11  25\n",
       "8601    71  59\n",
       "2545    63  15\n",
       "8697     5   5\n",
       "...    ...  ..\n",
       "2769    66  66\n",
       "5065    26  26\n",
       "8287    76  76\n",
       "7986    58  58\n",
       "1095    24  12\n",
       "\n",
       "[2001 rows x 2 columns]"
      ]
     },
     "execution_count": 86,
     "metadata": {},
     "output_type": "execute_result"
    }
   ],
   "source": [
    "predictions = model_cnn_glove.predict(word_seq_test)\n",
    "list_ = []\n",
    "for i in range(len(predictions)):\n",
    "  a = predictions[i]\n",
    "  list_.append(np.where(a == a.max())[0][0] )\n",
    "\n",
    "\n",
    "sample= test_df\n",
    "sample['pred']= list_ \n",
    "sample[['pred', \"l\"]]"
   ]
  },
  {
   "cell_type": "code",
   "execution_count": 87,
   "metadata": {
    "colab": {
     "base_uri": "https://localhost:8080/"
    },
    "id": "HrC5d1KGF_CA",
    "outputId": "2da0a3e6-79e7-4fad-dabf-52177716c8a9"
   },
   "outputs": [
    {
     "name": "stdout",
     "output_type": "stream",
     "text": [
      "Accuracy With glove CNN :\n",
      "0.6291854072963519\n"
     ]
    }
   ],
   "source": [
    "import sklearn\n",
    "\n",
    "print(\"Accuracy With glove CNN :\")\n",
    "print(sklearn.metrics.accuracy_score(sample.l, sample.pred))"
   ]
  },
  {
   "cell_type": "markdown",
   "metadata": {
    "id": "v-3aX-bjH9Lt"
   },
   "source": [
    "### CNN + LSTM"
   ]
  },
  {
   "cell_type": "code",
   "execution_count": 88,
   "metadata": {
    "id": "GHXobL5RH9L6"
   },
   "outputs": [],
   "source": [
    "def create_cnn_lstm_model():\n",
    "  model_mix = Sequential()\n",
    "  model_mix.add(Embedding(nb_words, embed_dim, weights=[embedding_matrix], input_length=max_seq_len, trainable=False))\n",
    "  model_mix.add(Dropout(0.2))\n",
    "  model_mix.add(Conv1D(num_filters, 7, activation='relu', padding='same'))\n",
    "  model_mix.add(MaxPooling1D(pool_size=4))\n",
    "  model_mix.add(Bidirectional(LSTM(128, dropout=0.7, recurrent_dropout=0.7)))\n",
    "  model_mix.add(Dense(128,activation='relu'))\n",
    "  model_mix.add(Dense(77, activation='softmax'))\n",
    "  model_mix.compile(optimizer='adam',loss = tf.keras.losses.SparseCategoricalCrossentropy(from_logits=True), metrics=['accuracy'])\n",
    "  return model_mix\n"
   ]
  },
  {
   "cell_type": "code",
   "execution_count": 89,
   "metadata": {
    "id": "3BXWTyjMH9L6"
   },
   "outputs": [],
   "source": [
    "model_mix_glove = create_cnn_lstm_model()"
   ]
  },
  {
   "cell_type": "code",
   "execution_count": 90,
   "metadata": {
    "colab": {
     "base_uri": "https://localhost:8080/"
    },
    "id": "N6Ep2E_vH9L7",
    "outputId": "df2b9ac6-5764-4fee-dd23-4026bd346839"
   },
   "outputs": [
    {
     "name": "stdout",
     "output_type": "stream",
     "text": [
      "Epoch 1/40\n"
     ]
    },
    {
     "name": "stderr",
     "output_type": "stream",
     "text": [
      "/usr/local/lib/python3.7/dist-packages/tensorflow/python/util/dispatch.py:1082: UserWarning: \"`sparse_categorical_crossentropy` received `from_logits=True`, but the `output` argument was produced by a sigmoid or softmax activation and thus does not represent logits. Was this intended?\"\n",
      "  return dispatch_target(*args, **kwargs)\n"
     ]
    },
    {
     "name": "stdout",
     "output_type": "stream",
     "text": [
      "22/22 [==============================] - 11s 234ms/step - loss: 4.3211 - accuracy: 0.0187 - val_loss: 4.2686 - val_accuracy: 0.0171\n",
      "Epoch 2/40\n",
      "22/22 [==============================] - 4s 201ms/step - loss: 4.2262 - accuracy: 0.0352 - val_loss: 4.0959 - val_accuracy: 0.0879\n",
      "Epoch 3/40\n",
      "22/22 [==============================] - 4s 202ms/step - loss: 3.9767 - accuracy: 0.0773 - val_loss: 3.6641 - val_accuracy: 0.1133\n",
      "Epoch 4/40\n",
      "22/22 [==============================] - 4s 204ms/step - loss: 3.5588 - accuracy: 0.1269 - val_loss: 3.2053 - val_accuracy: 0.1816\n",
      "Epoch 5/40\n",
      "22/22 [==============================] - 4s 205ms/step - loss: 3.1462 - accuracy: 0.1925 - val_loss: 2.7266 - val_accuracy: 0.2782\n",
      "Epoch 6/40\n",
      "22/22 [==============================] - 4s 204ms/step - loss: 2.8035 - accuracy: 0.2632 - val_loss: 2.4096 - val_accuracy: 0.3557\n",
      "Epoch 7/40\n",
      "22/22 [==============================] - 4s 203ms/step - loss: 2.5278 - accuracy: 0.3203 - val_loss: 2.1802 - val_accuracy: 0.4023\n",
      "Epoch 8/40\n",
      "22/22 [==============================] - 4s 198ms/step - loss: 2.3124 - accuracy: 0.3580 - val_loss: 2.0249 - val_accuracy: 0.4481\n",
      "Epoch 9/40\n",
      "22/22 [==============================] - 4s 198ms/step - loss: 2.1222 - accuracy: 0.4039 - val_loss: 1.8626 - val_accuracy: 0.4790\n",
      "Epoch 10/40\n",
      "22/22 [==============================] - 4s 199ms/step - loss: 1.9774 - accuracy: 0.4328 - val_loss: 1.7492 - val_accuracy: 0.5185\n",
      "Epoch 11/40\n",
      "22/22 [==============================] - 4s 201ms/step - loss: 1.8493 - accuracy: 0.4635 - val_loss: 1.6513 - val_accuracy: 0.5494\n",
      "Epoch 12/40\n",
      "22/22 [==============================] - 4s 203ms/step - loss: 1.7638 - accuracy: 0.4856 - val_loss: 1.5821 - val_accuracy: 0.5585\n",
      "Epoch 13/40\n",
      "22/22 [==============================] - 4s 204ms/step - loss: 1.6488 - accuracy: 0.5176 - val_loss: 1.5313 - val_accuracy: 0.5798\n",
      "Epoch 14/40\n",
      "22/22 [==============================] - 4s 203ms/step - loss: 1.5505 - accuracy: 0.5419 - val_loss: 1.4623 - val_accuracy: 0.6064\n",
      "Epoch 15/40\n",
      "22/22 [==============================] - 4s 203ms/step - loss: 1.4836 - accuracy: 0.5651 - val_loss: 1.4097 - val_accuracy: 0.6160\n",
      "Epoch 16/40\n",
      "22/22 [==============================] - 4s 203ms/step - loss: 1.4113 - accuracy: 0.5847 - val_loss: 1.3618 - val_accuracy: 0.6302\n",
      "Epoch 17/40\n",
      "22/22 [==============================] - 4s 203ms/step - loss: 1.3359 - accuracy: 0.6044 - val_loss: 1.3329 - val_accuracy: 0.6389\n",
      "Epoch 18/40\n",
      "22/22 [==============================] - 5s 208ms/step - loss: 1.3052 - accuracy: 0.6019 - val_loss: 1.2946 - val_accuracy: 0.6510\n",
      "Epoch 19/40\n",
      "22/22 [==============================] - 5s 206ms/step - loss: 1.2192 - accuracy: 0.6274 - val_loss: 1.2741 - val_accuracy: 0.6585\n",
      "Epoch 20/40\n",
      "22/22 [==============================] - 4s 198ms/step - loss: 1.1913 - accuracy: 0.6429 - val_loss: 1.2539 - val_accuracy: 0.6693\n",
      "Epoch 21/40\n",
      "22/22 [==============================] - 5s 205ms/step - loss: 1.1312 - accuracy: 0.6577 - val_loss: 1.2187 - val_accuracy: 0.6747\n",
      "Epoch 22/40\n",
      "22/22 [==============================] - 4s 202ms/step - loss: 1.0845 - accuracy: 0.6758 - val_loss: 1.2257 - val_accuracy: 0.6764\n",
      "Epoch 23/40\n",
      "22/22 [==============================] - 4s 199ms/step - loss: 1.0282 - accuracy: 0.6920 - val_loss: 1.1775 - val_accuracy: 0.6847\n",
      "Epoch 24/40\n",
      "22/22 [==============================] - 4s 200ms/step - loss: 1.0011 - accuracy: 0.6959 - val_loss: 1.1768 - val_accuracy: 0.6864\n",
      "Epoch 25/40\n",
      "22/22 [==============================] - 4s 199ms/step - loss: 0.9484 - accuracy: 0.7040 - val_loss: 1.1777 - val_accuracy: 0.6918\n",
      "Epoch 26/40\n",
      "22/22 [==============================] - 4s 204ms/step - loss: 0.9396 - accuracy: 0.7090 - val_loss: 1.1745 - val_accuracy: 0.6943\n",
      "Epoch 27/40\n",
      "22/22 [==============================] - 4s 200ms/step - loss: 0.8876 - accuracy: 0.7218 - val_loss: 1.1677 - val_accuracy: 0.7010\n",
      "Epoch 28/40\n",
      "22/22 [==============================] - 4s 199ms/step - loss: 0.8382 - accuracy: 0.7431 - val_loss: 1.1594 - val_accuracy: 0.6997\n",
      "Epoch 29/40\n",
      "22/22 [==============================] - 4s 201ms/step - loss: 0.8330 - accuracy: 0.7445 - val_loss: 1.1504 - val_accuracy: 0.7035\n",
      "Epoch 30/40\n",
      "22/22 [==============================] - 4s 197ms/step - loss: 0.7945 - accuracy: 0.7550 - val_loss: 1.1423 - val_accuracy: 0.7064\n",
      "Epoch 31/40\n",
      "22/22 [==============================] - 4s 199ms/step - loss: 0.7512 - accuracy: 0.7700 - val_loss: 1.1428 - val_accuracy: 0.7047\n",
      "Epoch 32/40\n",
      "22/22 [==============================] - 4s 196ms/step - loss: 0.7212 - accuracy: 0.7754 - val_loss: 1.1280 - val_accuracy: 0.7151\n",
      "Epoch 33/40\n",
      "22/22 [==============================] - 4s 198ms/step - loss: 0.6977 - accuracy: 0.7824 - val_loss: 1.1272 - val_accuracy: 0.7101\n",
      "Epoch 34/40\n",
      "22/22 [==============================] - 4s 200ms/step - loss: 0.6803 - accuracy: 0.7861 - val_loss: 1.1181 - val_accuracy: 0.7151\n",
      "Epoch 35/40\n",
      "22/22 [==============================] - 4s 199ms/step - loss: 0.6583 - accuracy: 0.7920 - val_loss: 1.1378 - val_accuracy: 0.7201\n",
      "Epoch 36/40\n",
      "22/22 [==============================] - 4s 201ms/step - loss: 0.6408 - accuracy: 0.7983 - val_loss: 1.1338 - val_accuracy: 0.7139\n",
      "Epoch 37/40\n",
      "22/22 [==============================] - 4s 200ms/step - loss: 0.6297 - accuracy: 0.8050 - val_loss: 1.1137 - val_accuracy: 0.7214\n",
      "Epoch 38/40\n",
      "22/22 [==============================] - 4s 199ms/step - loss: 0.6080 - accuracy: 0.8082 - val_loss: 1.1328 - val_accuracy: 0.7218\n",
      "Epoch 39/40\n",
      "22/22 [==============================] - 4s 199ms/step - loss: 0.5829 - accuracy: 0.8238 - val_loss: 1.1359 - val_accuracy: 0.7226\n",
      "Epoch 40/40\n",
      "22/22 [==============================] - 4s 203ms/step - loss: 0.5720 - accuracy: 0.8200 - val_loss: 1.1070 - val_accuracy: 0.7251\n"
     ]
    }
   ],
   "source": [
    "es_callback = EarlyStopping(monitor='val_loss', patience=3)\n",
    "\n",
    "history = model_mix_glove.fit(word_seq_train, y_train, batch_size=256, epochs=num_epochs, validation_split=0.3, callbacks=[es_callback], shuffle=False)"
   ]
  },
  {
   "cell_type": "code",
   "execution_count": 90,
   "metadata": {
    "id": "y4aLHvG0H9L7"
   },
   "outputs": [],
   "source": []
  },
  {
   "cell_type": "code",
   "execution_count": 91,
   "metadata": {
    "colab": {
     "base_uri": "https://localhost:8080/",
     "height": 295
    },
    "id": "ATAsgDfLH9L7",
    "outputId": "6dc5197c-9035-403b-e7c4-cc453c03de28"
   },
   "outputs": [
    {
     "data": {
      "image/png": "[encoded data removed]",
      "text/plain": [
       "<Figure size 432x288 with 1 Axes>"
      ]
     },
     "metadata": {},
     "output_type": "display_data"
    }
   ],
   "source": [
    "#generate plots\n",
    "plt.figure()\n",
    "plt.plot(history.history['loss'], lw=2.0, color='b', label='train')\n",
    "plt.plot(history.history['val_loss'], lw=2.0, color='r', label='val')\n",
    "plt.title('CNN-LSTM glove')\n",
    "plt.xlabel('Epochs')\n",
    "plt.ylabel('Cross-Entropy Loss')\n",
    "plt.legend(loc='upper right')\n",
    "plt.show()"
   ]
  },
  {
   "cell_type": "code",
   "execution_count": 92,
   "metadata": {
    "colab": {
     "base_uri": "https://localhost:8080/",
     "height": 295
    },
    "id": "oMOYx-LcH9L7",
    "outputId": "6ce0f95b-018c-4b7d-9fe4-0cb5e79f91ac"
   },
   "outputs": [
    {
     "data": {
      "image/png": "[encoded data removed]",
      "text/plain": [
       "<Figure size 432x288 with 1 Axes>"
      ]
     },
     "metadata": {},
     "output_type": "display_data"
    }
   ],
   "source": [
    "plt.figure()\n",
    "plt.plot(history.history['accuracy'], lw=2.0, color='b', label='train')\n",
    "plt.plot(history.history['val_accuracy'], lw=2.0, color='r', label='val')\n",
    "plt.title('CNN-LSTM glove')\n",
    "plt.xlabel('Epochs')\n",
    "plt.ylabel('Accuracy')\n",
    "plt.legend(loc='upper left')\n",
    "plt.show()"
   ]
  },
  {
   "cell_type": "code",
   "execution_count": 93,
   "metadata": {
    "colab": {
     "base_uri": "https://localhost:8080/",
     "height": 424
    },
    "id": "s8hH9CUXH9L7",
    "outputId": "7c8fb236-4405-47cc-f5fd-5bb79f9e85d8"
   },
   "outputs": [
    {
     "data": {
      "text/html": [
       "\n",
       "  <div id=\"df-5d833ef2-87e2-40d8-9ed9-9b10190011f6\">\n",
       "    <div class=\"colab-df-container\">\n",
       "      <div>\n",
       "<style scoped>\n",
       "    .dataframe tbody tr th:only-of-type {\n",
       "        vertical-align: middle;\n",
       "    }\n",
       "\n",
       "    .dataframe tbody tr th {\n",
       "        vertical-align: top;\n",
       "    }\n",
       "\n",
       "    .dataframe thead th {\n",
       "        text-align: right;\n",
       "    }\n",
       "</style>\n",
       "<table border=\"1\" class=\"dataframe\">\n",
       "  <thead>\n",
       "    <tr style=\"text-align: right;\">\n",
       "      <th></th>\n",
       "      <th>pred</th>\n",
       "      <th>l</th>\n",
       "    </tr>\n",
       "  </thead>\n",
       "  <tbody>\n",
       "    <tr>\n",
       "      <th>6883</th>\n",
       "      <td>21</td>\n",
       "      <td>21</td>\n",
       "    </tr>\n",
       "    <tr>\n",
       "      <th>5836</th>\n",
       "      <td>14</td>\n",
       "      <td>25</td>\n",
       "    </tr>\n",
       "    <tr>\n",
       "      <th>8601</th>\n",
       "      <td>59</td>\n",
       "      <td>59</td>\n",
       "    </tr>\n",
       "    <tr>\n",
       "      <th>2545</th>\n",
       "      <td>34</td>\n",
       "      <td>15</td>\n",
       "    </tr>\n",
       "    <tr>\n",
       "      <th>8697</th>\n",
       "      <td>5</td>\n",
       "      <td>5</td>\n",
       "    </tr>\n",
       "    <tr>\n",
       "      <th>...</th>\n",
       "      <td>...</td>\n",
       "      <td>...</td>\n",
       "    </tr>\n",
       "    <tr>\n",
       "      <th>2769</th>\n",
       "      <td>61</td>\n",
       "      <td>66</td>\n",
       "    </tr>\n",
       "    <tr>\n",
       "      <th>5065</th>\n",
       "      <td>26</td>\n",
       "      <td>26</td>\n",
       "    </tr>\n",
       "    <tr>\n",
       "      <th>8287</th>\n",
       "      <td>17</td>\n",
       "      <td>76</td>\n",
       "    </tr>\n",
       "    <tr>\n",
       "      <th>7986</th>\n",
       "      <td>58</td>\n",
       "      <td>58</td>\n",
       "    </tr>\n",
       "    <tr>\n",
       "      <th>1095</th>\n",
       "      <td>12</td>\n",
       "      <td>12</td>\n",
       "    </tr>\n",
       "  </tbody>\n",
       "</table>\n",
       "<p>2001 rows × 2 columns</p>\n",
       "</div>\n",
       "      <button class=\"colab-df-convert\" onclick=\"convertToInteractive('df-5d833ef2-87e2-40d8-9ed9-9b10190011f6')\"\n",
       "              title=\"Convert this dataframe to an interactive table.\"\n",
       "              style=\"display:none;\">\n",
       "        \n",
       "  <svg xmlns=\"http://www.w3.org/2000/svg\" height=\"24px\"viewBox=\"0 0 24 24\"\n",
       "       width=\"24px\">\n",
       "    <path d=\"M0 0h24v24H0V0z\" fill=\"none\"/>\n",
       "    <path d=\"M18.56 5.44l.94 2.06.94-2.06 2.06-.94-2.06-.94-.94-2.06-.94 2.06-2.06.94zm-11 1L8.5 8.5l.94-2.06 2.06-.94-2.06-.94L8.5 2.5l-.94 2.06-2.06.94zm10 10l.94 2.06.94-2.06 2.06-.94-2.06-.94-.94-2.06-.94 2.06-2.06.94z\"/><path d=\"M17.41 7.96l-1.37-1.37c-.4-.4-.92-.59-1.43-.59-.52 0-1.04.2-1.43.59L10.3 9.45l-7.72 7.72c-.78.78-.78 2.05 0 2.83L4 21.41c.39.39.9.59 1.41.59.51 0 1.02-.2 1.41-.59l7.78-7.78 2.81-2.81c.8-.78.8-2.07 0-2.86zM5.41 20L4 18.59l7.72-7.72 1.47 1.35L5.41 20z\"/>\n",
       "  </svg>\n",
       "      </button>\n",
       "      \n",
       "  <style>\n",
       "    .colab-df-container {\n",
       "      display:flex;\n",
       "      flex-wrap:wrap;\n",
       "      gap: 12px;\n",
       "    }\n",
       "\n",
       "    .colab-df-convert {\n",
       "      background-color: #E8F0FE;\n",
       "      border: none;\n",
       "      border-radius: 50%;\n",
       "      cursor: pointer;\n",
       "      display: none;\n",
       "      fill: #1967D2;\n",
       "      height: 32px;\n",
       "      padding: 0 0 0 0;\n",
       "      width: 32px;\n",
       "    }\n",
       "\n",
       "    .colab-df-convert:hover {\n",
       "      background-color: #E2EBFA;\n",
       "      box-shadow: 0px 1px 2px rgba(60, 64, 67, 0.3), 0px 1px 3px 1px rgba(60, 64, 67, 0.15);\n",
       "      fill: #174EA6;\n",
       "    }\n",
       "\n",
       "    [theme=dark] .colab-df-convert {\n",
       "      background-color: #3B4455;\n",
       "      fill: #D2E3FC;\n",
       "    }\n",
       "\n",
       "    [theme=dark] .colab-df-convert:hover {\n",
       "      background-color: #434B5C;\n",
       "      box-shadow: 0px 1px 3px 1px rgba(0, 0, 0, 0.15);\n",
       "      filter: drop-shadow(0px 1px 2px rgba(0, 0, 0, 0.3));\n",
       "      fill: #FFFFFF;\n",
       "    }\n",
       "  </style>\n",
       "\n",
       "      <script>\n",
       "        const buttonEl =\n",
       "          document.querySelector('#df-5d833ef2-87e2-40d8-9ed9-9b10190011f6 button.colab-df-convert');\n",
       "        buttonEl.style.display =\n",
       "          google.colab.kernel.accessAllowed ? 'block' : 'none';\n",
       "\n",
       "        async function convertToInteractive(key) {\n",
       "          const element = document.querySelector('#df-5d833ef2-87e2-40d8-9ed9-9b10190011f6');\n",
       "          const dataTable =\n",
       "            await google.colab.kernel.invokeFunction('convertToInteractive',\n",
       "                                                     [key], {});\n",
       "          if (!dataTable) return;\n",
       "\n",
       "          const docLinkHtml = 'Like what you see? Visit the ' +\n",
       "            '<a target=\"_blank\" href=https://colab.research.google.com/notebooks/data_table.ipynb>data table notebook</a>'\n",
       "            + ' to learn more about interactive tables.';\n",
       "          element.innerHTML = '';\n",
       "          dataTable['output_type'] = 'display_data';\n",
       "          await google.colab.output.renderOutput(dataTable, element);\n",
       "          const docLink = document.createElement('div');\n",
       "          docLink.innerHTML = docLinkHtml;\n",
       "          element.appendChild(docLink);\n",
       "        }\n",
       "      </script>\n",
       "    </div>\n",
       "  </div>\n",
       "  "
      ],
      "text/plain": [
       "      pred   l\n",
       "6883    21  21\n",
       "5836    14  25\n",
       "8601    59  59\n",
       "2545    34  15\n",
       "8697     5   5\n",
       "...    ...  ..\n",
       "2769    61  66\n",
       "5065    26  26\n",
       "8287    17  76\n",
       "7986    58  58\n",
       "1095    12  12\n",
       "\n",
       "[2001 rows x 2 columns]"
      ]
     },
     "execution_count": 93,
     "metadata": {},
     "output_type": "execute_result"
    }
   ],
   "source": [
    "predictions = model_mix_glove.predict(word_seq_test)\n",
    "list_ = []\n",
    "for i in range(len(predictions)):\n",
    "  a = predictions[i]\n",
    "  list_.append(np.where(a == a.max())[0][0] )\n",
    "\n",
    "\n",
    "sample= test_df\n",
    "sample['pred']= list_ \n",
    "sample[['pred', \"l\"]]"
   ]
  },
  {
   "cell_type": "code",
   "execution_count": 94,
   "metadata": {
    "colab": {
     "base_uri": "https://localhost:8080/"
    },
    "id": "YE_lwyutH9L7",
    "outputId": "49b99765-dae7-41eb-cc5b-744d5caf71c3"
   },
   "outputs": [
    {
     "name": "stdout",
     "output_type": "stream",
     "text": [
      "Accuracy With glove CNN-LSTM :\n",
      "0.7286356821589205\n"
     ]
    }
   ],
   "source": [
    "import sklearn\n",
    "\n",
    "print(\"Accuracy With glove CNN-LSTM :\")\n",
    "print(sklearn.metrics.accuracy_score(sample.l, sample.pred))"
   ]
  },
  {
   "cell_type": "markdown",
   "metadata": {
    "id": "JMEApQxo9y1J"
   },
   "source": [
    "## Without word embedding\n",
    "**texte en gras**"
   ]
  },
  {
   "cell_type": "markdown",
   "metadata": {
    "id": "-u0dEhq8IPFx"
   },
   "source": [
    "### LSTM"
   ]
  },
  {
   "cell_type": "code",
   "execution_count": 95,
   "metadata": {
    "colab": {
     "base_uri": "https://localhost:8080/"
    },
    "id": "tHt__v3p95Lb",
    "outputId": "9cb5e735-e585-49c7-800b-3346d35afc0f"
   },
   "outputs": [
    {
     "name": "stdout",
     "output_type": "stream",
     "text": [
      "Model: \"sequential_9\"\n",
      "_________________________________________________________________\n",
      " Layer (type)                Output Shape              Param #   \n",
      "=================================================================\n",
      " embedding_9 (Embedding)     (None, 20, 300)           756600    \n",
      "                                                                 \n",
      " bidirectional_6 (Bidirectio  (None, 256)              439296    \n",
      " nal)                                                            \n",
      "                                                                 \n",
      " dense_18 (Dense)            (None, 128)               32896     \n",
      "                                                                 \n",
      " dense_19 (Dense)            (None, 77)                9933      \n",
      "                                                                 \n",
      "=================================================================\n",
      "Total params: 1,238,725\n",
      "Trainable params: 482,125\n",
      "Non-trainable params: 756,600\n",
      "_________________________________________________________________\n"
     ]
    }
   ],
   "source": [
    "from keras.layers import BatchNormalization\n",
    "import tensorflow as tf\n",
    "\n",
    "model_without_lstm = tf.keras.Sequential()\n",
    "\n",
    "model_without_lstm.add(Embedding(nb_words,embed_dim,input_length=max_seq_len, trainable=False))\n",
    "model_without_lstm.add(Bidirectional(LSTM(128, dropout=0.7, recurrent_dropout=0.7)))\n",
    "model_without_lstm.add(Dense(128,activation='relu'))\n",
    "model_without_lstm.add(Dense(77, activation='softmax'))\n",
    "model_without_lstm.compile(optimizer='adam', loss='categorical_crossentropy', metrics=['acc'])\n",
    "\n",
    "model_without_lstm.summary()"
   ]
  },
  {
   "cell_type": "code",
   "execution_count": 96,
   "metadata": {
    "id": "XzYKmQqv-CAn"
   },
   "outputs": [],
   "source": [
    "from keras.callbacks import ModelCheckpoint\n",
    "from tensorflow.keras.callbacks import EarlyStopping\n",
    "\n",
    "model_without_lstm.compile(loss='binary_crossentropy', optimizer='adam', metrics=['accuracy'])"
   ]
  },
  {
   "cell_type": "code",
   "execution_count": 97,
   "metadata": {
    "id": "lvajq1VK-B90"
   },
   "outputs": [],
   "source": [
    "# from keras.optimizers import RMSprop\n",
    "from keras.callbacks import ModelCheckpoint\n",
    "from tensorflow.keras.callbacks import EarlyStopping\n",
    "\n",
    "model_without_lstm.compile(optimizer='adam',loss = tf.keras.losses.SparseCategoricalCrossentropy(from_logits=True), metrics=['accuracy'])\n"
   ]
  },
  {
   "cell_type": "code",
   "execution_count": 98,
   "metadata": {
    "colab": {
     "base_uri": "https://localhost:8080/"
    },
    "id": "_KzgcuPr-B7O",
    "outputId": "b88bf0cd-e0c8-46a4-cfc9-ac00fc0a7039"
   },
   "outputs": [
    {
     "name": "stdout",
     "output_type": "stream",
     "text": [
      "Epoch 1/40\n"
     ]
    },
    {
     "name": "stderr",
     "output_type": "stream",
     "text": [
      "/usr/local/lib/python3.7/dist-packages/tensorflow/python/util/dispatch.py:1082: UserWarning: \"`sparse_categorical_crossentropy` received `from_logits=True`, but the `output` argument was produced by a sigmoid or softmax activation and thus does not represent logits. Was this intended?\"\n",
      "  return dispatch_target(*args, **kwargs)\n"
     ]
    },
    {
     "name": "stdout",
     "output_type": "stream",
     "text": [
      "22/22 [==============================] - 20s 613ms/step - loss: 4.3350 - accuracy: 0.0193 - val_loss: 4.3253 - val_accuracy: 0.0292\n",
      "Epoch 2/40\n",
      "22/22 [==============================] - 13s 582ms/step - loss: 4.3037 - accuracy: 0.0325 - val_loss: 4.2940 - val_accuracy: 0.0587\n",
      "Epoch 3/40\n",
      "22/22 [==============================] - 13s 590ms/step - loss: 4.2333 - accuracy: 0.0473 - val_loss: 4.1736 - val_accuracy: 0.0508\n",
      "Epoch 4/40\n",
      "22/22 [==============================] - 13s 583ms/step - loss: 4.1233 - accuracy: 0.0596 - val_loss: 4.0323 - val_accuracy: 0.0621\n",
      "Epoch 5/40\n",
      "22/22 [==============================] - 13s 595ms/step - loss: 3.9172 - accuracy: 0.0768 - val_loss: 3.6492 - val_accuracy: 0.1245\n",
      "Epoch 6/40\n",
      "22/22 [==============================] - 13s 588ms/step - loss: 3.6496 - accuracy: 0.1061 - val_loss: 3.3333 - val_accuracy: 0.1612\n",
      "Epoch 7/40\n",
      "22/22 [==============================] - 13s 592ms/step - loss: 3.4534 - accuracy: 0.1403 - val_loss: 3.0918 - val_accuracy: 0.2374\n",
      "Epoch 8/40\n",
      "22/22 [==============================] - 13s 585ms/step - loss: 3.2555 - accuracy: 0.1657 - val_loss: 2.9302 - val_accuracy: 0.2345\n",
      "Epoch 9/40\n",
      "22/22 [==============================] - 13s 583ms/step - loss: 3.1079 - accuracy: 0.1984 - val_loss: 2.8001 - val_accuracy: 0.3020\n",
      "Epoch 10/40\n",
      "22/22 [==============================] - 13s 585ms/step - loss: 2.9863 - accuracy: 0.2205 - val_loss: 2.6087 - val_accuracy: 0.3457\n",
      "Epoch 11/40\n",
      "22/22 [==============================] - 13s 586ms/step - loss: 2.8361 - accuracy: 0.2541 - val_loss: 2.4931 - val_accuracy: 0.3803\n",
      "Epoch 12/40\n",
      "22/22 [==============================] - 13s 584ms/step - loss: 2.7677 - accuracy: 0.2689 - val_loss: 2.3793 - val_accuracy: 0.3948\n",
      "Epoch 13/40\n",
      "22/22 [==============================] - 13s 570ms/step - loss: 2.6606 - accuracy: 0.2982 - val_loss: 2.2454 - val_accuracy: 0.4294\n",
      "Epoch 14/40\n",
      "22/22 [==============================] - 13s 580ms/step - loss: 2.5596 - accuracy: 0.3141 - val_loss: 2.1632 - val_accuracy: 0.4456\n",
      "Epoch 15/40\n",
      "22/22 [==============================] - 13s 577ms/step - loss: 2.4874 - accuracy: 0.3310 - val_loss: 2.0751 - val_accuracy: 0.4548\n",
      "Epoch 16/40\n",
      "22/22 [==============================] - 13s 587ms/step - loss: 2.4054 - accuracy: 0.3449 - val_loss: 2.0088 - val_accuracy: 0.4806\n",
      "Epoch 17/40\n",
      "22/22 [==============================] - 14s 647ms/step - loss: 2.3409 - accuracy: 0.3648 - val_loss: 1.9482 - val_accuracy: 0.4860\n",
      "Epoch 18/40\n",
      "22/22 [==============================] - 13s 585ms/step - loss: 2.2727 - accuracy: 0.3839 - val_loss: 1.8854 - val_accuracy: 0.5110\n",
      "Epoch 19/40\n",
      "22/22 [==============================] - 13s 584ms/step - loss: 2.2167 - accuracy: 0.3928 - val_loss: 1.7947 - val_accuracy: 0.5348\n",
      "Epoch 20/40\n",
      "22/22 [==============================] - 13s 584ms/step - loss: 2.1595 - accuracy: 0.4035 - val_loss: 1.7842 - val_accuracy: 0.5402\n",
      "Epoch 21/40\n",
      "22/22 [==============================] - 13s 595ms/step - loss: 2.1032 - accuracy: 0.4178 - val_loss: 1.6980 - val_accuracy: 0.5481\n",
      "Epoch 22/40\n",
      "22/22 [==============================] - 13s 590ms/step - loss: 2.0560 - accuracy: 0.4258 - val_loss: 1.6524 - val_accuracy: 0.5618\n",
      "Epoch 23/40\n",
      "22/22 [==============================] - 13s 589ms/step - loss: 2.0231 - accuracy: 0.4372 - val_loss: 1.6383 - val_accuracy: 0.5664\n",
      "Epoch 24/40\n",
      "22/22 [==============================] - 13s 589ms/step - loss: 1.9763 - accuracy: 0.4555 - val_loss: 1.5589 - val_accuracy: 0.5798\n",
      "Epoch 25/40\n",
      "22/22 [==============================] - 13s 586ms/step - loss: 1.9154 - accuracy: 0.4649 - val_loss: 1.5135 - val_accuracy: 0.5968\n",
      "Epoch 26/40\n",
      "22/22 [==============================] - 13s 585ms/step - loss: 1.9070 - accuracy: 0.4737 - val_loss: 1.4898 - val_accuracy: 0.6022\n",
      "Epoch 27/40\n",
      "22/22 [==============================] - 13s 575ms/step - loss: 1.8398 - accuracy: 0.4806 - val_loss: 1.4524 - val_accuracy: 0.6089\n",
      "Epoch 28/40\n",
      "22/22 [==============================] - 13s 585ms/step - loss: 1.8154 - accuracy: 0.4949 - val_loss: 1.4248 - val_accuracy: 0.6202\n",
      "Epoch 29/40\n",
      "22/22 [==============================] - 13s 579ms/step - loss: 1.7753 - accuracy: 0.4994 - val_loss: 1.3893 - val_accuracy: 0.6247\n",
      "Epoch 30/40\n",
      "22/22 [==============================] - 13s 588ms/step - loss: 1.7624 - accuracy: 0.5003 - val_loss: 1.3885 - val_accuracy: 0.6318\n",
      "Epoch 31/40\n",
      "22/22 [==============================] - 13s 583ms/step - loss: 1.7208 - accuracy: 0.5128 - val_loss: 1.3461 - val_accuracy: 0.6401\n",
      "Epoch 32/40\n",
      "22/22 [==============================] - 13s 580ms/step - loss: 1.6765 - accuracy: 0.5265 - val_loss: 1.3375 - val_accuracy: 0.6381\n",
      "Epoch 33/40\n",
      "22/22 [==============================] - 14s 647ms/step - loss: 1.6620 - accuracy: 0.5240 - val_loss: 1.2912 - val_accuracy: 0.6522\n",
      "Epoch 34/40\n",
      "22/22 [==============================] - 13s 589ms/step - loss: 1.6528 - accuracy: 0.5283 - val_loss: 1.3062 - val_accuracy: 0.6472\n",
      "Epoch 35/40\n",
      "22/22 [==============================] - 13s 590ms/step - loss: 1.5886 - accuracy: 0.5544 - val_loss: 1.2574 - val_accuracy: 0.6547\n",
      "Epoch 36/40\n",
      "22/22 [==============================] - 13s 586ms/step - loss: 1.6089 - accuracy: 0.5379 - val_loss: 1.2299 - val_accuracy: 0.6631\n",
      "Epoch 37/40\n",
      "22/22 [==============================] - 13s 571ms/step - loss: 1.5884 - accuracy: 0.5512 - val_loss: 1.2426 - val_accuracy: 0.6643\n",
      "Epoch 38/40\n",
      "22/22 [==============================] - 13s 580ms/step - loss: 1.5569 - accuracy: 0.5622 - val_loss: 1.2256 - val_accuracy: 0.6739\n",
      "Epoch 39/40\n",
      "22/22 [==============================] - 13s 576ms/step - loss: 1.5406 - accuracy: 0.5595 - val_loss: 1.2045 - val_accuracy: 0.6722\n",
      "Epoch 40/40\n",
      "22/22 [==============================] - 13s 578ms/step - loss: 1.4965 - accuracy: 0.5715 - val_loss: 1.1897 - val_accuracy: 0.6710\n"
     ]
    }
   ],
   "source": [
    "es_callback = EarlyStopping(monitor='val_loss', patience=3)\n",
    "\n",
    "history_glove = model_without_lstm.fit(word_seq_train, y_train, batch_size=256, epochs=num_epochs, validation_split=0.3, callbacks=[es_callback], shuffle=False)"
   ]
  },
  {
   "cell_type": "code",
   "execution_count": 98,
   "metadata": {
    "id": "dfXlTfkW-B4i"
   },
   "outputs": [],
   "source": []
  },
  {
   "cell_type": "code",
   "execution_count": 99,
   "metadata": {
    "colab": {
     "base_uri": "https://localhost:8080/",
     "height": 295
    },
    "id": "IcLTzdN6-89x",
    "outputId": "2f3d92df-991f-4ecf-a3b4-d057e94623a8"
   },
   "outputs": [
    {
     "data": {
      "image/png": "[encoded data removed]",
      "text/plain": [
       "<Figure size 432x288 with 1 Axes>"
      ]
     },
     "metadata": {},
     "output_type": "display_data"
    }
   ],
   "source": [
    "#generate plots\n",
    "plt.figure()\n",
    "plt.plot(history.history['loss'], lw=2.0, color='b', label='train')\n",
    "plt.plot(history.history['val_loss'], lw=2.0, color='r', label='val')\n",
    "plt.title('LSTM Without word Embedding')\n",
    "plt.xlabel('Epochs')\n",
    "plt.ylabel('Cross-Entropy Loss')\n",
    "plt.legend(loc='upper right')\n",
    "plt.show()"
   ]
  },
  {
   "cell_type": "code",
   "execution_count": 100,
   "metadata": {
    "colab": {
     "base_uri": "https://localhost:8080/",
     "height": 295
    },
    "id": "ej3y6ZMC-89y",
    "outputId": "7beabd76-6d8f-4e6a-82a0-8706027e3259"
   },
   "outputs": [
    {
     "data": {
      "image/png": "[encoded data removed]",
      "text/plain": [
       "<Figure size 432x288 with 1 Axes>"
      ]
     },
     "metadata": {},
     "output_type": "display_data"
    }
   ],
   "source": [
    "plt.figure()\n",
    "plt.plot(history.history['accuracy'], lw=2.0, color='b', label='train')\n",
    "plt.plot(history.history['val_accuracy'], lw=2.0, color='r', label='val')\n",
    "plt.title('LSTM Without word Embedding')\n",
    "plt.xlabel('Epochs')\n",
    "plt.ylabel('Accuracy')\n",
    "plt.legend(loc='upper left')\n",
    "plt.show()"
   ]
  },
  {
   "cell_type": "code",
   "execution_count": 100,
   "metadata": {
    "id": "padZDK0F-89y"
   },
   "outputs": [],
   "source": []
  },
  {
   "cell_type": "code",
   "execution_count": 101,
   "metadata": {
    "colab": {
     "base_uri": "https://localhost:8080/",
     "height": 424
    },
    "id": "6uC-tQlF-89z",
    "outputId": "646e7cbb-3417-4689-a886-6031fb37246c"
   },
   "outputs": [
    {
     "data": {
      "text/html": [
       "\n",
       "  <div id=\"df-d9ae6e4c-78c9-4993-9faa-6ccfc9d58f5c\">\n",
       "    <div class=\"colab-df-container\">\n",
       "      <div>\n",
       "<style scoped>\n",
       "    .dataframe tbody tr th:only-of-type {\n",
       "        vertical-align: middle;\n",
       "    }\n",
       "\n",
       "    .dataframe tbody tr th {\n",
       "        vertical-align: top;\n",
       "    }\n",
       "\n",
       "    .dataframe thead th {\n",
       "        text-align: right;\n",
       "    }\n",
       "</style>\n",
       "<table border=\"1\" class=\"dataframe\">\n",
       "  <thead>\n",
       "    <tr style=\"text-align: right;\">\n",
       "      <th></th>\n",
       "      <th>pred</th>\n",
       "      <th>l</th>\n",
       "    </tr>\n",
       "  </thead>\n",
       "  <tbody>\n",
       "    <tr>\n",
       "      <th>6883</th>\n",
       "      <td>21</td>\n",
       "      <td>21</td>\n",
       "    </tr>\n",
       "    <tr>\n",
       "      <th>5836</th>\n",
       "      <td>14</td>\n",
       "      <td>25</td>\n",
       "    </tr>\n",
       "    <tr>\n",
       "      <th>8601</th>\n",
       "      <td>59</td>\n",
       "      <td>59</td>\n",
       "    </tr>\n",
       "    <tr>\n",
       "      <th>2545</th>\n",
       "      <td>15</td>\n",
       "      <td>15</td>\n",
       "    </tr>\n",
       "    <tr>\n",
       "      <th>8697</th>\n",
       "      <td>5</td>\n",
       "      <td>5</td>\n",
       "    </tr>\n",
       "    <tr>\n",
       "      <th>...</th>\n",
       "      <td>...</td>\n",
       "      <td>...</td>\n",
       "    </tr>\n",
       "    <tr>\n",
       "      <th>2769</th>\n",
       "      <td>35</td>\n",
       "      <td>66</td>\n",
       "    </tr>\n",
       "    <tr>\n",
       "      <th>5065</th>\n",
       "      <td>26</td>\n",
       "      <td>26</td>\n",
       "    </tr>\n",
       "    <tr>\n",
       "      <th>8287</th>\n",
       "      <td>17</td>\n",
       "      <td>76</td>\n",
       "    </tr>\n",
       "    <tr>\n",
       "      <th>7986</th>\n",
       "      <td>58</td>\n",
       "      <td>58</td>\n",
       "    </tr>\n",
       "    <tr>\n",
       "      <th>1095</th>\n",
       "      <td>12</td>\n",
       "      <td>12</td>\n",
       "    </tr>\n",
       "  </tbody>\n",
       "</table>\n",
       "<p>2001 rows × 2 columns</p>\n",
       "</div>\n",
       "      <button class=\"colab-df-convert\" onclick=\"convertToInteractive('df-d9ae6e4c-78c9-4993-9faa-6ccfc9d58f5c')\"\n",
       "              title=\"Convert this dataframe to an interactive table.\"\n",
       "              style=\"display:none;\">\n",
       "        \n",
       "  <svg xmlns=\"http://www.w3.org/2000/svg\" height=\"24px\"viewBox=\"0 0 24 24\"\n",
       "       width=\"24px\">\n",
       "    <path d=\"M0 0h24v24H0V0z\" fill=\"none\"/>\n",
       "    <path d=\"M18.56 5.44l.94 2.06.94-2.06 2.06-.94-2.06-.94-.94-2.06-.94 2.06-2.06.94zm-11 1L8.5 8.5l.94-2.06 2.06-.94-2.06-.94L8.5 2.5l-.94 2.06-2.06.94zm10 10l.94 2.06.94-2.06 2.06-.94-2.06-.94-.94-2.06-.94 2.06-2.06.94z\"/><path d=\"M17.41 7.96l-1.37-1.37c-.4-.4-.92-.59-1.43-.59-.52 0-1.04.2-1.43.59L10.3 9.45l-7.72 7.72c-.78.78-.78 2.05 0 2.83L4 21.41c.39.39.9.59 1.41.59.51 0 1.02-.2 1.41-.59l7.78-7.78 2.81-2.81c.8-.78.8-2.07 0-2.86zM5.41 20L4 18.59l7.72-7.72 1.47 1.35L5.41 20z\"/>\n",
       "  </svg>\n",
       "      </button>\n",
       "      \n",
       "  <style>\n",
       "    .colab-df-container {\n",
       "      display:flex;\n",
       "      flex-wrap:wrap;\n",
       "      gap: 12px;\n",
       "    }\n",
       "\n",
       "    .colab-df-convert {\n",
       "      background-color: #E8F0FE;\n",
       "      border: none;\n",
       "      border-radius: 50%;\n",
       "      cursor: pointer;\n",
       "      display: none;\n",
       "      fill: #1967D2;\n",
       "      height: 32px;\n",
       "      padding: 0 0 0 0;\n",
       "      width: 32px;\n",
       "    }\n",
       "\n",
       "    .colab-df-convert:hover {\n",
       "      background-color: #E2EBFA;\n",
       "      box-shadow: 0px 1px 2px rgba(60, 64, 67, 0.3), 0px 1px 3px 1px rgba(60, 64, 67, 0.15);\n",
       "      fill: #174EA6;\n",
       "    }\n",
       "\n",
       "    [theme=dark] .colab-df-convert {\n",
       "      background-color: #3B4455;\n",
       "      fill: #D2E3FC;\n",
       "    }\n",
       "\n",
       "    [theme=dark] .colab-df-convert:hover {\n",
       "      background-color: #434B5C;\n",
       "      box-shadow: 0px 1px 3px 1px rgba(0, 0, 0, 0.15);\n",
       "      filter: drop-shadow(0px 1px 2px rgba(0, 0, 0, 0.3));\n",
       "      fill: #FFFFFF;\n",
       "    }\n",
       "  </style>\n",
       "\n",
       "      <script>\n",
       "        const buttonEl =\n",
       "          document.querySelector('#df-d9ae6e4c-78c9-4993-9faa-6ccfc9d58f5c button.colab-df-convert');\n",
       "        buttonEl.style.display =\n",
       "          google.colab.kernel.accessAllowed ? 'block' : 'none';\n",
       "\n",
       "        async function convertToInteractive(key) {\n",
       "          const element = document.querySelector('#df-d9ae6e4c-78c9-4993-9faa-6ccfc9d58f5c');\n",
       "          const dataTable =\n",
       "            await google.colab.kernel.invokeFunction('convertToInteractive',\n",
       "                                                     [key], {});\n",
       "          if (!dataTable) return;\n",
       "\n",
       "          const docLinkHtml = 'Like what you see? Visit the ' +\n",
       "            '<a target=\"_blank\" href=https://colab.research.google.com/notebooks/data_table.ipynb>data table notebook</a>'\n",
       "            + ' to learn more about interactive tables.';\n",
       "          element.innerHTML = '';\n",
       "          dataTable['output_type'] = 'display_data';\n",
       "          await google.colab.output.renderOutput(dataTable, element);\n",
       "          const docLink = document.createElement('div');\n",
       "          docLink.innerHTML = docLinkHtml;\n",
       "          element.appendChild(docLink);\n",
       "        }\n",
       "      </script>\n",
       "    </div>\n",
       "  </div>\n",
       "  "
      ],
      "text/plain": [
       "      pred   l\n",
       "6883    21  21\n",
       "5836    14  25\n",
       "8601    59  59\n",
       "2545    15  15\n",
       "8697     5   5\n",
       "...    ...  ..\n",
       "2769    35  66\n",
       "5065    26  26\n",
       "8287    17  76\n",
       "7986    58  58\n",
       "1095    12  12\n",
       "\n",
       "[2001 rows x 2 columns]"
      ]
     },
     "execution_count": 101,
     "metadata": {},
     "output_type": "execute_result"
    }
   ],
   "source": [
    "predictions = model_without_lstm.predict(word_seq_test)\n",
    "list_ = []\n",
    "for i in range(len(predictions)):\n",
    "  a = predictions[i]\n",
    "  list_.append(np.where(a == a.max())[0][0] )\n",
    "\n",
    "\n",
    "sample= test_df\n",
    "sample['pred']= list_ \n",
    "sample[['pred', \"l\"]]"
   ]
  },
  {
   "cell_type": "code",
   "execution_count": 102,
   "metadata": {
    "colab": {
     "base_uri": "https://localhost:8080/"
    },
    "id": "8-tFTsqC-_pd",
    "outputId": "d09e58ae-ae55-4741-ccf1-394a8218b84e"
   },
   "outputs": [
    {
     "name": "stdout",
     "output_type": "stream",
     "text": [
      "Accuracy Without word Embedding LSTM:\n",
      "0.6871564217891054\n"
     ]
    }
   ],
   "source": [
    "import sklearn\n",
    "\n",
    "print(\"Accuracy Without word Embedding LSTM:\")\n",
    "print(sklearn.metrics.accuracy_score(sample.l, sample.pred))"
   ]
  },
  {
   "cell_type": "code",
   "execution_count": 102,
   "metadata": {
    "id": "db3chfUV-_pd"
   },
   "outputs": [],
   "source": []
  },
  {
   "cell_type": "markdown",
   "metadata": {
    "id": "LCUua-pCIAK3"
   },
   "source": [
    "### CNN"
   ]
  },
  {
   "cell_type": "code",
   "execution_count": 103,
   "metadata": {
    "id": "m84E99I-IAK4"
   },
   "outputs": [],
   "source": [
    "num_filters = 64 "
   ]
  },
  {
   "cell_type": "code",
   "execution_count": 104,
   "metadata": {
    "colab": {
     "base_uri": "https://localhost:8080/"
    },
    "id": "T085sE_iIAK5",
    "outputId": "1afa2019-a3fc-447f-9669-58d3c6cede61"
   },
   "outputs": [
    {
     "name": "stdout",
     "output_type": "stream",
     "text": [
      "Model: \"sequential_10\"\n",
      "_________________________________________________________________\n",
      " Layer (type)                Output Shape              Param #   \n",
      "=================================================================\n",
      " embedding_10 (Embedding)    (None, 20, 300)           756600    \n",
      "                                                                 \n",
      " conv1d_9 (Conv1D)           (None, 20, 64)            134464    \n",
      "                                                                 \n",
      " max_pooling1d_6 (MaxPooling  (None, 10, 64)           0         \n",
      " 1D)                                                             \n",
      "                                                                 \n",
      " conv1d_10 (Conv1D)          (None, 10, 64)            28736     \n",
      "                                                                 \n",
      " global_max_pooling1d_3 (Glo  (None, 64)               0         \n",
      " balMaxPooling1D)                                                \n",
      "                                                                 \n",
      " dropout_6 (Dropout)         (None, 64)                0         \n",
      "                                                                 \n",
      " dense_20 (Dense)            (None, 32)                2080      \n",
      "                                                                 \n",
      " dense_21 (Dense)            (None, 77)                2541      \n",
      "                                                                 \n",
      "=================================================================\n",
      "Total params: 924,421\n",
      "Trainable params: 167,821\n",
      "Non-trainable params: 756,600\n",
      "_________________________________________________________________\n"
     ]
    },
    {
     "name": "stderr",
     "output_type": "stream",
     "text": [
      "/usr/local/lib/python3.7/dist-packages/keras/optimizer_v2/adam.py:105: UserWarning: The `lr` argument is deprecated, use `learning_rate` instead.\n",
      "  super(Adam, self).__init__(name, **kwargs)\n"
     ]
    }
   ],
   "source": [
    "#CNN architecture\n",
    "model_cnn = Sequential()\n",
    "model_cnn.add(Embedding(nb_words, embed_dim, input_length=max_seq_len, trainable=False))\n",
    "model_cnn.add(Conv1D(num_filters, 7, activation='relu', padding='same'))\n",
    "model_cnn.add(MaxPooling1D(2))\n",
    "model_cnn.add(Conv1D(num_filters, 7, activation='relu', padding='same'))\n",
    "model_cnn.add(GlobalMaxPooling1D())\n",
    "model_cnn.add(Dropout(0.5))\n",
    "model_cnn.add(Dense(32, activation='relu', kernel_regularizer=regularizers.l2(weight_decay)))\n",
    "model_cnn.add(Dense(77, activation='softmax'))\n",
    "\n",
    "adam = tf.keras.optimizers.Adam(lr=0.001, beta_1=0.9, beta_2=0.999, epsilon=1e-08, decay=0.0)\n",
    "model_cnn.compile(loss='binary_crossentropy', optimizer=adam, metrics=['accuracy'])\n",
    "model_cnn.summary()"
   ]
  },
  {
   "cell_type": "code",
   "execution_count": 105,
   "metadata": {
    "id": "mQq8DoAhIAK5"
   },
   "outputs": [],
   "source": [
    "from keras.callbacks import ModelCheckpoint\n",
    "from tensorflow.keras.callbacks import EarlyStopping\n",
    "\n",
    "model_cnn.compile(optimizer='adam',loss = tf.keras.losses.SparseCategoricalCrossentropy(from_logits=True), metrics=['accuracy'])"
   ]
  },
  {
   "cell_type": "code",
   "execution_count": 106,
   "metadata": {
    "colab": {
     "base_uri": "https://localhost:8080/"
    },
    "id": "o-SmF3saIAK6",
    "outputId": "63c5987f-7b08-4166-f9da-ba38269e8e7e"
   },
   "outputs": [
    {
     "name": "stdout",
     "output_type": "stream",
     "text": [
      "Epoch 1/40\n"
     ]
    },
    {
     "name": "stderr",
     "output_type": "stream",
     "text": [
      "/usr/local/lib/python3.7/dist-packages/tensorflow/python/util/dispatch.py:1082: UserWarning: \"`sparse_categorical_crossentropy` received `from_logits=True`, but the `output` argument was produced by a sigmoid or softmax activation and thus does not represent logits. Was this intended?\"\n",
      "  return dispatch_target(*args, **kwargs)\n"
     ]
    },
    {
     "name": "stdout",
     "output_type": "stream",
     "text": [
      "22/22 [==============================] - 3s 125ms/step - loss: 4.3444 - accuracy: 0.0137 - val_loss: 4.3401 - val_accuracy: 0.0167\n",
      "Epoch 2/40\n",
      "22/22 [==============================] - 2s 113ms/step - loss: 4.3292 - accuracy: 0.0216 - val_loss: 4.3205 - val_accuracy: 0.0133\n",
      "Epoch 3/40\n",
      "22/22 [==============================] - 2s 112ms/step - loss: 4.2954 - accuracy: 0.0230 - val_loss: 4.2703 - val_accuracy: 0.0200\n",
      "Epoch 4/40\n",
      "22/22 [==============================] - 2s 114ms/step - loss: 4.2081 - accuracy: 0.0298 - val_loss: 4.1506 - val_accuracy: 0.0421\n",
      "Epoch 5/40\n",
      "22/22 [==============================] - 2s 113ms/step - loss: 4.0426 - accuracy: 0.0530 - val_loss: 3.9216 - val_accuracy: 0.0725\n",
      "Epoch 6/40\n",
      "22/22 [==============================] - 2s 114ms/step - loss: 3.7811 - accuracy: 0.0882 - val_loss: 3.6291 - val_accuracy: 0.1075\n",
      "Epoch 7/40\n",
      "22/22 [==============================] - 2s 113ms/step - loss: 3.5041 - accuracy: 0.1061 - val_loss: 3.3133 - val_accuracy: 0.1720\n",
      "Epoch 8/40\n",
      "22/22 [==============================] - 3s 117ms/step - loss: 3.2189 - accuracy: 0.1521 - val_loss: 3.0197 - val_accuracy: 0.2278\n",
      "Epoch 9/40\n",
      "22/22 [==============================] - 2s 114ms/step - loss: 2.9595 - accuracy: 0.1971 - val_loss: 2.7448 - val_accuracy: 0.3120\n",
      "Epoch 10/40\n",
      "22/22 [==============================] - 3s 116ms/step - loss: 2.7326 - accuracy: 0.2444 - val_loss: 2.5297 - val_accuracy: 0.3544\n",
      "Epoch 11/40\n",
      "22/22 [==============================] - 2s 114ms/step - loss: 2.5160 - accuracy: 0.2944 - val_loss: 2.3455 - val_accuracy: 0.4061\n",
      "Epoch 12/40\n",
      "22/22 [==============================] - 2s 113ms/step - loss: 2.3386 - accuracy: 0.3305 - val_loss: 2.1820 - val_accuracy: 0.4502\n",
      "Epoch 13/40\n",
      "22/22 [==============================] - 2s 112ms/step - loss: 2.2163 - accuracy: 0.3546 - val_loss: 2.0724 - val_accuracy: 0.4640\n",
      "Epoch 14/40\n",
      "22/22 [==============================] - 2s 111ms/step - loss: 2.0785 - accuracy: 0.3912 - val_loss: 1.9703 - val_accuracy: 0.4998\n",
      "Epoch 15/40\n",
      "22/22 [==============================] - 2s 113ms/step - loss: 1.9786 - accuracy: 0.4181 - val_loss: 1.8863 - val_accuracy: 0.5144\n",
      "Epoch 16/40\n",
      "22/22 [==============================] - 2s 113ms/step - loss: 1.8723 - accuracy: 0.4456 - val_loss: 1.8151 - val_accuracy: 0.5348\n",
      "Epoch 17/40\n",
      "22/22 [==============================] - 3s 115ms/step - loss: 1.7867 - accuracy: 0.4688 - val_loss: 1.7428 - val_accuracy: 0.5473\n",
      "Epoch 18/40\n",
      "22/22 [==============================] - 2s 112ms/step - loss: 1.7285 - accuracy: 0.4835 - val_loss: 1.6881 - val_accuracy: 0.5648\n",
      "Epoch 19/40\n",
      "22/22 [==============================] - 2s 110ms/step - loss: 1.6179 - accuracy: 0.5097 - val_loss: 1.6334 - val_accuracy: 0.5814\n",
      "Epoch 20/40\n",
      "22/22 [==============================] - 2s 112ms/step - loss: 1.5517 - accuracy: 0.5262 - val_loss: 1.5833 - val_accuracy: 0.5881\n",
      "Epoch 21/40\n",
      "22/22 [==============================] - 2s 111ms/step - loss: 1.5037 - accuracy: 0.5437 - val_loss: 1.5503 - val_accuracy: 0.5998\n",
      "Epoch 22/40\n",
      "22/22 [==============================] - 2s 113ms/step - loss: 1.4581 - accuracy: 0.5512 - val_loss: 1.5141 - val_accuracy: 0.6106\n",
      "Epoch 23/40\n",
      "22/22 [==============================] - 2s 112ms/step - loss: 1.3927 - accuracy: 0.5778 - val_loss: 1.4904 - val_accuracy: 0.6106\n",
      "Epoch 24/40\n",
      "22/22 [==============================] - 2s 111ms/step - loss: 1.3434 - accuracy: 0.5833 - val_loss: 1.4754 - val_accuracy: 0.6202\n",
      "Epoch 25/40\n",
      "22/22 [==============================] - 2s 114ms/step - loss: 1.3093 - accuracy: 0.6035 - val_loss: 1.4635 - val_accuracy: 0.6181\n",
      "Epoch 26/40\n",
      "22/22 [==============================] - 2s 113ms/step - loss: 1.2631 - accuracy: 0.6101 - val_loss: 1.4809 - val_accuracy: 0.6127\n",
      "Epoch 27/40\n",
      "22/22 [==============================] - 2s 111ms/step - loss: 1.2113 - accuracy: 0.6299 - val_loss: 1.4415 - val_accuracy: 0.6268\n",
      "Epoch 28/40\n",
      "22/22 [==============================] - 3s 154ms/step - loss: 1.1828 - accuracy: 0.6306 - val_loss: 1.3555 - val_accuracy: 0.6476\n",
      "Epoch 29/40\n",
      "22/22 [==============================] - 3s 130ms/step - loss: 1.1234 - accuracy: 0.6560 - val_loss: 1.3413 - val_accuracy: 0.6593\n",
      "Epoch 30/40\n",
      "22/22 [==============================] - 2s 111ms/step - loss: 1.0905 - accuracy: 0.6643 - val_loss: 1.3374 - val_accuracy: 0.6506\n",
      "Epoch 31/40\n",
      "22/22 [==============================] - 2s 112ms/step - loss: 1.0436 - accuracy: 0.6806 - val_loss: 1.3156 - val_accuracy: 0.6643\n",
      "Epoch 32/40\n",
      "22/22 [==============================] - 2s 111ms/step - loss: 1.0107 - accuracy: 0.6915 - val_loss: 1.2957 - val_accuracy: 0.6701\n",
      "Epoch 33/40\n",
      "22/22 [==============================] - 3s 115ms/step - loss: 0.9903 - accuracy: 0.6984 - val_loss: 1.2950 - val_accuracy: 0.6693\n",
      "Epoch 34/40\n",
      "22/22 [==============================] - 2s 114ms/step - loss: 0.9602 - accuracy: 0.7079 - val_loss: 1.2792 - val_accuracy: 0.6789\n",
      "Epoch 35/40\n",
      "22/22 [==============================] - 2s 111ms/step - loss: 0.9337 - accuracy: 0.7167 - val_loss: 1.2697 - val_accuracy: 0.6722\n",
      "Epoch 36/40\n",
      "22/22 [==============================] - 2s 110ms/step - loss: 0.8901 - accuracy: 0.7308 - val_loss: 1.2788 - val_accuracy: 0.6760\n",
      "Epoch 37/40\n",
      "22/22 [==============================] - 2s 112ms/step - loss: 0.8728 - accuracy: 0.7227 - val_loss: 1.2731 - val_accuracy: 0.6822\n",
      "Epoch 38/40\n",
      "22/22 [==============================] - 3s 115ms/step - loss: 0.8293 - accuracy: 0.7490 - val_loss: 1.2603 - val_accuracy: 0.6785\n",
      "Epoch 39/40\n",
      "22/22 [==============================] - 3s 115ms/step - loss: 0.8293 - accuracy: 0.7465 - val_loss: 1.2822 - val_accuracy: 0.6822\n",
      "Epoch 40/40\n",
      "22/22 [==============================] - 3s 115ms/step - loss: 0.7910 - accuracy: 0.7583 - val_loss: 1.2577 - val_accuracy: 0.6793\n"
     ]
    }
   ],
   "source": [
    "es_callback = EarlyStopping(monitor='val_loss', patience=3)\n",
    "\n",
    "history = model_cnn.fit(word_seq_train, y_train, batch_size=256, epochs=num_epochs, validation_split=0.3, callbacks=[es_callback], shuffle=False)"
   ]
  },
  {
   "cell_type": "code",
   "execution_count": 107,
   "metadata": {
    "colab": {
     "base_uri": "https://localhost:8080/",
     "height": 295
    },
    "id": "4lgw1EohIAK6",
    "outputId": "e4fb05ee-dfc5-43db-ff55-00f8b63eb702"
   },
   "outputs": [
    {
     "data": {
      "image/png": "[encoded data removed]",
      "text/plain": [
       "<Figure size 432x288 with 1 Axes>"
      ]
     },
     "metadata": {},
     "output_type": "display_data"
    }
   ],
   "source": [
    "#generate plots\n",
    "plt.figure()\n",
    "plt.plot(history.history['loss'], lw=2.0, color='b', label='train')\n",
    "plt.plot(history.history['val_loss'], lw=2.0, color='r', label='val')\n",
    "plt.title('CNN Without Word Embedding')\n",
    "plt.xlabel('Epochs')\n",
    "plt.ylabel('Cross-Entropy Loss')\n",
    "plt.legend(loc='upper right')\n",
    "plt.show()"
   ]
  },
  {
   "cell_type": "code",
   "execution_count": 108,
   "metadata": {
    "colab": {
     "base_uri": "https://localhost:8080/",
     "height": 295
    },
    "id": "fd9QttZbIAK6",
    "outputId": "348f206f-202c-4a04-a30e-49ee4c43d2d0"
   },
   "outputs": [
    {
     "data": {
      "image/png": "[encoded data removed]",
      "text/plain": [
       "<Figure size 432x288 with 1 Axes>"
      ]
     },
     "metadata": {},
     "output_type": "display_data"
    }
   ],
   "source": [
    "plt.figure()\n",
    "plt.plot(history.history['accuracy'], lw=2.0, color='b', label='train')\n",
    "plt.plot(history.history['val_accuracy'], lw=2.0, color='r', label='val')\n",
    "plt.title('CNN Without Word Embedding')\n",
    "plt.xlabel('Epochs')\n",
    "plt.ylabel('Accuracy')\n",
    "plt.legend(loc='upper left')\n",
    "plt.show()"
   ]
  },
  {
   "cell_type": "code",
   "execution_count": 109,
   "metadata": {
    "colab": {
     "base_uri": "https://localhost:8080/",
     "height": 424
    },
    "id": "2yMrE-MlIAK7",
    "outputId": "165c7229-37b7-4e74-cf8a-4485e738ada0"
   },
   "outputs": [
    {
     "data": {
      "text/html": [
       "\n",
       "  <div id=\"df-54f2b30e-9b3f-4035-a24c-afcd5d9df21d\">\n",
       "    <div class=\"colab-df-container\">\n",
       "      <div>\n",
       "<style scoped>\n",
       "    .dataframe tbody tr th:only-of-type {\n",
       "        vertical-align: middle;\n",
       "    }\n",
       "\n",
       "    .dataframe tbody tr th {\n",
       "        vertical-align: top;\n",
       "    }\n",
       "\n",
       "    .dataframe thead th {\n",
       "        text-align: right;\n",
       "    }\n",
       "</style>\n",
       "<table border=\"1\" class=\"dataframe\">\n",
       "  <thead>\n",
       "    <tr style=\"text-align: right;\">\n",
       "      <th></th>\n",
       "      <th>pred</th>\n",
       "      <th>l</th>\n",
       "    </tr>\n",
       "  </thead>\n",
       "  <tbody>\n",
       "    <tr>\n",
       "      <th>6883</th>\n",
       "      <td>21</td>\n",
       "      <td>21</td>\n",
       "    </tr>\n",
       "    <tr>\n",
       "      <th>5836</th>\n",
       "      <td>14</td>\n",
       "      <td>25</td>\n",
       "    </tr>\n",
       "    <tr>\n",
       "      <th>8601</th>\n",
       "      <td>62</td>\n",
       "      <td>59</td>\n",
       "    </tr>\n",
       "    <tr>\n",
       "      <th>2545</th>\n",
       "      <td>34</td>\n",
       "      <td>15</td>\n",
       "    </tr>\n",
       "    <tr>\n",
       "      <th>8697</th>\n",
       "      <td>5</td>\n",
       "      <td>5</td>\n",
       "    </tr>\n",
       "    <tr>\n",
       "      <th>...</th>\n",
       "      <td>...</td>\n",
       "      <td>...</td>\n",
       "    </tr>\n",
       "    <tr>\n",
       "      <th>2769</th>\n",
       "      <td>5</td>\n",
       "      <td>66</td>\n",
       "    </tr>\n",
       "    <tr>\n",
       "      <th>5065</th>\n",
       "      <td>26</td>\n",
       "      <td>26</td>\n",
       "    </tr>\n",
       "    <tr>\n",
       "      <th>8287</th>\n",
       "      <td>17</td>\n",
       "      <td>76</td>\n",
       "    </tr>\n",
       "    <tr>\n",
       "      <th>7986</th>\n",
       "      <td>58</td>\n",
       "      <td>58</td>\n",
       "    </tr>\n",
       "    <tr>\n",
       "      <th>1095</th>\n",
       "      <td>12</td>\n",
       "      <td>12</td>\n",
       "    </tr>\n",
       "  </tbody>\n",
       "</table>\n",
       "<p>2001 rows × 2 columns</p>\n",
       "</div>\n",
       "      <button class=\"colab-df-convert\" onclick=\"convertToInteractive('df-54f2b30e-9b3f-4035-a24c-afcd5d9df21d')\"\n",
       "              title=\"Convert this dataframe to an interactive table.\"\n",
       "              style=\"display:none;\">\n",
       "        \n",
       "  <svg xmlns=\"http://www.w3.org/2000/svg\" height=\"24px\"viewBox=\"0 0 24 24\"\n",
       "       width=\"24px\">\n",
       "    <path d=\"M0 0h24v24H0V0z\" fill=\"none\"/>\n",
       "    <path d=\"M18.56 5.44l.94 2.06.94-2.06 2.06-.94-2.06-.94-.94-2.06-.94 2.06-2.06.94zm-11 1L8.5 8.5l.94-2.06 2.06-.94-2.06-.94L8.5 2.5l-.94 2.06-2.06.94zm10 10l.94 2.06.94-2.06 2.06-.94-2.06-.94-.94-2.06-.94 2.06-2.06.94z\"/><path d=\"M17.41 7.96l-1.37-1.37c-.4-.4-.92-.59-1.43-.59-.52 0-1.04.2-1.43.59L10.3 9.45l-7.72 7.72c-.78.78-.78 2.05 0 2.83L4 21.41c.39.39.9.59 1.41.59.51 0 1.02-.2 1.41-.59l7.78-7.78 2.81-2.81c.8-.78.8-2.07 0-2.86zM5.41 20L4 18.59l7.72-7.72 1.47 1.35L5.41 20z\"/>\n",
       "  </svg>\n",
       "      </button>\n",
       "      \n",
       "  <style>\n",
       "    .colab-df-container {\n",
       "      display:flex;\n",
       "      flex-wrap:wrap;\n",
       "      gap: 12px;\n",
       "    }\n",
       "\n",
       "    .colab-df-convert {\n",
       "      background-color: #E8F0FE;\n",
       "      border: none;\n",
       "      border-radius: 50%;\n",
       "      cursor: pointer;\n",
       "      display: none;\n",
       "      fill: #1967D2;\n",
       "      height: 32px;\n",
       "      padding: 0 0 0 0;\n",
       "      width: 32px;\n",
       "    }\n",
       "\n",
       "    .colab-df-convert:hover {\n",
       "      background-color: #E2EBFA;\n",
       "      box-shadow: 0px 1px 2px rgba(60, 64, 67, 0.3), 0px 1px 3px 1px rgba(60, 64, 67, 0.15);\n",
       "      fill: #174EA6;\n",
       "    }\n",
       "\n",
       "    [theme=dark] .colab-df-convert {\n",
       "      background-color: #3B4455;\n",
       "      fill: #D2E3FC;\n",
       "    }\n",
       "\n",
       "    [theme=dark] .colab-df-convert:hover {\n",
       "      background-color: #434B5C;\n",
       "      box-shadow: 0px 1px 3px 1px rgba(0, 0, 0, 0.15);\n",
       "      filter: drop-shadow(0px 1px 2px rgba(0, 0, 0, 0.3));\n",
       "      fill: #FFFFFF;\n",
       "    }\n",
       "  </style>\n",
       "\n",
       "      <script>\n",
       "        const buttonEl =\n",
       "          document.querySelector('#df-54f2b30e-9b3f-4035-a24c-afcd5d9df21d button.colab-df-convert');\n",
       "        buttonEl.style.display =\n",
       "          google.colab.kernel.accessAllowed ? 'block' : 'none';\n",
       "\n",
       "        async function convertToInteractive(key) {\n",
       "          const element = document.querySelector('#df-54f2b30e-9b3f-4035-a24c-afcd5d9df21d');\n",
       "          const dataTable =\n",
       "            await google.colab.kernel.invokeFunction('convertToInteractive',\n",
       "                                                     [key], {});\n",
       "          if (!dataTable) return;\n",
       "\n",
       "          const docLinkHtml = 'Like what you see? Visit the ' +\n",
       "            '<a target=\"_blank\" href=https://colab.research.google.com/notebooks/data_table.ipynb>data table notebook</a>'\n",
       "            + ' to learn more about interactive tables.';\n",
       "          element.innerHTML = '';\n",
       "          dataTable['output_type'] = 'display_data';\n",
       "          await google.colab.output.renderOutput(dataTable, element);\n",
       "          const docLink = document.createElement('div');\n",
       "          docLink.innerHTML = docLinkHtml;\n",
       "          element.appendChild(docLink);\n",
       "        }\n",
       "      </script>\n",
       "    </div>\n",
       "  </div>\n",
       "  "
      ],
      "text/plain": [
       "      pred   l\n",
       "6883    21  21\n",
       "5836    14  25\n",
       "8601    62  59\n",
       "2545    34  15\n",
       "8697     5   5\n",
       "...    ...  ..\n",
       "2769     5  66\n",
       "5065    26  26\n",
       "8287    17  76\n",
       "7986    58  58\n",
       "1095    12  12\n",
       "\n",
       "[2001 rows x 2 columns]"
      ]
     },
     "execution_count": 109,
     "metadata": {},
     "output_type": "execute_result"
    }
   ],
   "source": [
    "predictions = model_cnn.predict(word_seq_test)\n",
    "list_ = []\n",
    "for i in range(len(predictions)):\n",
    "  a = predictions[i]\n",
    "  list_.append(np.where(a == a.max())[0][0] )\n",
    "\n",
    "\n",
    "sample= test_df\n",
    "sample['pred']= list_ \n",
    "sample[['pred', \"l\"]]"
   ]
  },
  {
   "cell_type": "code",
   "execution_count": 110,
   "metadata": {
    "colab": {
     "base_uri": "https://localhost:8080/"
    },
    "id": "QUmkRRtfIAK7",
    "outputId": "5863e0a3-68bc-4a5d-8408-c9f1c04a3b4e"
   },
   "outputs": [
    {
     "name": "stdout",
     "output_type": "stream",
     "text": [
      "Accuracy Without word embedding CNN :\n",
      "0.6936531734132934\n"
     ]
    }
   ],
   "source": [
    "import sklearn\n",
    "\n",
    "print(\"Accuracy Without word embedding CNN :\")\n",
    "print(sklearn.metrics.accuracy_score(sample.l, sample.pred))"
   ]
  },
  {
   "cell_type": "code",
   "execution_count": 110,
   "metadata": {
    "id": "R0IddOPc-_pd"
   },
   "outputs": [],
   "source": []
  },
  {
   "cell_type": "markdown",
   "metadata": {
    "id": "NgxmfksCIT9z"
   },
   "source": [
    "### CNN + LSTM"
   ]
  },
  {
   "cell_type": "code",
   "execution_count": 110,
   "metadata": {
    "id": "otF47J0lIT90"
   },
   "outputs": [],
   "source": []
  },
  {
   "cell_type": "code",
   "execution_count": 111,
   "metadata": {
    "id": "lxtNp0oRIT91"
   },
   "outputs": [],
   "source": [
    "model_mix_without_w_e = Sequential()\n",
    "model_mix_without_w_e.add(Embedding(nb_words, embed_dim,  input_length=max_seq_len, trainable=False))\n",
    "model_mix_without_w_e.add(Dropout(0.2))\n",
    "model_mix_without_w_e.add(Conv1D(num_filters, 7, activation='relu', padding='same'))\n",
    "model_mix_without_w_e.add(MaxPooling1D(pool_size=4))\n",
    "model_mix_without_w_e.add(Bidirectional(LSTM(128, dropout=0.7, recurrent_dropout=0.7)))\n",
    "model_mix_without_w_e.add(Dense(128,activation='relu'))\n",
    "model_mix_without_w_e.add(Dense(77, activation='softmax'))\n",
    "model_mix_without_w_e.compile(optimizer='adam',loss = tf.keras.losses.SparseCategoricalCrossentropy(from_logits=True), metrics=['accuracy'])\n",
    "  \n"
   ]
  },
  {
   "cell_type": "code",
   "execution_count": 112,
   "metadata": {
    "colab": {
     "base_uri": "https://localhost:8080/"
    },
    "id": "vhycTmTbIT91",
    "outputId": "c189afbb-158e-49e2-d28f-3d7f1efe94cd"
   },
   "outputs": [
    {
     "name": "stdout",
     "output_type": "stream",
     "text": [
      "Epoch 1/40\n"
     ]
    },
    {
     "name": "stderr",
     "output_type": "stream",
     "text": [
      "/usr/local/lib/python3.7/dist-packages/tensorflow/python/util/dispatch.py:1082: UserWarning: \"`sparse_categorical_crossentropy` received `from_logits=True`, but the `output` argument was produced by a sigmoid or softmax activation and thus does not represent logits. Was this intended?\"\n",
      "  return dispatch_target(*args, **kwargs)\n"
     ]
    },
    {
     "name": "stdout",
     "output_type": "stream",
     "text": [
      "22/22 [==============================] - 11s 224ms/step - loss: 4.3376 - accuracy: 0.0155 - val_loss: 4.3236 - val_accuracy: 0.0162\n",
      "Epoch 2/40\n",
      "22/22 [==============================] - 4s 200ms/step - loss: 4.2990 - accuracy: 0.0195 - val_loss: 4.2646 - val_accuracy: 0.0221\n",
      "Epoch 3/40\n",
      "22/22 [==============================] - 4s 199ms/step - loss: 4.2081 - accuracy: 0.0284 - val_loss: 4.1227 - val_accuracy: 0.0371\n",
      "Epoch 4/40\n",
      "22/22 [==============================] - 4s 198ms/step - loss: 4.0416 - accuracy: 0.0398 - val_loss: 3.9081 - val_accuracy: 0.0496\n",
      "Epoch 5/40\n",
      "22/22 [==============================] - 4s 205ms/step - loss: 3.8209 - accuracy: 0.0548 - val_loss: 3.6527 - val_accuracy: 0.0916\n",
      "Epoch 6/40\n",
      "22/22 [==============================] - 4s 200ms/step - loss: 3.5710 - accuracy: 0.0946 - val_loss: 3.3298 - val_accuracy: 0.1458\n",
      "Epoch 7/40\n",
      "22/22 [==============================] - 4s 197ms/step - loss: 3.2709 - accuracy: 0.1369 - val_loss: 3.0016 - val_accuracy: 0.1974\n",
      "Epoch 8/40\n",
      "22/22 [==============================] - 4s 198ms/step - loss: 2.9986 - accuracy: 0.1780 - val_loss: 2.7145 - val_accuracy: 0.2670\n",
      "Epoch 9/40\n",
      "22/22 [==============================] - 4s 198ms/step - loss: 2.7488 - accuracy: 0.2209 - val_loss: 2.4998 - val_accuracy: 0.3086\n",
      "Epoch 10/40\n",
      "22/22 [==============================] - 4s 198ms/step - loss: 2.5714 - accuracy: 0.2603 - val_loss: 2.3145 - val_accuracy: 0.3540\n",
      "Epoch 11/40\n",
      "22/22 [==============================] - 4s 198ms/step - loss: 2.3977 - accuracy: 0.2992 - val_loss: 2.1809 - val_accuracy: 0.3836\n",
      "Epoch 12/40\n",
      "22/22 [==============================] - 4s 201ms/step - loss: 2.2926 - accuracy: 0.3215 - val_loss: 2.0462 - val_accuracy: 0.4136\n",
      "Epoch 13/40\n",
      "22/22 [==============================] - 4s 196ms/step - loss: 2.1648 - accuracy: 0.3474 - val_loss: 1.9522 - val_accuracy: 0.4469\n",
      "Epoch 14/40\n",
      "22/22 [==============================] - 4s 198ms/step - loss: 2.0503 - accuracy: 0.3774 - val_loss: 1.8335 - val_accuracy: 0.4736\n",
      "Epoch 15/40\n",
      "22/22 [==============================] - 4s 200ms/step - loss: 1.9432 - accuracy: 0.4046 - val_loss: 1.7682 - val_accuracy: 0.5015\n",
      "Epoch 16/40\n",
      "22/22 [==============================] - 4s 199ms/step - loss: 1.8683 - accuracy: 0.4258 - val_loss: 1.7057 - val_accuracy: 0.5173\n",
      "Epoch 17/40\n",
      "22/22 [==============================] - 4s 197ms/step - loss: 1.8099 - accuracy: 0.4571 - val_loss: 1.6443 - val_accuracy: 0.5260\n",
      "Epoch 18/40\n",
      "22/22 [==============================] - 4s 198ms/step - loss: 1.7200 - accuracy: 0.4706 - val_loss: 1.5881 - val_accuracy: 0.5502\n",
      "Epoch 19/40\n",
      "22/22 [==============================] - 4s 199ms/step - loss: 1.6772 - accuracy: 0.4694 - val_loss: 1.5692 - val_accuracy: 0.5481\n",
      "Epoch 20/40\n",
      "22/22 [==============================] - 4s 201ms/step - loss: 1.5923 - accuracy: 0.4988 - val_loss: 1.5023 - val_accuracy: 0.5668\n",
      "Epoch 21/40\n",
      "22/22 [==============================] - 4s 198ms/step - loss: 1.5426 - accuracy: 0.5274 - val_loss: 1.4862 - val_accuracy: 0.5735\n",
      "Epoch 22/40\n",
      "22/22 [==============================] - 4s 205ms/step - loss: 1.4671 - accuracy: 0.5417 - val_loss: 1.4037 - val_accuracy: 0.5998\n",
      "Epoch 23/40\n",
      "22/22 [==============================] - 4s 203ms/step - loss: 1.4159 - accuracy: 0.5587 - val_loss: 1.3758 - val_accuracy: 0.6081\n",
      "Epoch 24/40\n",
      "22/22 [==============================] - 4s 201ms/step - loss: 1.3735 - accuracy: 0.5706 - val_loss: 1.3315 - val_accuracy: 0.6239\n",
      "Epoch 25/40\n",
      "22/22 [==============================] - 4s 204ms/step - loss: 1.3402 - accuracy: 0.5747 - val_loss: 1.2947 - val_accuracy: 0.6360\n",
      "Epoch 26/40\n",
      "22/22 [==============================] - 4s 201ms/step - loss: 1.2978 - accuracy: 0.5833 - val_loss: 1.2864 - val_accuracy: 0.6239\n",
      "Epoch 27/40\n",
      "22/22 [==============================] - 4s 196ms/step - loss: 1.2259 - accuracy: 0.6011 - val_loss: 1.2696 - val_accuracy: 0.6435\n",
      "Epoch 28/40\n",
      "22/22 [==============================] - 4s 201ms/step - loss: 1.2147 - accuracy: 0.6133 - val_loss: 1.2208 - val_accuracy: 0.6585\n",
      "Epoch 29/40\n",
      "22/22 [==============================] - 4s 199ms/step - loss: 1.1613 - accuracy: 0.6292 - val_loss: 1.2083 - val_accuracy: 0.6643\n",
      "Epoch 30/40\n",
      "22/22 [==============================] - 4s 204ms/step - loss: 1.1515 - accuracy: 0.6297 - val_loss: 1.1723 - val_accuracy: 0.6760\n",
      "Epoch 31/40\n",
      "22/22 [==============================] - 4s 199ms/step - loss: 1.0976 - accuracy: 0.6526 - val_loss: 1.1704 - val_accuracy: 0.6747\n",
      "Epoch 32/40\n",
      "22/22 [==============================] - 4s 199ms/step - loss: 1.0627 - accuracy: 0.6642 - val_loss: 1.1646 - val_accuracy: 0.6814\n",
      "Epoch 33/40\n",
      "22/22 [==============================] - 4s 198ms/step - loss: 1.0243 - accuracy: 0.6738 - val_loss: 1.1329 - val_accuracy: 0.6914\n",
      "Epoch 34/40\n",
      "22/22 [==============================] - 4s 196ms/step - loss: 1.0062 - accuracy: 0.6747 - val_loss: 1.1260 - val_accuracy: 0.6939\n",
      "Epoch 35/40\n",
      "22/22 [==============================] - 4s 202ms/step - loss: 0.9925 - accuracy: 0.6813 - val_loss: 1.1117 - val_accuracy: 0.6968\n",
      "Epoch 36/40\n",
      "22/22 [==============================] - 4s 201ms/step - loss: 0.9536 - accuracy: 0.6849 - val_loss: 1.0993 - val_accuracy: 0.7055\n",
      "Epoch 37/40\n",
      "22/22 [==============================] - 4s 199ms/step - loss: 0.9126 - accuracy: 0.7070 - val_loss: 1.0703 - val_accuracy: 0.7164\n",
      "Epoch 38/40\n",
      "22/22 [==============================] - 4s 201ms/step - loss: 0.9072 - accuracy: 0.6976 - val_loss: 1.0848 - val_accuracy: 0.7135\n",
      "Epoch 39/40\n",
      "22/22 [==============================] - 5s 240ms/step - loss: 0.8540 - accuracy: 0.7263 - val_loss: 1.0754 - val_accuracy: 0.7097\n",
      "Epoch 40/40\n",
      "22/22 [==============================] - 5s 224ms/step - loss: 0.8420 - accuracy: 0.7302 - val_loss: 1.0740 - val_accuracy: 0.7118\n"
     ]
    }
   ],
   "source": [
    "es_callback = EarlyStopping(monitor='val_loss', patience=3)\n",
    "\n",
    "history = model_mix_without_w_e.fit(word_seq_train, y_train, batch_size=256, epochs=num_epochs, validation_split=0.3, callbacks=[es_callback], shuffle=False)"
   ]
  },
  {
   "cell_type": "code",
   "execution_count": 112,
   "metadata": {
    "id": "6i-btRrqIT91"
   },
   "outputs": [],
   "source": []
  },
  {
   "cell_type": "code",
   "execution_count": 113,
   "metadata": {
    "colab": {
     "base_uri": "https://localhost:8080/",
     "height": 295
    },
    "id": "ZLiOSAy9IT91",
    "outputId": "a007bbc9-c203-4e84-f632-169eb3bb6698"
   },
   "outputs": [
    {
     "data": {
      "image/png": "[encoded data removed]",
      "text/plain": [
       "<Figure size 432x288 with 1 Axes>"
      ]
     },
     "metadata": {},
     "output_type": "display_data"
    }
   ],
   "source": [
    "#generate plots\n",
    "plt.figure()\n",
    "plt.plot(history.history['loss'], lw=2.0, color='b', label='train')\n",
    "plt.plot(history.history['val_loss'], lw=2.0, color='r', label='val')\n",
    "plt.title('CNN-LSTM Without Word Embedding')\n",
    "plt.xlabel('Epochs')\n",
    "plt.ylabel('Cross-Entropy Loss')\n",
    "plt.legend(loc='upper right')\n",
    "plt.show()"
   ]
  },
  {
   "cell_type": "code",
   "execution_count": 114,
   "metadata": {
    "colab": {
     "base_uri": "https://localhost:8080/",
     "height": 295
    },
    "id": "26BiAXXqIT92",
    "outputId": "8f546d45-2d86-4a48-ba98-d3ec7362a591"
   },
   "outputs": [
    {
     "data": {
      "image/png": "[encoded data removed]",
      "text/plain": [
       "<Figure size 432x288 with 1 Axes>"
      ]
     },
     "metadata": {},
     "output_type": "display_data"
    }
   ],
   "source": [
    "plt.figure()\n",
    "plt.plot(history.history['accuracy'], lw=2.0, color='b', label='train')\n",
    "plt.plot(history.history['val_accuracy'], lw=2.0, color='r', label='val')\n",
    "plt.title('CNN-LSTM Without Word Embedding')\n",
    "plt.xlabel('Epochs')\n",
    "plt.ylabel('Accuracy')\n",
    "plt.legend(loc='upper left')\n",
    "plt.show()"
   ]
  },
  {
   "cell_type": "code",
   "execution_count": 115,
   "metadata": {
    "colab": {
     "base_uri": "https://localhost:8080/",
     "height": 424
    },
    "id": "f93YLMAiIT92",
    "outputId": "b14f1e1e-a4d0-4180-a552-33d3965eb803"
   },
   "outputs": [
    {
     "data": {
      "text/html": [
       "\n",
       "  <div id=\"df-42dbe872-bb81-49a0-9e45-fd81f6146b12\">\n",
       "    <div class=\"colab-df-container\">\n",
       "      <div>\n",
       "<style scoped>\n",
       "    .dataframe tbody tr th:only-of-type {\n",
       "        vertical-align: middle;\n",
       "    }\n",
       "\n",
       "    .dataframe tbody tr th {\n",
       "        vertical-align: top;\n",
       "    }\n",
       "\n",
       "    .dataframe thead th {\n",
       "        text-align: right;\n",
       "    }\n",
       "</style>\n",
       "<table border=\"1\" class=\"dataframe\">\n",
       "  <thead>\n",
       "    <tr style=\"text-align: right;\">\n",
       "      <th></th>\n",
       "      <th>pred</th>\n",
       "      <th>l</th>\n",
       "    </tr>\n",
       "  </thead>\n",
       "  <tbody>\n",
       "    <tr>\n",
       "      <th>6883</th>\n",
       "      <td>21</td>\n",
       "      <td>21</td>\n",
       "    </tr>\n",
       "    <tr>\n",
       "      <th>5836</th>\n",
       "      <td>14</td>\n",
       "      <td>25</td>\n",
       "    </tr>\n",
       "    <tr>\n",
       "      <th>8601</th>\n",
       "      <td>59</td>\n",
       "      <td>59</td>\n",
       "    </tr>\n",
       "    <tr>\n",
       "      <th>2545</th>\n",
       "      <td>15</td>\n",
       "      <td>15</td>\n",
       "    </tr>\n",
       "    <tr>\n",
       "      <th>8697</th>\n",
       "      <td>5</td>\n",
       "      <td>5</td>\n",
       "    </tr>\n",
       "    <tr>\n",
       "      <th>...</th>\n",
       "      <td>...</td>\n",
       "      <td>...</td>\n",
       "    </tr>\n",
       "    <tr>\n",
       "      <th>2769</th>\n",
       "      <td>5</td>\n",
       "      <td>66</td>\n",
       "    </tr>\n",
       "    <tr>\n",
       "      <th>5065</th>\n",
       "      <td>26</td>\n",
       "      <td>26</td>\n",
       "    </tr>\n",
       "    <tr>\n",
       "      <th>8287</th>\n",
       "      <td>17</td>\n",
       "      <td>76</td>\n",
       "    </tr>\n",
       "    <tr>\n",
       "      <th>7986</th>\n",
       "      <td>58</td>\n",
       "      <td>58</td>\n",
       "    </tr>\n",
       "    <tr>\n",
       "      <th>1095</th>\n",
       "      <td>12</td>\n",
       "      <td>12</td>\n",
       "    </tr>\n",
       "  </tbody>\n",
       "</table>\n",
       "<p>2001 rows × 2 columns</p>\n",
       "</div>\n",
       "      <button class=\"colab-df-convert\" onclick=\"convertToInteractive('df-42dbe872-bb81-49a0-9e45-fd81f6146b12')\"\n",
       "              title=\"Convert this dataframe to an interactive table.\"\n",
       "              style=\"display:none;\">\n",
       "        \n",
       "  <svg xmlns=\"http://www.w3.org/2000/svg\" height=\"24px\"viewBox=\"0 0 24 24\"\n",
       "       width=\"24px\">\n",
       "    <path d=\"M0 0h24v24H0V0z\" fill=\"none\"/>\n",
       "    <path d=\"M18.56 5.44l.94 2.06.94-2.06 2.06-.94-2.06-.94-.94-2.06-.94 2.06-2.06.94zm-11 1L8.5 8.5l.94-2.06 2.06-.94-2.06-.94L8.5 2.5l-.94 2.06-2.06.94zm10 10l.94 2.06.94-2.06 2.06-.94-2.06-.94-.94-2.06-.94 2.06-2.06.94z\"/><path d=\"M17.41 7.96l-1.37-1.37c-.4-.4-.92-.59-1.43-.59-.52 0-1.04.2-1.43.59L10.3 9.45l-7.72 7.72c-.78.78-.78 2.05 0 2.83L4 21.41c.39.39.9.59 1.41.59.51 0 1.02-.2 1.41-.59l7.78-7.78 2.81-2.81c.8-.78.8-2.07 0-2.86zM5.41 20L4 18.59l7.72-7.72 1.47 1.35L5.41 20z\"/>\n",
       "  </svg>\n",
       "      </button>\n",
       "      \n",
       "  <style>\n",
       "    .colab-df-container {\n",
       "      display:flex;\n",
       "      flex-wrap:wrap;\n",
       "      gap: 12px;\n",
       "    }\n",
       "\n",
       "    .colab-df-convert {\n",
       "      background-color: #E8F0FE;\n",
       "      border: none;\n",
       "      border-radius: 50%;\n",
       "      cursor: pointer;\n",
       "      display: none;\n",
       "      fill: #1967D2;\n",
       "      height: 32px;\n",
       "      padding: 0 0 0 0;\n",
       "      width: 32px;\n",
       "    }\n",
       "\n",
       "    .colab-df-convert:hover {\n",
       "      background-color: #E2EBFA;\n",
       "      box-shadow: 0px 1px 2px rgba(60, 64, 67, 0.3), 0px 1px 3px 1px rgba(60, 64, 67, 0.15);\n",
       "      fill: #174EA6;\n",
       "    }\n",
       "\n",
       "    [theme=dark] .colab-df-convert {\n",
       "      background-color: #3B4455;\n",
       "      fill: #D2E3FC;\n",
       "    }\n",
       "\n",
       "    [theme=dark] .colab-df-convert:hover {\n",
       "      background-color: #434B5C;\n",
       "      box-shadow: 0px 1px 3px 1px rgba(0, 0, 0, 0.15);\n",
       "      filter: drop-shadow(0px 1px 2px rgba(0, 0, 0, 0.3));\n",
       "      fill: #FFFFFF;\n",
       "    }\n",
       "  </style>\n",
       "\n",
       "      <script>\n",
       "        const buttonEl =\n",
       "          document.querySelector('#df-42dbe872-bb81-49a0-9e45-fd81f6146b12 button.colab-df-convert');\n",
       "        buttonEl.style.display =\n",
       "          google.colab.kernel.accessAllowed ? 'block' : 'none';\n",
       "\n",
       "        async function convertToInteractive(key) {\n",
       "          const element = document.querySelector('#df-42dbe872-bb81-49a0-9e45-fd81f6146b12');\n",
       "          const dataTable =\n",
       "            await google.colab.kernel.invokeFunction('convertToInteractive',\n",
       "                                                     [key], {});\n",
       "          if (!dataTable) return;\n",
       "\n",
       "          const docLinkHtml = 'Like what you see? Visit the ' +\n",
       "            '<a target=\"_blank\" href=https://colab.research.google.com/notebooks/data_table.ipynb>data table notebook</a>'\n",
       "            + ' to learn more about interactive tables.';\n",
       "          element.innerHTML = '';\n",
       "          dataTable['output_type'] = 'display_data';\n",
       "          await google.colab.output.renderOutput(dataTable, element);\n",
       "          const docLink = document.createElement('div');\n",
       "          docLink.innerHTML = docLinkHtml;\n",
       "          element.appendChild(docLink);\n",
       "        }\n",
       "      </script>\n",
       "    </div>\n",
       "  </div>\n",
       "  "
      ],
      "text/plain": [
       "      pred   l\n",
       "6883    21  21\n",
       "5836    14  25\n",
       "8601    59  59\n",
       "2545    15  15\n",
       "8697     5   5\n",
       "...    ...  ..\n",
       "2769     5  66\n",
       "5065    26  26\n",
       "8287    17  76\n",
       "7986    58  58\n",
       "1095    12  12\n",
       "\n",
       "[2001 rows x 2 columns]"
      ]
     },
     "execution_count": 115,
     "metadata": {},
     "output_type": "execute_result"
    }
   ],
   "source": [
    "predictions = model_mix_without_w_e.predict(word_seq_test)\n",
    "list_ = []\n",
    "for i in range(len(predictions)):\n",
    "  a = predictions[i]\n",
    "  list_.append(np.where(a == a.max())[0][0] )\n",
    "\n",
    "\n",
    "sample= test_df\n",
    "sample['pred']= list_ \n",
    "sample[['pred', \"l\"]]"
   ]
  },
  {
   "cell_type": "code",
   "execution_count": 116,
   "metadata": {
    "colab": {
     "base_uri": "https://localhost:8080/"
    },
    "id": "ha8otFiIIT92",
    "outputId": "f31382bd-ceb1-4d08-f17f-a577416f10b4"
   },
   "outputs": [
    {
     "name": "stdout",
     "output_type": "stream",
     "text": [
      "Accuracy Without Word Embedding CNN-LSTM :\n",
      "0.7126436781609196\n"
     ]
    }
   ],
   "source": [
    "import sklearn\n",
    "\n",
    "print(\"Accuracy Without Word Embedding CNN-LSTM :\")\n",
    "print(sklearn.metrics.accuracy_score(sample.l, sample.pred))"
   ]
  },
  {
   "cell_type": "code",
   "execution_count": 116,
   "metadata": {
    "id": "_lvGNXmK-89z"
   },
   "outputs": [],
   "source": []
  },
  {
   "cell_type": "code",
   "execution_count": 116,
   "metadata": {
    "id": "aZOe2ete-89z"
   },
   "outputs": [],
   "source": []
  },
  {
   "cell_type": "code",
   "execution_count": 116,
   "metadata": {
    "id": "V1ZutCOu-89z"
   },
   "outputs": [],
   "source": []
  },
  {
   "cell_type": "code",
   "execution_count": 116,
   "metadata": {
    "id": "pF389BaV-B16"
   },
   "outputs": [],
   "source": []
  },
  {
   "cell_type": "code",
   "execution_count": null,
   "metadata": {
    "id": "uumT1zlI-BzN"
   },
   "outputs": [],
   "source": []
  }
 ],
 "metadata": {
  "colab": {
   "collapsed_sections": [],
   "name": "Imbalanced_data_glove_&_without_W_E.ipynb",
   "provenance": []
  },
  "kernelspec": {
   "display_name": "Python 3 (ipykernel)",
   "language": "python",
   "name": "python3"
  },
  "language_info": {
   "codemirror_mode": {
    "name": "ipython",
    "version": 3
   },
   "file_extension": ".py",
   "mimetype": "text/x-python",
   "name": "python",
   "nbconvert_exporter": "python",
   "pygments_lexer": "ipython3",
   "version": "3.8.10"
  }
 },
 "nbformat": 4,
 "nbformat_minor": 4
}
