{
 "cells": [
  {
   "cell_type": "code",
   "execution_count": 4,
   "metadata": {
    "id": "BV-tX3Obm-JB"
   },
   "outputs": [],
   "source": []
  },
  {
   "cell_type": "code",
   "execution_count": 5,
   "metadata": {
    "id": "b4f75dd6-e70f-4a56-82a8-377b93a08a25"
   },
   "outputs": [],
   "source": [
    "# For array, dataset, and visualizing\n",
    "import numpy as np\n",
    "import pandas as pd\n",
    "import seaborn as sns\n",
    "import matplotlib.pyplot as plt\n",
    "from sklearn.model_selection import train_test_split\n",
    "\n",
    "sns.set_style(\"whitegrid\")\n",
    "np.random.seed(0)"
   ]
  },
  {
   "cell_type": "code",
   "execution_count": 6,
   "metadata": {
    "colab": {
     "base_uri": "https://localhost:8080/",
     "height": 206
    },
    "id": "93fca529-297c-4a2f-b076-d66115b24a21",
    "outputId": "64862559-831b-4296-a0f4-f736d59bac54"
   },
   "outputs": [
    {
     "data": {
      "text/html": [
       "\n",
       "  <div id=\"df-25e50ebd-8c32-4b56-a5dc-1065ae34e1ae\">\n",
       "    <div class=\"colab-df-container\">\n",
       "      <div>\n",
       "<style scoped>\n",
       "    .dataframe tbody tr th:only-of-type {\n",
       "        vertical-align: middle;\n",
       "    }\n",
       "\n",
       "    .dataframe tbody tr th {\n",
       "        vertical-align: top;\n",
       "    }\n",
       "\n",
       "    .dataframe thead th {\n",
       "        text-align: right;\n",
       "    }\n",
       "</style>\n",
       "<table border=\"1\" class=\"dataframe\">\n",
       "  <thead>\n",
       "    <tr style=\"text-align: right;\">\n",
       "      <th></th>\n",
       "      <th>t</th>\n",
       "      <th>l</th>\n",
       "    </tr>\n",
       "  </thead>\n",
       "  <tbody>\n",
       "    <tr>\n",
       "      <th>0</th>\n",
       "      <td>why have i not got my new card?</td>\n",
       "      <td>11</td>\n",
       "    </tr>\n",
       "    <tr>\n",
       "      <th>1</th>\n",
       "      <td>Can you tell me if I can track the card you se...</td>\n",
       "      <td>11</td>\n",
       "    </tr>\n",
       "    <tr>\n",
       "      <th>2</th>\n",
       "      <td>How long will it take for me to get my card?</td>\n",
       "      <td>11</td>\n",
       "    </tr>\n",
       "    <tr>\n",
       "      <th>3</th>\n",
       "      <td>How long does it take for my new card to arriv...</td>\n",
       "      <td>11</td>\n",
       "    </tr>\n",
       "    <tr>\n",
       "      <th>4</th>\n",
       "      <td>Could I get tracking on the card?</td>\n",
       "      <td>11</td>\n",
       "    </tr>\n",
       "  </tbody>\n",
       "</table>\n",
       "</div>\n",
       "      <button class=\"colab-df-convert\" onclick=\"convertToInteractive('df-25e50ebd-8c32-4b56-a5dc-1065ae34e1ae')\"\n",
       "              title=\"Convert this dataframe to an interactive table.\"\n",
       "              style=\"display:none;\">\n",
       "        \n",
       "  <svg xmlns=\"http://www.w3.org/2000/svg\" height=\"24px\"viewBox=\"0 0 24 24\"\n",
       "       width=\"24px\">\n",
       "    <path d=\"M0 0h24v24H0V0z\" fill=\"none\"/>\n",
       "    <path d=\"M18.56 5.44l.94 2.06.94-2.06 2.06-.94-2.06-.94-.94-2.06-.94 2.06-2.06.94zm-11 1L8.5 8.5l.94-2.06 2.06-.94-2.06-.94L8.5 2.5l-.94 2.06-2.06.94zm10 10l.94 2.06.94-2.06 2.06-.94-2.06-.94-.94-2.06-.94 2.06-2.06.94z\"/><path d=\"M17.41 7.96l-1.37-1.37c-.4-.4-.92-.59-1.43-.59-.52 0-1.04.2-1.43.59L10.3 9.45l-7.72 7.72c-.78.78-.78 2.05 0 2.83L4 21.41c.39.39.9.59 1.41.59.51 0 1.02-.2 1.41-.59l7.78-7.78 2.81-2.81c.8-.78.8-2.07 0-2.86zM5.41 20L4 18.59l7.72-7.72 1.47 1.35L5.41 20z\"/>\n",
       "  </svg>\n",
       "      </button>\n",
       "      \n",
       "  <style>\n",
       "    .colab-df-container {\n",
       "      display:flex;\n",
       "      flex-wrap:wrap;\n",
       "      gap: 12px;\n",
       "    }\n",
       "\n",
       "    .colab-df-convert {\n",
       "      background-color: #E8F0FE;\n",
       "      border: none;\n",
       "      border-radius: 50%;\n",
       "      cursor: pointer;\n",
       "      display: none;\n",
       "      fill: #1967D2;\n",
       "      height: 32px;\n",
       "      padding: 0 0 0 0;\n",
       "      width: 32px;\n",
       "    }\n",
       "\n",
       "    .colab-df-convert:hover {\n",
       "      background-color: #E2EBFA;\n",
       "      box-shadow: 0px 1px 2px rgba(60, 64, 67, 0.3), 0px 1px 3px 1px rgba(60, 64, 67, 0.15);\n",
       "      fill: #174EA6;\n",
       "    }\n",
       "\n",
       "    [theme=dark] .colab-df-convert {\n",
       "      background-color: #3B4455;\n",
       "      fill: #D2E3FC;\n",
       "    }\n",
       "\n",
       "    [theme=dark] .colab-df-convert:hover {\n",
       "      background-color: #434B5C;\n",
       "      box-shadow: 0px 1px 3px 1px rgba(0, 0, 0, 0.15);\n",
       "      filter: drop-shadow(0px 1px 2px rgba(0, 0, 0, 0.3));\n",
       "      fill: #FFFFFF;\n",
       "    }\n",
       "  </style>\n",
       "\n",
       "      <script>\n",
       "        const buttonEl =\n",
       "          document.querySelector('#df-25e50ebd-8c32-4b56-a5dc-1065ae34e1ae button.colab-df-convert');\n",
       "        buttonEl.style.display =\n",
       "          google.colab.kernel.accessAllowed ? 'block' : 'none';\n",
       "\n",
       "        async function convertToInteractive(key) {\n",
       "          const element = document.querySelector('#df-25e50ebd-8c32-4b56-a5dc-1065ae34e1ae');\n",
       "          const dataTable =\n",
       "            await google.colab.kernel.invokeFunction('convertToInteractive',\n",
       "                                                     [key], {});\n",
       "          if (!dataTable) return;\n",
       "\n",
       "          const docLinkHtml = 'Like what you see? Visit the ' +\n",
       "            '<a target=\"_blank\" href=https://colab.research.google.com/notebooks/data_table.ipynb>data table notebook</a>'\n",
       "            + ' to learn more about interactive tables.';\n",
       "          element.innerHTML = '';\n",
       "          dataTable['output_type'] = 'display_data';\n",
       "          await google.colab.output.renderOutput(dataTable, element);\n",
       "          const docLink = document.createElement('div');\n",
       "          docLink.innerHTML = docLinkHtml;\n",
       "          element.appendChild(docLink);\n",
       "        }\n",
       "      </script>\n",
       "    </div>\n",
       "  </div>\n",
       "  "
      ],
      "text/plain": [
       "                                                   t   l\n",
       "0                    why have i not got my new card?  11\n",
       "1  Can you tell me if I can track the card you se...  11\n",
       "2       How long will it take for me to get my card?  11\n",
       "3  How long does it take for my new card to arriv...  11\n",
       "4                  Could I get tracking on the card?  11"
      ]
     },
     "execution_count": 6,
     "metadata": {},
     "output_type": "execute_result"
    }
   ],
   "source": [
    "df = pd.read_csv('balanced_trad.csv')\n",
    "df.head()"
   ]
  },
  {
   "cell_type": "code",
   "execution_count": 7,
   "metadata": {
    "id": "4CMZn4_b045c"
   },
   "outputs": [],
   "source": [
    "train_df, test_df = train_test_split(df, test_size=0.2, random_state=42, shuffle=True)"
   ]
  },
  {
   "cell_type": "code",
   "execution_count": 8,
   "metadata": {
    "colab": {
     "base_uri": "https://localhost:8080/"
    },
    "id": "5aX1GsKqCRmx",
    "outputId": "d44f8692-c4bd-43e9-96d3-7974b14c6042"
   },
   "outputs": [
    {
     "name": "stdout",
     "output_type": "stream",
     "text": [
      "[nltk_data] Downloading package stopwords to /root/nltk_data...\n",
      "[nltk_data]   Unzipping corpora/stopwords.zip.\n",
      "[nltk_data] Downloading package punkt to /root/nltk_data...\n",
      "[nltk_data]   Unzipping tokenizers/punkt.zip.\n"
     ]
    }
   ],
   "source": [
    "#For Pre-Processing\n",
    "from tqdm import tqdm\n",
    "import nltk\n",
    "from nltk.corpus import stopwords\n",
    "nltk.download('stopwords')\n",
    "nltk.download('punkt')\n",
    "from nltk.tokenize import RegexpTokenizer \n",
    "from nltk.tokenize import word_tokenize\n",
    "import codecs\n"
   ]
  },
  {
   "cell_type": "code",
   "execution_count": 9,
   "metadata": {
    "id": "2eC_VZbY0Stg"
   },
   "outputs": [],
   "source": [
    "MAX_NB_WORDS = 100000\n",
    "tokenizer = RegexpTokenizer(r'\\w+')\n",
    "stop_words = set(stopwords.words('english'))\n",
    "stop_words.update(['.', ',', '\"', \"'\", ':', ';', '(', ')', '[', ']', '{', '}'])"
   ]
  },
  {
   "cell_type": "code",
   "execution_count": 10,
   "metadata": {
    "id": "gFtF8ITB_Ure"
   },
   "outputs": [],
   "source": [
    "label_names = [\"l\"]\n",
    "y_train = train_df[label_names].values\n",
    "train_df['doc_len'] = train_df['t'].apply(lambda words: len(words.split(\" \")))\n",
    "max_seq_len = np.round(train_df['doc_len'].mean() + train_df['doc_len'].std()).astype(int)\n"
   ]
  },
  {
   "cell_type": "code",
   "execution_count": 11,
   "metadata": {
    "colab": {
     "base_uri": "https://localhost:8080/"
    },
    "id": "r82QiMhB0yUG",
    "outputId": "d18b1587-2d11-4e17-a7c0-f2abc1e26617"
   },
   "outputs": [
    {
     "name": "stdout",
     "output_type": "stream",
     "text": [
      "pre-processing train data...\n"
     ]
    },
    {
     "name": "stderr",
     "output_type": "stream",
     "text": [
      "100%|██████████| 10647/10647 [00:01<00:00, 6430.27it/s]\n",
      "100%|██████████| 2662/2662 [00:00<00:00, 6505.92it/s]\n"
     ]
    },
    {
     "name": "stdout",
     "output_type": "stream",
     "text": [
      "tokenizing input data...\n",
      "dictionary size:  2521\n"
     ]
    }
   ],
   "source": [
    "from sklearn.utils import shuffle \n",
    "from keras.preprocessing.text import Tokenizer\n",
    "from keras.preprocessing import sequence\n",
    "\n",
    "raw_docs_train = train_df['t'].tolist()\n",
    "raw_docs_test = test_df['t'].tolist() \n",
    "num_classes = len(label_names)\n",
    "\n",
    "print(\"pre-processing train data...\")\n",
    "\n",
    "processed_docs_train = []\n",
    "for doc in tqdm(raw_docs_train):\n",
    "    tokens = word_tokenize(doc)\n",
    "    filtered = [word for word in tokens if word not in stop_words]\n",
    "    processed_docs_train.append(\" \".join(filtered))\n",
    "#end for\n",
    "\n",
    "processed_docs_test = []\n",
    "for doc in tqdm(raw_docs_test):\n",
    "    tokens = word_tokenize(doc)\n",
    "    filtered = [word for word in tokens if word not in stop_words]\n",
    "    processed_docs_test.append(\" \".join(filtered))\n",
    "#end for\n",
    "\n",
    "print(\"tokenizing input data...\")\n",
    "tokenizer = Tokenizer(num_words=MAX_NB_WORDS, lower=True, char_level=False)\n",
    "tokenizer.fit_on_texts(processed_docs_train + processed_docs_test)  #leaky\n",
    "word_seq_train = tokenizer.texts_to_sequences(processed_docs_train)\n",
    "word_seq_test = tokenizer.texts_to_sequences(processed_docs_test)\n",
    "word_index = tokenizer.word_index\n",
    "print(\"dictionary size: \", len(word_index))\n",
    "\n",
    "#pad sequences\n",
    "word_seq_train = sequence.pad_sequences(word_seq_train, maxlen=max_seq_len)\n",
    "word_seq_test = sequence.pad_sequences(word_seq_test, maxlen=max_seq_len)"
   ]
  },
  {
   "cell_type": "code",
   "execution_count": 12,
   "metadata": {
    "id": "HMn0p8F4nKqA"
   },
   "outputs": [],
   "source": [
    "# For Training\n",
    "import keras\n",
    "from keras import optimizers\n",
    "from keras import backend as K\n",
    "from keras import regularizers\n",
    "from keras.models import Sequential\n",
    "from keras.layers import Dense, Activation, Dropout, Flatten\n",
    "from keras.layers import Embedding, Conv1D, MaxPooling1D, GlobalMaxPooling1D\n",
    "from tensorflow.keras.layers import Embedding, LSTM, Dense, Dropout, Bidirectional\n",
    "# from keras.utils import plot_model\n",
    "from keras.preprocessing import sequence\n",
    "from keras.callbacks import EarlyStopping\n",
    "\n",
    "#training params\n",
    "batch_size = 256 \n",
    "num_epochs = 40\n",
    "\n",
    "#model parameters\n",
    "num_filters = 64 \n",
    "embed_dim = 300 \n",
    "weight_decay = 1e-4"
   ]
  },
  {
   "cell_type": "markdown",
   "metadata": {
    "id": "qHWDQlSOz5ef"
   },
   "source": [
    "## Glove"
   ]
  },
  {
   "cell_type": "code",
   "execution_count": 13,
   "metadata": {
    "id": "e4bfa05c-7f0c-4194-b9cf-f536ca238823"
   },
   "outputs": [],
   "source": [
    "import requests, zipfile, io\n",
    "zip_file_url = \"http://nlp.stanford.edu/data/glove.840B.300d.zip\"\n",
    "r = requests.get(zip_file_url)\n",
    "z = zipfile.ZipFile(io.BytesIO(r.content))\n",
    "z.extractall()"
   ]
  },
  {
   "cell_type": "code",
   "execution_count": 14,
   "metadata": {
    "colab": {
     "base_uri": "https://localhost:8080/"
    },
    "id": "GBcVEYpo1GdC",
    "outputId": "f31fe8d1-bb5c-496c-f48c-98b718bdd2ae"
   },
   "outputs": [
    {
     "name": "stdout",
     "output_type": "stream",
     "text": [
      "loading word embeddings...\n"
     ]
    },
    {
     "name": "stderr",
     "output_type": "stream",
     "text": [
      "2196018it [03:59, 9184.49it/s]"
     ]
    },
    {
     "name": "stdout",
     "output_type": "stream",
     "text": [
      "found 2196016 word vectors\n"
     ]
    },
    {
     "name": "stderr",
     "output_type": "stream",
     "text": [
      "\n"
     ]
    }
   ],
   "source": [
    "print('loading word embeddings...')\n",
    "\n",
    "embeddings_index = {}\n",
    "f = codecs.open('/content/glove.840B.300d.txt', encoding='utf-8')\n",
    "\n",
    "for line in tqdm(f):\n",
    "    values = line.rstrip().rsplit(' ')\n",
    "    word = values[0]\n",
    "    coefs = np.asarray(values[1:], dtype='float32')\n",
    "    embeddings_index[word] = coefs\n",
    "f.close()\n",
    "\n",
    "print('found %s word vectors' % len(embeddings_index))"
   ]
  },
  {
   "cell_type": "code",
   "execution_count": 15,
   "metadata": {
    "colab": {
     "base_uri": "https://localhost:8080/"
    },
    "id": "kQt_f5sKFZKY",
    "outputId": "8dfc5c3d-3bbc-425d-e28e-9bcb10afb999"
   },
   "outputs": [
    {
     "name": "stdout",
     "output_type": "stream",
     "text": [
      "number of null word embeddings: 42\n"
     ]
    }
   ],
   "source": [
    "#embedding matrix\n",
    "\n",
    "words_not_found = []\n",
    "nb_words = min(MAX_NB_WORDS, len(word_index)+1)\n",
    "embedding_matrix = np.zeros((nb_words, embed_dim))\n",
    "\n",
    "for word, i in word_index.items():\n",
    "    if i >= nb_words:\n",
    "        continue\n",
    "    embedding_vector = embeddings_index.get(word)\n",
    "    if (embedding_vector is not None) and len(embedding_vector) > 0:\n",
    "        # words not found in embedding index will be all-zeros.\n",
    "        embedding_matrix[i] = embedding_vector\n",
    "    else:\n",
    "        words_not_found.append(word)\n",
    "print('number of null word embeddings: %d' % np.sum(np.sum(embedding_matrix, axis=1) == 0))"
   ]
  },
  {
   "cell_type": "markdown",
   "metadata": {
    "id": "M7GeH5k6FZ3Q"
   },
   "source": [
    "### LSTM"
   ]
  },
  {
   "cell_type": "code",
   "execution_count": 17,
   "metadata": {
    "id": "S4QbLzxY1O0u"
   },
   "outputs": [],
   "source": [
    "from keras.layers import BatchNormalization\n",
    "import tensorflow as tf\n",
    "\n",
    "def create_lstm_model():\n",
    "  model_lstm = tf.keras.Sequential()\n",
    "  model_lstm.add(Embedding(nb_words,embed_dim,input_length=max_seq_len, weights=[embedding_matrix],trainable=False))\n",
    "  # model.add(SpatialDropout1D(0.7))\n",
    "  model_lstm.add(Bidirectional(LSTM(128, dropout=0.7, recurrent_dropout=0.7)))\n",
    "  model_lstm.add(Dense(128,activation='relu'))\n",
    "  model_lstm.add(Dense(77, activation='softmax'))\n",
    "  model_lstm.compile(optimizer='adam', loss='categorical_crossentropy', metrics=['acc'])\n",
    "  return model_lstm\n"
   ]
  },
  {
   "cell_type": "code",
   "execution_count": 18,
   "metadata": {
    "colab": {
     "base_uri": "https://localhost:8080/"
    },
    "id": "2gpwTmEa1SOP",
    "outputId": "55aca448-4466-41b7-db02-b6dc46f0039e"
   },
   "outputs": [
    {
     "name": "stdout",
     "output_type": "stream",
     "text": [
      "Model: \"sequential\"\n",
      "_________________________________________________________________\n",
      " Layer (type)                Output Shape              Param #   \n",
      "=================================================================\n",
      " embedding (Embedding)       (None, 19, 300)           756600    \n",
      "                                                                 \n",
      " bidirectional (Bidirectiona  (None, 256)              439296    \n",
      " l)                                                              \n",
      "                                                                 \n",
      " dense (Dense)               (None, 128)               32896     \n",
      "                                                                 \n",
      " dense_1 (Dense)             (None, 77)                9933      \n",
      "                                                                 \n",
      "=================================================================\n",
      "Total params: 1,238,725\n",
      "Trainable params: 482,125\n",
      "Non-trainable params: 756,600\n",
      "_________________________________________________________________\n"
     ]
    }
   ],
   "source": [
    "from keras.layers import BatchNormalization\n",
    "import tensorflow as tf\n",
    "\n",
    "model_lstm_glove = create_lstm_model()\n",
    "\n",
    "model_lstm_glove.summary()"
   ]
  },
  {
   "cell_type": "code",
   "execution_count": 19,
   "metadata": {
    "id": "sjO_2DEZ1Uos"
   },
   "outputs": [],
   "source": [
    "# from keras.optimizers import RMSprop\n",
    "from keras.callbacks import ModelCheckpoint\n",
    "from tensorflow.keras.callbacks import EarlyStopping\n",
    "\n",
    "model_lstm_glove.compile(optimizer='adam',loss = tf.keras.losses.SparseCategoricalCrossentropy(from_logits=True), metrics=['accuracy'])\n"
   ]
  },
  {
   "cell_type": "code",
   "execution_count": 20,
   "metadata": {
    "colab": {
     "base_uri": "https://localhost:8080/"
    },
    "id": "ky-3dLu04ETx",
    "outputId": "4316c744-0224-4807-e3e7-8c86224ebe40"
   },
   "outputs": [
    {
     "name": "stdout",
     "output_type": "stream",
     "text": [
      "Epoch 1/40\n"
     ]
    },
    {
     "name": "stderr",
     "output_type": "stream",
     "text": [
      "/usr/local/lib/python3.7/dist-packages/tensorflow/python/util/dispatch.py:1082: UserWarning: \"`sparse_categorical_crossentropy` received `from_logits=True`, but the `output` argument was produced by a sigmoid or softmax activation and thus does not represent logits. Was this intended?\"\n",
      "  return dispatch_target(*args, **kwargs)\n"
     ]
    },
    {
     "name": "stdout",
     "output_type": "stream",
     "text": [
      "30/30 [==============================] - 24s 607ms/step - loss: 4.2518 - accuracy: 0.0562 - val_loss: 3.9710 - val_accuracy: 0.1615\n",
      "Epoch 2/40\n",
      "30/30 [==============================] - 20s 669ms/step - loss: 3.5553 - accuracy: 0.1930 - val_loss: 2.5612 - val_accuracy: 0.3496\n",
      "Epoch 3/40\n",
      "30/30 [==============================] - 23s 755ms/step - loss: 2.4695 - accuracy: 0.3586 - val_loss: 1.7460 - val_accuracy: 0.5124\n",
      "Epoch 4/40\n",
      "30/30 [==============================] - 16s 521ms/step - loss: 1.9018 - accuracy: 0.4784 - val_loss: 1.3849 - val_accuracy: 0.6038\n",
      "Epoch 5/40\n",
      "30/30 [==============================] - 16s 528ms/step - loss: 1.5927 - accuracy: 0.5564 - val_loss: 1.1273 - val_accuracy: 0.6751\n",
      "Epoch 6/40\n",
      "30/30 [==============================] - 16s 520ms/step - loss: 1.4046 - accuracy: 0.5996 - val_loss: 1.0093 - val_accuracy: 0.7083\n",
      "Epoch 7/40\n",
      "30/30 [==============================] - 16s 521ms/step - loss: 1.2501 - accuracy: 0.6382 - val_loss: 0.8982 - val_accuracy: 0.7362\n",
      "Epoch 8/40\n",
      "30/30 [==============================] - 16s 522ms/step - loss: 1.1607 - accuracy: 0.6668 - val_loss: 0.8464 - val_accuracy: 0.7487\n",
      "Epoch 9/40\n",
      "30/30 [==============================] - 16s 523ms/step - loss: 1.0398 - accuracy: 0.6912 - val_loss: 0.7861 - val_accuracy: 0.7634\n",
      "Epoch 10/40\n",
      "30/30 [==============================] - 16s 526ms/step - loss: 1.0164 - accuracy: 0.7012 - val_loss: 0.7416 - val_accuracy: 0.7768\n",
      "Epoch 11/40\n",
      "30/30 [==============================] - 16s 523ms/step - loss: 0.9410 - accuracy: 0.7233 - val_loss: 0.7052 - val_accuracy: 0.7884\n",
      "Epoch 12/40\n",
      "30/30 [==============================] - 16s 527ms/step - loss: 0.8808 - accuracy: 0.7409 - val_loss: 0.6732 - val_accuracy: 0.7959\n",
      "Epoch 13/40\n",
      "30/30 [==============================] - 16s 526ms/step - loss: 0.8451 - accuracy: 0.7571 - val_loss: 0.6465 - val_accuracy: 0.8047\n",
      "Epoch 14/40\n",
      "30/30 [==============================] - 17s 556ms/step - loss: 0.7988 - accuracy: 0.7636 - val_loss: 0.6178 - val_accuracy: 0.8163\n",
      "Epoch 15/40\n",
      "30/30 [==============================] - 16s 526ms/step - loss: 0.7680 - accuracy: 0.7703 - val_loss: 0.6015 - val_accuracy: 0.8178\n",
      "Epoch 16/40\n",
      "30/30 [==============================] - 18s 618ms/step - loss: 0.7455 - accuracy: 0.7813 - val_loss: 0.5812 - val_accuracy: 0.8257\n",
      "Epoch 17/40\n",
      "30/30 [==============================] - 16s 521ms/step - loss: 0.6940 - accuracy: 0.7959 - val_loss: 0.5667 - val_accuracy: 0.8316\n",
      "Epoch 18/40\n",
      "30/30 [==============================] - 16s 521ms/step - loss: 0.6769 - accuracy: 0.7952 - val_loss: 0.5564 - val_accuracy: 0.8329\n",
      "Epoch 19/40\n",
      "30/30 [==============================] - 16s 523ms/step - loss: 0.6539 - accuracy: 0.7994 - val_loss: 0.5394 - val_accuracy: 0.8404\n",
      "Epoch 20/40\n",
      "30/30 [==============================] - 16s 523ms/step - loss: 0.6398 - accuracy: 0.8029 - val_loss: 0.5369 - val_accuracy: 0.8407\n",
      "Epoch 21/40\n",
      "30/30 [==============================] - 16s 523ms/step - loss: 0.6047 - accuracy: 0.8251 - val_loss: 0.5161 - val_accuracy: 0.8482\n",
      "Epoch 22/40\n",
      "30/30 [==============================] - 16s 524ms/step - loss: 0.5807 - accuracy: 0.8253 - val_loss: 0.5138 - val_accuracy: 0.8457\n",
      "Epoch 23/40\n",
      "30/30 [==============================] - 16s 523ms/step - loss: 0.5755 - accuracy: 0.8245 - val_loss: 0.4960 - val_accuracy: 0.8504\n",
      "Epoch 24/40\n",
      "30/30 [==============================] - 16s 520ms/step - loss: 0.5469 - accuracy: 0.8371 - val_loss: 0.4867 - val_accuracy: 0.8563\n",
      "Epoch 25/40\n",
      "30/30 [==============================] - 16s 523ms/step - loss: 0.5255 - accuracy: 0.8423 - val_loss: 0.4758 - val_accuracy: 0.8579\n",
      "Epoch 26/40\n",
      "30/30 [==============================] - 16s 528ms/step - loss: 0.4906 - accuracy: 0.8497 - val_loss: 0.4722 - val_accuracy: 0.8588\n",
      "Epoch 27/40\n",
      "30/30 [==============================] - 16s 528ms/step - loss: 0.5031 - accuracy: 0.8459 - val_loss: 0.4641 - val_accuracy: 0.8673\n",
      "Epoch 28/40\n",
      "30/30 [==============================] - 17s 567ms/step - loss: 0.4851 - accuracy: 0.8488 - val_loss: 0.4517 - val_accuracy: 0.8654\n",
      "Epoch 29/40\n",
      "30/30 [==============================] - 16s 529ms/step - loss: 0.4696 - accuracy: 0.8572 - val_loss: 0.4559 - val_accuracy: 0.8632\n",
      "Epoch 30/40\n",
      "30/30 [==============================] - 18s 606ms/step - loss: 0.4494 - accuracy: 0.8618 - val_loss: 0.4511 - val_accuracy: 0.8692\n",
      "Epoch 31/40\n",
      "30/30 [==============================] - 16s 527ms/step - loss: 0.4477 - accuracy: 0.8651 - val_loss: 0.4585 - val_accuracy: 0.8701\n",
      "Epoch 32/40\n",
      "30/30 [==============================] - 16s 527ms/step - loss: 0.4251 - accuracy: 0.8680 - val_loss: 0.4349 - val_accuracy: 0.8726\n",
      "Epoch 33/40\n",
      "30/30 [==============================] - 16s 527ms/step - loss: 0.4168 - accuracy: 0.8724 - val_loss: 0.4429 - val_accuracy: 0.8745\n",
      "Epoch 34/40\n",
      "30/30 [==============================] - 16s 525ms/step - loss: 0.4089 - accuracy: 0.8694 - val_loss: 0.4378 - val_accuracy: 0.8717\n",
      "Epoch 35/40\n",
      "30/30 [==============================] - 16s 526ms/step - loss: 0.3953 - accuracy: 0.8764 - val_loss: 0.4366 - val_accuracy: 0.8761\n"
     ]
    }
   ],
   "source": [
    "es_callback = EarlyStopping(monitor='val_loss', patience=3)\n",
    "\n",
    "history_glove = model_lstm_glove.fit(word_seq_train, y_train, batch_size=256, epochs=num_epochs, validation_split=0.3, callbacks=[es_callback], shuffle=False)"
   ]
  },
  {
   "cell_type": "code",
   "execution_count": 21,
   "metadata": {
    "colab": {
     "base_uri": "https://localhost:8080/",
     "height": 295
    },
    "id": "0TgeUMY54m97",
    "outputId": "f5ae290b-5f14-4fde-c436-7bbe69323a30"
   },
   "outputs": [
    {
     "data": {
      "image/png": "[encoded data removed]",
      "text/plain": [
       "<Figure size 432x288 with 1 Axes>"
      ]
     },
     "metadata": {},
     "output_type": "display_data"
    }
   ],
   "source": [
    "#generate plots\n",
    "plt.figure()\n",
    "plt.plot(history_glove.history['loss'], lw=2.0, color='b', label='train')\n",
    "plt.plot(history_glove.history['val_loss'], lw=2.0, color='r', label='val')\n",
    "plt.title('LSTM glove')\n",
    "plt.xlabel('Epochs')\n",
    "plt.ylabel('Cross-Entropy Loss')\n",
    "plt.legend(loc='upper right')\n",
    "plt.show()"
   ]
  },
  {
   "cell_type": "code",
   "execution_count": 22,
   "metadata": {
    "colab": {
     "base_uri": "https://localhost:8080/",
     "height": 295
    },
    "id": "wd7sQL2N4pxE",
    "outputId": "13448676-f719-4259-b836-1a61c7caf050"
   },
   "outputs": [
    {
     "data": {
      "image/png": "[encoded data removed]",
      "text/plain": [
       "<Figure size 432x288 with 1 Axes>"
      ]
     },
     "metadata": {},
     "output_type": "display_data"
    }
   ],
   "source": [
    "plt.figure()\n",
    "plt.plot(history_glove.history['accuracy'], lw=2.0, color='b', label='train')\n",
    "plt.plot(history_glove.history['val_accuracy'], lw=2.0, color='r', label='val')\n",
    "plt.title('LSTM glove')\n",
    "plt.xlabel('Epochs')\n",
    "plt.ylabel('Accuracy')\n",
    "plt.legend(loc='upper left')\n",
    "plt.show()"
   ]
  },
  {
   "cell_type": "code",
   "execution_count": 23,
   "metadata": {
    "colab": {
     "base_uri": "https://localhost:8080/",
     "height": 424
    },
    "id": "VFntRuVfWnCF",
    "outputId": "170e91bf-ba3e-4b57-df1e-7fc5234fb5c2"
   },
   "outputs": [
    {
     "data": {
      "text/html": [
       "\n",
       "  <div id=\"df-b2278def-12b2-49ea-a39a-90a701bb35da\">\n",
       "    <div class=\"colab-df-container\">\n",
       "      <div>\n",
       "<style scoped>\n",
       "    .dataframe tbody tr th:only-of-type {\n",
       "        vertical-align: middle;\n",
       "    }\n",
       "\n",
       "    .dataframe tbody tr th {\n",
       "        vertical-align: top;\n",
       "    }\n",
       "\n",
       "    .dataframe thead th {\n",
       "        text-align: right;\n",
       "    }\n",
       "</style>\n",
       "<table border=\"1\" class=\"dataframe\">\n",
       "  <thead>\n",
       "    <tr style=\"text-align: right;\">\n",
       "      <th></th>\n",
       "      <th>pred</th>\n",
       "      <th>l</th>\n",
       "    </tr>\n",
       "  </thead>\n",
       "  <tbody>\n",
       "    <tr>\n",
       "      <th>6113</th>\n",
       "      <td>22</td>\n",
       "      <td>22</td>\n",
       "    </tr>\n",
       "    <tr>\n",
       "      <th>2453</th>\n",
       "      <td>23</td>\n",
       "      <td>23</td>\n",
       "    </tr>\n",
       "    <tr>\n",
       "      <th>2442</th>\n",
       "      <td>49</td>\n",
       "      <td>49</td>\n",
       "    </tr>\n",
       "    <tr>\n",
       "      <th>2859</th>\n",
       "      <td>59</td>\n",
       "      <td>47</td>\n",
       "    </tr>\n",
       "    <tr>\n",
       "      <th>12994</th>\n",
       "      <td>69</td>\n",
       "      <td>69</td>\n",
       "    </tr>\n",
       "    <tr>\n",
       "      <th>...</th>\n",
       "      <td>...</td>\n",
       "      <td>...</td>\n",
       "    </tr>\n",
       "    <tr>\n",
       "      <th>7532</th>\n",
       "      <td>27</td>\n",
       "      <td>27</td>\n",
       "    </tr>\n",
       "    <tr>\n",
       "      <th>3434</th>\n",
       "      <td>57</td>\n",
       "      <td>15</td>\n",
       "    </tr>\n",
       "    <tr>\n",
       "      <th>694</th>\n",
       "      <td>17</td>\n",
       "      <td>17</td>\n",
       "    </tr>\n",
       "    <tr>\n",
       "      <th>5168</th>\n",
       "      <td>68</td>\n",
       "      <td>68</td>\n",
       "    </tr>\n",
       "    <tr>\n",
       "      <th>11308</th>\n",
       "      <td>37</td>\n",
       "      <td>37</td>\n",
       "    </tr>\n",
       "  </tbody>\n",
       "</table>\n",
       "<p>2662 rows × 2 columns</p>\n",
       "</div>\n",
       "      <button class=\"colab-df-convert\" onclick=\"convertToInteractive('df-b2278def-12b2-49ea-a39a-90a701bb35da')\"\n",
       "              title=\"Convert this dataframe to an interactive table.\"\n",
       "              style=\"display:none;\">\n",
       "        \n",
       "  <svg xmlns=\"http://www.w3.org/2000/svg\" height=\"24px\"viewBox=\"0 0 24 24\"\n",
       "       width=\"24px\">\n",
       "    <path d=\"M0 0h24v24H0V0z\" fill=\"none\"/>\n",
       "    <path d=\"M18.56 5.44l.94 2.06.94-2.06 2.06-.94-2.06-.94-.94-2.06-.94 2.06-2.06.94zm-11 1L8.5 8.5l.94-2.06 2.06-.94-2.06-.94L8.5 2.5l-.94 2.06-2.06.94zm10 10l.94 2.06.94-2.06 2.06-.94-2.06-.94-.94-2.06-.94 2.06-2.06.94z\"/><path d=\"M17.41 7.96l-1.37-1.37c-.4-.4-.92-.59-1.43-.59-.52 0-1.04.2-1.43.59L10.3 9.45l-7.72 7.72c-.78.78-.78 2.05 0 2.83L4 21.41c.39.39.9.59 1.41.59.51 0 1.02-.2 1.41-.59l7.78-7.78 2.81-2.81c.8-.78.8-2.07 0-2.86zM5.41 20L4 18.59l7.72-7.72 1.47 1.35L5.41 20z\"/>\n",
       "  </svg>\n",
       "      </button>\n",
       "      \n",
       "  <style>\n",
       "    .colab-df-container {\n",
       "      display:flex;\n",
       "      flex-wrap:wrap;\n",
       "      gap: 12px;\n",
       "    }\n",
       "\n",
       "    .colab-df-convert {\n",
       "      background-color: #E8F0FE;\n",
       "      border: none;\n",
       "      border-radius: 50%;\n",
       "      cursor: pointer;\n",
       "      display: none;\n",
       "      fill: #1967D2;\n",
       "      height: 32px;\n",
       "      padding: 0 0 0 0;\n",
       "      width: 32px;\n",
       "    }\n",
       "\n",
       "    .colab-df-convert:hover {\n",
       "      background-color: #E2EBFA;\n",
       "      box-shadow: 0px 1px 2px rgba(60, 64, 67, 0.3), 0px 1px 3px 1px rgba(60, 64, 67, 0.15);\n",
       "      fill: #174EA6;\n",
       "    }\n",
       "\n",
       "    [theme=dark] .colab-df-convert {\n",
       "      background-color: #3B4455;\n",
       "      fill: #D2E3FC;\n",
       "    }\n",
       "\n",
       "    [theme=dark] .colab-df-convert:hover {\n",
       "      background-color: #434B5C;\n",
       "      box-shadow: 0px 1px 3px 1px rgba(0, 0, 0, 0.15);\n",
       "      filter: drop-shadow(0px 1px 2px rgba(0, 0, 0, 0.3));\n",
       "      fill: #FFFFFF;\n",
       "    }\n",
       "  </style>\n",
       "\n",
       "      <script>\n",
       "        const buttonEl =\n",
       "          document.querySelector('#df-b2278def-12b2-49ea-a39a-90a701bb35da button.colab-df-convert');\n",
       "        buttonEl.style.display =\n",
       "          google.colab.kernel.accessAllowed ? 'block' : 'none';\n",
       "\n",
       "        async function convertToInteractive(key) {\n",
       "          const element = document.querySelector('#df-b2278def-12b2-49ea-a39a-90a701bb35da');\n",
       "          const dataTable =\n",
       "            await google.colab.kernel.invokeFunction('convertToInteractive',\n",
       "                                                     [key], {});\n",
       "          if (!dataTable) return;\n",
       "\n",
       "          const docLinkHtml = 'Like what you see? Visit the ' +\n",
       "            '<a target=\"_blank\" href=https://colab.research.google.com/notebooks/data_table.ipynb>data table notebook</a>'\n",
       "            + ' to learn more about interactive tables.';\n",
       "          element.innerHTML = '';\n",
       "          dataTable['output_type'] = 'display_data';\n",
       "          await google.colab.output.renderOutput(dataTable, element);\n",
       "          const docLink = document.createElement('div');\n",
       "          docLink.innerHTML = docLinkHtml;\n",
       "          element.appendChild(docLink);\n",
       "        }\n",
       "      </script>\n",
       "    </div>\n",
       "  </div>\n",
       "  "
      ],
      "text/plain": [
       "       pred   l\n",
       "6113     22  22\n",
       "2453     23  23\n",
       "2442     49  49\n",
       "2859     59  47\n",
       "12994    69  69\n",
       "...     ...  ..\n",
       "7532     27  27\n",
       "3434     57  15\n",
       "694      17  17\n",
       "5168     68  68\n",
       "11308    37  37\n",
       "\n",
       "[2662 rows x 2 columns]"
      ]
     },
     "execution_count": 23,
     "metadata": {},
     "output_type": "execute_result"
    }
   ],
   "source": [
    "predictions = model_lstm_glove.predict(word_seq_test)\n",
    "list_ = []\n",
    "for i in range(len(predictions)):\n",
    "  a = predictions[i]\n",
    "  list_.append(np.where(a == a.max())[0][0] )\n",
    "\n",
    "\n",
    "sample= test_df\n",
    "sample['pred']= list_ \n",
    "sample[['pred', \"l\"]]"
   ]
  },
  {
   "cell_type": "code",
   "execution_count": 24,
   "metadata": {
    "colab": {
     "base_uri": "https://localhost:8080/"
    },
    "id": "-5cWtIdgW56a",
    "outputId": "a6a95a1a-2e79-49e6-c702-9f3e5acaa2d3"
   },
   "outputs": [
    {
     "name": "stdout",
     "output_type": "stream",
     "text": [
      "Accuracy With glove LSTM:\n",
      "0.8613824192336589\n"
     ]
    }
   ],
   "source": [
    "import sklearn\n",
    "\n",
    "print(\"Accuracy With glove LSTM:\")\n",
    "print(sklearn.metrics.accuracy_score(sample.l, sample.pred))"
   ]
  },
  {
   "cell_type": "code",
   "execution_count": 24,
   "metadata": {
    "id": "am5CKWr29mef"
   },
   "outputs": [],
   "source": []
  },
  {
   "cell_type": "markdown",
   "metadata": {
    "id": "Ng7PfoFOF_B-"
   },
   "source": [
    "### CNN"
   ]
  },
  {
   "cell_type": "code",
   "execution_count": 27,
   "metadata": {
    "id": "EmCvP1GvF_B-"
   },
   "outputs": [],
   "source": [
    "#CNN architecture\n",
    "\n",
    "num_filters = 64 \n",
    "\n",
    "def create_cnn_model():\n",
    "  model_cnn = Sequential()\n",
    "  model_cnn.add(Embedding(nb_words, embed_dim, weights=[embedding_matrix], input_length=max_seq_len, trainable=False))\n",
    "  model_cnn.add(Conv1D(num_filters, 7, activation='relu', padding='same'))\n",
    "  model_cnn.add(MaxPooling1D(2))\n",
    "  model_cnn.add(Conv1D(num_filters, 7, activation='relu', padding='same'))\n",
    "  model_cnn.add(GlobalMaxPooling1D())\n",
    "  model_cnn.add(Dropout(0.5))\n",
    "  model_cnn.add(Dense(32, activation='relu', kernel_regularizer=regularizers.l2(weight_decay)))\n",
    "  model_cnn.add(Dense(77, activation='softmax'))\n",
    "\n",
    "  adam = tf.keras.optimizers.Adam(lr=0.001, beta_1=0.9, beta_2=0.999, epsilon=1e-08, decay=0.0)\n",
    "  model_cnn.compile(loss='binary_crossentropy', optimizer=adam, metrics=['accuracy'])\n",
    "  return model_cnn\n"
   ]
  },
  {
   "cell_type": "code",
   "execution_count": 28,
   "metadata": {
    "colab": {
     "base_uri": "https://localhost:8080/"
    },
    "id": "mPuNDf8NF_B_",
    "outputId": "c5a616f0-ed53-4a29-98a7-4fa70bd645e5"
   },
   "outputs": [
    {
     "name": "stdout",
     "output_type": "stream",
     "text": [
      "Model: \"sequential_1\"\n",
      "_________________________________________________________________\n",
      " Layer (type)                Output Shape              Param #   \n",
      "=================================================================\n",
      " embedding_1 (Embedding)     (None, 19, 300)           756600    \n",
      "                                                                 \n",
      " conv1d (Conv1D)             (None, 19, 64)            134464    \n",
      "                                                                 \n",
      " max_pooling1d (MaxPooling1D  (None, 9, 64)            0         \n",
      " )                                                               \n",
      "                                                                 \n",
      " conv1d_1 (Conv1D)           (None, 9, 64)             28736     \n",
      "                                                                 \n",
      " global_max_pooling1d (Globa  (None, 64)               0         \n",
      " lMaxPooling1D)                                                  \n",
      "                                                                 \n",
      " dropout (Dropout)           (None, 64)                0         \n",
      "                                                                 \n",
      " dense_2 (Dense)             (None, 32)                2080      \n",
      "                                                                 \n",
      " dense_3 (Dense)             (None, 77)                2541      \n",
      "                                                                 \n",
      "=================================================================\n",
      "Total params: 924,421\n",
      "Trainable params: 167,821\n",
      "Non-trainable params: 756,600\n",
      "_________________________________________________________________\n"
     ]
    },
    {
     "name": "stderr",
     "output_type": "stream",
     "text": [
      "/usr/local/lib/python3.7/dist-packages/keras/optimizer_v2/adam.py:105: UserWarning: The `lr` argument is deprecated, use `learning_rate` instead.\n",
      "  super(Adam, self).__init__(name, **kwargs)\n"
     ]
    }
   ],
   "source": [
    "#CNN architecture\n",
    "model_cnn_glove = create_cnn_model()\n",
    "model_cnn_glove.summary()"
   ]
  },
  {
   "cell_type": "code",
   "execution_count": 29,
   "metadata": {
    "id": "Gg9aqcuOF_B_"
   },
   "outputs": [],
   "source": [
    "from keras.callbacks import ModelCheckpoint\n",
    "from tensorflow.keras.callbacks import EarlyStopping\n",
    "\n",
    "model_cnn_glove.compile(optimizer='adam',loss = tf.keras.losses.SparseCategoricalCrossentropy(from_logits=True), metrics=['accuracy'])"
   ]
  },
  {
   "cell_type": "code",
   "execution_count": 30,
   "metadata": {
    "colab": {
     "base_uri": "https://localhost:8080/"
    },
    "id": "JueVXnQUF_B_",
    "outputId": "33550bdf-50c4-430c-ba1e-73073f00c405"
   },
   "outputs": [
    {
     "name": "stdout",
     "output_type": "stream",
     "text": [
      "Epoch 1/40\n"
     ]
    },
    {
     "name": "stderr",
     "output_type": "stream",
     "text": [
      "/usr/local/lib/python3.7/dist-packages/tensorflow/python/util/dispatch.py:1082: UserWarning: \"`sparse_categorical_crossentropy` received `from_logits=True`, but the `output` argument was produced by a sigmoid or softmax activation and thus does not represent logits. Was this intended?\"\n",
      "  return dispatch_target(*args, **kwargs)\n"
     ]
    },
    {
     "name": "stdout",
     "output_type": "stream",
     "text": [
      "30/30 [==============================] - 4s 107ms/step - loss: 4.3281 - accuracy: 0.0192 - val_loss: 4.2566 - val_accuracy: 0.0222\n",
      "Epoch 2/40\n",
      "30/30 [==============================] - 3s 98ms/step - loss: 4.1033 - accuracy: 0.0482 - val_loss: 3.7945 - val_accuracy: 0.1449\n",
      "Epoch 3/40\n",
      "30/30 [==============================] - 3s 99ms/step - loss: 3.5729 - accuracy: 0.1288 - val_loss: 3.0004 - val_accuracy: 0.2986\n",
      "Epoch 4/40\n",
      "30/30 [==============================] - 3s 102ms/step - loss: 2.8820 - accuracy: 0.2593 - val_loss: 2.2649 - val_accuracy: 0.4635\n",
      "Epoch 5/40\n",
      "30/30 [==============================] - 3s 100ms/step - loss: 2.3702 - accuracy: 0.3600 - val_loss: 1.8678 - val_accuracy: 0.5405\n",
      "Epoch 6/40\n",
      "30/30 [==============================] - 5s 166ms/step - loss: 2.0512 - accuracy: 0.4227 - val_loss: 1.5681 - val_accuracy: 0.5966\n",
      "Epoch 7/40\n",
      "30/30 [==============================] - 3s 103ms/step - loss: 1.7907 - accuracy: 0.4795 - val_loss: 1.3649 - val_accuracy: 0.6435\n",
      "Epoch 8/40\n",
      "30/30 [==============================] - 3s 102ms/step - loss: 1.6155 - accuracy: 0.5284 - val_loss: 1.2645 - val_accuracy: 0.6679\n",
      "Epoch 9/40\n",
      "30/30 [==============================] - 3s 102ms/step - loss: 1.4715 - accuracy: 0.5570 - val_loss: 1.1727 - val_accuracy: 0.6848\n",
      "Epoch 10/40\n",
      "30/30 [==============================] - 3s 102ms/step - loss: 1.3675 - accuracy: 0.5903 - val_loss: 1.0738 - val_accuracy: 0.7111\n",
      "Epoch 11/40\n",
      "30/30 [==============================] - 3s 100ms/step - loss: 1.2695 - accuracy: 0.6177 - val_loss: 1.0103 - val_accuracy: 0.7221\n",
      "Epoch 12/40\n",
      "30/30 [==============================] - 3s 100ms/step - loss: 1.1985 - accuracy: 0.6390 - val_loss: 0.9501 - val_accuracy: 0.7430\n",
      "Epoch 13/40\n",
      "30/30 [==============================] - 3s 103ms/step - loss: 1.1204 - accuracy: 0.6594 - val_loss: 0.9242 - val_accuracy: 0.7424\n",
      "Epoch 14/40\n",
      "30/30 [==============================] - 3s 101ms/step - loss: 1.0400 - accuracy: 0.6832 - val_loss: 0.8733 - val_accuracy: 0.7546\n",
      "Epoch 15/40\n",
      "30/30 [==============================] - 3s 100ms/step - loss: 0.9876 - accuracy: 0.7008 - val_loss: 0.8450 - val_accuracy: 0.7693\n",
      "Epoch 16/40\n",
      "30/30 [==============================] - 3s 100ms/step - loss: 0.9481 - accuracy: 0.7110 - val_loss: 0.8167 - val_accuracy: 0.7684\n",
      "Epoch 17/40\n",
      "30/30 [==============================] - 3s 101ms/step - loss: 0.8666 - accuracy: 0.7326 - val_loss: 0.7854 - val_accuracy: 0.7725\n",
      "Epoch 18/40\n",
      "30/30 [==============================] - 3s 102ms/step - loss: 0.8387 - accuracy: 0.7442 - val_loss: 0.7934 - val_accuracy: 0.7700\n",
      "Epoch 19/40\n",
      "30/30 [==============================] - 3s 100ms/step - loss: 0.8163 - accuracy: 0.7479 - val_loss: 0.7620 - val_accuracy: 0.7759\n",
      "Epoch 20/40\n",
      "30/30 [==============================] - 3s 100ms/step - loss: 0.7713 - accuracy: 0.7574 - val_loss: 0.7556 - val_accuracy: 0.7828\n",
      "Epoch 21/40\n",
      "30/30 [==============================] - 3s 102ms/step - loss: 0.7279 - accuracy: 0.7755 - val_loss: 0.7143 - val_accuracy: 0.7978\n",
      "Epoch 22/40\n",
      "30/30 [==============================] - 3s 101ms/step - loss: 0.7109 - accuracy: 0.7829 - val_loss: 0.7434 - val_accuracy: 0.7869\n",
      "Epoch 23/40\n",
      "30/30 [==============================] - 4s 139ms/step - loss: 0.6894 - accuracy: 0.7876 - val_loss: 0.7046 - val_accuracy: 0.8016\n",
      "Epoch 24/40\n",
      "30/30 [==============================] - 3s 101ms/step - loss: 0.6548 - accuracy: 0.7951 - val_loss: 0.7017 - val_accuracy: 0.8031\n",
      "Epoch 25/40\n",
      "30/30 [==============================] - 3s 101ms/step - loss: 0.6307 - accuracy: 0.8043 - val_loss: 0.6998 - val_accuracy: 0.7975\n",
      "Epoch 26/40\n",
      "30/30 [==============================] - 3s 100ms/step - loss: 0.6130 - accuracy: 0.8107 - val_loss: 0.7073 - val_accuracy: 0.8028\n",
      "Epoch 27/40\n",
      "30/30 [==============================] - 3s 103ms/step - loss: 0.5999 - accuracy: 0.8199 - val_loss: 0.6699 - val_accuracy: 0.8094\n",
      "Epoch 28/40\n",
      "30/30 [==============================] - 3s 102ms/step - loss: 0.5707 - accuracy: 0.8260 - val_loss: 0.6724 - val_accuracy: 0.8056\n",
      "Epoch 29/40\n",
      "30/30 [==============================] - 3s 99ms/step - loss: 0.5509 - accuracy: 0.8276 - val_loss: 0.6760 - val_accuracy: 0.8081\n",
      "Epoch 30/40\n",
      "30/30 [==============================] - 3s 101ms/step - loss: 0.5271 - accuracy: 0.8341 - val_loss: 0.6633 - val_accuracy: 0.8138\n",
      "Epoch 31/40\n",
      "30/30 [==============================] - 3s 99ms/step - loss: 0.5007 - accuracy: 0.8429 - val_loss: 0.6697 - val_accuracy: 0.8141\n",
      "Epoch 32/40\n",
      "30/30 [==============================] - 3s 101ms/step - loss: 0.4932 - accuracy: 0.8430 - val_loss: 0.6871 - val_accuracy: 0.8103\n",
      "Epoch 33/40\n",
      "30/30 [==============================] - 3s 101ms/step - loss: 0.4755 - accuracy: 0.8570 - val_loss: 0.6775 - val_accuracy: 0.8156\n"
     ]
    }
   ],
   "source": [
    "es_callback = EarlyStopping(monitor='val_loss', patience=3)\n",
    "\n",
    "history = model_cnn_glove.fit(word_seq_train, y_train, batch_size=256, epochs=num_epochs, validation_split=0.3, callbacks=[es_callback], shuffle=False)"
   ]
  },
  {
   "cell_type": "code",
   "execution_count": 31,
   "metadata": {
    "colab": {
     "base_uri": "https://localhost:8080/",
     "height": 295
    },
    "id": "5Xp7v6zYF_B_",
    "outputId": "33b894c1-8000-42b2-bb57-f693b49de499"
   },
   "outputs": [
    {
     "data": {
      "image/png": "[encoded data removed]",
      "text/plain": [
       "<Figure size 432x288 with 1 Axes>"
      ]
     },
     "metadata": {},
     "output_type": "display_data"
    }
   ],
   "source": [
    "#generate plots\n",
    "plt.figure()\n",
    "plt.plot(history.history['loss'], lw=2.0, color='b', label='train')\n",
    "plt.plot(history.history['val_loss'], lw=2.0, color='r', label='val')\n",
    "plt.title('CNN Glove')\n",
    "plt.xlabel('Epochs')\n",
    "plt.ylabel('Cross-Entropy Loss')\n",
    "plt.legend(loc='upper right')\n",
    "plt.show()"
   ]
  },
  {
   "cell_type": "code",
   "execution_count": 32,
   "metadata": {
    "colab": {
     "base_uri": "https://localhost:8080/",
     "height": 295
    },
    "id": "QyYfKpfpF_B_",
    "outputId": "8b1bde8f-1946-4b80-c2a3-22953f80a16a"
   },
   "outputs": [
    {
     "data": {
      "image/png": "[encoded data removed]",
      "text/plain": [
       "<Figure size 432x288 with 1 Axes>"
      ]
     },
     "metadata": {},
     "output_type": "display_data"
    }
   ],
   "source": [
    "plt.figure()\n",
    "plt.plot(history.history['accuracy'], lw=2.0, color='b', label='train')\n",
    "plt.plot(history.history['val_accuracy'], lw=2.0, color='r', label='val')\n",
    "plt.title('CNN Glove')\n",
    "plt.xlabel('Epochs')\n",
    "plt.ylabel('Accuracy')\n",
    "plt.legend(loc='upper left')\n",
    "plt.show()"
   ]
  },
  {
   "cell_type": "code",
   "execution_count": 33,
   "metadata": {
    "colab": {
     "base_uri": "https://localhost:8080/",
     "height": 424
    },
    "id": "jr7e8a7qF_CA",
    "outputId": "db1609c0-1b2b-487f-d60b-bdb3e9326dbf"
   },
   "outputs": [
    {
     "data": {
      "text/html": [
       "\n",
       "  <div id=\"df-f4d4c8df-416f-4dfd-91c7-381e11285b84\">\n",
       "    <div class=\"colab-df-container\">\n",
       "      <div>\n",
       "<style scoped>\n",
       "    .dataframe tbody tr th:only-of-type {\n",
       "        vertical-align: middle;\n",
       "    }\n",
       "\n",
       "    .dataframe tbody tr th {\n",
       "        vertical-align: top;\n",
       "    }\n",
       "\n",
       "    .dataframe thead th {\n",
       "        text-align: right;\n",
       "    }\n",
       "</style>\n",
       "<table border=\"1\" class=\"dataframe\">\n",
       "  <thead>\n",
       "    <tr style=\"text-align: right;\">\n",
       "      <th></th>\n",
       "      <th>pred</th>\n",
       "      <th>l</th>\n",
       "    </tr>\n",
       "  </thead>\n",
       "  <tbody>\n",
       "    <tr>\n",
       "      <th>6113</th>\n",
       "      <td>22</td>\n",
       "      <td>22</td>\n",
       "    </tr>\n",
       "    <tr>\n",
       "      <th>2453</th>\n",
       "      <td>23</td>\n",
       "      <td>23</td>\n",
       "    </tr>\n",
       "    <tr>\n",
       "      <th>2442</th>\n",
       "      <td>49</td>\n",
       "      <td>49</td>\n",
       "    </tr>\n",
       "    <tr>\n",
       "      <th>2859</th>\n",
       "      <td>54</td>\n",
       "      <td>47</td>\n",
       "    </tr>\n",
       "    <tr>\n",
       "      <th>12994</th>\n",
       "      <td>69</td>\n",
       "      <td>69</td>\n",
       "    </tr>\n",
       "    <tr>\n",
       "      <th>...</th>\n",
       "      <td>...</td>\n",
       "      <td>...</td>\n",
       "    </tr>\n",
       "    <tr>\n",
       "      <th>7532</th>\n",
       "      <td>27</td>\n",
       "      <td>27</td>\n",
       "    </tr>\n",
       "    <tr>\n",
       "      <th>3434</th>\n",
       "      <td>31</td>\n",
       "      <td>15</td>\n",
       "    </tr>\n",
       "    <tr>\n",
       "      <th>694</th>\n",
       "      <td>17</td>\n",
       "      <td>17</td>\n",
       "    </tr>\n",
       "    <tr>\n",
       "      <th>5168</th>\n",
       "      <td>68</td>\n",
       "      <td>68</td>\n",
       "    </tr>\n",
       "    <tr>\n",
       "      <th>11308</th>\n",
       "      <td>37</td>\n",
       "      <td>37</td>\n",
       "    </tr>\n",
       "  </tbody>\n",
       "</table>\n",
       "<p>2662 rows × 2 columns</p>\n",
       "</div>\n",
       "      <button class=\"colab-df-convert\" onclick=\"convertToInteractive('df-f4d4c8df-416f-4dfd-91c7-381e11285b84')\"\n",
       "              title=\"Convert this dataframe to an interactive table.\"\n",
       "              style=\"display:none;\">\n",
       "        \n",
       "  <svg xmlns=\"http://www.w3.org/2000/svg\" height=\"24px\"viewBox=\"0 0 24 24\"\n",
       "       width=\"24px\">\n",
       "    <path d=\"M0 0h24v24H0V0z\" fill=\"none\"/>\n",
       "    <path d=\"M18.56 5.44l.94 2.06.94-2.06 2.06-.94-2.06-.94-.94-2.06-.94 2.06-2.06.94zm-11 1L8.5 8.5l.94-2.06 2.06-.94-2.06-.94L8.5 2.5l-.94 2.06-2.06.94zm10 10l.94 2.06.94-2.06 2.06-.94-2.06-.94-.94-2.06-.94 2.06-2.06.94z\"/><path d=\"M17.41 7.96l-1.37-1.37c-.4-.4-.92-.59-1.43-.59-.52 0-1.04.2-1.43.59L10.3 9.45l-7.72 7.72c-.78.78-.78 2.05 0 2.83L4 21.41c.39.39.9.59 1.41.59.51 0 1.02-.2 1.41-.59l7.78-7.78 2.81-2.81c.8-.78.8-2.07 0-2.86zM5.41 20L4 18.59l7.72-7.72 1.47 1.35L5.41 20z\"/>\n",
       "  </svg>\n",
       "      </button>\n",
       "      \n",
       "  <style>\n",
       "    .colab-df-container {\n",
       "      display:flex;\n",
       "      flex-wrap:wrap;\n",
       "      gap: 12px;\n",
       "    }\n",
       "\n",
       "    .colab-df-convert {\n",
       "      background-color: #E8F0FE;\n",
       "      border: none;\n",
       "      border-radius: 50%;\n",
       "      cursor: pointer;\n",
       "      display: none;\n",
       "      fill: #1967D2;\n",
       "      height: 32px;\n",
       "      padding: 0 0 0 0;\n",
       "      width: 32px;\n",
       "    }\n",
       "\n",
       "    .colab-df-convert:hover {\n",
       "      background-color: #E2EBFA;\n",
       "      box-shadow: 0px 1px 2px rgba(60, 64, 67, 0.3), 0px 1px 3px 1px rgba(60, 64, 67, 0.15);\n",
       "      fill: #174EA6;\n",
       "    }\n",
       "\n",
       "    [theme=dark] .colab-df-convert {\n",
       "      background-color: #3B4455;\n",
       "      fill: #D2E3FC;\n",
       "    }\n",
       "\n",
       "    [theme=dark] .colab-df-convert:hover {\n",
       "      background-color: #434B5C;\n",
       "      box-shadow: 0px 1px 3px 1px rgba(0, 0, 0, 0.15);\n",
       "      filter: drop-shadow(0px 1px 2px rgba(0, 0, 0, 0.3));\n",
       "      fill: #FFFFFF;\n",
       "    }\n",
       "  </style>\n",
       "\n",
       "      <script>\n",
       "        const buttonEl =\n",
       "          document.querySelector('#df-f4d4c8df-416f-4dfd-91c7-381e11285b84 button.colab-df-convert');\n",
       "        buttonEl.style.display =\n",
       "          google.colab.kernel.accessAllowed ? 'block' : 'none';\n",
       "\n",
       "        async function convertToInteractive(key) {\n",
       "          const element = document.querySelector('#df-f4d4c8df-416f-4dfd-91c7-381e11285b84');\n",
       "          const dataTable =\n",
       "            await google.colab.kernel.invokeFunction('convertToInteractive',\n",
       "                                                     [key], {});\n",
       "          if (!dataTable) return;\n",
       "\n",
       "          const docLinkHtml = 'Like what you see? Visit the ' +\n",
       "            '<a target=\"_blank\" href=https://colab.research.google.com/notebooks/data_table.ipynb>data table notebook</a>'\n",
       "            + ' to learn more about interactive tables.';\n",
       "          element.innerHTML = '';\n",
       "          dataTable['output_type'] = 'display_data';\n",
       "          await google.colab.output.renderOutput(dataTable, element);\n",
       "          const docLink = document.createElement('div');\n",
       "          docLink.innerHTML = docLinkHtml;\n",
       "          element.appendChild(docLink);\n",
       "        }\n",
       "      </script>\n",
       "    </div>\n",
       "  </div>\n",
       "  "
      ],
      "text/plain": [
       "       pred   l\n",
       "6113     22  22\n",
       "2453     23  23\n",
       "2442     49  49\n",
       "2859     54  47\n",
       "12994    69  69\n",
       "...     ...  ..\n",
       "7532     27  27\n",
       "3434     31  15\n",
       "694      17  17\n",
       "5168     68  68\n",
       "11308    37  37\n",
       "\n",
       "[2662 rows x 2 columns]"
      ]
     },
     "execution_count": 33,
     "metadata": {},
     "output_type": "execute_result"
    }
   ],
   "source": [
    "predictions = model_cnn_glove.predict(word_seq_test)\n",
    "list_ = []\n",
    "for i in range(len(predictions)):\n",
    "  a = predictions[i]\n",
    "  list_.append(np.where(a == a.max())[0][0] )\n",
    "\n",
    "\n",
    "sample= test_df\n",
    "sample['pred']= list_ \n",
    "sample[['pred', \"l\"]]"
   ]
  },
  {
   "cell_type": "code",
   "execution_count": 34,
   "metadata": {
    "colab": {
     "base_uri": "https://localhost:8080/"
    },
    "id": "HrC5d1KGF_CA",
    "outputId": "e441f832-6cf1-4f4f-e885-d40f7d2cd4da"
   },
   "outputs": [
    {
     "name": "stdout",
     "output_type": "stream",
     "text": [
      "Accuracy With glove CNN :\n",
      "0.8065364387678438\n"
     ]
    }
   ],
   "source": [
    "import sklearn\n",
    "\n",
    "print(\"Accuracy With glove CNN :\")\n",
    "print(sklearn.metrics.accuracy_score(sample.l, sample.pred))"
   ]
  },
  {
   "cell_type": "markdown",
   "metadata": {
    "id": "v-3aX-bjH9Lt"
   },
   "source": [
    "### CNN + LSTM"
   ]
  },
  {
   "cell_type": "code",
   "execution_count": 35,
   "metadata": {
    "id": "GHXobL5RH9L6"
   },
   "outputs": [],
   "source": [
    "def create_cnn_lstm_model():\n",
    "  model_mix = Sequential()\n",
    "  model_mix.add(Embedding(nb_words, embed_dim, weights=[embedding_matrix], input_length=max_seq_len, trainable=False))\n",
    "  model_mix.add(Dropout(0.2))\n",
    "  model_mix.add(Conv1D(num_filters, 7, activation='relu', padding='same'))\n",
    "  model_mix.add(MaxPooling1D(pool_size=4))\n",
    "  model_mix.add(Bidirectional(LSTM(128, dropout=0.7, recurrent_dropout=0.7)))\n",
    "  model_mix.add(Dense(128,activation='relu'))\n",
    "  model_mix.add(Dense(77, activation='softmax'))\n",
    "  model_mix.compile(optimizer='adam',loss = tf.keras.losses.SparseCategoricalCrossentropy(from_logits=True), metrics=['accuracy'])\n",
    "  return model_mix\n"
   ]
  },
  {
   "cell_type": "code",
   "execution_count": 36,
   "metadata": {
    "id": "3BXWTyjMH9L6"
   },
   "outputs": [],
   "source": [
    "model_mix_glove = create_cnn_lstm_model()"
   ]
  },
  {
   "cell_type": "code",
   "execution_count": 37,
   "metadata": {
    "colab": {
     "base_uri": "https://localhost:8080/"
    },
    "id": "N6Ep2E_vH9L7",
    "outputId": "b48e63bb-709a-4530-ff7b-1129de842241"
   },
   "outputs": [
    {
     "name": "stdout",
     "output_type": "stream",
     "text": [
      "Epoch 1/40\n"
     ]
    },
    {
     "name": "stderr",
     "output_type": "stream",
     "text": [
      "/usr/local/lib/python3.7/dist-packages/tensorflow/python/util/dispatch.py:1082: UserWarning: \"`sparse_categorical_crossentropy` received `from_logits=True`, but the `output` argument was produced by a sigmoid or softmax activation and thus does not represent logits. Was this intended?\"\n",
      "  return dispatch_target(*args, **kwargs)\n"
     ]
    },
    {
     "name": "stdout",
     "output_type": "stream",
     "text": [
      "30/30 [==============================] - 11s 189ms/step - loss: 4.3079 - accuracy: 0.0204 - val_loss: 4.2156 - val_accuracy: 0.0382\n",
      "Epoch 2/40\n",
      "30/30 [==============================] - 5s 170ms/step - loss: 4.0825 - accuracy: 0.0601 - val_loss: 3.6229 - val_accuracy: 0.1308\n",
      "Epoch 3/40\n",
      "30/30 [==============================] - 5s 170ms/step - loss: 3.3650 - accuracy: 0.1605 - val_loss: 2.5609 - val_accuracy: 0.3149\n",
      "Epoch 4/40\n",
      "30/30 [==============================] - 5s 170ms/step - loss: 2.6582 - accuracy: 0.2661 - val_loss: 1.9886 - val_accuracy: 0.4385\n",
      "Epoch 5/40\n",
      "30/30 [==============================] - 5s 171ms/step - loss: 2.2392 - accuracy: 0.3521 - val_loss: 1.6469 - val_accuracy: 0.5321\n",
      "Epoch 6/40\n",
      "30/30 [==============================] - 5s 169ms/step - loss: 1.9858 - accuracy: 0.4126 - val_loss: 1.4551 - val_accuracy: 0.5818\n",
      "Epoch 7/40\n",
      "30/30 [==============================] - 5s 174ms/step - loss: 1.7653 - accuracy: 0.4679 - val_loss: 1.3003 - val_accuracy: 0.6160\n",
      "Epoch 8/40\n",
      "30/30 [==============================] - 5s 169ms/step - loss: 1.6261 - accuracy: 0.5085 - val_loss: 1.2081 - val_accuracy: 0.6535\n",
      "Epoch 9/40\n",
      "30/30 [==============================] - 5s 171ms/step - loss: 1.4924 - accuracy: 0.5454 - val_loss: 1.0970 - val_accuracy: 0.6826\n",
      "Epoch 10/40\n",
      "30/30 [==============================] - 5s 170ms/step - loss: 1.3777 - accuracy: 0.5743 - val_loss: 1.0353 - val_accuracy: 0.6989\n",
      "Epoch 11/40\n",
      "30/30 [==============================] - 5s 172ms/step - loss: 1.2759 - accuracy: 0.6118 - val_loss: 0.9770 - val_accuracy: 0.7189\n",
      "Epoch 12/40\n",
      "30/30 [==============================] - 5s 171ms/step - loss: 1.1996 - accuracy: 0.6308 - val_loss: 0.9345 - val_accuracy: 0.7302\n",
      "Epoch 13/40\n",
      "30/30 [==============================] - 5s 172ms/step - loss: 1.1199 - accuracy: 0.6542 - val_loss: 0.8959 - val_accuracy: 0.7449\n",
      "Epoch 14/40\n",
      "30/30 [==============================] - 5s 170ms/step - loss: 1.0471 - accuracy: 0.6808 - val_loss: 0.8602 - val_accuracy: 0.7515\n",
      "Epoch 15/40\n",
      "30/30 [==============================] - 5s 172ms/step - loss: 0.9842 - accuracy: 0.6962 - val_loss: 0.8395 - val_accuracy: 0.7590\n",
      "Epoch 16/40\n",
      "30/30 [==============================] - 5s 174ms/step - loss: 0.9495 - accuracy: 0.7099 - val_loss: 0.8176 - val_accuracy: 0.7634\n",
      "Epoch 17/40\n",
      "30/30 [==============================] - 5s 168ms/step - loss: 0.9061 - accuracy: 0.7213 - val_loss: 0.7844 - val_accuracy: 0.7696\n",
      "Epoch 18/40\n",
      "30/30 [==============================] - 5s 172ms/step - loss: 0.8458 - accuracy: 0.7360 - val_loss: 0.7848 - val_accuracy: 0.7718\n",
      "Epoch 19/40\n",
      "30/30 [==============================] - 5s 170ms/step - loss: 0.8384 - accuracy: 0.7457 - val_loss: 0.7670 - val_accuracy: 0.7800\n",
      "Epoch 20/40\n",
      "30/30 [==============================] - 5s 171ms/step - loss: 0.7842 - accuracy: 0.7611 - val_loss: 0.7437 - val_accuracy: 0.7856\n",
      "Epoch 21/40\n",
      "30/30 [==============================] - 5s 174ms/step - loss: 0.7559 - accuracy: 0.7666 - val_loss: 0.7381 - val_accuracy: 0.7872\n",
      "Epoch 22/40\n",
      "30/30 [==============================] - 5s 171ms/step - loss: 0.7240 - accuracy: 0.7719 - val_loss: 0.7243 - val_accuracy: 0.7928\n",
      "Epoch 23/40\n",
      "30/30 [==============================] - 5s 172ms/step - loss: 0.6998 - accuracy: 0.7822 - val_loss: 0.7046 - val_accuracy: 0.7937\n",
      "Epoch 24/40\n",
      "30/30 [==============================] - 5s 173ms/step - loss: 0.6773 - accuracy: 0.7858 - val_loss: 0.6909 - val_accuracy: 0.7997\n",
      "Epoch 25/40\n",
      "30/30 [==============================] - 5s 173ms/step - loss: 0.6194 - accuracy: 0.8132 - val_loss: 0.6853 - val_accuracy: 0.8103\n",
      "Epoch 26/40\n",
      "30/30 [==============================] - 5s 175ms/step - loss: 0.6055 - accuracy: 0.8135 - val_loss: 0.6872 - val_accuracy: 0.8025\n",
      "Epoch 27/40\n",
      "30/30 [==============================] - 5s 170ms/step - loss: 0.6060 - accuracy: 0.8119 - val_loss: 0.6784 - val_accuracy: 0.8013\n",
      "Epoch 28/40\n",
      "30/30 [==============================] - 5s 171ms/step - loss: 0.5655 - accuracy: 0.8247 - val_loss: 0.6652 - val_accuracy: 0.8085\n",
      "Epoch 29/40\n",
      "30/30 [==============================] - 5s 171ms/step - loss: 0.5534 - accuracy: 0.8231 - val_loss: 0.6669 - val_accuracy: 0.8135\n",
      "Epoch 30/40\n",
      "30/30 [==============================] - 5s 172ms/step - loss: 0.5433 - accuracy: 0.8297 - val_loss: 0.6703 - val_accuracy: 0.8153\n",
      "Epoch 31/40\n",
      "30/30 [==============================] - 5s 172ms/step - loss: 0.5177 - accuracy: 0.8374 - val_loss: 0.6706 - val_accuracy: 0.8166\n"
     ]
    }
   ],
   "source": [
    "es_callback = EarlyStopping(monitor='val_loss', patience=3)\n",
    "\n",
    "history = model_mix_glove.fit(word_seq_train, y_train, batch_size=256, epochs=num_epochs, validation_split=0.3, callbacks=[es_callback], shuffle=False)"
   ]
  },
  {
   "cell_type": "code",
   "execution_count": 37,
   "metadata": {
    "id": "y4aLHvG0H9L7"
   },
   "outputs": [],
   "source": []
  },
  {
   "cell_type": "code",
   "execution_count": 38,
   "metadata": {
    "colab": {
     "base_uri": "https://localhost:8080/",
     "height": 295
    },
    "id": "ATAsgDfLH9L7",
    "outputId": "c58a5c88-ac68-46d4-d80a-02abdfeebf9c"
   },
   "outputs": [
    {
     "data": {
      "image/png": "[encoded data removed]",
      "text/plain": [
       "<Figure size 432x288 with 1 Axes>"
      ]
     },
     "metadata": {},
     "output_type": "display_data"
    }
   ],
   "source": [
    "#generate plots\n",
    "plt.figure()\n",
    "plt.plot(history.history['loss'], lw=2.0, color='b', label='train')\n",
    "plt.plot(history.history['val_loss'], lw=2.0, color='r', label='val')\n",
    "plt.title('CNN-LSTM glove')\n",
    "plt.xlabel('Epochs')\n",
    "plt.ylabel('Cross-Entropy Loss')\n",
    "plt.legend(loc='upper right')\n",
    "plt.show()"
   ]
  },
  {
   "cell_type": "code",
   "execution_count": 39,
   "metadata": {
    "colab": {
     "base_uri": "https://localhost:8080/",
     "height": 295
    },
    "id": "oMOYx-LcH9L7",
    "outputId": "40c4cd96-00df-422f-d8cf-d8dbef54c41f"
   },
   "outputs": [
    {
     "data": {
      "image/png": "[encoded data removed]",
      "text/plain": [
       "<Figure size 432x288 with 1 Axes>"
      ]
     },
     "metadata": {},
     "output_type": "display_data"
    }
   ],
   "source": [
    "plt.figure()\n",
    "plt.plot(history.history['accuracy'], lw=2.0, color='b', label='train')\n",
    "plt.plot(history.history['val_accuracy'], lw=2.0, color='r', label='val')\n",
    "plt.title('CNN-LSTM glove')\n",
    "plt.xlabel('Epochs')\n",
    "plt.ylabel('Accuracy')\n",
    "plt.legend(loc='upper left')\n",
    "plt.show()"
   ]
  },
  {
   "cell_type": "code",
   "execution_count": 40,
   "metadata": {
    "colab": {
     "base_uri": "https://localhost:8080/",
     "height": 424
    },
    "id": "s8hH9CUXH9L7",
    "outputId": "922f0207-d003-4d80-fd8f-2c1e46e3cbec"
   },
   "outputs": [
    {
     "data": {
      "text/html": [
       "\n",
       "  <div id=\"df-a6c8963f-a91d-4087-bf1c-7034b1088501\">\n",
       "    <div class=\"colab-df-container\">\n",
       "      <div>\n",
       "<style scoped>\n",
       "    .dataframe tbody tr th:only-of-type {\n",
       "        vertical-align: middle;\n",
       "    }\n",
       "\n",
       "    .dataframe tbody tr th {\n",
       "        vertical-align: top;\n",
       "    }\n",
       "\n",
       "    .dataframe thead th {\n",
       "        text-align: right;\n",
       "    }\n",
       "</style>\n",
       "<table border=\"1\" class=\"dataframe\">\n",
       "  <thead>\n",
       "    <tr style=\"text-align: right;\">\n",
       "      <th></th>\n",
       "      <th>pred</th>\n",
       "      <th>l</th>\n",
       "    </tr>\n",
       "  </thead>\n",
       "  <tbody>\n",
       "    <tr>\n",
       "      <th>6113</th>\n",
       "      <td>22</td>\n",
       "      <td>22</td>\n",
       "    </tr>\n",
       "    <tr>\n",
       "      <th>2453</th>\n",
       "      <td>23</td>\n",
       "      <td>23</td>\n",
       "    </tr>\n",
       "    <tr>\n",
       "      <th>2442</th>\n",
       "      <td>49</td>\n",
       "      <td>49</td>\n",
       "    </tr>\n",
       "    <tr>\n",
       "      <th>2859</th>\n",
       "      <td>47</td>\n",
       "      <td>47</td>\n",
       "    </tr>\n",
       "    <tr>\n",
       "      <th>12994</th>\n",
       "      <td>69</td>\n",
       "      <td>69</td>\n",
       "    </tr>\n",
       "    <tr>\n",
       "      <th>...</th>\n",
       "      <td>...</td>\n",
       "      <td>...</td>\n",
       "    </tr>\n",
       "    <tr>\n",
       "      <th>7532</th>\n",
       "      <td>27</td>\n",
       "      <td>27</td>\n",
       "    </tr>\n",
       "    <tr>\n",
       "      <th>3434</th>\n",
       "      <td>39</td>\n",
       "      <td>15</td>\n",
       "    </tr>\n",
       "    <tr>\n",
       "      <th>694</th>\n",
       "      <td>31</td>\n",
       "      <td>17</td>\n",
       "    </tr>\n",
       "    <tr>\n",
       "      <th>5168</th>\n",
       "      <td>68</td>\n",
       "      <td>68</td>\n",
       "    </tr>\n",
       "    <tr>\n",
       "      <th>11308</th>\n",
       "      <td>37</td>\n",
       "      <td>37</td>\n",
       "    </tr>\n",
       "  </tbody>\n",
       "</table>\n",
       "<p>2662 rows × 2 columns</p>\n",
       "</div>\n",
       "      <button class=\"colab-df-convert\" onclick=\"convertToInteractive('df-a6c8963f-a91d-4087-bf1c-7034b1088501')\"\n",
       "              title=\"Convert this dataframe to an interactive table.\"\n",
       "              style=\"display:none;\">\n",
       "        \n",
       "  <svg xmlns=\"http://www.w3.org/2000/svg\" height=\"24px\"viewBox=\"0 0 24 24\"\n",
       "       width=\"24px\">\n",
       "    <path d=\"M0 0h24v24H0V0z\" fill=\"none\"/>\n",
       "    <path d=\"M18.56 5.44l.94 2.06.94-2.06 2.06-.94-2.06-.94-.94-2.06-.94 2.06-2.06.94zm-11 1L8.5 8.5l.94-2.06 2.06-.94-2.06-.94L8.5 2.5l-.94 2.06-2.06.94zm10 10l.94 2.06.94-2.06 2.06-.94-2.06-.94-.94-2.06-.94 2.06-2.06.94z\"/><path d=\"M17.41 7.96l-1.37-1.37c-.4-.4-.92-.59-1.43-.59-.52 0-1.04.2-1.43.59L10.3 9.45l-7.72 7.72c-.78.78-.78 2.05 0 2.83L4 21.41c.39.39.9.59 1.41.59.51 0 1.02-.2 1.41-.59l7.78-7.78 2.81-2.81c.8-.78.8-2.07 0-2.86zM5.41 20L4 18.59l7.72-7.72 1.47 1.35L5.41 20z\"/>\n",
       "  </svg>\n",
       "      </button>\n",
       "      \n",
       "  <style>\n",
       "    .colab-df-container {\n",
       "      display:flex;\n",
       "      flex-wrap:wrap;\n",
       "      gap: 12px;\n",
       "    }\n",
       "\n",
       "    .colab-df-convert {\n",
       "      background-color: #E8F0FE;\n",
       "      border: none;\n",
       "      border-radius: 50%;\n",
       "      cursor: pointer;\n",
       "      display: none;\n",
       "      fill: #1967D2;\n",
       "      height: 32px;\n",
       "      padding: 0 0 0 0;\n",
       "      width: 32px;\n",
       "    }\n",
       "\n",
       "    .colab-df-convert:hover {\n",
       "      background-color: #E2EBFA;\n",
       "      box-shadow: 0px 1px 2px rgba(60, 64, 67, 0.3), 0px 1px 3px 1px rgba(60, 64, 67, 0.15);\n",
       "      fill: #174EA6;\n",
       "    }\n",
       "\n",
       "    [theme=dark] .colab-df-convert {\n",
       "      background-color: #3B4455;\n",
       "      fill: #D2E3FC;\n",
       "    }\n",
       "\n",
       "    [theme=dark] .colab-df-convert:hover {\n",
       "      background-color: #434B5C;\n",
       "      box-shadow: 0px 1px 3px 1px rgba(0, 0, 0, 0.15);\n",
       "      filter: drop-shadow(0px 1px 2px rgba(0, 0, 0, 0.3));\n",
       "      fill: #FFFFFF;\n",
       "    }\n",
       "  </style>\n",
       "\n",
       "      <script>\n",
       "        const buttonEl =\n",
       "          document.querySelector('#df-a6c8963f-a91d-4087-bf1c-7034b1088501 button.colab-df-convert');\n",
       "        buttonEl.style.display =\n",
       "          google.colab.kernel.accessAllowed ? 'block' : 'none';\n",
       "\n",
       "        async function convertToInteractive(key) {\n",
       "          const element = document.querySelector('#df-a6c8963f-a91d-4087-bf1c-7034b1088501');\n",
       "          const dataTable =\n",
       "            await google.colab.kernel.invokeFunction('convertToInteractive',\n",
       "                                                     [key], {});\n",
       "          if (!dataTable) return;\n",
       "\n",
       "          const docLinkHtml = 'Like what you see? Visit the ' +\n",
       "            '<a target=\"_blank\" href=https://colab.research.google.com/notebooks/data_table.ipynb>data table notebook</a>'\n",
       "            + ' to learn more about interactive tables.';\n",
       "          element.innerHTML = '';\n",
       "          dataTable['output_type'] = 'display_data';\n",
       "          await google.colab.output.renderOutput(dataTable, element);\n",
       "          const docLink = document.createElement('div');\n",
       "          docLink.innerHTML = docLinkHtml;\n",
       "          element.appendChild(docLink);\n",
       "        }\n",
       "      </script>\n",
       "    </div>\n",
       "  </div>\n",
       "  "
      ],
      "text/plain": [
       "       pred   l\n",
       "6113     22  22\n",
       "2453     23  23\n",
       "2442     49  49\n",
       "2859     47  47\n",
       "12994    69  69\n",
       "...     ...  ..\n",
       "7532     27  27\n",
       "3434     39  15\n",
       "694      31  17\n",
       "5168     68  68\n",
       "11308    37  37\n",
       "\n",
       "[2662 rows x 2 columns]"
      ]
     },
     "execution_count": 40,
     "metadata": {},
     "output_type": "execute_result"
    }
   ],
   "source": [
    "predictions = model_mix_glove.predict(word_seq_test)\n",
    "list_ = []\n",
    "for i in range(len(predictions)):\n",
    "  a = predictions[i]\n",
    "  list_.append(np.where(a == a.max())[0][0] )\n",
    "\n",
    "\n",
    "sample= test_df\n",
    "sample['pred']= list_ \n",
    "sample[['pred', \"l\"]]"
   ]
  },
  {
   "cell_type": "code",
   "execution_count": 41,
   "metadata": {
    "colab": {
     "base_uri": "https://localhost:8080/"
    },
    "id": "YE_lwyutH9L7",
    "outputId": "ff61f6bc-427a-4025-d0a6-578a6a807528"
   },
   "outputs": [
    {
     "name": "stdout",
     "output_type": "stream",
     "text": [
      "Accuracy With glove CNN-LSTM :\n",
      "0.8223140495867769\n"
     ]
    }
   ],
   "source": [
    "import sklearn\n",
    "\n",
    "print(\"Accuracy With glove CNN-LSTM :\")\n",
    "print(sklearn.metrics.accuracy_score(sample.l, sample.pred))"
   ]
  },
  {
   "cell_type": "markdown",
   "metadata": {
    "id": "JMEApQxo9y1J"
   },
   "source": [
    "## Without word embedding\n",
    "**texte en gras**"
   ]
  },
  {
   "cell_type": "markdown",
   "metadata": {
    "id": "-u0dEhq8IPFx"
   },
   "source": [
    "### LSTM"
   ]
  },
  {
   "cell_type": "code",
   "execution_count": 42,
   "metadata": {
    "colab": {
     "base_uri": "https://localhost:8080/"
    },
    "id": "tHt__v3p95Lb",
    "outputId": "9824d46a-8d0d-4d4c-9296-ad1d7ba52fbb"
   },
   "outputs": [
    {
     "name": "stdout",
     "output_type": "stream",
     "text": [
      "Model: \"sequential_3\"\n",
      "_________________________________________________________________\n",
      " Layer (type)                Output Shape              Param #   \n",
      "=================================================================\n",
      " embedding_3 (Embedding)     (None, 19, 300)           756600    \n",
      "                                                                 \n",
      " bidirectional_2 (Bidirectio  (None, 256)              439296    \n",
      " nal)                                                            \n",
      "                                                                 \n",
      " dense_6 (Dense)             (None, 128)               32896     \n",
      "                                                                 \n",
      " dense_7 (Dense)             (None, 77)                9933      \n",
      "                                                                 \n",
      "=================================================================\n",
      "Total params: 1,238,725\n",
      "Trainable params: 482,125\n",
      "Non-trainable params: 756,600\n",
      "_________________________________________________________________\n"
     ]
    }
   ],
   "source": [
    "from keras.layers import BatchNormalization\n",
    "import tensorflow as tf\n",
    "\n",
    "model_without_lstm = tf.keras.Sequential()\n",
    "\n",
    "model_without_lstm.add(Embedding(nb_words,embed_dim,input_length=max_seq_len, trainable=False))\n",
    "model_without_lstm.add(Bidirectional(LSTM(128, dropout=0.7, recurrent_dropout=0.7)))\n",
    "model_without_lstm.add(Dense(128,activation='relu'))\n",
    "model_without_lstm.add(Dense(77, activation='softmax'))\n",
    "model_without_lstm.compile(optimizer='adam', loss='categorical_crossentropy', metrics=['acc'])\n",
    "\n",
    "model_without_lstm.summary()"
   ]
  },
  {
   "cell_type": "code",
   "execution_count": 43,
   "metadata": {
    "id": "XzYKmQqv-CAn"
   },
   "outputs": [],
   "source": [
    "from keras.callbacks import ModelCheckpoint\n",
    "from tensorflow.keras.callbacks import EarlyStopping\n",
    "\n",
    "model_without_lstm.compile(loss='binary_crossentropy', optimizer='adam', metrics=['accuracy'])"
   ]
  },
  {
   "cell_type": "code",
   "execution_count": 44,
   "metadata": {
    "id": "lvajq1VK-B90"
   },
   "outputs": [],
   "source": [
    "# from keras.optimizers import RMSprop\n",
    "from keras.callbacks import ModelCheckpoint\n",
    "from tensorflow.keras.callbacks import EarlyStopping\n",
    "\n",
    "model_without_lstm.compile(optimizer='adam',loss = tf.keras.losses.SparseCategoricalCrossentropy(from_logits=True), metrics=['accuracy'])\n"
   ]
  },
  {
   "cell_type": "code",
   "execution_count": 45,
   "metadata": {
    "colab": {
     "base_uri": "https://localhost:8080/"
    },
    "id": "_KzgcuPr-B7O",
    "outputId": "9d287adc-e19d-4641-cca0-af073fb1403e"
   },
   "outputs": [
    {
     "name": "stdout",
     "output_type": "stream",
     "text": [
      "Epoch 1/40\n"
     ]
    },
    {
     "name": "stderr",
     "output_type": "stream",
     "text": [
      "/usr/local/lib/python3.7/dist-packages/tensorflow/python/util/dispatch.py:1082: UserWarning: \"`sparse_categorical_crossentropy` received `from_logits=True`, but the `output` argument was produced by a sigmoid or softmax activation and thus does not represent logits. Was this intended?\"\n",
      "  return dispatch_target(*args, **kwargs)\n"
     ]
    },
    {
     "name": "stdout",
     "output_type": "stream",
     "text": [
      "30/30 [==============================] - 22s 548ms/step - loss: 4.3362 - accuracy: 0.0145 - val_loss: 4.3283 - val_accuracy: 0.0244\n",
      "Epoch 2/40\n",
      "30/30 [==============================] - 16s 525ms/step - loss: 4.2997 - accuracy: 0.0374 - val_loss: 4.2681 - val_accuracy: 0.0416\n",
      "Epoch 3/40\n",
      "30/30 [==============================] - 16s 528ms/step - loss: 4.1890 - accuracy: 0.0531 - val_loss: 4.0813 - val_accuracy: 0.0664\n",
      "Epoch 4/40\n",
      "30/30 [==============================] - 16s 531ms/step - loss: 3.9612 - accuracy: 0.0853 - val_loss: 3.6913 - val_accuracy: 0.1033\n",
      "Epoch 5/40\n",
      "30/30 [==============================] - 17s 555ms/step - loss: 3.6485 - accuracy: 0.1177 - val_loss: 3.3869 - val_accuracy: 0.1493\n",
      "Epoch 6/40\n",
      "30/30 [==============================] - 16s 530ms/step - loss: 3.4036 - accuracy: 0.1526 - val_loss: 3.0226 - val_accuracy: 0.2272\n",
      "Epoch 7/40\n",
      "30/30 [==============================] - 17s 581ms/step - loss: 3.1775 - accuracy: 0.1924 - val_loss: 2.8258 - val_accuracy: 0.2567\n",
      "Epoch 8/40\n",
      "30/30 [==============================] - 16s 529ms/step - loss: 3.0408 - accuracy: 0.2187 - val_loss: 2.6146 - val_accuracy: 0.3011\n",
      "Epoch 9/40\n",
      "30/30 [==============================] - 16s 526ms/step - loss: 2.8916 - accuracy: 0.2433 - val_loss: 2.4754 - val_accuracy: 0.3343\n",
      "Epoch 10/40\n",
      "30/30 [==============================] - 16s 524ms/step - loss: 2.7631 - accuracy: 0.2662 - val_loss: 2.3551 - val_accuracy: 0.3775\n",
      "Epoch 11/40\n",
      "30/30 [==============================] - 16s 530ms/step - loss: 2.6624 - accuracy: 0.2920 - val_loss: 2.1758 - val_accuracy: 0.4016\n",
      "Epoch 12/40\n",
      "30/30 [==============================] - 16s 529ms/step - loss: 2.5670 - accuracy: 0.3128 - val_loss: 2.1114 - val_accuracy: 0.4113\n",
      "Epoch 13/40\n",
      "30/30 [==============================] - 17s 566ms/step - loss: 2.4712 - accuracy: 0.3329 - val_loss: 1.9956 - val_accuracy: 0.4548\n",
      "Epoch 14/40\n",
      "30/30 [==============================] - 16s 535ms/step - loss: 2.4114 - accuracy: 0.3473 - val_loss: 1.9575 - val_accuracy: 0.4441\n",
      "Epoch 15/40\n",
      "30/30 [==============================] - 16s 534ms/step - loss: 2.3289 - accuracy: 0.3666 - val_loss: 1.8915 - val_accuracy: 0.4905\n",
      "Epoch 16/40\n",
      "30/30 [==============================] - 16s 529ms/step - loss: 2.2705 - accuracy: 0.3849 - val_loss: 1.8111 - val_accuracy: 0.4992\n",
      "Epoch 17/40\n",
      "30/30 [==============================] - 16s 531ms/step - loss: 2.1706 - accuracy: 0.3994 - val_loss: 1.7411 - val_accuracy: 0.5199\n",
      "Epoch 18/40\n",
      "30/30 [==============================] - 16s 538ms/step - loss: 2.1599 - accuracy: 0.4023 - val_loss: 1.7253 - val_accuracy: 0.5330\n",
      "Epoch 19/40\n",
      "30/30 [==============================] - 16s 526ms/step - loss: 2.0722 - accuracy: 0.4232 - val_loss: 1.6595 - val_accuracy: 0.5549\n",
      "Epoch 20/40\n",
      "30/30 [==============================] - 16s 528ms/step - loss: 2.0319 - accuracy: 0.4416 - val_loss: 1.6120 - val_accuracy: 0.5618\n",
      "Epoch 21/40\n",
      "30/30 [==============================] - 16s 532ms/step - loss: 1.9848 - accuracy: 0.4509 - val_loss: 1.5455 - val_accuracy: 0.5818\n",
      "Epoch 22/40\n",
      "30/30 [==============================] - 16s 536ms/step - loss: 1.9526 - accuracy: 0.4560 - val_loss: 1.5365 - val_accuracy: 0.5850\n",
      "Epoch 23/40\n",
      "30/30 [==============================] - 16s 526ms/step - loss: 1.9063 - accuracy: 0.4678 - val_loss: 1.5009 - val_accuracy: 0.6003\n",
      "Epoch 24/40\n",
      "30/30 [==============================] - 16s 528ms/step - loss: 1.8603 - accuracy: 0.4808 - val_loss: 1.4410 - val_accuracy: 0.6147\n",
      "Epoch 25/40\n",
      "30/30 [==============================] - 16s 531ms/step - loss: 1.8233 - accuracy: 0.4969 - val_loss: 1.4334 - val_accuracy: 0.6078\n",
      "Epoch 26/40\n",
      "30/30 [==============================] - 17s 567ms/step - loss: 1.7954 - accuracy: 0.4964 - val_loss: 1.3916 - val_accuracy: 0.6272\n",
      "Epoch 27/40\n",
      "30/30 [==============================] - 16s 533ms/step - loss: 1.7567 - accuracy: 0.5074 - val_loss: 1.3867 - val_accuracy: 0.6250\n",
      "Epoch 28/40\n",
      "30/30 [==============================] - 16s 529ms/step - loss: 1.7070 - accuracy: 0.5178 - val_loss: 1.3104 - val_accuracy: 0.6451\n",
      "Epoch 29/40\n",
      "30/30 [==============================] - 16s 530ms/step - loss: 1.7153 - accuracy: 0.5132 - val_loss: 1.3015 - val_accuracy: 0.6385\n",
      "Epoch 30/40\n",
      "30/30 [==============================] - 16s 530ms/step - loss: 1.6756 - accuracy: 0.5280 - val_loss: 1.2863 - val_accuracy: 0.6604\n",
      "Epoch 31/40\n",
      "30/30 [==============================] - 16s 532ms/step - loss: 1.6247 - accuracy: 0.5380 - val_loss: 1.2550 - val_accuracy: 0.6563\n",
      "Epoch 32/40\n",
      "30/30 [==============================] - 16s 530ms/step - loss: 1.6150 - accuracy: 0.5435 - val_loss: 1.2593 - val_accuracy: 0.6613\n",
      "Epoch 33/40\n",
      "30/30 [==============================] - 16s 530ms/step - loss: 1.5924 - accuracy: 0.5436 - val_loss: 1.2188 - val_accuracy: 0.6748\n",
      "Epoch 34/40\n",
      "30/30 [==============================] - 16s 524ms/step - loss: 1.5893 - accuracy: 0.5492 - val_loss: 1.2236 - val_accuracy: 0.6761\n",
      "Epoch 35/40\n",
      "30/30 [==============================] - 16s 521ms/step - loss: 1.5330 - accuracy: 0.5660 - val_loss: 1.1663 - val_accuracy: 0.6833\n",
      "Epoch 36/40\n",
      "30/30 [==============================] - 16s 522ms/step - loss: 1.5188 - accuracy: 0.5676 - val_loss: 1.1705 - val_accuracy: 0.6939\n",
      "Epoch 37/40\n",
      "30/30 [==============================] - 16s 529ms/step - loss: 1.4944 - accuracy: 0.5714 - val_loss: 1.1491 - val_accuracy: 0.6879\n",
      "Epoch 38/40\n",
      "30/30 [==============================] - 16s 525ms/step - loss: 1.4790 - accuracy: 0.5788 - val_loss: 1.1240 - val_accuracy: 0.6948\n",
      "Epoch 39/40\n",
      "30/30 [==============================] - 16s 524ms/step - loss: 1.4697 - accuracy: 0.5786 - val_loss: 1.1029 - val_accuracy: 0.7052\n",
      "Epoch 40/40\n",
      "30/30 [==============================] - 17s 556ms/step - loss: 1.4299 - accuracy: 0.5937 - val_loss: 1.0968 - val_accuracy: 0.7011\n"
     ]
    }
   ],
   "source": [
    "es_callback = EarlyStopping(monitor='val_loss', patience=3)\n",
    "\n",
    "history_glove = model_without_lstm.fit(word_seq_train, y_train, batch_size=256, epochs=num_epochs, validation_split=0.3, callbacks=[es_callback], shuffle=False)"
   ]
  },
  {
   "cell_type": "code",
   "execution_count": 45,
   "metadata": {
    "id": "dfXlTfkW-B4i"
   },
   "outputs": [],
   "source": []
  },
  {
   "cell_type": "code",
   "execution_count": 46,
   "metadata": {
    "colab": {
     "base_uri": "https://localhost:8080/",
     "height": 295
    },
    "id": "IcLTzdN6-89x",
    "outputId": "67ae9235-c74c-41e4-e5bf-7c1f9b7cb95d"
   },
   "outputs": [
    {
     "data": {
      "image/png": "[encoded data removed]",
      "text/plain": [
       "<Figure size 432x288 with 1 Axes>"
      ]
     },
     "metadata": {},
     "output_type": "display_data"
    }
   ],
   "source": [
    "#generate plots\n",
    "plt.figure()\n",
    "plt.plot(history.history['loss'], lw=2.0, color='b', label='train')\n",
    "plt.plot(history.history['val_loss'], lw=2.0, color='r', label='val')\n",
    "plt.title('LSTM Without word Embedding')\n",
    "plt.xlabel('Epochs')\n",
    "plt.ylabel('Cross-Entropy Loss')\n",
    "plt.legend(loc='upper right')\n",
    "plt.show()"
   ]
  },
  {
   "cell_type": "code",
   "execution_count": 47,
   "metadata": {
    "colab": {
     "base_uri": "https://localhost:8080/",
     "height": 295
    },
    "id": "ej3y6ZMC-89y",
    "outputId": "1e060072-7c24-4c21-b571-37f64c297e08"
   },
   "outputs": [
    {
     "data": {
      "image/png": "[encoded data removed]",
      "text/plain": [
       "<Figure size 432x288 with 1 Axes>"
      ]
     },
     "metadata": {},
     "output_type": "display_data"
    }
   ],
   "source": [
    "plt.figure()\n",
    "plt.plot(history.history['accuracy'], lw=2.0, color='b', label='train')\n",
    "plt.plot(history.history['val_accuracy'], lw=2.0, color='r', label='val')\n",
    "plt.title('LSTM Without word Embedding')\n",
    "plt.xlabel('Epochs')\n",
    "plt.ylabel('Accuracy')\n",
    "plt.legend(loc='upper left')\n",
    "plt.show()"
   ]
  },
  {
   "cell_type": "code",
   "execution_count": 47,
   "metadata": {
    "id": "padZDK0F-89y"
   },
   "outputs": [],
   "source": []
  },
  {
   "cell_type": "code",
   "execution_count": 48,
   "metadata": {
    "colab": {
     "base_uri": "https://localhost:8080/",
     "height": 424
    },
    "id": "6uC-tQlF-89z",
    "outputId": "85dd9f91-a3b9-4dbd-e02c-7febadfb2391"
   },
   "outputs": [
    {
     "data": {
      "text/html": [
       "\n",
       "  <div id=\"df-c6be9a1d-b378-4b07-8826-db92ef2ada8c\">\n",
       "    <div class=\"colab-df-container\">\n",
       "      <div>\n",
       "<style scoped>\n",
       "    .dataframe tbody tr th:only-of-type {\n",
       "        vertical-align: middle;\n",
       "    }\n",
       "\n",
       "    .dataframe tbody tr th {\n",
       "        vertical-align: top;\n",
       "    }\n",
       "\n",
       "    .dataframe thead th {\n",
       "        text-align: right;\n",
       "    }\n",
       "</style>\n",
       "<table border=\"1\" class=\"dataframe\">\n",
       "  <thead>\n",
       "    <tr style=\"text-align: right;\">\n",
       "      <th></th>\n",
       "      <th>pred</th>\n",
       "      <th>l</th>\n",
       "    </tr>\n",
       "  </thead>\n",
       "  <tbody>\n",
       "    <tr>\n",
       "      <th>6113</th>\n",
       "      <td>22</td>\n",
       "      <td>22</td>\n",
       "    </tr>\n",
       "    <tr>\n",
       "      <th>2453</th>\n",
       "      <td>68</td>\n",
       "      <td>23</td>\n",
       "    </tr>\n",
       "    <tr>\n",
       "      <th>2442</th>\n",
       "      <td>49</td>\n",
       "      <td>49</td>\n",
       "    </tr>\n",
       "    <tr>\n",
       "      <th>2859</th>\n",
       "      <td>66</td>\n",
       "      <td>47</td>\n",
       "    </tr>\n",
       "    <tr>\n",
       "      <th>12994</th>\n",
       "      <td>69</td>\n",
       "      <td>69</td>\n",
       "    </tr>\n",
       "    <tr>\n",
       "      <th>...</th>\n",
       "      <td>...</td>\n",
       "      <td>...</td>\n",
       "    </tr>\n",
       "    <tr>\n",
       "      <th>7532</th>\n",
       "      <td>27</td>\n",
       "      <td>27</td>\n",
       "    </tr>\n",
       "    <tr>\n",
       "      <th>3434</th>\n",
       "      <td>57</td>\n",
       "      <td>15</td>\n",
       "    </tr>\n",
       "    <tr>\n",
       "      <th>694</th>\n",
       "      <td>31</td>\n",
       "      <td>17</td>\n",
       "    </tr>\n",
       "    <tr>\n",
       "      <th>5168</th>\n",
       "      <td>68</td>\n",
       "      <td>68</td>\n",
       "    </tr>\n",
       "    <tr>\n",
       "      <th>11308</th>\n",
       "      <td>37</td>\n",
       "      <td>37</td>\n",
       "    </tr>\n",
       "  </tbody>\n",
       "</table>\n",
       "<p>2662 rows × 2 columns</p>\n",
       "</div>\n",
       "      <button class=\"colab-df-convert\" onclick=\"convertToInteractive('df-c6be9a1d-b378-4b07-8826-db92ef2ada8c')\"\n",
       "              title=\"Convert this dataframe to an interactive table.\"\n",
       "              style=\"display:none;\">\n",
       "        \n",
       "  <svg xmlns=\"http://www.w3.org/2000/svg\" height=\"24px\"viewBox=\"0 0 24 24\"\n",
       "       width=\"24px\">\n",
       "    <path d=\"M0 0h24v24H0V0z\" fill=\"none\"/>\n",
       "    <path d=\"M18.56 5.44l.94 2.06.94-2.06 2.06-.94-2.06-.94-.94-2.06-.94 2.06-2.06.94zm-11 1L8.5 8.5l.94-2.06 2.06-.94-2.06-.94L8.5 2.5l-.94 2.06-2.06.94zm10 10l.94 2.06.94-2.06 2.06-.94-2.06-.94-.94-2.06-.94 2.06-2.06.94z\"/><path d=\"M17.41 7.96l-1.37-1.37c-.4-.4-.92-.59-1.43-.59-.52 0-1.04.2-1.43.59L10.3 9.45l-7.72 7.72c-.78.78-.78 2.05 0 2.83L4 21.41c.39.39.9.59 1.41.59.51 0 1.02-.2 1.41-.59l7.78-7.78 2.81-2.81c.8-.78.8-2.07 0-2.86zM5.41 20L4 18.59l7.72-7.72 1.47 1.35L5.41 20z\"/>\n",
       "  </svg>\n",
       "      </button>\n",
       "      \n",
       "  <style>\n",
       "    .colab-df-container {\n",
       "      display:flex;\n",
       "      flex-wrap:wrap;\n",
       "      gap: 12px;\n",
       "    }\n",
       "\n",
       "    .colab-df-convert {\n",
       "      background-color: #E8F0FE;\n",
       "      border: none;\n",
       "      border-radius: 50%;\n",
       "      cursor: pointer;\n",
       "      display: none;\n",
       "      fill: #1967D2;\n",
       "      height: 32px;\n",
       "      padding: 0 0 0 0;\n",
       "      width: 32px;\n",
       "    }\n",
       "\n",
       "    .colab-df-convert:hover {\n",
       "      background-color: #E2EBFA;\n",
       "      box-shadow: 0px 1px 2px rgba(60, 64, 67, 0.3), 0px 1px 3px 1px rgba(60, 64, 67, 0.15);\n",
       "      fill: #174EA6;\n",
       "    }\n",
       "\n",
       "    [theme=dark] .colab-df-convert {\n",
       "      background-color: #3B4455;\n",
       "      fill: #D2E3FC;\n",
       "    }\n",
       "\n",
       "    [theme=dark] .colab-df-convert:hover {\n",
       "      background-color: #434B5C;\n",
       "      box-shadow: 0px 1px 3px 1px rgba(0, 0, 0, 0.15);\n",
       "      filter: drop-shadow(0px 1px 2px rgba(0, 0, 0, 0.3));\n",
       "      fill: #FFFFFF;\n",
       "    }\n",
       "  </style>\n",
       "\n",
       "      <script>\n",
       "        const buttonEl =\n",
       "          document.querySelector('#df-c6be9a1d-b378-4b07-8826-db92ef2ada8c button.colab-df-convert');\n",
       "        buttonEl.style.display =\n",
       "          google.colab.kernel.accessAllowed ? 'block' : 'none';\n",
       "\n",
       "        async function convertToInteractive(key) {\n",
       "          const element = document.querySelector('#df-c6be9a1d-b378-4b07-8826-db92ef2ada8c');\n",
       "          const dataTable =\n",
       "            await google.colab.kernel.invokeFunction('convertToInteractive',\n",
       "                                                     [key], {});\n",
       "          if (!dataTable) return;\n",
       "\n",
       "          const docLinkHtml = 'Like what you see? Visit the ' +\n",
       "            '<a target=\"_blank\" href=https://colab.research.google.com/notebooks/data_table.ipynb>data table notebook</a>'\n",
       "            + ' to learn more about interactive tables.';\n",
       "          element.innerHTML = '';\n",
       "          dataTable['output_type'] = 'display_data';\n",
       "          await google.colab.output.renderOutput(dataTable, element);\n",
       "          const docLink = document.createElement('div');\n",
       "          docLink.innerHTML = docLinkHtml;\n",
       "          element.appendChild(docLink);\n",
       "        }\n",
       "      </script>\n",
       "    </div>\n",
       "  </div>\n",
       "  "
      ],
      "text/plain": [
       "       pred   l\n",
       "6113     22  22\n",
       "2453     68  23\n",
       "2442     49  49\n",
       "2859     66  47\n",
       "12994    69  69\n",
       "...     ...  ..\n",
       "7532     27  27\n",
       "3434     57  15\n",
       "694      31  17\n",
       "5168     68  68\n",
       "11308    37  37\n",
       "\n",
       "[2662 rows x 2 columns]"
      ]
     },
     "execution_count": 48,
     "metadata": {},
     "output_type": "execute_result"
    }
   ],
   "source": [
    "predictions = model_without_lstm.predict(word_seq_test)\n",
    "list_ = []\n",
    "for i in range(len(predictions)):\n",
    "  a = predictions[i]\n",
    "  list_.append(np.where(a == a.max())[0][0] )\n",
    "\n",
    "\n",
    "sample= test_df\n",
    "sample['pred']= list_ \n",
    "sample[['pred', \"l\"]]"
   ]
  },
  {
   "cell_type": "code",
   "execution_count": 49,
   "metadata": {
    "colab": {
     "base_uri": "https://localhost:8080/"
    },
    "id": "8-tFTsqC-_pd",
    "outputId": "eaa4b8d8-afc8-4d68-a918-8cb4d468c5b5"
   },
   "outputs": [
    {
     "name": "stdout",
     "output_type": "stream",
     "text": [
      "Accuracy Without word Embedding LSTM:\n",
      "0.6923365890308039\n"
     ]
    }
   ],
   "source": [
    "import sklearn\n",
    "\n",
    "print(\"Accuracy Without word Embedding LSTM:\")\n",
    "print(sklearn.metrics.accuracy_score(sample.l, sample.pred))"
   ]
  },
  {
   "cell_type": "code",
   "execution_count": 49,
   "metadata": {
    "id": "db3chfUV-_pd"
   },
   "outputs": [],
   "source": []
  },
  {
   "cell_type": "markdown",
   "metadata": {
    "id": "LCUua-pCIAK3"
   },
   "source": [
    "### CNN"
   ]
  },
  {
   "cell_type": "code",
   "execution_count": 50,
   "metadata": {
    "id": "m84E99I-IAK4"
   },
   "outputs": [],
   "source": [
    "num_filters = 64 "
   ]
  },
  {
   "cell_type": "code",
   "execution_count": 51,
   "metadata": {
    "colab": {
     "base_uri": "https://localhost:8080/"
    },
    "id": "T085sE_iIAK5",
    "outputId": "98f01305-dced-4fa6-9051-7079408310d4"
   },
   "outputs": [
    {
     "name": "stdout",
     "output_type": "stream",
     "text": [
      "Model: \"sequential_4\"\n",
      "_________________________________________________________________\n",
      " Layer (type)                Output Shape              Param #   \n",
      "=================================================================\n",
      " embedding_4 (Embedding)     (None, 19, 300)           756600    \n",
      "                                                                 \n",
      " conv1d_3 (Conv1D)           (None, 19, 64)            134464    \n",
      "                                                                 \n",
      " max_pooling1d_2 (MaxPooling  (None, 9, 64)            0         \n",
      " 1D)                                                             \n",
      "                                                                 \n",
      " conv1d_4 (Conv1D)           (None, 9, 64)             28736     \n",
      "                                                                 \n",
      " global_max_pooling1d_1 (Glo  (None, 64)               0         \n",
      " balMaxPooling1D)                                                \n",
      "                                                                 \n",
      " dropout_2 (Dropout)         (None, 64)                0         \n",
      "                                                                 \n",
      " dense_8 (Dense)             (None, 32)                2080      \n",
      "                                                                 \n",
      " dense_9 (Dense)             (None, 77)                2541      \n",
      "                                                                 \n",
      "=================================================================\n",
      "Total params: 924,421\n",
      "Trainable params: 167,821\n",
      "Non-trainable params: 756,600\n",
      "_________________________________________________________________\n"
     ]
    },
    {
     "name": "stderr",
     "output_type": "stream",
     "text": [
      "/usr/local/lib/python3.7/dist-packages/keras/optimizer_v2/adam.py:105: UserWarning: The `lr` argument is deprecated, use `learning_rate` instead.\n",
      "  super(Adam, self).__init__(name, **kwargs)\n"
     ]
    }
   ],
   "source": [
    "#CNN architecture\n",
    "model_cnn = Sequential()\n",
    "model_cnn.add(Embedding(nb_words, embed_dim, input_length=max_seq_len, trainable=False))\n",
    "model_cnn.add(Conv1D(num_filters, 7, activation='relu', padding='same'))\n",
    "model_cnn.add(MaxPooling1D(2))\n",
    "model_cnn.add(Conv1D(num_filters, 7, activation='relu', padding='same'))\n",
    "model_cnn.add(GlobalMaxPooling1D())\n",
    "model_cnn.add(Dropout(0.5))\n",
    "model_cnn.add(Dense(32, activation='relu', kernel_regularizer=regularizers.l2(weight_decay)))\n",
    "model_cnn.add(Dense(77, activation='softmax'))\n",
    "\n",
    "adam = tf.keras.optimizers.Adam(lr=0.001, beta_1=0.9, beta_2=0.999, epsilon=1e-08, decay=0.0)\n",
    "model_cnn.compile(loss='binary_crossentropy', optimizer=adam, metrics=['accuracy'])\n",
    "model_cnn.summary()"
   ]
  },
  {
   "cell_type": "code",
   "execution_count": 52,
   "metadata": {
    "id": "mQq8DoAhIAK5"
   },
   "outputs": [],
   "source": [
    "from keras.callbacks import ModelCheckpoint\n",
    "from tensorflow.keras.callbacks import EarlyStopping\n",
    "\n",
    "model_cnn.compile(optimizer='adam',loss = tf.keras.losses.SparseCategoricalCrossentropy(from_logits=True), metrics=['accuracy'])"
   ]
  },
  {
   "cell_type": "code",
   "execution_count": 53,
   "metadata": {
    "colab": {
     "base_uri": "https://localhost:8080/"
    },
    "id": "o-SmF3saIAK6",
    "outputId": "df33b506-7882-42a8-b006-aaff4fc00094"
   },
   "outputs": [
    {
     "name": "stdout",
     "output_type": "stream",
     "text": [
      "Epoch 1/40\n"
     ]
    },
    {
     "name": "stderr",
     "output_type": "stream",
     "text": [
      "/usr/local/lib/python3.7/dist-packages/tensorflow/python/util/dispatch.py:1082: UserWarning: \"`sparse_categorical_crossentropy` received `from_logits=True`, but the `output` argument was produced by a sigmoid or softmax activation and thus does not represent logits. Was this intended?\"\n",
      "  return dispatch_target(*args, **kwargs)\n"
     ]
    },
    {
     "name": "stdout",
     "output_type": "stream",
     "text": [
      "30/30 [==============================] - 4s 108ms/step - loss: 4.3469 - accuracy: 0.0146 - val_loss: 4.3415 - val_accuracy: 0.0163\n",
      "Epoch 2/40\n",
      "30/30 [==============================] - 3s 103ms/step - loss: 4.3307 - accuracy: 0.0173 - val_loss: 4.3117 - val_accuracy: 0.0300\n",
      "Epoch 3/40\n",
      "30/30 [==============================] - 3s 103ms/step - loss: 4.2628 - accuracy: 0.0278 - val_loss: 4.1953 - val_accuracy: 0.0407\n",
      "Epoch 4/40\n",
      "30/30 [==============================] - 3s 103ms/step - loss: 4.1134 - accuracy: 0.0400 - val_loss: 3.9870 - val_accuracy: 0.0770\n",
      "Epoch 5/40\n",
      "30/30 [==============================] - 3s 101ms/step - loss: 3.8917 - accuracy: 0.0721 - val_loss: 3.6529 - val_accuracy: 0.1293\n",
      "Epoch 6/40\n",
      "30/30 [==============================] - 3s 102ms/step - loss: 3.5465 - accuracy: 0.1096 - val_loss: 3.2279 - val_accuracy: 0.1922\n",
      "Epoch 7/40\n",
      "30/30 [==============================] - 3s 103ms/step - loss: 3.2206 - accuracy: 0.1535 - val_loss: 2.9312 - val_accuracy: 0.2604\n",
      "Epoch 8/40\n",
      "30/30 [==============================] - 3s 103ms/step - loss: 2.9360 - accuracy: 0.2018 - val_loss: 2.6640 - val_accuracy: 0.3239\n",
      "Epoch 9/40\n",
      "30/30 [==============================] - 3s 102ms/step - loss: 2.7355 - accuracy: 0.2453 - val_loss: 2.4824 - val_accuracy: 0.3700\n",
      "Epoch 10/40\n",
      "30/30 [==============================] - 3s 102ms/step - loss: 2.5581 - accuracy: 0.2831 - val_loss: 2.3097 - val_accuracy: 0.4053\n",
      "Epoch 11/40\n",
      "30/30 [==============================] - 3s 103ms/step - loss: 2.4029 - accuracy: 0.3211 - val_loss: 2.1589 - val_accuracy: 0.4416\n",
      "Epoch 12/40\n",
      "30/30 [==============================] - 3s 104ms/step - loss: 2.2906 - accuracy: 0.3408 - val_loss: 2.0674 - val_accuracy: 0.4613\n",
      "Epoch 13/40\n",
      "30/30 [==============================] - 3s 106ms/step - loss: 2.1587 - accuracy: 0.3757 - val_loss: 1.9620 - val_accuracy: 0.4757\n",
      "Epoch 14/40\n",
      "30/30 [==============================] - 3s 105ms/step - loss: 2.0458 - accuracy: 0.4018 - val_loss: 1.8716 - val_accuracy: 0.4958\n",
      "Epoch 15/40\n",
      "30/30 [==============================] - 3s 103ms/step - loss: 1.9478 - accuracy: 0.4287 - val_loss: 1.8035 - val_accuracy: 0.5177\n",
      "Epoch 16/40\n",
      "30/30 [==============================] - 3s 103ms/step - loss: 1.8642 - accuracy: 0.4463 - val_loss: 1.7447 - val_accuracy: 0.5236\n",
      "Epoch 17/40\n",
      "30/30 [==============================] - 3s 104ms/step - loss: 1.7948 - accuracy: 0.4650 - val_loss: 1.6782 - val_accuracy: 0.5427\n",
      "Epoch 18/40\n",
      "30/30 [==============================] - 3s 103ms/step - loss: 1.7186 - accuracy: 0.4780 - val_loss: 1.6301 - val_accuracy: 0.5480\n",
      "Epoch 19/40\n",
      "30/30 [==============================] - 3s 104ms/step - loss: 1.6222 - accuracy: 0.5079 - val_loss: 1.5716 - val_accuracy: 0.5690\n",
      "Epoch 20/40\n",
      "30/30 [==============================] - 3s 101ms/step - loss: 1.5860 - accuracy: 0.5168 - val_loss: 1.5399 - val_accuracy: 0.5853\n",
      "Epoch 21/40\n",
      "30/30 [==============================] - 3s 103ms/step - loss: 1.5343 - accuracy: 0.5274 - val_loss: 1.5254 - val_accuracy: 0.5872\n",
      "Epoch 22/40\n",
      "30/30 [==============================] - 3s 103ms/step - loss: 1.4790 - accuracy: 0.5459 - val_loss: 1.4793 - val_accuracy: 0.5987\n",
      "Epoch 23/40\n",
      "30/30 [==============================] - 3s 103ms/step - loss: 1.4186 - accuracy: 0.5675 - val_loss: 1.4351 - val_accuracy: 0.6110\n",
      "Epoch 24/40\n",
      "30/30 [==============================] - 3s 102ms/step - loss: 1.3571 - accuracy: 0.5888 - val_loss: 1.4155 - val_accuracy: 0.6175\n",
      "Epoch 25/40\n",
      "30/30 [==============================] - 3s 101ms/step - loss: 1.3235 - accuracy: 0.5882 - val_loss: 1.3839 - val_accuracy: 0.6241\n",
      "Epoch 26/40\n",
      "30/30 [==============================] - 3s 102ms/step - loss: 1.2651 - accuracy: 0.6142 - val_loss: 1.3770 - val_accuracy: 0.6272\n",
      "Epoch 27/40\n",
      "30/30 [==============================] - 3s 103ms/step - loss: 1.2327 - accuracy: 0.6193 - val_loss: 1.3451 - val_accuracy: 0.6394\n",
      "Epoch 28/40\n",
      "30/30 [==============================] - 3s 104ms/step - loss: 1.2014 - accuracy: 0.6257 - val_loss: 1.3355 - val_accuracy: 0.6407\n",
      "Epoch 29/40\n",
      "30/30 [==============================] - 3s 101ms/step - loss: 1.1653 - accuracy: 0.6377 - val_loss: 1.3243 - val_accuracy: 0.6444\n",
      "Epoch 30/40\n",
      "30/30 [==============================] - 3s 101ms/step - loss: 1.1229 - accuracy: 0.6464 - val_loss: 1.3048 - val_accuracy: 0.6545\n",
      "Epoch 31/40\n",
      "30/30 [==============================] - 3s 100ms/step - loss: 1.0970 - accuracy: 0.6512 - val_loss: 1.3048 - val_accuracy: 0.6510\n",
      "Epoch 32/40\n",
      "30/30 [==============================] - 5s 169ms/step - loss: 1.0656 - accuracy: 0.6683 - val_loss: 1.2921 - val_accuracy: 0.6535\n",
      "Epoch 33/40\n",
      "30/30 [==============================] - 4s 128ms/step - loss: 1.0247 - accuracy: 0.6872 - val_loss: 1.2902 - val_accuracy: 0.6576\n",
      "Epoch 34/40\n",
      "30/30 [==============================] - 3s 99ms/step - loss: 0.9942 - accuracy: 0.6936 - val_loss: 1.2586 - val_accuracy: 0.6701\n",
      "Epoch 35/40\n",
      "30/30 [==============================] - 3s 100ms/step - loss: 0.9772 - accuracy: 0.6983 - val_loss: 1.2537 - val_accuracy: 0.6742\n",
      "Epoch 36/40\n",
      "30/30 [==============================] - 3s 101ms/step - loss: 0.9435 - accuracy: 0.7072 - val_loss: 1.2505 - val_accuracy: 0.6692\n",
      "Epoch 37/40\n",
      "30/30 [==============================] - 3s 101ms/step - loss: 0.9397 - accuracy: 0.7079 - val_loss: 1.2306 - val_accuracy: 0.6804\n",
      "Epoch 38/40\n",
      "30/30 [==============================] - 3s 101ms/step - loss: 0.8923 - accuracy: 0.7279 - val_loss: 1.2190 - val_accuracy: 0.6842\n",
      "Epoch 39/40\n",
      "30/30 [==============================] - 3s 98ms/step - loss: 0.8511 - accuracy: 0.7389 - val_loss: 1.2156 - val_accuracy: 0.6801\n",
      "Epoch 40/40\n",
      "30/30 [==============================] - 3s 100ms/step - loss: 0.8370 - accuracy: 0.7363 - val_loss: 1.2142 - val_accuracy: 0.6798\n"
     ]
    }
   ],
   "source": [
    "es_callback = EarlyStopping(monitor='val_loss', patience=3)\n",
    "\n",
    "history = model_cnn.fit(word_seq_train, y_train, batch_size=256, epochs=num_epochs, validation_split=0.3, callbacks=[es_callback], shuffle=False)"
   ]
  },
  {
   "cell_type": "code",
   "execution_count": 54,
   "metadata": {
    "colab": {
     "base_uri": "https://localhost:8080/",
     "height": 295
    },
    "id": "4lgw1EohIAK6",
    "outputId": "9b154912-4ba4-4d69-cb5d-480f3c089e12"
   },
   "outputs": [
    {
     "data": {
      "image/png": "[encoded data removed]",
      "text/plain": [
       "<Figure size 432x288 with 1 Axes>"
      ]
     },
     "metadata": {},
     "output_type": "display_data"
    }
   ],
   "source": [
    "#generate plots\n",
    "plt.figure()\n",
    "plt.plot(history.history['loss'], lw=2.0, color='b', label='train')\n",
    "plt.plot(history.history['val_loss'], lw=2.0, color='r', label='val')\n",
    "plt.title('CNN Without Word Embedding')\n",
    "plt.xlabel('Epochs')\n",
    "plt.ylabel('Cross-Entropy Loss')\n",
    "plt.legend(loc='upper right')\n",
    "plt.show()"
   ]
  },
  {
   "cell_type": "code",
   "execution_count": 55,
   "metadata": {
    "colab": {
     "base_uri": "https://localhost:8080/",
     "height": 295
    },
    "id": "fd9QttZbIAK6",
    "outputId": "c5812a41-bf79-468a-da98-2c750c4f0301"
   },
   "outputs": [
    {
     "data": {
      "image/png": "[encoded data removed]",
      "text/plain": [
       "<Figure size 432x288 with 1 Axes>"
      ]
     },
     "metadata": {},
     "output_type": "display_data"
    }
   ],
   "source": [
    "plt.figure()\n",
    "plt.plot(history.history['accuracy'], lw=2.0, color='b', label='train')\n",
    "plt.plot(history.history['val_accuracy'], lw=2.0, color='r', label='val')\n",
    "plt.title('CNN Without Word Embedding')\n",
    "plt.xlabel('Epochs')\n",
    "plt.ylabel('Accuracy')\n",
    "plt.legend(loc='upper left')\n",
    "plt.show()"
   ]
  },
  {
   "cell_type": "code",
   "execution_count": 56,
   "metadata": {
    "colab": {
     "base_uri": "https://localhost:8080/",
     "height": 424
    },
    "id": "2yMrE-MlIAK7",
    "outputId": "ce08a6e3-6b69-4547-d126-623fe077f989"
   },
   "outputs": [
    {
     "data": {
      "text/html": [
       "\n",
       "  <div id=\"df-df31e66e-b94d-463a-84af-486a38ba355a\">\n",
       "    <div class=\"colab-df-container\">\n",
       "      <div>\n",
       "<style scoped>\n",
       "    .dataframe tbody tr th:only-of-type {\n",
       "        vertical-align: middle;\n",
       "    }\n",
       "\n",
       "    .dataframe tbody tr th {\n",
       "        vertical-align: top;\n",
       "    }\n",
       "\n",
       "    .dataframe thead th {\n",
       "        text-align: right;\n",
       "    }\n",
       "</style>\n",
       "<table border=\"1\" class=\"dataframe\">\n",
       "  <thead>\n",
       "    <tr style=\"text-align: right;\">\n",
       "      <th></th>\n",
       "      <th>pred</th>\n",
       "      <th>l</th>\n",
       "    </tr>\n",
       "  </thead>\n",
       "  <tbody>\n",
       "    <tr>\n",
       "      <th>6113</th>\n",
       "      <td>22</td>\n",
       "      <td>22</td>\n",
       "    </tr>\n",
       "    <tr>\n",
       "      <th>2453</th>\n",
       "      <td>16</td>\n",
       "      <td>23</td>\n",
       "    </tr>\n",
       "    <tr>\n",
       "      <th>2442</th>\n",
       "      <td>49</td>\n",
       "      <td>49</td>\n",
       "    </tr>\n",
       "    <tr>\n",
       "      <th>2859</th>\n",
       "      <td>28</td>\n",
       "      <td>47</td>\n",
       "    </tr>\n",
       "    <tr>\n",
       "      <th>12994</th>\n",
       "      <td>69</td>\n",
       "      <td>69</td>\n",
       "    </tr>\n",
       "    <tr>\n",
       "      <th>...</th>\n",
       "      <td>...</td>\n",
       "      <td>...</td>\n",
       "    </tr>\n",
       "    <tr>\n",
       "      <th>7532</th>\n",
       "      <td>27</td>\n",
       "      <td>27</td>\n",
       "    </tr>\n",
       "    <tr>\n",
       "      <th>3434</th>\n",
       "      <td>73</td>\n",
       "      <td>15</td>\n",
       "    </tr>\n",
       "    <tr>\n",
       "      <th>694</th>\n",
       "      <td>33</td>\n",
       "      <td>17</td>\n",
       "    </tr>\n",
       "    <tr>\n",
       "      <th>5168</th>\n",
       "      <td>74</td>\n",
       "      <td>68</td>\n",
       "    </tr>\n",
       "    <tr>\n",
       "      <th>11308</th>\n",
       "      <td>29</td>\n",
       "      <td>37</td>\n",
       "    </tr>\n",
       "  </tbody>\n",
       "</table>\n",
       "<p>2662 rows × 2 columns</p>\n",
       "</div>\n",
       "      <button class=\"colab-df-convert\" onclick=\"convertToInteractive('df-df31e66e-b94d-463a-84af-486a38ba355a')\"\n",
       "              title=\"Convert this dataframe to an interactive table.\"\n",
       "              style=\"display:none;\">\n",
       "        \n",
       "  <svg xmlns=\"http://www.w3.org/2000/svg\" height=\"24px\"viewBox=\"0 0 24 24\"\n",
       "       width=\"24px\">\n",
       "    <path d=\"M0 0h24v24H0V0z\" fill=\"none\"/>\n",
       "    <path d=\"M18.56 5.44l.94 2.06.94-2.06 2.06-.94-2.06-.94-.94-2.06-.94 2.06-2.06.94zm-11 1L8.5 8.5l.94-2.06 2.06-.94-2.06-.94L8.5 2.5l-.94 2.06-2.06.94zm10 10l.94 2.06.94-2.06 2.06-.94-2.06-.94-.94-2.06-.94 2.06-2.06.94z\"/><path d=\"M17.41 7.96l-1.37-1.37c-.4-.4-.92-.59-1.43-.59-.52 0-1.04.2-1.43.59L10.3 9.45l-7.72 7.72c-.78.78-.78 2.05 0 2.83L4 21.41c.39.39.9.59 1.41.59.51 0 1.02-.2 1.41-.59l7.78-7.78 2.81-2.81c.8-.78.8-2.07 0-2.86zM5.41 20L4 18.59l7.72-7.72 1.47 1.35L5.41 20z\"/>\n",
       "  </svg>\n",
       "      </button>\n",
       "      \n",
       "  <style>\n",
       "    .colab-df-container {\n",
       "      display:flex;\n",
       "      flex-wrap:wrap;\n",
       "      gap: 12px;\n",
       "    }\n",
       "\n",
       "    .colab-df-convert {\n",
       "      background-color: #E8F0FE;\n",
       "      border: none;\n",
       "      border-radius: 50%;\n",
       "      cursor: pointer;\n",
       "      display: none;\n",
       "      fill: #1967D2;\n",
       "      height: 32px;\n",
       "      padding: 0 0 0 0;\n",
       "      width: 32px;\n",
       "    }\n",
       "\n",
       "    .colab-df-convert:hover {\n",
       "      background-color: #E2EBFA;\n",
       "      box-shadow: 0px 1px 2px rgba(60, 64, 67, 0.3), 0px 1px 3px 1px rgba(60, 64, 67, 0.15);\n",
       "      fill: #174EA6;\n",
       "    }\n",
       "\n",
       "    [theme=dark] .colab-df-convert {\n",
       "      background-color: #3B4455;\n",
       "      fill: #D2E3FC;\n",
       "    }\n",
       "\n",
       "    [theme=dark] .colab-df-convert:hover {\n",
       "      background-color: #434B5C;\n",
       "      box-shadow: 0px 1px 3px 1px rgba(0, 0, 0, 0.15);\n",
       "      filter: drop-shadow(0px 1px 2px rgba(0, 0, 0, 0.3));\n",
       "      fill: #FFFFFF;\n",
       "    }\n",
       "  </style>\n",
       "\n",
       "      <script>\n",
       "        const buttonEl =\n",
       "          document.querySelector('#df-df31e66e-b94d-463a-84af-486a38ba355a button.colab-df-convert');\n",
       "        buttonEl.style.display =\n",
       "          google.colab.kernel.accessAllowed ? 'block' : 'none';\n",
       "\n",
       "        async function convertToInteractive(key) {\n",
       "          const element = document.querySelector('#df-df31e66e-b94d-463a-84af-486a38ba355a');\n",
       "          const dataTable =\n",
       "            await google.colab.kernel.invokeFunction('convertToInteractive',\n",
       "                                                     [key], {});\n",
       "          if (!dataTable) return;\n",
       "\n",
       "          const docLinkHtml = 'Like what you see? Visit the ' +\n",
       "            '<a target=\"_blank\" href=https://colab.research.google.com/notebooks/data_table.ipynb>data table notebook</a>'\n",
       "            + ' to learn more about interactive tables.';\n",
       "          element.innerHTML = '';\n",
       "          dataTable['output_type'] = 'display_data';\n",
       "          await google.colab.output.renderOutput(dataTable, element);\n",
       "          const docLink = document.createElement('div');\n",
       "          docLink.innerHTML = docLinkHtml;\n",
       "          element.appendChild(docLink);\n",
       "        }\n",
       "      </script>\n",
       "    </div>\n",
       "  </div>\n",
       "  "
      ],
      "text/plain": [
       "       pred   l\n",
       "6113     22  22\n",
       "2453     16  23\n",
       "2442     49  49\n",
       "2859     28  47\n",
       "12994    69  69\n",
       "...     ...  ..\n",
       "7532     27  27\n",
       "3434     73  15\n",
       "694      33  17\n",
       "5168     74  68\n",
       "11308    29  37\n",
       "\n",
       "[2662 rows x 2 columns]"
      ]
     },
     "execution_count": 56,
     "metadata": {},
     "output_type": "execute_result"
    }
   ],
   "source": [
    "predictions = model_cnn.predict(word_seq_test)\n",
    "list_ = []\n",
    "for i in range(len(predictions)):\n",
    "  a = predictions[i]\n",
    "  list_.append(np.where(a == a.max())[0][0] )\n",
    "\n",
    "\n",
    "sample= test_df\n",
    "sample['pred']= list_ \n",
    "sample[['pred', \"l\"]]"
   ]
  },
  {
   "cell_type": "code",
   "execution_count": 57,
   "metadata": {
    "colab": {
     "base_uri": "https://localhost:8080/"
    },
    "id": "QUmkRRtfIAK7",
    "outputId": "c80d343f-f759-45a2-80c3-9a1562479e67"
   },
   "outputs": [
    {
     "name": "stdout",
     "output_type": "stream",
     "text": [
      "Accuracy Without word embedding CNN :\n",
      "0.6750563486100676\n"
     ]
    }
   ],
   "source": [
    "import sklearn\n",
    "\n",
    "print(\"Accuracy Without word embedding CNN :\")\n",
    "print(sklearn.metrics.accuracy_score(sample.l, sample.pred))"
   ]
  },
  {
   "cell_type": "code",
   "execution_count": 57,
   "metadata": {
    "id": "R0IddOPc-_pd"
   },
   "outputs": [],
   "source": []
  },
  {
   "cell_type": "markdown",
   "metadata": {
    "id": "NgxmfksCIT9z"
   },
   "source": [
    "### CNN + LSTM"
   ]
  },
  {
   "cell_type": "code",
   "execution_count": 57,
   "metadata": {
    "id": "otF47J0lIT90"
   },
   "outputs": [],
   "source": []
  },
  {
   "cell_type": "code",
   "execution_count": 58,
   "metadata": {
    "id": "lxtNp0oRIT91"
   },
   "outputs": [],
   "source": [
    "model_mix_without_w_e = Sequential()\n",
    "model_mix_without_w_e.add(Embedding(nb_words, embed_dim,  input_length=max_seq_len, trainable=False))\n",
    "model_mix_without_w_e.add(Dropout(0.2))\n",
    "model_mix_without_w_e.add(Conv1D(num_filters, 7, activation='relu', padding='same'))\n",
    "model_mix_without_w_e.add(MaxPooling1D(pool_size=4))\n",
    "model_mix_without_w_e.add(Bidirectional(LSTM(128, dropout=0.7, recurrent_dropout=0.7)))\n",
    "model_mix_without_w_e.add(Dense(128,activation='relu'))\n",
    "model_mix_without_w_e.add(Dense(77, activation='softmax'))\n",
    "model_mix_without_w_e.compile(optimizer='adam',loss = tf.keras.losses.SparseCategoricalCrossentropy(from_logits=True), metrics=['accuracy'])\n",
    "  \n"
   ]
  },
  {
   "cell_type": "code",
   "execution_count": 59,
   "metadata": {
    "colab": {
     "base_uri": "https://localhost:8080/"
    },
    "id": "vhycTmTbIT91",
    "outputId": "e64014e6-6629-415c-d374-ab76b82eec8c"
   },
   "outputs": [
    {
     "name": "stdout",
     "output_type": "stream",
     "text": [
      "Epoch 1/40\n"
     ]
    },
    {
     "name": "stderr",
     "output_type": "stream",
     "text": [
      "/usr/local/lib/python3.7/dist-packages/tensorflow/python/util/dispatch.py:1082: UserWarning: \"`sparse_categorical_crossentropy` received `from_logits=True`, but the `output` argument was produced by a sigmoid or softmax activation and thus does not represent logits. Was this intended?\"\n",
      "  return dispatch_target(*args, **kwargs)\n"
     ]
    },
    {
     "name": "stdout",
     "output_type": "stream",
     "text": [
      "30/30 [==============================] - 12s 189ms/step - loss: 4.3422 - accuracy: 0.0138 - val_loss: 4.3391 - val_accuracy: 0.0200\n",
      "Epoch 2/40\n",
      "30/30 [==============================] - 5s 169ms/step - loss: 4.3188 - accuracy: 0.0215 - val_loss: 4.2904 - val_accuracy: 0.0247\n",
      "Epoch 3/40\n",
      "30/30 [==============================] - 5s 168ms/step - loss: 4.2317 - accuracy: 0.0275 - val_loss: 4.1702 - val_accuracy: 0.0282\n",
      "Epoch 4/40\n",
      "30/30 [==============================] - 5s 167ms/step - loss: 4.0807 - accuracy: 0.0340 - val_loss: 4.0039 - val_accuracy: 0.0407\n",
      "Epoch 5/40\n",
      "30/30 [==============================] - 5s 169ms/step - loss: 3.9274 - accuracy: 0.0409 - val_loss: 3.8423 - val_accuracy: 0.0532\n",
      "Epoch 6/40\n",
      "30/30 [==============================] - 5s 167ms/step - loss: 3.8058 - accuracy: 0.0552 - val_loss: 3.6831 - val_accuracy: 0.0845\n",
      "Epoch 7/40\n",
      "30/30 [==============================] - 6s 193ms/step - loss: 3.6571 - accuracy: 0.0756 - val_loss: 3.4909 - val_accuracy: 0.1214\n",
      "Epoch 8/40\n",
      "30/30 [==============================] - 5s 169ms/step - loss: 3.4656 - accuracy: 0.1098 - val_loss: 3.2616 - val_accuracy: 0.1527\n",
      "Epoch 9/40\n",
      "30/30 [==============================] - 5s 169ms/step - loss: 3.2504 - accuracy: 0.1417 - val_loss: 2.9854 - val_accuracy: 0.1944\n",
      "Epoch 10/40\n",
      "30/30 [==============================] - 5s 165ms/step - loss: 3.0248 - accuracy: 0.1802 - val_loss: 2.7626 - val_accuracy: 0.2469\n",
      "Epoch 11/40\n",
      "30/30 [==============================] - 5s 170ms/step - loss: 2.8554 - accuracy: 0.2042 - val_loss: 2.5744 - val_accuracy: 0.2645\n",
      "Epoch 12/40\n",
      "30/30 [==============================] - 5s 167ms/step - loss: 2.6666 - accuracy: 0.2434 - val_loss: 2.4119 - val_accuracy: 0.3108\n",
      "Epoch 13/40\n",
      "30/30 [==============================] - 5s 167ms/step - loss: 2.5277 - accuracy: 0.2733 - val_loss: 2.2540 - val_accuracy: 0.3674\n",
      "Epoch 14/40\n",
      "30/30 [==============================] - 5s 170ms/step - loss: 2.4217 - accuracy: 0.3038 - val_loss: 2.1757 - val_accuracy: 0.3793\n",
      "Epoch 15/40\n",
      "30/30 [==============================] - 5s 169ms/step - loss: 2.3282 - accuracy: 0.3221 - val_loss: 2.0855 - val_accuracy: 0.4125\n",
      "Epoch 16/40\n",
      "30/30 [==============================] - 5s 169ms/step - loss: 2.2331 - accuracy: 0.3512 - val_loss: 1.9916 - val_accuracy: 0.4288\n",
      "Epoch 17/40\n",
      "30/30 [==============================] - 5s 170ms/step - loss: 2.1444 - accuracy: 0.3671 - val_loss: 1.9113 - val_accuracy: 0.4648\n",
      "Epoch 18/40\n",
      "30/30 [==============================] - 5s 170ms/step - loss: 2.0567 - accuracy: 0.3794 - val_loss: 1.8307 - val_accuracy: 0.4782\n",
      "Epoch 19/40\n",
      "30/30 [==============================] - 5s 169ms/step - loss: 1.9989 - accuracy: 0.4043 - val_loss: 1.7990 - val_accuracy: 0.4848\n",
      "Epoch 20/40\n",
      "30/30 [==============================] - 5s 169ms/step - loss: 1.9131 - accuracy: 0.4218 - val_loss: 1.7378 - val_accuracy: 0.5130\n",
      "Epoch 21/40\n",
      "30/30 [==============================] - 5s 171ms/step - loss: 1.8447 - accuracy: 0.4364 - val_loss: 1.6961 - val_accuracy: 0.5233\n",
      "Epoch 22/40\n",
      "30/30 [==============================] - 5s 168ms/step - loss: 1.7970 - accuracy: 0.4564 - val_loss: 1.6341 - val_accuracy: 0.5380\n",
      "Epoch 23/40\n",
      "30/30 [==============================] - 5s 170ms/step - loss: 1.7197 - accuracy: 0.4756 - val_loss: 1.6113 - val_accuracy: 0.5474\n",
      "Epoch 24/40\n",
      "30/30 [==============================] - 5s 169ms/step - loss: 1.6832 - accuracy: 0.4762 - val_loss: 1.5484 - val_accuracy: 0.5631\n",
      "Epoch 25/40\n",
      "30/30 [==============================] - 5s 170ms/step - loss: 1.6160 - accuracy: 0.4972 - val_loss: 1.5163 - val_accuracy: 0.5750\n",
      "Epoch 26/40\n",
      "30/30 [==============================] - 5s 169ms/step - loss: 1.5553 - accuracy: 0.5233 - val_loss: 1.4740 - val_accuracy: 0.5912\n",
      "Epoch 27/40\n",
      "30/30 [==============================] - 5s 171ms/step - loss: 1.5207 - accuracy: 0.5314 - val_loss: 1.4706 - val_accuracy: 0.5953\n",
      "Epoch 28/40\n",
      "30/30 [==============================] - 5s 170ms/step - loss: 1.4800 - accuracy: 0.5399 - val_loss: 1.4324 - val_accuracy: 0.5978\n",
      "Epoch 29/40\n",
      "30/30 [==============================] - 5s 171ms/step - loss: 1.4394 - accuracy: 0.5478 - val_loss: 1.4000 - val_accuracy: 0.6044\n",
      "Epoch 30/40\n",
      "30/30 [==============================] - 5s 170ms/step - loss: 1.3969 - accuracy: 0.5694 - val_loss: 1.3990 - val_accuracy: 0.6163\n",
      "Epoch 31/40\n",
      "30/30 [==============================] - 5s 169ms/step - loss: 1.3571 - accuracy: 0.5718 - val_loss: 1.3694 - val_accuracy: 0.6185\n",
      "Epoch 32/40\n",
      "30/30 [==============================] - 5s 169ms/step - loss: 1.3115 - accuracy: 0.5837 - val_loss: 1.3498 - val_accuracy: 0.6178\n",
      "Epoch 33/40\n",
      "30/30 [==============================] - 5s 169ms/step - loss: 1.2874 - accuracy: 0.5998 - val_loss: 1.3152 - val_accuracy: 0.6391\n",
      "Epoch 34/40\n",
      "30/30 [==============================] - 5s 170ms/step - loss: 1.2501 - accuracy: 0.6070 - val_loss: 1.2821 - val_accuracy: 0.6510\n",
      "Epoch 35/40\n",
      "30/30 [==============================] - 5s 169ms/step - loss: 1.2209 - accuracy: 0.6133 - val_loss: 1.2823 - val_accuracy: 0.6413\n",
      "Epoch 36/40\n",
      "30/30 [==============================] - 5s 171ms/step - loss: 1.1870 - accuracy: 0.6222 - val_loss: 1.2639 - val_accuracy: 0.6535\n",
      "Epoch 37/40\n",
      "30/30 [==============================] - 5s 169ms/step - loss: 1.1560 - accuracy: 0.6338 - val_loss: 1.2585 - val_accuracy: 0.6460\n",
      "Epoch 38/40\n",
      "30/30 [==============================] - 5s 170ms/step - loss: 1.1405 - accuracy: 0.6418 - val_loss: 1.2171 - val_accuracy: 0.6620\n",
      "Epoch 39/40\n",
      "30/30 [==============================] - 5s 169ms/step - loss: 1.1095 - accuracy: 0.6413 - val_loss: 1.2201 - val_accuracy: 0.6638\n",
      "Epoch 40/40\n",
      "30/30 [==============================] - 5s 170ms/step - loss: 1.0903 - accuracy: 0.6562 - val_loss: 1.2079 - val_accuracy: 0.6667\n"
     ]
    }
   ],
   "source": [
    "es_callback = EarlyStopping(monitor='val_loss', patience=3)\n",
    "\n",
    "history = model_mix_without_w_e.fit(word_seq_train, y_train, batch_size=256, epochs=num_epochs, validation_split=0.3, callbacks=[es_callback], shuffle=False)"
   ]
  },
  {
   "cell_type": "code",
   "execution_count": 59,
   "metadata": {
    "id": "6i-btRrqIT91"
   },
   "outputs": [],
   "source": []
  },
  {
   "cell_type": "code",
   "execution_count": 60,
   "metadata": {
    "colab": {
     "base_uri": "https://localhost:8080/",
     "height": 295
    },
    "id": "ZLiOSAy9IT91",
    "outputId": "aeb06509-3e9b-436a-8f27-df42c3c2cef9"
   },
   "outputs": [
    {
     "data": {
      "image/png": "[encoded data removed]",
      "text/plain": [
       "<Figure size 432x288 with 1 Axes>"
      ]
     },
     "metadata": {},
     "output_type": "display_data"
    }
   ],
   "source": [
    "#generate plots\n",
    "plt.figure()\n",
    "plt.plot(history.history['loss'], lw=2.0, color='b', label='train')\n",
    "plt.plot(history.history['val_loss'], lw=2.0, color='r', label='val')\n",
    "plt.title('CNN-LSTM Without Word Embedding')\n",
    "plt.xlabel('Epochs')\n",
    "plt.ylabel('Cross-Entropy Loss')\n",
    "plt.legend(loc='upper right')\n",
    "plt.show()"
   ]
  },
  {
   "cell_type": "code",
   "execution_count": 61,
   "metadata": {
    "colab": {
     "base_uri": "https://localhost:8080/",
     "height": 295
    },
    "id": "26BiAXXqIT92",
    "outputId": "5eeadee2-53c4-49aa-f87e-4215ac84116a"
   },
   "outputs": [
    {
     "data": {
      "image/png": "[encoded data removed]",
      "text/plain": [
       "<Figure size 432x288 with 1 Axes>"
      ]
     },
     "metadata": {},
     "output_type": "display_data"
    }
   ],
   "source": [
    "plt.figure()\n",
    "plt.plot(history.history['accuracy'], lw=2.0, color='b', label='train')\n",
    "plt.plot(history.history['val_accuracy'], lw=2.0, color='r', label='val')\n",
    "plt.title('CNN-LSTM Without Word Embedding')\n",
    "plt.xlabel('Epochs')\n",
    "plt.ylabel('Accuracy')\n",
    "plt.legend(loc='upper left')\n",
    "plt.show()"
   ]
  },
  {
   "cell_type": "code",
   "execution_count": 62,
   "metadata": {
    "colab": {
     "base_uri": "https://localhost:8080/",
     "height": 424
    },
    "id": "f93YLMAiIT92",
    "outputId": "3229a35b-324e-474b-9b21-698330c9ba4b"
   },
   "outputs": [
    {
     "data": {
      "text/html": [
       "\n",
       "  <div id=\"df-f3d03a25-467a-4b63-8107-62dddd03416f\">\n",
       "    <div class=\"colab-df-container\">\n",
       "      <div>\n",
       "<style scoped>\n",
       "    .dataframe tbody tr th:only-of-type {\n",
       "        vertical-align: middle;\n",
       "    }\n",
       "\n",
       "    .dataframe tbody tr th {\n",
       "        vertical-align: top;\n",
       "    }\n",
       "\n",
       "    .dataframe thead th {\n",
       "        text-align: right;\n",
       "    }\n",
       "</style>\n",
       "<table border=\"1\" class=\"dataframe\">\n",
       "  <thead>\n",
       "    <tr style=\"text-align: right;\">\n",
       "      <th></th>\n",
       "      <th>pred</th>\n",
       "      <th>l</th>\n",
       "    </tr>\n",
       "  </thead>\n",
       "  <tbody>\n",
       "    <tr>\n",
       "      <th>6113</th>\n",
       "      <td>22</td>\n",
       "      <td>22</td>\n",
       "    </tr>\n",
       "    <tr>\n",
       "      <th>2453</th>\n",
       "      <td>24</td>\n",
       "      <td>23</td>\n",
       "    </tr>\n",
       "    <tr>\n",
       "      <th>2442</th>\n",
       "      <td>49</td>\n",
       "      <td>49</td>\n",
       "    </tr>\n",
       "    <tr>\n",
       "      <th>2859</th>\n",
       "      <td>47</td>\n",
       "      <td>47</td>\n",
       "    </tr>\n",
       "    <tr>\n",
       "      <th>12994</th>\n",
       "      <td>74</td>\n",
       "      <td>69</td>\n",
       "    </tr>\n",
       "    <tr>\n",
       "      <th>...</th>\n",
       "      <td>...</td>\n",
       "      <td>...</td>\n",
       "    </tr>\n",
       "    <tr>\n",
       "      <th>7532</th>\n",
       "      <td>27</td>\n",
       "      <td>27</td>\n",
       "    </tr>\n",
       "    <tr>\n",
       "      <th>3434</th>\n",
       "      <td>1</td>\n",
       "      <td>15</td>\n",
       "    </tr>\n",
       "    <tr>\n",
       "      <th>694</th>\n",
       "      <td>76</td>\n",
       "      <td>17</td>\n",
       "    </tr>\n",
       "    <tr>\n",
       "      <th>5168</th>\n",
       "      <td>68</td>\n",
       "      <td>68</td>\n",
       "    </tr>\n",
       "    <tr>\n",
       "      <th>11308</th>\n",
       "      <td>37</td>\n",
       "      <td>37</td>\n",
       "    </tr>\n",
       "  </tbody>\n",
       "</table>\n",
       "<p>2662 rows × 2 columns</p>\n",
       "</div>\n",
       "      <button class=\"colab-df-convert\" onclick=\"convertToInteractive('df-f3d03a25-467a-4b63-8107-62dddd03416f')\"\n",
       "              title=\"Convert this dataframe to an interactive table.\"\n",
       "              style=\"display:none;\">\n",
       "        \n",
       "  <svg xmlns=\"http://www.w3.org/2000/svg\" height=\"24px\"viewBox=\"0 0 24 24\"\n",
       "       width=\"24px\">\n",
       "    <path d=\"M0 0h24v24H0V0z\" fill=\"none\"/>\n",
       "    <path d=\"M18.56 5.44l.94 2.06.94-2.06 2.06-.94-2.06-.94-.94-2.06-.94 2.06-2.06.94zm-11 1L8.5 8.5l.94-2.06 2.06-.94-2.06-.94L8.5 2.5l-.94 2.06-2.06.94zm10 10l.94 2.06.94-2.06 2.06-.94-2.06-.94-.94-2.06-.94 2.06-2.06.94z\"/><path d=\"M17.41 7.96l-1.37-1.37c-.4-.4-.92-.59-1.43-.59-.52 0-1.04.2-1.43.59L10.3 9.45l-7.72 7.72c-.78.78-.78 2.05 0 2.83L4 21.41c.39.39.9.59 1.41.59.51 0 1.02-.2 1.41-.59l7.78-7.78 2.81-2.81c.8-.78.8-2.07 0-2.86zM5.41 20L4 18.59l7.72-7.72 1.47 1.35L5.41 20z\"/>\n",
       "  </svg>\n",
       "      </button>\n",
       "      \n",
       "  <style>\n",
       "    .colab-df-container {\n",
       "      display:flex;\n",
       "      flex-wrap:wrap;\n",
       "      gap: 12px;\n",
       "    }\n",
       "\n",
       "    .colab-df-convert {\n",
       "      background-color: #E8F0FE;\n",
       "      border: none;\n",
       "      border-radius: 50%;\n",
       "      cursor: pointer;\n",
       "      display: none;\n",
       "      fill: #1967D2;\n",
       "      height: 32px;\n",
       "      padding: 0 0 0 0;\n",
       "      width: 32px;\n",
       "    }\n",
       "\n",
       "    .colab-df-convert:hover {\n",
       "      background-color: #E2EBFA;\n",
       "      box-shadow: 0px 1px 2px rgba(60, 64, 67, 0.3), 0px 1px 3px 1px rgba(60, 64, 67, 0.15);\n",
       "      fill: #174EA6;\n",
       "    }\n",
       "\n",
       "    [theme=dark] .colab-df-convert {\n",
       "      background-color: #3B4455;\n",
       "      fill: #D2E3FC;\n",
       "    }\n",
       "\n",
       "    [theme=dark] .colab-df-convert:hover {\n",
       "      background-color: #434B5C;\n",
       "      box-shadow: 0px 1px 3px 1px rgba(0, 0, 0, 0.15);\n",
       "      filter: drop-shadow(0px 1px 2px rgba(0, 0, 0, 0.3));\n",
       "      fill: #FFFFFF;\n",
       "    }\n",
       "  </style>\n",
       "\n",
       "      <script>\n",
       "        const buttonEl =\n",
       "          document.querySelector('#df-f3d03a25-467a-4b63-8107-62dddd03416f button.colab-df-convert');\n",
       "        buttonEl.style.display =\n",
       "          google.colab.kernel.accessAllowed ? 'block' : 'none';\n",
       "\n",
       "        async function convertToInteractive(key) {\n",
       "          const element = document.querySelector('#df-f3d03a25-467a-4b63-8107-62dddd03416f');\n",
       "          const dataTable =\n",
       "            await google.colab.kernel.invokeFunction('convertToInteractive',\n",
       "                                                     [key], {});\n",
       "          if (!dataTable) return;\n",
       "\n",
       "          const docLinkHtml = 'Like what you see? Visit the ' +\n",
       "            '<a target=\"_blank\" href=https://colab.research.google.com/notebooks/data_table.ipynb>data table notebook</a>'\n",
       "            + ' to learn more about interactive tables.';\n",
       "          element.innerHTML = '';\n",
       "          dataTable['output_type'] = 'display_data';\n",
       "          await google.colab.output.renderOutput(dataTable, element);\n",
       "          const docLink = document.createElement('div');\n",
       "          docLink.innerHTML = docLinkHtml;\n",
       "          element.appendChild(docLink);\n",
       "        }\n",
       "      </script>\n",
       "    </div>\n",
       "  </div>\n",
       "  "
      ],
      "text/plain": [
       "       pred   l\n",
       "6113     22  22\n",
       "2453     24  23\n",
       "2442     49  49\n",
       "2859     47  47\n",
       "12994    74  69\n",
       "...     ...  ..\n",
       "7532     27  27\n",
       "3434      1  15\n",
       "694      76  17\n",
       "5168     68  68\n",
       "11308    37  37\n",
       "\n",
       "[2662 rows x 2 columns]"
      ]
     },
     "execution_count": 62,
     "metadata": {},
     "output_type": "execute_result"
    }
   ],
   "source": [
    "predictions = model_mix_without_w_e.predict(word_seq_test)\n",
    "list_ = []\n",
    "for i in range(len(predictions)):\n",
    "  a = predictions[i]\n",
    "  list_.append(np.where(a == a.max())[0][0] )\n",
    "\n",
    "\n",
    "sample= test_df\n",
    "sample['pred']= list_ \n",
    "sample[['pred', \"l\"]]"
   ]
  },
  {
   "cell_type": "code",
   "execution_count": 63,
   "metadata": {
    "colab": {
     "base_uri": "https://localhost:8080/"
    },
    "id": "ha8otFiIIT92",
    "outputId": "8c391283-ba3d-4551-c2fa-c621cbd28514"
   },
   "outputs": [
    {
     "name": "stdout",
     "output_type": "stream",
     "text": [
      "Accuracy Without Word Embedding CNN-LSTM :\n",
      "0.6333583771600301\n"
     ]
    }
   ],
   "source": [
    "import sklearn\n",
    "\n",
    "print(\"Accuracy Without Word Embedding CNN-LSTM :\")\n",
    "print(sklearn.metrics.accuracy_score(sample.l, sample.pred))"
   ]
  },
  {
   "cell_type": "code",
   "execution_count": 63,
   "metadata": {
    "id": "_lvGNXmK-89z"
   },
   "outputs": [],
   "source": []
  },
  {
   "cell_type": "code",
   "execution_count": 63,
   "metadata": {
    "id": "aZOe2ete-89z"
   },
   "outputs": [],
   "source": []
  },
  {
   "cell_type": "code",
   "execution_count": 63,
   "metadata": {
    "id": "V1ZutCOu-89z"
   },
   "outputs": [],
   "source": []
  },
  {
   "cell_type": "code",
   "execution_count": null,
   "metadata": {
    "id": "pF389BaV-B16"
   },
   "outputs": [],
   "source": []
  },
  {
   "cell_type": "code",
   "execution_count": null,
   "metadata": {
    "id": "uumT1zlI-BzN"
   },
   "outputs": [],
   "source": []
  }
 ],
 "metadata": {
  "colab": {
   "collapsed_sections": [],
   "name": "Augmented_data_TRAD_glove_&_without_W_E.ipynb",
   "provenance": []
  },
  "kernelspec": {
   "display_name": "Python 3 (ipykernel)",
   "language": "python",
   "name": "python3"
  },
  "language_info": {
   "codemirror_mode": {
    "name": "ipython",
    "version": 3
   },
   "file_extension": ".py",
   "mimetype": "text/x-python",
   "name": "python",
   "nbconvert_exporter": "python",
   "pygments_lexer": "ipython3",
   "version": "3.8.10"
  }
 },
 "nbformat": 4,
 "nbformat_minor": 4
}
