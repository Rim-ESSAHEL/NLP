{
 "cells": [
  {
   "cell_type": "code",
   "execution_count": 1,
   "id": "b4f75dd6-e70f-4a56-82a8-377b93a08a25",
   "metadata": {},
   "outputs": [],
   "source": [
    "import pandas as pd\n",
    "import pickle"
   ]
  },
  {
   "cell_type": "code",
   "execution_count": 2,
   "id": "aa985572-fff0-46ba-aa4b-23b24789878d",
   "metadata": {},
   "outputs": [
    {
     "name": "stderr",
     "output_type": "stream",
     "text": [
      "2022-07-15 22:19:51.657238: I tensorflow/core/util/util.cc:169] oneDNN custom operations are on. You may see slightly different numerical results due to floating-point round-off errors from different computation orders. To turn them off, set the environment variable `TF_ENABLE_ONEDNN_OPTS=0`.\n",
      "2022-07-15 22:19:51.660604: W tensorflow/stream_executor/platform/default/dso_loader.cc:64] Could not load dynamic library 'libcudart.so.11.0'; dlerror: libcudart.so.11.0: cannot open shared object file: No such file or directory\n",
      "2022-07-15 22:19:51.660615: I tensorflow/stream_executor/cuda/cudart_stub.cc:29] Ignore above cudart dlerror if you do not have a GPU set up on your machine.\n"
     ]
    }
   ],
   "source": [
    "from tensorflow.keras.preprocessing.sequence import pad_sequences"
   ]
  },
  {
   "cell_type": "markdown",
   "id": "f2937199-35f9-4dee-a2fd-8d050d9c940d",
   "metadata": {
    "tags": []
   },
   "source": [
    "## Data preprocessing "
   ]
  },
  {
   "cell_type": "code",
   "execution_count": 3,
   "id": "17d414a2-d350-4f15-a693-e1babc6462de",
   "metadata": {},
   "outputs": [
    {
     "name": "stderr",
     "output_type": "stream",
     "text": [
      "[nltk_data] Downloading package wordnet to /home/rim/nltk_data...\n",
      "[nltk_data]   Package wordnet is already up-to-date!\n",
      "[nltk_data] Downloading package omw-1.4 to /home/rim/nltk_data...\n",
      "[nltk_data]   Package omw-1.4 is already up-to-date!\n"
     ]
    }
   ],
   "source": [
    "import text_preprocessing as tp"
   ]
  },
  {
   "cell_type": "code",
   "execution_count": 4,
   "id": "ec672c90-515c-463b-84b3-3f146e53d347",
   "metadata": {},
   "outputs": [],
   "source": [
    "def preprocessing_pipeline(df):\n",
    "    new_df = df\n",
    "\n",
    "    for column in new_df:\n",
    "        print(column)\n",
    "        df[column] = df[column].apply(lambda x: tp.replace_contractions(x))\n",
    "        df[column] = df[column].apply(lambda x: tp.remove_URL(x))\n",
    "        df[column] = df[column].apply(lambda x: tp.remove_html_tags(x))\n",
    "        df[column] = df[column].apply(lambda x: tp.remove_digits(x))\n",
    "        df[column] = df[column].apply(lambda x: tp.tokenize(x))\n",
    "        df[column] = df[column].apply(lambda x: tp.remove_punctuation(x))\n",
    "        df[column] = df[column].apply(lambda x: tp.to_lowercase(x))\n",
    "        df[column] = df[column].apply(lambda x: tp.remove_stopwords(x))\n",
    "        df[column] = df[column].apply(lambda x: tp.lemmatize_words(x))\n",
    "    return new_df          "
   ]
  },
  {
   "cell_type": "code",
   "execution_count": 5,
   "id": "05db2ce0-4c02-4123-b0b5-f3150b80f5da",
   "metadata": {
    "tags": []
   },
   "outputs": [
    {
     "data": {
      "text/html": [
       "<div>\n",
       "<style scoped>\n",
       "    .dataframe tbody tr th:only-of-type {\n",
       "        vertical-align: middle;\n",
       "    }\n",
       "\n",
       "    .dataframe tbody tr th {\n",
       "        vertical-align: top;\n",
       "    }\n",
       "\n",
       "    .dataframe thead th {\n",
       "        text-align: right;\n",
       "    }\n",
       "</style>\n",
       "<table border=\"1\" class=\"dataframe\">\n",
       "  <thead>\n",
       "    <tr style=\"text-align: right;\">\n",
       "      <th></th>\n",
       "      <th>t</th>\n",
       "      <th>l</th>\n",
       "    </tr>\n",
       "  </thead>\n",
       "  <tbody>\n",
       "    <tr>\n",
       "      <th>0</th>\n",
       "      <td>I am still waiting on my card?</td>\n",
       "      <td>11</td>\n",
       "    </tr>\n",
       "    <tr>\n",
       "      <th>1</th>\n",
       "      <td>What can I do if my card still hasn't arrived ...</td>\n",
       "      <td>11</td>\n",
       "    </tr>\n",
       "    <tr>\n",
       "      <th>2</th>\n",
       "      <td>I have been waiting over a week. Is the card s...</td>\n",
       "      <td>11</td>\n",
       "    </tr>\n",
       "    <tr>\n",
       "      <th>3</th>\n",
       "      <td>Can I track my card while it is in the process...</td>\n",
       "      <td>11</td>\n",
       "    </tr>\n",
       "    <tr>\n",
       "      <th>4</th>\n",
       "      <td>How do I know if I will get my card, or if it ...</td>\n",
       "      <td>11</td>\n",
       "    </tr>\n",
       "    <tr>\n",
       "      <th>...</th>\n",
       "      <td>...</td>\n",
       "      <td>...</td>\n",
       "    </tr>\n",
       "    <tr>\n",
       "      <th>9998</th>\n",
       "      <td>You provide support in what countries?</td>\n",
       "      <td>24</td>\n",
       "    </tr>\n",
       "    <tr>\n",
       "      <th>9999</th>\n",
       "      <td>What countries are you supporting?</td>\n",
       "      <td>24</td>\n",
       "    </tr>\n",
       "    <tr>\n",
       "      <th>10000</th>\n",
       "      <td>What countries are getting support?</td>\n",
       "      <td>24</td>\n",
       "    </tr>\n",
       "    <tr>\n",
       "      <th>10001</th>\n",
       "      <td>Are cards available in the EU?</td>\n",
       "      <td>24</td>\n",
       "    </tr>\n",
       "    <tr>\n",
       "      <th>10002</th>\n",
       "      <td>Which countries are represented?</td>\n",
       "      <td>24</td>\n",
       "    </tr>\n",
       "  </tbody>\n",
       "</table>\n",
       "<p>10003 rows × 2 columns</p>\n",
       "</div>"
      ],
      "text/plain": [
       "                                                       t   l\n",
       "0                         I am still waiting on my card?  11\n",
       "1      What can I do if my card still hasn't arrived ...  11\n",
       "2      I have been waiting over a week. Is the card s...  11\n",
       "3      Can I track my card while it is in the process...  11\n",
       "4      How do I know if I will get my card, or if it ...  11\n",
       "...                                                  ...  ..\n",
       "9998              You provide support in what countries?  24\n",
       "9999                  What countries are you supporting?  24\n",
       "10000                What countries are getting support?  24\n",
       "10001                     Are cards available in the EU?  24\n",
       "10002                   Which countries are represented?  24\n",
       "\n",
       "[10003 rows x 2 columns]"
      ]
     },
     "execution_count": 5,
     "metadata": {},
     "output_type": "execute_result"
    }
   ],
   "source": [
    "df = pd.read_csv('test_data.csv')\n",
    "df"
   ]
  },
  {
   "cell_type": "code",
   "execution_count": 6,
   "id": "0be662b8-eba2-450f-83a7-53dbd3bf0388",
   "metadata": {},
   "outputs": [],
   "source": [
    "import string\n",
    "def remove_punctuations_from_string(text):\n",
    "    new_string = text.translate(str.maketrans('', '', string.punctuation))\n",
    "    return new_string\n"
   ]
  },
  {
   "cell_type": "code",
   "execution_count": 7,
   "id": "9a42c60b-a482-438e-aadf-42dc27b4307b",
   "metadata": {},
   "outputs": [
    {
     "name": "stdout",
     "output_type": "stream",
     "text": [
      "t\n"
     ]
    },
    {
     "name": "stderr",
     "output_type": "stream",
     "text": [
      "/tmp/ipykernel_11446/3940928008.py:6: SettingWithCopyWarning: \n",
      "A value is trying to be set on a copy of a slice from a DataFrame.\n",
      "Try using .loc[row_indexer,col_indexer] = value instead\n",
      "\n",
      "See the caveats in the documentation: https://pandas.pydata.org/pandas-docs/stable/user_guide/indexing.html#returning-a-view-versus-a-copy\n",
      "  df[column] = df[column].apply(lambda x: tp.replace_contractions(x))\n",
      "/tmp/ipykernel_11446/3940928008.py:7: SettingWithCopyWarning: \n",
      "A value is trying to be set on a copy of a slice from a DataFrame.\n",
      "Try using .loc[row_indexer,col_indexer] = value instead\n",
      "\n",
      "See the caveats in the documentation: https://pandas.pydata.org/pandas-docs/stable/user_guide/indexing.html#returning-a-view-versus-a-copy\n",
      "  df[column] = df[column].apply(lambda x: tp.remove_URL(x))\n",
      "/tmp/ipykernel_11446/3940928008.py:8: SettingWithCopyWarning: \n",
      "A value is trying to be set on a copy of a slice from a DataFrame.\n",
      "Try using .loc[row_indexer,col_indexer] = value instead\n",
      "\n",
      "See the caveats in the documentation: https://pandas.pydata.org/pandas-docs/stable/user_guide/indexing.html#returning-a-view-versus-a-copy\n",
      "  df[column] = df[column].apply(lambda x: tp.remove_html_tags(x))\n",
      "/tmp/ipykernel_11446/3940928008.py:9: SettingWithCopyWarning: \n",
      "A value is trying to be set on a copy of a slice from a DataFrame.\n",
      "Try using .loc[row_indexer,col_indexer] = value instead\n",
      "\n",
      "See the caveats in the documentation: https://pandas.pydata.org/pandas-docs/stable/user_guide/indexing.html#returning-a-view-versus-a-copy\n",
      "  df[column] = df[column].apply(lambda x: tp.remove_digits(x))\n",
      "/tmp/ipykernel_11446/3940928008.py:10: SettingWithCopyWarning: \n",
      "A value is trying to be set on a copy of a slice from a DataFrame.\n",
      "Try using .loc[row_indexer,col_indexer] = value instead\n",
      "\n",
      "See the caveats in the documentation: https://pandas.pydata.org/pandas-docs/stable/user_guide/indexing.html#returning-a-view-versus-a-copy\n",
      "  df[column] = df[column].apply(lambda x: tp.tokenize(x))\n",
      "/tmp/ipykernel_11446/3940928008.py:11: SettingWithCopyWarning: \n",
      "A value is trying to be set on a copy of a slice from a DataFrame.\n",
      "Try using .loc[row_indexer,col_indexer] = value instead\n",
      "\n",
      "See the caveats in the documentation: https://pandas.pydata.org/pandas-docs/stable/user_guide/indexing.html#returning-a-view-versus-a-copy\n",
      "  df[column] = df[column].apply(lambda x: tp.remove_punctuation(x))\n",
      "/tmp/ipykernel_11446/3940928008.py:12: SettingWithCopyWarning: \n",
      "A value is trying to be set on a copy of a slice from a DataFrame.\n",
      "Try using .loc[row_indexer,col_indexer] = value instead\n",
      "\n",
      "See the caveats in the documentation: https://pandas.pydata.org/pandas-docs/stable/user_guide/indexing.html#returning-a-view-versus-a-copy\n",
      "  df[column] = df[column].apply(lambda x: tp.to_lowercase(x))\n",
      "/tmp/ipykernel_11446/3940928008.py:13: SettingWithCopyWarning: \n",
      "A value is trying to be set on a copy of a slice from a DataFrame.\n",
      "Try using .loc[row_indexer,col_indexer] = value instead\n",
      "\n",
      "See the caveats in the documentation: https://pandas.pydata.org/pandas-docs/stable/user_guide/indexing.html#returning-a-view-versus-a-copy\n",
      "  df[column] = df[column].apply(lambda x: tp.remove_stopwords(x))\n",
      "/tmp/ipykernel_11446/3940928008.py:14: SettingWithCopyWarning: \n",
      "A value is trying to be set on a copy of a slice from a DataFrame.\n",
      "Try using .loc[row_indexer,col_indexer] = value instead\n",
      "\n",
      "See the caveats in the documentation: https://pandas.pydata.org/pandas-docs/stable/user_guide/indexing.html#returning-a-view-versus-a-copy\n",
      "  df[column] = df[column].apply(lambda x: tp.lemmatize_words(x))\n"
     ]
    },
    {
     "data": {
      "text/html": [
       "<div>\n",
       "<style scoped>\n",
       "    .dataframe tbody tr th:only-of-type {\n",
       "        vertical-align: middle;\n",
       "    }\n",
       "\n",
       "    .dataframe tbody tr th {\n",
       "        vertical-align: top;\n",
       "    }\n",
       "\n",
       "    .dataframe thead th {\n",
       "        text-align: right;\n",
       "    }\n",
       "</style>\n",
       "<table border=\"1\" class=\"dataframe\">\n",
       "  <thead>\n",
       "    <tr style=\"text-align: right;\">\n",
       "      <th></th>\n",
       "      <th>t</th>\n",
       "      <th>l</th>\n",
       "    </tr>\n",
       "  </thead>\n",
       "  <tbody>\n",
       "    <tr>\n",
       "      <th>0</th>\n",
       "      <td>[still, wait, card]</td>\n",
       "      <td>11</td>\n",
       "    </tr>\n",
       "    <tr>\n",
       "      <th>1</th>\n",
       "      <td>[card, still, arrive, week]</td>\n",
       "      <td>11</td>\n",
       "    </tr>\n",
       "    <tr>\n",
       "      <th>2</th>\n",
       "      <td>[wait, week, card, still, come]</td>\n",
       "      <td>11</td>\n",
       "    </tr>\n",
       "    <tr>\n",
       "      <th>3</th>\n",
       "      <td>[track, card, process, delivery]</td>\n",
       "      <td>11</td>\n",
       "    </tr>\n",
       "    <tr>\n",
       "      <th>4</th>\n",
       "      <td>[know, get, card, lose]</td>\n",
       "      <td>11</td>\n",
       "    </tr>\n",
       "    <tr>\n",
       "      <th>...</th>\n",
       "      <td>...</td>\n",
       "      <td>...</td>\n",
       "    </tr>\n",
       "    <tr>\n",
       "      <th>9998</th>\n",
       "      <td>[provide, support, country]</td>\n",
       "      <td>24</td>\n",
       "    </tr>\n",
       "    <tr>\n",
       "      <th>9999</th>\n",
       "      <td>[country, support]</td>\n",
       "      <td>24</td>\n",
       "    </tr>\n",
       "    <tr>\n",
       "      <th>10000</th>\n",
       "      <td>[country, get, support]</td>\n",
       "      <td>24</td>\n",
       "    </tr>\n",
       "    <tr>\n",
       "      <th>10001</th>\n",
       "      <td>[card, available, eu]</td>\n",
       "      <td>24</td>\n",
       "    </tr>\n",
       "    <tr>\n",
       "      <th>10002</th>\n",
       "      <td>[country, represent]</td>\n",
       "      <td>24</td>\n",
       "    </tr>\n",
       "  </tbody>\n",
       "</table>\n",
       "<p>10003 rows × 2 columns</p>\n",
       "</div>"
      ],
      "text/plain": [
       "                                      t   l\n",
       "0                   [still, wait, card]  11\n",
       "1           [card, still, arrive, week]  11\n",
       "2       [wait, week, card, still, come]  11\n",
       "3      [track, card, process, delivery]  11\n",
       "4               [know, get, card, lose]  11\n",
       "...                                 ...  ..\n",
       "9998        [provide, support, country]  24\n",
       "9999                 [country, support]  24\n",
       "10000           [country, get, support]  24\n",
       "10001             [card, available, eu]  24\n",
       "10002              [country, represent]  24\n",
       "\n",
       "[10003 rows x 2 columns]"
      ]
     },
     "execution_count": 7,
     "metadata": {},
     "output_type": "execute_result"
    }
   ],
   "source": [
    "column = 't'\n",
    "df[column] = df[column].apply(lambda x: tp.remove_punctuations_from_string(x))\n",
    "df['t'] = preprocessing_pipeline(df[['t']])\n",
    "df['l'] =  df['l']\n",
    "\n",
    "df"
   ]
  },
  {
   "cell_type": "code",
   "execution_count": 8,
   "id": "03e4df88-d77c-41c0-82e8-c5a55928e960",
   "metadata": {},
   "outputs": [
    {
     "data": {
      "text/plain": [
       "0                     [still, wait, card]\n",
       "1             [card, still, arrive, week]\n",
       "2         [wait, week, card, still, come]\n",
       "3        [track, card, process, delivery]\n",
       "4                 [know, get, card, lose]\n",
       "                       ...               \n",
       "9998          [provide, support, country]\n",
       "9999                   [country, support]\n",
       "10000             [country, get, support]\n",
       "10001               [card, available, eu]\n",
       "10002                [country, represent]\n",
       "Name: t, Length: 10003, dtype: object"
      ]
     },
     "execution_count": 8,
     "metadata": {},
     "output_type": "execute_result"
    }
   ],
   "source": [
    "df['t']"
   ]
  },
  {
   "cell_type": "code",
   "execution_count": 8,
   "id": "be09a716-da8c-4175-8195-a94f11085054",
   "metadata": {},
   "outputs": [],
   "source": [
    "from nltk.tokenize.treebank import TreebankWordDetokenizer\n",
    "\n",
    "def untokenize(sents):\n",
    "    return TreebankWordDetokenizer().detokenize(sents)"
   ]
  },
  {
   "cell_type": "code",
   "execution_count": 9,
   "id": "d6d26609-1877-4626-91ff-4013c5daf5f1",
   "metadata": {},
   "outputs": [],
   "source": [
    "sents =  df['t'].apply(lambda x: untokenize(x)).tolist()"
   ]
  },
  {
   "cell_type": "code",
   "execution_count": 10,
   "id": "b4cda535-eba6-43b4-9c64-2fba0844a619",
   "metadata": {},
   "outputs": [
    {
     "data": {
      "text/plain": [
       "['still wait card',\n",
       " 'card still arrive week',\n",
       " 'wait week card still come',\n",
       " 'track card process delivery',\n",
       " 'know get card lose']"
      ]
     },
     "execution_count": 10,
     "metadata": {},
     "output_type": "execute_result"
    }
   ],
   "source": [
    "sents[:5]"
   ]
  },
  {
   "cell_type": "markdown",
   "id": "1e47c7ca-3646-418f-ac17-a0c416799473",
   "metadata": {},
   "source": [
    "## Bag of Words"
   ]
  },
  {
   "cell_type": "code",
   "execution_count": 11,
   "id": "f00650d0-2f7d-4bdc-80c0-65a13552682d",
   "metadata": {},
   "outputs": [
    {
     "data": {
      "text/plain": [
       "array([[0, 0, 0, ..., 0, 0, 0],\n",
       "       [0, 0, 0, ..., 0, 0, 0],\n",
       "       [0, 0, 0, ..., 0, 0, 0],\n",
       "       ...,\n",
       "       [0, 0, 0, ..., 0, 0, 0],\n",
       "       [0, 0, 0, ..., 0, 0, 0],\n",
       "       [0, 0, 0, ..., 0, 0, 0]])"
      ]
     },
     "execution_count": 11,
     "metadata": {},
     "output_type": "execute_result"
    }
   ],
   "source": [
    "from sklearn.feature_extraction.text import CountVectorizer\n",
    "cv = CountVectorizer()\n",
    "# cv = CountVectorizer(ngram_range=(2,2))\n",
    "\n",
    "X = cv.fit_transform(sents).toarray()\n",
    "X"
   ]
  },
  {
   "cell_type": "code",
   "execution_count": 12,
   "id": "82ddf565-10ee-4ac9-a530-ee3c0611fee9",
   "metadata": {},
   "outputs": [
    {
     "data": {
      "text/plain": [
       "(10003, 1635)"
      ]
     },
     "execution_count": 12,
     "metadata": {},
     "output_type": "execute_result"
    }
   ],
   "source": [
    "X.shape"
   ]
  },
  {
   "cell_type": "code",
   "execution_count": 13,
   "id": "27892db9-43cf-44ed-86d9-96e96552a800",
   "metadata": {},
   "outputs": [],
   "source": [
    "import pickle\n",
    "\n",
    "pickle.dump( X, open( \"X_BOW.p\", \"wb\" ) )"
   ]
  },
  {
   "cell_type": "code",
   "execution_count": 14,
   "id": "69bd5358-ef8b-49f4-8463-d3a8851d4e5b",
   "metadata": {},
   "outputs": [],
   "source": [
    "# sorted(cv.vocabulary_.keys())"
   ]
  },
  {
   "cell_type": "code",
   "execution_count": 15,
   "id": "12621338-1c70-47a9-a493-6e7c90434abe",
   "metadata": {},
   "outputs": [
    {
     "name": "stdout",
     "output_type": "stream",
     "text": [
      "(10003, 77)\n"
     ]
    }
   ],
   "source": [
    "Y = pd.get_dummies(df['l']).values\n",
    "print(Y.shape)"
   ]
  },
  {
   "cell_type": "code",
   "execution_count": 16,
   "id": "8683cb10-9990-483c-9fcb-655779e35cfe",
   "metadata": {},
   "outputs": [
    {
     "data": {
      "text/plain": [
       "array([[0, 0, 0, ..., 0, 0, 0],\n",
       "       [0, 0, 0, ..., 0, 0, 0],\n",
       "       [0, 0, 0, ..., 0, 0, 0],\n",
       "       ...,\n",
       "       [0, 0, 0, ..., 0, 0, 0],\n",
       "       [0, 0, 0, ..., 0, 0, 0],\n",
       "       [0, 0, 0, ..., 0, 0, 0]], dtype=uint8)"
      ]
     },
     "execution_count": 16,
     "metadata": {},
     "output_type": "execute_result"
    }
   ],
   "source": [
    "Y"
   ]
  },
  {
   "cell_type": "code",
   "execution_count": 17,
   "id": "e61f9b9a-37fe-4d33-85d0-2ec442eb7c94",
   "metadata": {},
   "outputs": [],
   "source": [
    "pickle.dump( Y, open( \"Y.p\", \"wb\" ) )"
   ]
  },
  {
   "cell_type": "markdown",
   "id": "f396cd65-7e78-4db5-a339-2dad233c5738",
   "metadata": {},
   "source": [
    "## TF-IDF "
   ]
  },
  {
   "cell_type": "code",
   "execution_count": 18,
   "id": "0019d144-c3aa-4ba1-bcad-fc77ba90bb0f",
   "metadata": {},
   "outputs": [
    {
     "name": "stderr",
     "output_type": "stream",
     "text": [
      "/home/rim/.local/lib/python3.8/site-packages/sklearn/utils/deprecation.py:87: FutureWarning: Function get_feature_names is deprecated; get_feature_names is deprecated in 1.0 and will be removed in 1.2. Please use get_feature_names_out instead.\n",
      "  warnings.warn(msg, category=FutureWarning)\n"
     ]
    },
    {
     "data": {
      "text/html": [
       "<div>\n",
       "<style scoped>\n",
       "    .dataframe tbody tr th:only-of-type {\n",
       "        vertical-align: middle;\n",
       "    }\n",
       "\n",
       "    .dataframe tbody tr th {\n",
       "        vertical-align: top;\n",
       "    }\n",
       "\n",
       "    .dataframe thead th {\n",
       "        text-align: right;\n",
       "    }\n",
       "</style>\n",
       "<table border=\"1\" class=\"dataframe\">\n",
       "  <thead>\n",
       "    <tr style=\"text-align: right;\">\n",
       "      <th></th>\n",
       "      <th>TF-IDF</th>\n",
       "    </tr>\n",
       "  </thead>\n",
       "  <tbody>\n",
       "    <tr>\n",
       "      <th>wait</th>\n",
       "      <td>0.734018</td>\n",
       "    </tr>\n",
       "    <tr>\n",
       "      <th>still</th>\n",
       "      <td>0.603407</td>\n",
       "    </tr>\n",
       "    <tr>\n",
       "      <th>card</th>\n",
       "      <td>0.311638</td>\n",
       "    </tr>\n",
       "    <tr>\n",
       "      <th>able</th>\n",
       "      <td>0.000000</td>\n",
       "    </tr>\n",
       "    <tr>\n",
       "      <th>quickly</th>\n",
       "      <td>0.000000</td>\n",
       "    </tr>\n",
       "    <tr>\n",
       "      <th>...</th>\n",
       "      <td>...</td>\n",
       "    </tr>\n",
       "    <tr>\n",
       "      <th>fin</th>\n",
       "      <td>0.000000</td>\n",
       "    </tr>\n",
       "    <tr>\n",
       "      <th>fill</th>\n",
       "      <td>0.000000</td>\n",
       "    </tr>\n",
       "    <tr>\n",
       "      <th>file</th>\n",
       "      <td>0.000000</td>\n",
       "    </tr>\n",
       "    <tr>\n",
       "      <th>figure</th>\n",
       "      <td>0.000000</td>\n",
       "    </tr>\n",
       "    <tr>\n",
       "      <th>zero</th>\n",
       "      <td>0.000000</td>\n",
       "    </tr>\n",
       "  </tbody>\n",
       "</table>\n",
       "<p>1635 rows × 1 columns</p>\n",
       "</div>"
      ],
      "text/plain": [
       "           TF-IDF\n",
       "wait     0.734018\n",
       "still    0.603407\n",
       "card     0.311638\n",
       "able     0.000000\n",
       "quickly  0.000000\n",
       "...           ...\n",
       "fin      0.000000\n",
       "fill     0.000000\n",
       "file     0.000000\n",
       "figure   0.000000\n",
       "zero     0.000000\n",
       "\n",
       "[1635 rows x 1 columns]"
      ]
     },
     "execution_count": 18,
     "metadata": {},
     "output_type": "execute_result"
    }
   ],
   "source": [
    "from sklearn.feature_extraction.text import TfidfVectorizer\n",
    "\n",
    "tfidf = TfidfVectorizer()\n",
    "transformed = tfidf.fit_transform(sents)\n",
    "\n",
    "X_IDF = pd.DataFrame(transformed[0].T.todense(),\n",
    "    \tindex=tfidf.get_feature_names(), columns=[\"TF-IDF\"])\n",
    "X_IDF = X_IDF.sort_values('TF-IDF', ascending=False)\n",
    "X_IDF"
   ]
  },
  {
   "cell_type": "markdown",
   "id": "927462c1-7300-4404-b3ea-2580f67c1a34",
   "metadata": {},
   "source": [
    "## 3. word2vec"
   ]
  },
  {
   "cell_type": "code",
   "execution_count": 19,
   "id": "64b5f18b-2fa6-4e5e-9fdb-b9201da0072a",
   "metadata": {},
   "outputs": [],
   "source": [
    "from gensim import models\n"
   ]
  },
  {
   "cell_type": "raw",
   "id": "e8e1b077-2fcb-43f9-99e4-e90d473c356f",
   "metadata": {},
   "source": [
    "# !unzip -d GoogleNews-vectors-negative300.bin.zip"
   ]
  },
  {
   "cell_type": "code",
   "execution_count": 20,
   "id": "8849effa-21bf-4708-80ca-938ad36955c9",
   "metadata": {},
   "outputs": [],
   "source": [
    "w2v = models.KeyedVectors.load_word2vec_format('GoogleNews-vectors-negative300.bin', binary=True)"
   ]
  },
  {
   "cell_type": "code",
   "execution_count": 21,
   "id": "e126b3b8-9720-41f9-88c8-d5d2ee32325f",
   "metadata": {},
   "outputs": [
    {
     "data": {
      "text/plain": [
       "<gensim.models.keyedvectors.KeyedVectors at 0x7f7df40c0df0>"
      ]
     },
     "execution_count": 21,
     "metadata": {},
     "output_type": "execute_result"
    }
   ],
   "source": [
    "w2v"
   ]
  },
  {
   "cell_type": "code",
   "execution_count": 22,
   "id": "2df6e033-823f-4fc6-af7a-ff6cad2b38fb",
   "metadata": {},
   "outputs": [
    {
     "data": {
      "text/plain": [
       "array([-0.14550781,  0.24804688, -0.15136719,  0.24609375, -0.14746094,\n",
       "        0.04296875,  0.03515625, -0.01019287,  0.06103516, -0.12597656,\n",
       "       -0.16796875, -0.078125  ,  0.12792969,  0.21777344, -0.08447266,\n",
       "        0.01904297,  0.1484375 ,  0.13085938, -0.14941406,  0.12451172,\n",
       "        0.18847656,  0.09082031, -0.18359375,  0.14453125, -0.10009766,\n",
       "       -0.07714844, -0.3515625 ,  0.09082031,  0.00494385, -0.02148438,\n",
       "       -0.02270508, -0.07080078,  0.19824219, -0.14648438, -0.11376953,\n",
       "        0.08300781, -0.03857422, -0.15136719, -0.15429688,  0.25195312,\n",
       "        0.12988281, -0.2734375 , -0.14550781,  0.03613281, -0.02441406,\n",
       "       -0.05004883,  0.09667969,  0.05786133,  0.13085938,  0.04296875,\n",
       "       -0.06079102, -0.06347656, -0.20703125,  0.08740234,  0.03466797,\n",
       "       -0.06982422,  0.05371094, -0.31445312, -0.12988281, -0.20507812,\n",
       "       -0.08886719,  0.13476562, -0.33984375,  0.09277344,  0.16210938,\n",
       "        0.03271484, -0.05981445,  0.05297852, -0.03295898,  0.03686523,\n",
       "        0.02001953, -0.07080078,  0.13085938,  0.16210938, -0.08789062,\n",
       "       -0.1640625 ,  0.05761719,  0.0201416 , -0.02990723,  0.23046875,\n",
       "        0.0390625 , -0.19824219,  0.07324219,  0.18457031, -0.11376953,\n",
       "       -0.171875  , -0.03149414,  0.33984375,  0.09423828, -0.00558472,\n",
       "        0.02880859, -0.03515625, -0.03540039, -0.24023438, -0.10644531,\n",
       "       -0.109375  ,  0.18652344,  0.3359375 , -0.06298828, -0.10009766,\n",
       "       -0.171875  ,  0.1015625 ,  0.08203125,  0.25      , -0.01135254,\n",
       "       -0.37304688, -0.15039062, -0.15136719,  0.08886719,  0.02990723,\n",
       "       -0.16503906,  0.01989746, -0.29101562, -0.10888672,  0.0625    ,\n",
       "       -0.19628906,  0.13769531,  0.07275391, -0.17578125,  0.09179688,\n",
       "       -0.17480469, -0.12011719,  0.15234375,  0.05004883, -0.14453125,\n",
       "       -0.09960938,  0.13476562,  0.10595703, -0.05639648,  0.12597656,\n",
       "       -0.19726562,  0.1015625 , -0.07568359,  0.0144043 , -0.12402344,\n",
       "        0.00263977,  0.26367188,  0.21191406,  0.21972656,  0.22851562,\n",
       "        0.04321289,  0.11572266,  0.03198242, -0.08789062, -0.10058594,\n",
       "       -0.2734375 ,  0.05395508,  0.01031494,  0.22265625, -0.11962891,\n",
       "        0.07568359,  0.01177979, -0.23046875,  0.33984375, -0.0189209 ,\n",
       "        0.25390625,  0.1484375 , -0.39648438,  0.17871094,  0.00793457,\n",
       "       -0.16113281,  0.30078125,  0.21386719,  0.14648438,  0.19921875,\n",
       "       -0.1015625 , -0.1796875 ,  0.13964844, -0.07763672, -0.25      ,\n",
       "       -0.4765625 , -0.13085938,  0.04711914,  0.05249023,  0.07568359,\n",
       "        0.14550781,  0.24023438,  0.0201416 , -0.04736328,  0.17675781,\n",
       "       -0.12353516, -0.15917969,  0.23828125, -0.13964844, -0.07617188,\n",
       "       -0.00915527, -0.26171875, -0.19335938, -0.01434326, -0.16015625,\n",
       "       -0.11962891, -0.08349609, -0.03491211, -0.22363281, -0.04760742,\n",
       "        0.00576782, -0.02563477,  0.00643921, -0.19433594, -0.15917969,\n",
       "        0.00077438,  0.03125   ,  0.02893066, -0.16210938, -0.1328125 ,\n",
       "       -0.26367188, -0.0378418 , -0.3203125 ,  0.12011719, -0.24414062,\n",
       "       -0.42578125,  0.23925781, -0.16796875,  0.20800781,  0.09472656,\n",
       "        0.21191406,  0.24609375,  0.04101562, -0.07910156,  0.11376953,\n",
       "        0.24707031,  0.0703125 , -0.04711914, -0.15332031,  0.125     ,\n",
       "       -0.19238281, -0.01611328, -0.24902344, -0.11132812,  0.34375   ,\n",
       "        0.00288391,  0.0043335 ,  0.18261719, -0.10888672, -0.02246094,\n",
       "       -0.078125  ,  0.01452637,  0.18164062, -0.07666016,  0.13378906,\n",
       "        0.10791016,  0.01696777, -0.06982422, -0.1484375 ,  0.13867188,\n",
       "        0.13574219,  0.03295898, -0.12304688, -0.09960938,  0.03222656,\n",
       "       -0.12597656, -0.08203125,  0.27734375, -0.04272461,  0.20800781,\n",
       "       -0.16894531, -0.1640625 , -0.10986328, -0.20898438,  0.13476562,\n",
       "        0.23046875,  0.03198242, -0.04663086,  0.16796875,  0.23632812,\n",
       "        0.17871094, -0.18164062, -0.07128906, -0.00157928,  0.05639648,\n",
       "        0.0010376 ,  0.07666016,  0.16796875, -0.13183594, -0.0559082 ,\n",
       "       -0.03588867, -0.06298828,  0.0027771 ,  0.078125  ,  0.17578125,\n",
       "        0.17480469,  0.08886719, -0.23925781, -0.23242188,  0.06005859,\n",
       "       -0.11767578, -0.02404785, -0.0072937 ,  0.33789062,  0.08496094,\n",
       "       -0.10498047,  0.10205078,  0.02172852, -0.2578125 , -0.10644531,\n",
       "        0.17773438, -0.25195312, -0.00289917,  0.14355469, -0.12792969],\n",
       "      dtype=float32)"
      ]
     },
     "execution_count": 22,
     "metadata": {},
     "output_type": "execute_result"
    }
   ],
   "source": [
    "w2v['healthy']"
   ]
  },
  {
   "cell_type": "code",
   "execution_count": 23,
   "id": "ea2e951c-a145-4782-9d74-ed86f187358c",
   "metadata": {},
   "outputs": [
    {
     "data": {
      "text/plain": [
       "(300,)"
      ]
     },
     "execution_count": 23,
     "metadata": {},
     "output_type": "execute_result"
    }
   ],
   "source": [
    "vect = w2v['healthy']\n",
    "vect.shape\n",
    "# w2v.most_similar('happy')"
   ]
  },
  {
   "cell_type": "code",
   "execution_count": 24,
   "id": "1909ee06-f4d1-4114-a532-91e014c0592a",
   "metadata": {},
   "outputs": [
    {
     "data": {
      "text/plain": [
       "(1000,)"
      ]
     },
     "execution_count": 24,
     "metadata": {},
     "output_type": "execute_result"
    }
   ],
   "source": [
    "# train our custom model   https://radimrehurek.com/gensim/models/word2vec.html\n",
    "\n",
    "# sents = ['coronavirus is a highly infectious disease',\n",
    "#    'coronavirus affects older people the most', \n",
    "#    'older people are at high risk due to this disease']\n",
    "\n",
    "sents = [sent.split() for sent in sents]\n",
    "custom_model = models.Word2Vec(sents, min_count=1,vector_size=1000,workers=4)\n",
    "custom_model.save(\"word2vec.model\")\n",
    "\n",
    "custom_model = models.Word2Vec.load(\"word2vec.model\")\n",
    "\n",
    "vect = custom_model.wv['people']\n",
    "vect.shape"
   ]
  }
 ],
 "metadata": {
  "kernelspec": {
   "display_name": "Python 3 (ipykernel)",
   "language": "python",
   "name": "python3"
  },
  "language_info": {
   "codemirror_mode": {
    "name": "ipython",
    "version": 3
   },
   "file_extension": ".py",
   "mimetype": "text/x-python",
   "name": "python",
   "nbconvert_exporter": "python",
   "pygments_lexer": "ipython3",
   "version": "3.8.10"
  }
 },
 "nbformat": 4,
 "nbformat_minor": 5
}
